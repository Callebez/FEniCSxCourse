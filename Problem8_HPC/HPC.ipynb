{
  "cells": [
    {
      "cell_type": "markdown",
      "metadata": {
        "id": "no6dI0BMtdaN"
      },
      "source": [
        "# DOLFINx in Parallel with MPI"
      ]
    },
    {
      "cell_type": "markdown",
      "metadata": {
        "id": "wX9ypdWitdaQ"
      },
      "source": [
        "To run these examples, first you will need to install the mpi4py library by running this code (this will usually take a while to install the first time):"
      ]
    },
    {
      "cell_type": "code",
      "execution_count": null,
      "metadata": {
        "id": "yINZsUrStdaR"
      },
      "outputs": [],
      "source": [
        "! pip install mpi4py"
      ]
    },
    {
      "cell_type": "markdown",
      "metadata": {
        "id": "2st97E6stdaU"
      },
      "source": [
        "## First parallel program"
      ]
    },
    {
      "cell_type": "code",
      "execution_count": null,
      "metadata": {
        "id": "Y_iWLY3jtdaU"
      },
      "outputs": [],
      "source": [
        "%%writefile hello-world.py\n",
        "from mpi4py import MPI\n",
        "\n",
        "comm = MPI.COMM_WORLD\n",
        "print(f\"Hello world from rank {comm.rank} of {comm.size}\")"
      ]
    },
    {
      "cell_type": "markdown",
      "metadata": {
        "id": "KIpDhcgftdaV"
      },
      "source": [
        "Next we see how we can use the mpirun program to execute the above python code using 4 processes. The value after -np is the number of processes to use when running the file of python code saved when executing the previous code cell."
      ]
    },
    {
      "cell_type": "code",
      "execution_count": null,
      "metadata": {
        "id": "mGRDhL5VtdaW"
      },
      "outputs": [],
      "source": [
        "! mpirun --allow-run-as-root --oversubscribe -np 8 python hello-world.py"
      ]
    },
    {
      "cell_type": "markdown",
      "metadata": {
        "id": "OGpuCWwqtdaW"
      },
      "source": [
        "## Point-to-Point Communication"
      ]
    },
    {
      "cell_type": "code",
      "execution_count": null,
      "metadata": {
        "id": "D9tL-xSRtdaX"
      },
      "outputs": [],
      "source": [
        "%%writefile p2p.py\n",
        "\n",
        "from mpi4py import MPI\n",
        "import numpy\n",
        "\n",
        "comm = MPI.COMM_WORLD\n",
        "assert comm.size == 2\n",
        "rank = comm.rank\n",
        "\n",
        "if rank == 0:\n",
        "    data = numpy.arange(10, dtype=int)\n",
        "    comm.Send(data, dest=1)\n",
        "    print(f\"Process 0 sent {data} to process 1\")\n",
        "elif rank == 1:\n",
        "    data = numpy.zeros(10, dtype=int)\n",
        "    comm.Recv(data, source=0)\n",
        "    print(f\"Process 1 received {data} from process 0\")\n"
      ]
    },
    {
      "cell_type": "code",
      "execution_count": null,
      "metadata": {
        "id": "gJGoMbK-tdaY"
      },
      "outputs": [],
      "source": [
        "!mpirun -n 2 --allow-run-as-root --oversubscribe python3 p2p.py"
      ]
    },
    {
      "cell_type": "markdown",
      "metadata": {
        "id": "8AX7M36ctdaZ"
      },
      "source": [
        "MPI can do a lot more than this (https://mpi4py.readthedocs.io/en/stable/tutorial.html). The key points are:\n",
        " - N identical versions of your program run, one on each process (rank). Each process takes different paths through the program depending on its rank.\n",
        " - Processes (and hence their memory) are totally independent.\n",
        " - Communication between processes is must be manually performed by the programmer (explicit)."
      ]
    }
  ],
  "metadata": {
    "kernelspec": {
      "display_name": "Python 3",
      "language": "python",
      "name": "python3"
    },
    "language_info": {
      "codemirror_mode": {
        "name": "ipython",
        "version": 3
      },
      "file_extension": ".py",
      "mimetype": "text/x-python",
      "name": "python",
      "nbconvert_exporter": "python",
      "pygments_lexer": "ipython3",
      "version": "3.10.6"
    },
    "orig_nbformat": 4,
    "vscode": {
      "interpreter": {
        "hash": "916dbcbb3f70747c44a77c7bcd40155683ae19c65e1c03b4aa3499c5328201f1"
      }
    },
    "colab": {
      "provenance": []
    }
  },
  "nbformat": 4,
  "nbformat_minor": 0
}