{
 "cells": [
  {
   "cell_type": "markdown",
   "id": "2ddb732f",
   "metadata": {},
   "source": [
    "# Poisson's problem\n",
    "## Introduction\n",
    "\n",
    "In this first tutorial we\n",
    "\n",
    "1.   Present a basic implementation of the finite element solution of Poisson's problem\n",
    "2.   Import all necessary libraries to solve the problem with the FEniCSx platform\n",
    "3.   Solve the problem with different grid refinements and finite element spaces\n",
    "4.   Visualize the solution using pyvista and/or Paraview tools\n",
    "5.   Perform some postprocessing\n",
    "\n",
    "\n",
    "**Mathematical formulation:**\n",
    "\n",
    "Let us recall the mathematical formulation of the Poisson's problem with\n",
    "Dirichlet and Neumann boundary conditions. In differential form: Find ${u} \\in \\mathcal{C}^2(\\Omega)$ such that\n",
    "\\begin{equation}\n",
    "\\left \\{\n",
    "\\begin{array}{rcll}\n",
    "-\\nabla \\cdot [ \\mu(\\mathbf{x}) {u}(\\mathbf{x})] & = & f(\\mathbf{x}) &  \\mbox{in}~\\Omega \\\\\n",
    "&& \\\\\n",
    "{u}(\\mathbf{x}) & = & g_D(\\mathbf{x}) &  \\mbox{in}~\\partial\\Omega_D \\\\\n",
    "&& \\\\\n",
    "-\\mu(\\mathbf{x}) \\nabla{u}(\\mathbf{x})\\cdot\\check{\\mathbf{n}} & = & g_N(\\mathbf{x}) &  \\mbox{in}~\\partial\\Omega_N \\\\\n",
    "\\end{array}\n",
    "\\right.\n",
    "\\end{equation}\n",
    "\n",
    "or by multiplying by a sufficiently regular test function $v$ and\n",
    "applying integration by parts. in variational form: Find $u \\in V_g(\\Omega)$ such that\n",
    "\n",
    "\\begin{equation}\n",
    "\\underbrace{{\\int_{\\Omega}}{\\mu(\\mathbf{x})\\,\\nabla{u}(\\mathbf{x})\\cdot \\nabla{v}(\\mathbf{x})}\\,dx}_{a(u,v)} =\n",
    "        \\underbrace{\\int_{\\Omega}{f(\\mathbf{x})\\,v(\\mathbf{x})}\\,dx\n",
    "        -\\int_{\\partial\\Omega_N}{g_N(\\mathbf{x})\\,v(\\mathbf{x})}\\,ds}_{\\ell(v)}~~~\\forall v \\in V_0(\\Omega)\n",
    "\\end{equation}\n",
    "\n",
    "where $a(\\cdot,\\cdot)$ is a bilinear form and\n",
    "$\\ell(\\cdot)$ is a linear form and the space $V_g$ is\n",
    "\n",
    "$$\n",
    "V_g = \\{v \\in H^1(\\Omega),~~v(\\mathbf{x}) = g_D(\\mathbf{x})~\\forall \\mathbf{x} \\in \\partial{\\Omega}_D  \\}\n",
    "$$\n",
    "\n",
    "Finally, recall that the discrete version of this problem follows from applying the Galerkin method: Find $u_h \\in V_{hg} \\subset V_g(\\Omega)$ such that\n",
    "\n",
    "\\begin{equation}\n",
    "a(u_h,v_h) = \\ell(v_h)~~ \\forall v_h \\in V_{h0}\n",
    "\\end{equation}"
   ]
  },
  {
   "cell_type": "markdown",
   "id": "efb6d0b7",
   "metadata": {},
   "source": [
    "## Initialization\n",
    "The first step is to import all necessary libraries. In particular, we must import\n",
    "the [`FEniCSx`](https://fenicsproject.org/) library, which can be done now in Colab thanks to the efforts of the\n",
    "[`FEM on Colab`](https://fem-on-colab.github.io/).\n",
    "Notice that the first time the library is imported, the system may take a while. Following times are expected to be faster."
   ]
  },
  {
   "cell_type": "code",
   "execution_count": null,
   "id": "a83a8934",
   "metadata": {},
   "outputs": [],
   "source": [
    "try:\n",
    "import matplotlib.pyplot as plt\n",
    "import gmsh\n",
    "except ImportError:\n",
    "    !wget \"https://github.com/fem-on-colab/fem-on-colab.github.io/raw/7f220b6/releases/gmsh-install.sh\" - O \"/tmp/gmsh-install.sh\" & & bash \"/tmp/gmsh-install.sh\"\n",
    "    import gmsh\n",
    "\n",
    "try:\n",
    "    import dolfinx\n",
    "except ImportError:\n",
    "    !wget \"https://github.com/fem-on-colab/fem-on-colab.github.io/raw/7f220b6/releases/fenicsx-install-real.sh\" - O \"/tmp/fenicsx-install.sh\" & & bash \"/tmp/fenicsx-install.sh\"\n",
    "    import dolfinx"
   ]
  },
  {
   "cell_type": "markdown",
   "id": "4d13721b",
   "metadata": {},
   "source": [
    "Once the `DOLFINx` package (the main library of the `FEniCSx` project) is installed, we must import some of its modules.\n",
    "\n",
    "Relevant `DOLFINx` modules:\n",
    "- `dolfinx.mesh`: Classes and functions related to the computational domain\n",
    "- `dolfinx.fem`: Finite element method functionality\n",
    "- `dolfinx.io`: Input/Output (read/write) functionality\n",
    "- `dolfinx.plot`: Convenience functions for exporting plotting data"
   ]
  },
  {
   "cell_type": "code",
   "execution_count": null,
   "id": "038448fd",
   "metadata": {},
   "outputs": [],
   "source": [
    "from dolfinx import mesh, fem, io, plot"
   ]
  },
  {
   "cell_type": "markdown",
   "id": "bf18fb6c",
   "metadata": {},
   "source": [
    "We must also import the [`Unified Form Language`](https://github.com/FEniCS/ufl/) (`UFL`) library\n",
    "which provides us a specific language for writting variational formulations as well as the required\n",
    "mathematical operators"
   ]
  },
  {
   "cell_type": "code",
   "execution_count": null,
   "id": "9f6e1dad",
   "metadata": {},
   "outputs": [],
   "source": [
    "from ufl import SpatialCoordinate, TestFunction, TrialFunction, Measure, dx, ds, grad, inner, as_vector, FacetNormal"
   ]
  },
  {
   "cell_type": "markdown",
   "id": "f521a73b",
   "metadata": {},
   "source": [
    "Finally, we import some auxiliary libraries:"
   ]
  },
  {
   "cell_type": "code",
   "execution_count": null,
   "id": "5be2e4ef",
   "metadata": {},
   "outputs": [],
   "source": [
    "import numpy as np\n",
    "from mpi4py import MPI\n",
    "from petsc4py.PETSc import ScalarType"
   ]
  },
  {
   "cell_type": "markdown",
   "id": "24aefae6",
   "metadata": {},
   "source": [
    "## Problem definition\n",
    "\n",
    "The first thing is to define the computational domain and parts of the boundary on which the Dirichlet conditions are to be applied:"
   ]
  },
  {
   "cell_type": "code",
   "execution_count": null,
   "id": "af71c3be",
   "metadata": {},
   "outputs": [],
   "source": [
    "# Computational mesh\n",
    "Lx, Ly = 1.0, 1.0\n",
    "msh = mesh.create_rectangle(comm=MPI.COMM_WORLD,\n",
    "                            points=((0.0, 0.0), (Lx, Ly)), n=(64, 64),\n",
    "                            cell_type=mesh.CellType.triangle)"
   ]
  },
  {
   "cell_type": "markdown",
   "id": "be86aa74",
   "metadata": {},
   "source": [
    "## Finite element solution"
   ]
  },
  {
   "cell_type": "markdown",
   "id": "368d2c1b",
   "metadata": {},
   "source": [
    "We must create now the discrete function space associated to a conforming finite element partition $\\mathcal{T}_h$ of $\\Omega$,\n",
    "***the mesh***, in which the solution is sought.\n",
    "\n",
    "For this problem, the natural choice is a space of continuous functions, that are elementwise polynomials of degree $k$\n",
    "\n",
    "$$\n",
    "V(\\mathcal{T}_h) = V_h = \\{v \\in H ^ 1(\\Omega), ~v | _E \\in P_k(E) \\, \\forall E \\in mathcal{T}_h\\}\n",
    "$$"
   ]
  },
  {
   "cell_type": "code",
   "execution_count": null,
   "id": "3de998bc",
   "metadata": {},
   "outputs": [],
   "source": [
    "degree = 1\n",
    "V = fem.FunctionSpace(msh, (\"CG\", degree))"
   ]
  },
  {
   "cell_type": "markdown",
   "id": "cead4a90",
   "metadata": {},
   "source": [
    "Above, `CG` refers to Continuous Galerkin, which is just another name for the widely used * Lagrange * spaces in\n",
    "the FEM, so, the following would be equivalent:\n",
    "\n",
    "   V = fem.FunctionSpace(msh, (\"Lagrange\", degree))\n",
    "\n",
    "Now, we identify the parts of the boundary on which\n",
    "Dirichlet conditions are given and define the corresponding objects.\n",
    "In `FEniCSx` we can identify degress of freedom located on the boundary:\n",
    "*   geometrically, or\n",
    "*   topologically\n",
    "\n",
    "in this case, we use geometric detection:"
   ]
  },
  {
   "cell_type": "code",
   "execution_count": null,
   "id": "aed60ec9",
   "metadata": {},
   "outputs": [],
   "source": [
    "# Boundary values\n",
    "uleft = 100.0\n",
    "uright = 1.0\n",
    "\n",
    "# Identify the degrees of freedom to which the values are to be applied\n",
    "dofsL = fem.locate_dofs_geometrical(V, lambda x: np.isclose(x[0], 0))\n",
    "dofsR = fem.locate_dofs_geometrical(V, lambda x: np.isclose(x[0], Lx))\n",
    "\n",
    "# Define the Dirichlet type BCs as a list\n",
    "bcs = [fem.dirichletbc(ScalarType(uleft), dofsL, V),\n",
    "                       fem.dirichletbc(ScalarType(uright), dofsR, V)]"
   ]
  },
  {
   "cell_type": "markdown",
   "id": "3c31c6d2",
   "metadata": {},
   "source": [
    "Finally, we can write the variational formulation of our problem and solve, recalling\n",
    "$$\n",
    "a(u, v) = \\int_{\\Omega}{\\mu\\, \\nabla{u}\\cdot \\nabla{v}}\\, dx\n",
    "$$\n",
    "and , if we take $g_N = 0$, we naturally have\n",
    "$$\n",
    "\\ell(v) = \\int_{\\Omega}{f\\, v}\\, dx\n",
    "$$"
   ]
  },
  {
   "cell_type": "code",
   "execution_count": null,
   "id": "0135e416",
   "metadata": {},
   "outputs": [],
   "source": [
    "# Variational formulation\n",
    "# Trial and test functions\n",
    "u = TrialFunction(V)\n",
    "v = TestFunction(V)\n",
    "\n",
    "# Bilinear form\n",
    "mu = fem.Constant(msh, 1.0)\n",
    "a = inner(mu*grad(u), grad(v)) * dx\n",
    "\n",
    "# Linear form\n",
    "f = 1.0\n",
    "source = fem.Constant(msh, f)\n",
    "L = source * v * dx\n",
    "\n",
    "# Solve the problem\n",
    "problem = fem.petsc.LinearProblem(a, L, bcs=bcs, petsc_options={\n",
    "                                  \"ksp_type\": \"preonly\", \"pc_type\": \"lu\"})\n",
    "uh = problem.solve()"
   ]
  },
  {
   "cell_type": "markdown",
   "id": "264f409b",
   "metadata": {},
   "source": [
    "## Visualization and postprocessing"
   ]
  },
  {
   "cell_type": "code",
   "execution_count": null,
   "id": "5d548258",
   "metadata": {},
   "outputs": [],
   "source": [
    "uh.name = \"Temperature\"\n",
    "with io.XDMFFile(MPI.COMM_WORLD, \"temperature.xdmf\", \"w\") as xdmf:\n",
    "    xdmf.write_mesh(msh)\n",
    "    xdmf.write_function(uh)"
   ]
  },
  {
   "cell_type": "markdown",
   "id": "2530c06e",
   "metadata": {},
   "source": [
    "A typical verification is to compute the relevant error norms, which in this case are the $L^2(\\Omega)$ error norm:\n",
    "\n",
    "$$\n",
    "e_{L^2(\\Omega)} = \\sqrt{ \\int_{\\Omega}{(u - u_h)^2}\\,dx}\n",
    "$$\n",
    "and the $H^1(\\Omega)$ error norm\n",
    "$$\n",
    "e_{H^1(\\Omega)} = \\sqrt{ \\int_{\\Omega}{\\left [ (u - u_h)^2 + \\nabla{(u-u_h)} \\cdot \\nabla{(u-u_h)}\\right ] }\\,dx }\n",
    "$$\n",
    "\n",
    "As a result of taking zero Neumann boundary conditions on the top\n",
    "and bottom walls, the exact solution to this problem, with $\\mu$ and $f$ constants, ends up being dependent only on the $x$ coordinate, i.e., we are actually solving the problem\n",
    "\n",
    "$$\n",
    "-\\dfrac{d^2u}{dx^2} = f,~~u(0) = u_l,~~u(L_x) = u_r\n",
    "$$\n",
    "\n",
    "whose solution is\n",
    "\n",
    "$$\n",
    "u = u_l + \\left ( \\dfrac{u_r - u_l}{L_x} + \\frac12 \\, f \\, L_x \\right ) x - \\frac12 f  x^2\n",
    "$$"
   ]
  },
  {
   "cell_type": "code",
   "execution_count": null,
   "id": "e60e994e",
   "metadata": {
    "lines_to_end_of_cell_marker": 0,
    "lines_to_next_cell": 1
   },
   "outputs": [],
   "source": [
    "# We need the coordinates to create a ufl expression\n",
    "x = SpatialCoordinate(msh)\n",
    "\n",
    "# to define the exact solution\n",
    "\n",
    "\n",
    "def uex(x): return uleft + ((uright - uleft) /\n",
    "                            Lx + 0.5*f*Lx)*x[0] - 0.5*f*x[0]**2\n",
    "\n",
    "\n",
    "# and the error\n",
    "eh = uh - uex(x)\n",
    "\n",
    "# Now compute the L2 and H1 error norms\n",
    "eL2form = fem.form(eh**2*dx)\n",
    "eH1form = fem.form(inner(grad(eh), grad(eh))*dx)\n",
    "\n",
    "errorL2 = fem.assemble_scalar(eL2form)\n",
    "errorH1 = errorL2 + fem.assemble_scalar(eH1form)\n",
    "\n",
    "print(\"    |-L2error=\", np.sqrt(errorL2))\n",
    "print(\"    |-H1error=\", np.sqrt(errorH1))"
   ]
  },
  {
   "cell_type": "markdown",
   "id": "8e2ea2f5",
   "metadata": {},
   "source": [
    "## A sanity check: Convergence rates\n",
    "\n",
    "How do we know the numerical solution is actually correct?"
   ]
  },
  {
   "cell_type": "markdown",
   "id": "39e15624",
   "metadata": {},
   "source": [
    "We can compute the rate of convergence of the numerical method and compare to the expected asymptotic value.\n",
    "To that end, we first encapsulate the whole resolution into a single python function that\n",
    "takes as arguments the desired refinement and degree of the\n",
    "polynomial space and returns the $L^2(\\Omega)$ and $H^1(\\Omega)$-error norms, i.e."
   ]
  },
  {
   "cell_type": "code",
   "execution_count": null,
   "id": "28d07b38",
   "metadata": {},
   "outputs": [],
   "source": [
    "def SolvePoisson(msh):\n",
    "    degree = 1\n",
    "    V = fem.FunctionSpace(msh, (\"CG\", degree))\n",
    "\n",
    "    nunks = V.dofmap.index_map.size_global\n",
    "    print(\"Solving: Characteristic mesh size h=%f (%d elements, %d unknowns)\" %\n",
    "          (Lx/N, 2*N*N, nunks))\n",
    "\n",
    "    dofsL = fem.locate_dofs_geometrical(V, lambda x: np.isclose(x[0], 0))\n",
    "    dofsR = fem.locate_dofs_geometrical(V, lambda x: np.isclose(x[0], Lx))\n",
    "    bcs = [fem.dirichletbc(ScalarType(uleft), dofsL, V),\n",
    "           fem.dirichletbc(ScalarType(uright), dofsR, V)]\n",
    "\n",
    "    u, v = TrialFunction(V), TestFunction(V)\n",
    "    mu = fem.Constant(msh, 1.0)\n",
    "    a = inner(mu*grad(u), grad(v)) * dx\n",
    "    f = 1.0\n",
    "    source = fem.Constant(msh, f)\n",
    "    L = source * v * dx\n",
    "    problem = fem.petsc.LinearProblem(a, L, bcs=bcs, petsc_options={\n",
    "                                      \"ksp_type\": \"preonly\", \"pc_type\": \"lu\"})\n",
    "    uh = problem.solve()\n",
    "\n",
    "    def uex(x): return uleft + ((uright - uleft) /\n",
    "                                Lx + 0.5*f*Lx)*x[0] - 0.5*f*x[0]**2\n",
    "    x = SpatialCoordinate(msh)\n",
    "    eh = uh - uex(x)\n",
    "    eL2form = fem.form(eh**2*dx)\n",
    "    eH1form = fem.form(inner(grad(eh), grad(eh))*dx)\n",
    "    errorL2 = fem.assemble_scalar(eL2form)\n",
    "    errorH1 = errorL2 + fem.assemble_scalar(eH1form)\n",
    "\n",
    "    return np.sqrt(errorL2), np.sqrt(errorH1)\n",
    "\n",
    "# Make a loop over the meshes\n",
    "Lx = Ly = 1.0\n",
    "degree = 1\n",
    "eL2, eH1, h = [], [], []\n",
    "for N in [10, 20, 40, 80, 160, 320]:\n",
    "    msh = mesh.create_rectangle(comm=MPI.COMM_WORLD,\n",
    "                                points=((0.0, 0.0), (Lx, Ly)), n=(N, N),\n",
    "                                cell_type=mesh.CellType.triangle)\n",
    "\n",
    "    errorL2, errorH1 = SolvePoisson(msh)\n",
    "    eL2.append(errorL2)\n",
    "    eH1.append(errorH1)\n",
    "    h.append(Lx/N)\n",
    "\n",
    "plt.figure(figsize=(9, 6))\n",
    "plt.rcParams['font.size'] = '16'\n",
    "plt.axes(facecolor=\"lightgray\")\n",
    "plt.xlabel('$h$', fontsize=20)\n",
    "plt.ylabel('Error', fontsize=20)\n",
    "l = plt.plot(h, eL2, '-or', h, eH1, '-ob')\n",
    "plt.setp(l, 'markersize', 10)\n",
    "plt.setp(l, 'markerfacecolor', 'white')\n",
    "plt.legend(['$e_{L^2}$', '$e_{H1}$'])\n",
    "plt.loglog(base=10)\n",
    "plt.grid()\n",
    "plt.show()"
   ]
  }
 ],
 "metadata": {
  "jupytext": {
   "cell_metadata_filter": "-all",
   "main_language": "python",
   "notebook_metadata_filter": "-all"
  }
 },
 "nbformat": 4,
 "nbformat_minor": 5
}
