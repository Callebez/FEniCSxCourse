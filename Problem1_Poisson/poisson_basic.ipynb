{
 "cells": [
  {
   "cell_type": "markdown",
   "id": "fa848902",
   "metadata": {},
   "source": [
    "# Poisson's problem\n",
    "## Introduction\n",
    "\n",
    "In this first tutorial we\n",
    "\n",
    "1.   Present a basic implementation of the finite element solution of Poisson's problem\n",
    "2.   Import all necessary libraries to solve the problem with the FEniCSx platform\n",
    "3.   Solve the problem with different grid refinements and finite element spaces\n",
    "4.   Visualize the solution using pyvista and/or Paraview tools\n",
    "5.   Perform some postprocessing\n",
    "\n",
    "\n",
    "**Mathematical formulation:**\n",
    "\n",
    "Let us recall the mathematical formulation of the Poisson's problem with\n",
    "Dirichlet and Neumann boundary conditions. In differential form: Find ${u} \\in \\mathcal{C}^2(\\Omega)$ such that\n",
    "\\begin{equation}\n",
    "\\left \\{\n",
    "\\begin{array}{rcll}\n",
    "-\\nabla \\cdot [ \\mu(\\mathbf{x}) {u}(\\mathbf{x})] & = & f(\\mathbf{x}) &  \\mbox{in}~\\Omega \\\\\n",
    "&& \\\\\n",
    "{u}(\\mathbf{x}) & = & g_D(\\mathbf{x}) &  \\mbox{in}~\\partial\\Omega_D \\\\\n",
    "&& \\\\\n",
    "-\\mu(\\mathbf{x}) \\nabla{u}(\\mathbf{x})\\cdot\\check{\\mathbf{n}} & = & g_N(\\mathbf{x}) &  \\mbox{in}~\\partial\\Omega_N \\\\\n",
    "\\end{array}\n",
    "\\right.\n",
    "\\end{equation}\n",
    "\n",
    "or by multiplying by a sufficiently regular test function $v$ and \n",
    "applying integration by parts. in variational form: Find $u \\in V_g(\\Omega)$ such that \n",
    "\n",
    "\\begin{equation}\n",
    "\\underbrace{{\\int_{\\Omega}}{\\mu(\\mathbf{x})\\,\\nabla{u}(\\mathbf{x})\\cdot \\nabla{v}(\\mathbf{x})}\\,dx}_{a(u,v)} =\n",
    "        \\underbrace{\\int_{\\Omega}{f(\\mathbf{x})\\,v(\\mathbf{x})}\\,dx\n",
    "        -\\int_{\\partial\\Omega_N}{g_N(\\mathbf{x})\\,v(\\mathbf{x})}\\,ds}_{\\ell(v)}~~~\\forall v \\in V_0(\\Omega)\n",
    "\\end{equation}\n",
    "\n",
    "where $a(\\cdot,\\cdot)$ is a bilinear form and\n",
    "$\\ell(\\cdot)$ is a linear form and the space $V_g$ is\n",
    "\n",
    "$$\n",
    "V_g = \\{v \\in H^1(\\Omega),~~v(\\mathbf{x}) = g_D(\\mathbf{x})~\\forall \\mathbf{x} \\in \\partial{\\Omega}_D  \\}\n",
    "$$\n",
    "\n",
    "Finally, recall that the discrete version of this problem follows from applying the Galerkin method: Find $u_h \\in V_{hg} \\subset V_g(\\Omega)$ such that\n",
    "\n",
    "\\begin{equation}\n",
    "a(u_h,v_h) = \\ell(v_h)~~ \\forall v_h \\in V_{h0} \n",
    "\\end{equation}"
   ]
  },
  {
   "cell_type": "markdown",
   "id": "5f51973b",
   "metadata": {},
   "source": [
    "## Initialization\n",
    "The first step is to import all necessary libraries. In particular, we must import \n",
    "the [`FEniCSx`](https://fenicsproject.org/) library, which can be done now in Colab thanks to the efforts of the\n",
    "[`FEM on Colab`](https://fem-on-colab.github.io/).\n",
    "Notice that the first time the library is imported, the system may take a while. Following times are expected to be faster."
   ]
  },
  {
   "cell_type": "code",
   "execution_count": null,
   "id": "142ba0b3",
   "metadata": {},
   "outputs": [],
   "source": [
    "try:\n",
    "  import gmsh\n",
    "except ImportError:\n",
    "  !wget \"https://github.com/fem-on-colab/fem-on-colab.github.io/raw/7f220b6/releases/gmsh-install.sh\" -O \"/tmp/gmsh-install.sh\" && bash \"/tmp/gmsh-install.sh\"\n",
    "  import gmsh\n",
    "\n",
    "try:\n",
    "  import dolfinx\n",
    "except ImportError:\n",
    "  !wget \"https://github.com/fem-on-colab/fem-on-colab.github.io/raw/7f220b6/releases/fenicsx-install-real.sh\" -O \"/tmp/fenicsx-install.sh\" && bash \"/tmp/fenicsx-install.sh\"\n",
    "  import dolfinx\n",
    "#-"
   ]
  }
 ],
 "metadata": {
  "jupytext": {
   "cell_metadata_filter": "-all",
   "main_language": "python",
   "notebook_metadata_filter": "-all"
  }
 },
 "nbformat": 4,
 "nbformat_minor": 5
}
