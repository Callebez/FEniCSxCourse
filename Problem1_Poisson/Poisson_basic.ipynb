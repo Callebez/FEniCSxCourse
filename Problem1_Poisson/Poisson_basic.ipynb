{
  "nbformat": 4,
  "nbformat_minor": 0,
  "metadata": {
    "colab": {
      "provenance": []
    },
    "kernelspec": {
      "name": "python3",
      "display_name": "Python 3"
    },
    "language_info": {
      "name": "python"
    }
  },
  "cells": [
    {
      "cell_type": "markdown",
      "source": [
        "# Poisson's problem\n",
        "---"
      ],
      "metadata": {
        "id": "HlwXpyx788Vo"
      }
    },
    {
      "cell_type": "markdown",
      "source": [
        "## Introduction"
      ],
      "metadata": {
        "id": "sUiY4ZupvRWL"
      }
    },
    {
      "cell_type": "markdown",
      "source": [
        "In this first tutorial we\n",
        "\n",
        "1.   Present a basic implementation of the finite element solution of Poisson's problem\n",
        "2.   Import all necessary libraries to solve the problem with the FEniCSx platform\n",
        "3.   Solve the problem with different grid refinements and finite element spaces\n",
        "4.   Visualize the solution using pyvista and/or Paraview tools\n",
        "5.   Perform some postprocessing\n",
        "\n",
        "\n",
        "\n",
        "**Mathematical formulation:**\n",
        "\n",
        "  Let us recall the mathematical formulation of the Poisson's problem with\n",
        "  Dirichlet and Neumann boundary conditions. In differential form: Find ${u} \\in \\mathcal{C}^2(\\Omega)$ such that\n",
        "\n",
        "\\begin{equation}\n",
        "\\left \\{\n",
        "\\begin{array}{rcll}\n",
        "-\\nabla \\cdot [ \\mu(\\mathbf{x}) {u}(\\mathbf{x})] & = & f(\\mathbf{x}) &  \\mbox{in}~\\Omega \\\\\n",
        "&& \\\\\n",
        "{u}(\\mathbf{x}) & = & g_D(\\mathbf{x}) &  \\mbox{in}~\\partial\\Omega_D \\\\\n",
        "&& \\\\\n",
        "-\\mu(\\mathbf{x}) \\nabla{u}(\\mathbf{x})\\cdot\\check{\\mathbf{n}} & = & g_N(\\mathbf{x}) &  \\mbox{in}~\\partial\\Omega_N \\\\\n",
        "\\end{array}\n",
        "\\right.\n",
        "\\end{equation}\n",
        "\n",
        "or in variational form: Find $u \\in V_g(\\Omega)$ such that \n",
        "\n",
        "\\begin{equation}\n",
        "\\underbrace{{\\int_{\\Omega}}{\\mu(\\mathbf{x})\\,\\nabla{u}(\\mathbf{x})\\cdot \\nabla{v}(\\mathbf{x})}\\,dx}_{a(u,v)} =\n",
        "        \\underbrace{\\int_{\\Omega}{f(\\mathbf{x})\\,v(\\mathbf{x})}\\,dx\n",
        "        -\\int_{\\partial\\Omega_N}{g_N(\\mathbf{x})\\,v(\\mathbf{x})}\\,ds}_{\\ell(v)}~~~\\forall v \\in V_0(\\Omega)\n",
        "\\end{equation}\n",
        "\n",
        "where $a(\\cdot,\\cdot)$ is a bilinear form and\n",
        "$\\ell(\\cdot)$ is a linear form and the space $V_g$ is\n",
        "\n",
        "$$\n",
        "V_g = \\{v \\in H^1(\\Omega),~~v(\\mathbf{x}) = g_D(\\mathbf{x})~\\forall \\mathbf{x} \\in \\partial{\\Omega}_D  \\}\n",
        "$$\n",
        "\n",
        "Finally, recall that the discrete version of this problem follows from applying the Galerkin method: Find $u_h \\in V_{hg} \\subset V_g(\\Omega)$ such that\n",
        "\n",
        "\\begin{equation}\n",
        "a(u_h,v_h) = \\ell(v_h)~~ \\forall v_h \\in V_{h0} \n",
        "\\end{equation}"
      ],
      "metadata": {
        "id": "04Q-hHB9299K"
      }
    },
    {
      "cell_type": "markdown",
      "source": [
        "## Initialization"
      ],
      "metadata": {
        "id": "7TeY3nHjqzod"
      }
    },
    {
      "cell_type": "markdown",
      "source": [
        "The first step is to import all necessary libraries. In particular, we must import \n",
        "the [`FEniCSx`](https://fenicsproject.org/) library, which can be done now in Colab thanks to the efforts of the\n",
        "[`FEM on Colab`](https://fem-on-colab.github.io/).\n",
        "Notice that the first time the library is imported, the system may take a while. Following times are expected to be faster. "
      ],
      "metadata": {
        "id": "KV_eRNQpHfOv"
      }
    },
    {
      "cell_type": "code",
      "execution_count": 1,
      "metadata": {
        "id": "69Xzz1wQx-Nd"
      },
      "outputs": [],
      "source": [
        "#try:\n",
        "#    import dolfinx\n",
        "#except ImportError:\n",
        "#    !wget \"https://fem-on-colab.github.io/releases/fenicsx-install-real.sh\" -O \"/tmp/fenicsx-install.sh\" && bash \"/tmp/fenicsx-install.sh\"#\n",
        "#    import dolfinx\n",
        "\n",
        "try:\n",
        "  import dolfinx\n",
        "except ImportError:\n",
        "  !wget \"https://github.com/fem-on-colab/fem-on-colab.github.io/raw/7f220b6/releases/fenicsx-install-real.sh\" -O \"/tmp/fenicsx-install.sh\" && bash \"/tmp/fenicsx-install.sh\"\n",
        "  import dolfinx\n"
      ]
    },
    {
      "cell_type": "markdown",
      "source": [
        "Once the `DOLFINx` package (the main library of the `FEniCSx` project) is installed, we must import some of its modules.\n",
        "\n",
        "Relevant `DOLFINx` modules:\n",
        "- `dolfinx.mesh`: Classes and functions related to the computational domain\n",
        "- `dolfinx.fem`: Finite element method functionality\n",
        "- `dolfinx.io`: Input/Output (read/write) functionality\n",
        "- `dolfinx.plot`: Convenience functions for exporting plotting data"
      ],
      "metadata": {
        "id": "UIbgSCf5tHec"
      }
    },
    {
      "cell_type": "code",
      "source": [
        "from dolfinx import mesh, fem, io, plot"
      ],
      "metadata": {
        "id": "5WQGfKrctD5f"
      },
      "execution_count": 2,
      "outputs": []
    },
    {
      "cell_type": "markdown",
      "source": [
        "We must also import the [`Unified Form Language`](https://github.com/FEniCS/ufl/) (`UFL`) library\n",
        "which provides us a specific language for writting variational formulations as well as the required mathematical operators"
      ],
      "metadata": {
        "id": "4r-qfD9RuJNr"
      }
    },
    {
      "cell_type": "code",
      "source": [
        "from ufl import SpatialCoordinate, TestFunction, TrialFunction, Measure, dx, ds, grad, inner, as_vector, FacetNormal"
      ],
      "metadata": {
        "id": "nA6Sl0gjuHvH"
      },
      "execution_count": 3,
      "outputs": []
    },
    {
      "cell_type": "markdown",
      "source": [
        "Finally, we import some auxiliary libraries:"
      ],
      "metadata": {
        "id": "VXCVESjwu6xf"
      }
    },
    {
      "cell_type": "code",
      "source": [
        "import numpy as np\n",
        "from mpi4py import MPI\n",
        "from petsc4py.PETSc import ScalarType"
      ],
      "metadata": {
        "id": "9lcr-ZVFtApl"
      },
      "execution_count": 4,
      "outputs": []
    },
    {
      "cell_type": "markdown",
      "source": [
        "## Problem definition\n"
      ],
      "metadata": {
        "id": "1QQ6ZyybvDrU"
      }
    },
    {
      "cell_type": "markdown",
      "source": [
        "The first thing is to define the computational domain and parts of the boundary on which the Dirichlet conditions are to be applied:"
      ],
      "metadata": {
        "id": "FSbBTX6aH4Zw"
      }
    },
    {
      "cell_type": "code",
      "source": [
        "# Computational mesh \n",
        "Lx, Ly = 1.0, 1.0\n",
        "msh = mesh.create_rectangle(comm=MPI.COMM_WORLD,\n",
        "                            points=((0.0, 0.0), (Lx, Ly)), n=(64, 64),\n",
        "                            cell_type=mesh.CellType.triangle)\n",
        "\n",
        "#tdim = msh.topology.dim\n",
        "#fdim = tdim - 1\n",
        "#msh.topology.create_connectivity(fdim, tdim)"
      ],
      "metadata": {
        "id": "D8311BM_zrO0"
      },
      "execution_count": 5,
      "outputs": []
    },
    {
      "cell_type": "markdown",
      "source": [
        "## Finite element solution"
      ],
      "metadata": {
        "id": "qApYWLPxCN8m"
      }
    },
    {
      "cell_type": "markdown",
      "source": [
        "We must create now the discrete function space associated to a conforming finite element partition $\\mathcal{T}_h$ of $\\Omega$, ***the mesh***, in which the solution is sought. \n",
        "\n",
        "For this problem, the natural choice is a space of continuous functions, that are elementwise polynomials of degree $k$\n",
        "\n",
        "$$\n",
        "V(\\mathcal{T}_h) = V_h = \\{v \\in H^1(\\Omega),~v|_E \\in P_k(E) \\, \\forall E \\in \\mathcal{T}_h\\}\n",
        "$$\n"
      ],
      "metadata": {
        "id": "i6qqhaC5zsf4"
      }
    },
    {
      "cell_type": "code",
      "source": [
        "degree = 1\n",
        "V = fem.FunctionSpace(msh, (\"CG\", degree))"
      ],
      "metadata": {
        "id": "PQj_dwidz8JT"
      },
      "execution_count": 6,
      "outputs": []
    },
    {
      "cell_type": "markdown",
      "source": [
        "Above, $\\texttt{CG}$ refers to Continuous Galerkin, which is just another name for the widely used *Lagrange* spaces in the FEM, so, the following would be equivalent:\n",
        "\n",
        "    V = fem.FunctionSpace(msh, (\"Lagrange\", degree))\n",
        "\n",
        "Now, we identify the parts of the boundary on which\n",
        "Dirichlet conditions are given and define the corresponding objects. In `FEniCSx` we can identify degress of freedom located on the boundary by using:\n",
        "\n",
        "*   geometrically, or\n",
        "*   topologically\n",
        "\n",
        "in this case, we use geometric detection:"
      ],
      "metadata": {
        "id": "oihaJl_u_VL3"
      }
    },
    {
      "cell_type": "code",
      "source": [
        "# Boundary values\n",
        "uleft = 100.0\n",
        "uright = 1.0\n",
        "\n",
        "# Identify the degrees of freedom to which the values are to be applied\n",
        "dofsL = fem.locate_dofs_geometrical(V, lambda x: np.isclose(x[0], 0))\n",
        "dofsR = fem.locate_dofs_geometrical(V, lambda x: np.isclose(x[0], Lx))\n",
        "\n",
        "# Define the Dirichlet type BCs as a list\n",
        "bcs = [fem.dirichletbc(ScalarType(uleft), dofsL, V), fem.dirichletbc(ScalarType(uright), dofsR, V)]\n"
      ],
      "metadata": {
        "id": "ujpVWn5K_Txw"
      },
      "execution_count": 7,
      "outputs": []
    },
    {
      "cell_type": "markdown",
      "source": [
        "Finally, we can write the variational formulation of our problem and solve, recalling\n",
        "\n",
        "$$\n",
        "a(u,v) = \\int_{\\Omega}{\\mu\\,\\nabla{u}\\cdot \\nabla{v}}\\,dx\n",
        "$$\n",
        "and, if we take $g_N = 0$, we naturally have\n",
        "$$\n",
        "\\ell(v) = \\int_{\\Omega}{f\\,v}\\,dx\n",
        "$$"
      ],
      "metadata": {
        "id": "mMfiPE4_Ag6u"
      }
    },
    {
      "cell_type": "code",
      "source": [
        "# Variational formulation\n",
        "\n",
        "# Trial and test functions\n",
        "u = TrialFunction(V)\n",
        "v = TestFunction(V)\n",
        "\n",
        "# Bilinear form\n",
        "mu = fem.Constant(msh, 1.0)\n",
        "a = inner(mu*grad(u), grad(v)) * dx\n",
        "\n",
        "# Linear form\n",
        "f = 1.0\n",
        "source = fem.Constant(msh, f)\n",
        "L = source * v * dx\n",
        "\n",
        "# Solve the problem\n",
        "problem = fem.petsc.LinearProblem(a, L, bcs=bcs, petsc_options={\"ksp_type\": \"preonly\", \"pc_type\": \"lu\"})\n",
        "uh = problem.solve()"
      ],
      "metadata": {
        "id": "uMjbmwHTz-fQ"
      },
      "execution_count": 8,
      "outputs": []
    },
    {
      "cell_type": "markdown",
      "source": [
        "## Visualization and postprocessing"
      ],
      "metadata": {
        "id": "i4VCoJqTCBR3"
      }
    },
    {
      "cell_type": "code",
      "source": [
        "uh.name = \"Temperature\"\n",
        "with io.XDMFFile(MPI.COMM_WORLD, \"temperature.xdmf\", \"w\") as xdmf:\n",
        "    xdmf.write_mesh(msh)\n",
        "    xdmf.write_function(uh)"
      ],
      "metadata": {
        "id": "PIvCos9RdzFy"
      },
      "execution_count": 9,
      "outputs": []
    },
    {
      "cell_type": "markdown",
      "source": [
        "A typical verification is to compute the relevant error norms, which in this case are the $L^2(\\Omega)$ error norm:\n",
        "\n",
        "$$\n",
        "e_{L^2(\\Omega)} = \\sqrt{ \\int_{\\Omega}{(u - u_h)^2}\\,dx}\n",
        "$$\n",
        "and the $H^1(\\Omega)$ error norm\n",
        "$$\n",
        "e_{H^1(\\Omega)} = \\sqrt{ \\int_{\\Omega}{\\left [ (u - u_h)^2 + \\nabla{(u-u_h)} \\cdot \\nabla{(u-u_h)}\\right ] }\\,dx }\n",
        "$$"
      ],
      "metadata": {
        "id": "61HnZa0R4qG_"
      }
    },
    {
      "cell_type": "code",
      "source": [
        "# We need the coordinates to create a ufl expression \n",
        "x = SpatialCoordinate(msh)\n",
        "\n",
        "# to define the exact solution\n",
        "uex = lambda x: uleft + ( (uright - uleft)/Lx + 0.5*f*Lx )*x[0] - 0.5*f*x[0]**2\n",
        "\n",
        "# and the error\n",
        "eh = uh - uex(x)\n",
        "\n",
        "# Now compute the L2 and H1 error norms\n",
        "eL2form = fem.form( eh**2*dx )\n",
        "eH1form = fem.form( inner(grad(eh),grad(eh))*dx )\n",
        "\n",
        "errorL2 = fem.assemble_scalar(eL2form)\n",
        "errorH1 = errorL2 + fem.assemble_scalar(eH1form)\n",
        "\n",
        "print(\"    |-L2error=\", np.sqrt(errorL2))\n",
        "print(\"    |-H1error=\", np.sqrt(errorH1))"
      ],
      "metadata": {
        "id": "nDl2pc7R0hJE",
        "colab": {
          "base_uri": "https://localhost:8080/"
        },
        "outputId": "9324bc96-b957-464d-9ac6-683d1a047699"
      },
      "execution_count": 10,
      "outputs": [
        {
          "output_type": "stream",
          "name": "stdout",
          "text": [
            "    |-L2error= 2.228689129187593e-05\n",
            "    |-H1error= 0.004510604038134136\n"
          ]
        }
      ]
    },
    {
      "cell_type": "markdown",
      "source": [
        "## Convergence rates\n",
        "\n",
        "How do we know the solution is actually correct? \n",
        "\n",
        "We can compute the numerical order of convergence and compare\n",
        "to the expected asymptotic value. To that end we first \n",
        "encapsulate the whole resolution into a single python function that \n",
        "takes as arguments the desired refinement and degree of the \n",
        "polynomial space and returns the $L^2(\\Omega)$ and $H^1(\\Omega)$-error norms, i.e.\n"
      ],
      "metadata": {
        "id": "nmKoR4CJag-l"
      }
    },
    {
      "cell_type": "code",
      "source": [
        "def SolvePoisson(msh):\n",
        "  #tdim = msh.topology.dim\n",
        "  #fdim = tdim - 1\n",
        "  #msh.topology.create_connectivity(fdim, tdim)\n",
        "\n",
        "  V = fem.FunctionSpace(msh, (\"CG\", degree))\n",
        "\n",
        "  nunks = V.dofmap.index_map.size_global\n",
        "  print(\"Solving: Characteristic mesh size h=%f (%d elements, %d unknowns)\" %(Lx/N, 2*N*N, nunks))\n",
        "      \n",
        "  dofsL = fem.locate_dofs_geometrical(V, lambda x: np.isclose(x[0], 0))\n",
        "  dofsR = fem.locate_dofs_geometrical(V, lambda x: np.isclose(x[0], Lx))\n",
        "  bcs = [fem.dirichletbc(ScalarType(uleft), dofsL, V), fem.dirichletbc(ScalarType(uright), dofsR, V)]\n",
        "\n",
        "  u, v = TrialFunction(V), TestFunction(V)\n",
        "  mu = fem.Constant(msh, 1.0)\n",
        "  a = inner(mu*grad(u), grad(v)) * dx\n",
        "  f = 1.0\n",
        "  source = fem.Constant(msh, f)\n",
        "  L = source * v * dx\n",
        "  problem = fem.petsc.LinearProblem(a, L, bcs=bcs, petsc_options={\"ksp_type\": \"preonly\", \"pc_type\": \"lu\"})\n",
        "  uh = problem.solve()\n",
        "\n",
        "  uex = lambda x: uleft + ( (uright - uleft)/Lx + 0.5*f*Lx )*x[0] - 0.5*f*x[0]**2\n",
        "  x = SpatialCoordinate(msh)\n",
        "  eh = uh - uex(x)\n",
        "  eL2form = fem.form( eh**2*dx )\n",
        "  eH1form = fem.form( inner(grad(eh),grad(eh))*dx )\n",
        "  errorL2 = fem.assemble_scalar(eL2form)\n",
        "  errorH1 = errorL2 + fem.assemble_scalar(eH1form)\n",
        "\n",
        "  return np.sqrt(errorL2), np.sqrt(errorH1)"
      ],
      "metadata": {
        "id": "f7gnZHIWauU8"
      },
      "execution_count": 11,
      "outputs": []
    },
    {
      "cell_type": "code",
      "source": [
        "# Make a loop over the meshes\n",
        "Lx = Ly = 1.0\n",
        "degree = 1\n",
        "eL2, eH1, h = [], [], []\n",
        "for N in [10, 20, 40, 80, 160, 320]:\n",
        "  msh = mesh.create_rectangle(comm=MPI.COMM_WORLD,\n",
        "                              points=((0.0, 0.0), (Lx, Ly)), n=(N, N),\n",
        "                              cell_type=mesh.CellType.triangle)\n",
        "  \n",
        "  errorL2, errorH1 = SolvePoisson(msh)\n",
        "  eL2.append(errorL2)\n",
        "  eH1.append(errorH1)\n",
        "  h.append(Lx/N)"
      ],
      "metadata": {
        "colab": {
          "base_uri": "https://localhost:8080/"
        },
        "id": "BnbhloHEfjLk",
        "outputId": "8b6f43d4-1a96-4806-a5d8-99d2da34977e"
      },
      "execution_count": 12,
      "outputs": [
        {
          "output_type": "stream",
          "name": "stdout",
          "text": [
            "Solving: Characteristic mesh size h=0.100000 (200 elements, 121 unknowns)\n",
            "Solving: Characteristic mesh size h=0.050000 (800 elements, 441 unknowns)\n",
            "Solving: Characteristic mesh size h=0.025000 (3200 elements, 1681 unknowns)\n",
            "Solving: Characteristic mesh size h=0.012500 (12800 elements, 6561 unknowns)\n",
            "Solving: Characteristic mesh size h=0.006250 (51200 elements, 25921 unknowns)\n",
            "Solving: Characteristic mesh size h=0.003125 (204800 elements, 103041 unknowns)\n"
          ]
        }
      ]
    },
    {
      "cell_type": "code",
      "source": [
        "import matplotlib.pyplot as plt\n",
        "plt.figure(figsize= (9,6))\n",
        "plt.rcParams['font.size'] = '16'\n",
        "plt.axes(facecolor = \"lightgray\")\n",
        "plt.xlabel('$h$',fontsize=20)\n",
        "plt.ylabel('Error', fontsize=20)\n",
        "l = plt.plot(h, eL2,'-or', h, eH1, '-ob')\n",
        "plt.setp(l, 'markersize', 10)\n",
        "plt.setp(l, 'markerfacecolor', 'white')\n",
        "plt.legend(['$e_{L^2}$', '$e_{H1}$'])\n",
        "plt.loglog(base=10)\n",
        "plt.grid()\n",
        "plt.show()"
      ],
      "metadata": {
        "colab": {
          "base_uri": "https://localhost:8080/",
          "height": 406
        },
        "id": "al_JJ-QNgSws",
        "outputId": "c4317bbf-4faf-44ba-d8e7-30fe011efa60"
      },
      "execution_count": 13,
      "outputs": [
        {
          "output_type": "display_data",
          "data": {
            "text/plain": [
              "<Figure size 648x432 with 1 Axes>"
            ],
            "image/png": "[encoded data removed]"
          },
          "metadata": {
            "needs_background": "light"
          }
        }
      ]
    },
    {
      "cell_type": "markdown",
      "source": [
        "# A more complex geometry: Poisson's multimaterial problem"
      ],
      "metadata": {
        "id": "y_5pTXZmbLq1"
      }
    },
    {
      "cell_type": "markdown",
      "source": [
        "We will use a more advance tool, the `gmsh` library to create a square domain with some internal inclusions, such that \n",
        "\\begin{equation}\n",
        "            \\mu(\\mathbf{x}) = \\left\\{\n",
        "            \\begin{array}{r l l l }\n",
        "            \\mu_B & \\mbox{if} & \\mathbf{x} \\in \\Omega_{B} = \\bigcup_{i=1}^{n_b} {\\omega_i}, ~\n",
        "            \\omega_i = \\{ \\mathbf{x} \\in \\Omega, \\parallel \\mathbf{x} - \\mathbf{x}_c^i \\parallel < r_i  \\}  \\\\\n",
        "            ~\\\\\n",
        "            \\mu_A & \\mbox{if} & \\mathbf{x} \\in \\Omega_A = \\Omega \\setminus \\Omega_{B}\n",
        "            \\end{array}\n",
        "            \\right.\n",
        "  \\end{equation}\n",
        "\n",
        "\n",
        "  To that end we must import the library first by doing:\n"
      ],
      "metadata": {
        "id": "UpCJrtyUbSys"
      }
    },
    {
      "cell_type": "code",
      "source": [
        "#try:\n",
        "#    import gmsh\n",
        "#except ImportError:\n",
        "!wget \"https://fem-on-colab.github.io/releases/gmsh-install.sh\" -O \"/tmp/gmsh-install.sh\" && bash \"/tmp/gmsh-install.sh\"\n",
        "#import gmsh\n",
        "#try:\n",
        "#  import gmsh\n",
        "#except ImportError:\n",
        "#!wget \"https://github.com/fem-on-colab/fem-on-colab.github.io/raw/7f220b6/releases/gmsh-install.sh\" -O \"/tmp/gmsh-install.sh\" && bash \"/tmp/gmsh-install.sh\"\n",
        "#import gmsh"
      ],
      "metadata": {
        "id": "OkWArmOwAfvR",
        "colab": {
          "base_uri": "https://localhost:8080/"
        },
        "outputId": "43951e43-b7b9-40df-cf74-ff354e6d9374"
      },
      "execution_count": 14,
      "outputs": [
        {
          "output_type": "stream",
          "name": "stdout",
          "text": [
            "--2022-12-24 12:10:08--  https://fem-on-colab.github.io/releases/gmsh-install.sh\n",
            "Resolving fem-on-colab.github.io (fem-on-colab.github.io)... 185.199.110.153, 185.199.108.153, 185.199.109.153, ...\n",
            "Connecting to fem-on-colab.github.io (fem-on-colab.github.io)|185.199.110.153|:443... connected.\n",
            "HTTP request sent, awaiting response... 200 OK\n",
            "Length: 3405 (3.3K) [application/x-sh]\n",
            "Saving to: ‘/tmp/gmsh-install.sh’\n",
            "\n",
            "\r/tmp/gmsh-install.s   0%[                    ]       0  --.-KB/s               \r/tmp/gmsh-install.s 100%[===================>]   3.33K  --.-KB/s    in 0s      \n",
            "\n",
            "2022-12-24 12:10:08 (52.3 MB/s) - ‘/tmp/gmsh-install.sh’ saved [3405/3405]\n",
            "\n",
            "+ INSTALL_PREFIX=/usr/local\n",
            "++ echo /usr/local\n",
            "++ awk -F/ '{print NF-1}'\n",
            "+ INSTALL_PREFIX_DEPTH=2\n",
            "+ PROJECT_NAME=fem-on-colab\n",
            "+ SHARE_PREFIX=/usr/local/share/fem-on-colab\n",
            "+ GMSH_INSTALLED=/usr/local/share/fem-on-colab/gmsh.installed\n",
            "+ [[ ! -f /usr/local/share/fem-on-colab/gmsh.installed ]]\n",
            "+ set +x\n",
            "################################################################################\n",
            "#     This installation is offered by FEM on Colab, an open-source project     #\n",
            "#       developed and maintained at Università Cattolica del Sacro Cuore       #\n",
            "#    by Dr. Francesco Ballarin. Please see https://fem-on-colab.github.io/     #\n",
            "#       for more details, including a list of further available packages       #\n",
            "#       and how to sponsor the development or contribute to the project.       #\n",
            "#                                                                              #\n",
            "#   We are conducting an informal survey on FEM on Colab usage by our users.   #\n",
            "#   The survey is anonymous, and its compilation will typically only require   #\n",
            "#   a couple of minutes of your time. If you wish, give us your feedback at    #\n",
            "#                     https://forms.gle/36sZZWNvPpUv8XWr7                      #\n",
            "################################################################################\n"
          ]
        }
      ]
    },
    {
      "cell_type": "code",
      "source": [
        "import gmsh\n",
        "ninclusions = 3\n",
        "Lx = 2.0\n",
        "Ly = 2.0\n",
        "R1 = 0.25\n",
        "R2 = 0.15\n",
        "R3 = 0.25\n",
        "\n",
        "def GenerateMesh():\n",
        "\n",
        "    gmsh.initialize()\n",
        "    proc = MPI.COMM_WORLD.rank\n",
        "\n",
        "    mass1 = np.pi*R1**2\n",
        "    mass2 = np.pi*R2**2\n",
        "    mass3 = np.pi*R3**2\n",
        "    mass_inc = mass1 + mass2 + mass3\n",
        "\n",
        "    if proc == 0:\n",
        "        # We create one rectangle and the circular inclusion\n",
        "        background = gmsh.model.occ.addRectangle(0, 0, 0, Lx, Ly)\n",
        "        inclusion1 = gmsh.model.occ.addDisk(0.5, 1.0, 0, R1, R1)\n",
        "        inclusion2 = gmsh.model.occ.addDisk(1.0, 1.5, 0, R2, R2)\n",
        "        inclusion3 = gmsh.model.occ.addDisk(1.5, 1.0, 0, R3, R3)\n",
        "        gmsh.model.occ.synchronize()\n",
        "        all_inclusions = [(2, inclusion1)]\n",
        "        all_inclusions.extend([(2, inclusion2)])\n",
        "        all_inclusions.extend([(2, inclusion3)])\n",
        "        whole_domain = gmsh.model.occ.fragment([(2, background)], all_inclusions)\n",
        "        gmsh.model.occ.synchronize()\n",
        "\n",
        "        background_surfaces = []\n",
        "        other_surfaces = []\n",
        "        for domain in whole_domain[0]:\n",
        "            com = gmsh.model.occ.getCenterOfMass(domain[0], domain[1])\n",
        "            mass = gmsh.model.occ.getMass(domain[0], domain[1])\n",
        "            #print(mass, com)\n",
        "            # Identify the square by its mass\n",
        "            if np.isclose(mass, (Lx*Ly - mass_inc)):\n",
        "                gmsh.model.addPhysicalGroup(domain[0], [domain[1]], 0)\n",
        "                background_surfaces.append(domain)\n",
        "            elif np.isclose(np.linalg.norm(com), np.sqrt((0.5)**2 + (1.0)**2)):\n",
        "                gmsh.model.addPhysicalGroup(domain[0], [domain[1]], 1)\n",
        "                other_surfaces.append(domain)\n",
        "            elif np.isclose(np.linalg.norm(com), np.sqrt((1.0)**2 + (1.5)**2)) and com[1] > 1.0:\n",
        "                gmsh.model.addPhysicalGroup(domain[0], [domain[1]], 2)\n",
        "                other_surfaces.append(domain)\n",
        "            elif np.isclose(np.linalg.norm(com), np.sqrt((1.5)**2 + (1.0)**2)):\n",
        "                gmsh.model.addPhysicalGroup(domain[0], [domain[1]], 3)\n",
        "                other_surfaces.append(domain)\n",
        "    \n",
        "        # Tag the left and right boundaries\n",
        "        left = []\n",
        "        right = []\n",
        "        for line in gmsh.model.getEntities(dim=1):\n",
        "            com = gmsh.model.occ.getCenterOfMass(line[0], line[1])\n",
        "            if np.isclose(com[0], 0.0):\n",
        "                left.append(line[1])\n",
        "            if np.isclose(com[0], Lx):\n",
        "                right.append(line[1])\n",
        "        gmsh.model.addPhysicalGroup(1, left, 3)\n",
        "        gmsh.model.addPhysicalGroup(1, right,1)\n",
        "\n",
        "    gmsh.model.mesh.setSize(gmsh.model.getEntities(0), 0.05)\n",
        "    gmsh.model.mesh.generate(2)    \n",
        "    \n",
        "    mesh, subdomains, boundaries = io.gmshio.model_to_mesh(gmsh.model, comm=MPI.COMM_WORLD, rank=0, gdim=2)\n",
        "    gmsh.finalize()\n",
        "    return mesh, subdomains, boundaries\n",
        "\n",
        "msh, subdomains, boundaries = GenerateMesh()\n",
        "\n",
        "with io.XDMFFile(MPI.COMM_WORLD, \"mymesh.xdmf\", \"w\") as xdmf:\n",
        "    xdmf.write_mesh(msh)"
      ],
      "metadata": {
        "id": "rQ3IHYkoCP33"
      },
      "execution_count": 16,
      "outputs": []
    },
    {
      "cell_type": "markdown",
      "source": [
        "In order to define the diffusivity as a piecewise constant function we must introduce a `DG` space:\n",
        "\n",
        "\n",
        "$$\n",
        "Q_h = \\{v \\in L^2(\\Omega),~v|_E \\in P_0(E) \\, \\forall E \\in \\mathcal{T}_h\\}\n",
        "$$\n",
        "\n",
        "which is done in `dolfinx` as"
      ],
      "metadata": {
        "id": "soJmXnpLc1h-"
      }
    },
    {
      "cell_type": "code",
      "source": [
        "def SetDifus(msh, subdomains, muA, muB):\n",
        "  Q = fem.FunctionSpace(msh, (\"DG\", 0))\n",
        "  muh = fem.Function(Q)\n",
        "\n",
        "  # Identify cells with different tags\n",
        "  cells_background = subdomains.indices[subdomains.values == 0]\n",
        "  cells_inc = subdomains.indices[subdomains.values >= 1]\n",
        "\n",
        "  # Set mu = muA in the background cells\n",
        "  muh.x.array[cells_background] = np.full(len(cells_background), muA)\n",
        "\n",
        "  # Set mu = muB in the inclusion celss\n",
        "  muh.x.array[cells_inc] = np.full(len(cells_inc), muB)\n",
        "\n",
        "  return muh\n",
        "\n",
        "# Test the function\n",
        "muA, muB = 1.0, 10000.0\n",
        "muh = SetDifus(msh, subdomains, muA, muB)\n",
        "muh.name = \"mu\"\n",
        "with io.XDMFFile(MPI.COMM_WORLD, \"mu.xdmf\", \"w\") as xdmf:\n",
        "    xdmf.write_mesh(msh)\n",
        "    xdmf.write_function(muh)"
      ],
      "metadata": {
        "id": "TCFR6CQxdcwI"
      },
      "execution_count": 17,
      "outputs": []
    },
    {
      "cell_type": "code",
      "source": [
        "def SolvePoissonMulti(msh, subdomains, muA, muB):\n",
        "  \n",
        "  dx = Measure(\"dx\")(subdomain_data=subdomains)\n",
        "  ds = Measure(\"ds\")(subdomain_data=boundaries)\n",
        "\n",
        "  if(False):\n",
        "    # Compute the length and area for verification\n",
        "    one = fem.Constant(msh, 1.0)\n",
        "    for i in [1, 3]:\n",
        "      length_form = fem.form( one*ds(i) )\n",
        "      lengthside = fem.assemble_scalar(length_form)\n",
        "      print(lengthside)\n",
        "\n",
        "    total = 0.0\n",
        "    for i in range(4):\n",
        "      area_form = fem.form( one*dx(i) )\n",
        "      area = fem.assemble_scalar(area_form)\n",
        "      total += area\n",
        "      print('Individual area of %d surface= %f' %(i,area))\n",
        "    print('Total area=', total)\n",
        "\n",
        "  degree = 1\n",
        "  V = fem.FunctionSpace(msh, (\"CG\", degree))      \n",
        "  dofsL = fem.locate_dofs_geometrical(V, lambda x: np.isclose(x[0], 0))\n",
        "  dofsR = fem.locate_dofs_geometrical(V, lambda x: np.isclose(x[0], Lx))\n",
        "  bcs = [fem.dirichletbc(ScalarType(uleft), dofsL, V), fem.dirichletbc(ScalarType(uright), dofsR, V)]\n",
        "\n",
        "  u, v = TrialFunction(V), TestFunction(V)\n",
        "\n",
        "  muh = SetDifus(msh, subdomains, muA, muB)\n",
        "  \n",
        "  a = inner(muh*grad(u), grad(v)) * dx\n",
        "  source = fem.Constant(msh, 0.0)\n",
        "  L = source * v * dx\n",
        "  problem = fem.petsc.LinearProblem(a, L, bcs=bcs, petsc_options={\"ksp_type\": \"preonly\", \"pc_type\": \"lu\", \"pc_factor_matsolver_type\": \"mumps\"})\n",
        "  uh = problem.solve()\n",
        "  print('Solving problem with %d unknowns' %(V.dofmap.index_map.size_global))\n",
        "\n",
        "  return uh\n",
        "\n",
        "# Test the function\n",
        "uh = SolvePoissonMulti(msh, subdomains, muA, muB)\n",
        "uh.name = \"Temperature\"\n",
        "with io.XDMFFile(MPI.COMM_WORLD, \"inclusions.xdmf\", \"w\") as xdmf:\n",
        "    xdmf.write_mesh(msh)\n",
        "    xdmf.write_function(uh)"
      ],
      "metadata": {
        "colab": {
          "base_uri": "https://localhost:8080/"
        },
        "id": "jYw9C1HtQxhU",
        "outputId": "1840d1ef-df48-4096-da25-5f70684b1b76"
      },
      "execution_count": 18,
      "outputs": [
        {
          "output_type": "stream",
          "name": "stdout",
          "text": [
            "Solving problem with 2054 unknowns\n"
          ]
        }
      ]
    },
    {
      "cell_type": "markdown",
      "source": [
        "---\n",
        "# Homework 1"
      ],
      "metadata": {
        "id": "BEV7LMmONHw9"
      }
    },
    {
      "cell_type": "markdown",
      "source": [
        "## Multimaterial problem\n",
        "\n",
        "### Effective diffusivity\n",
        "\n",
        "Taking $f = 0$, compute and the effective thermal diffusivity of the system\n",
        "as function of $\\mu_B/\\mu_A$\n",
        "\n",
        "\\begin{equation}\n",
        "\\mu_{\\mbox{eff}} = \\frac{|q|/L_y}{|u_{\\ell} - u_r|/L_x}  \\nonumber\n",
        "\\end{equation}\n",
        "\n",
        "where the amount of heat entering the system is given by\n",
        "\n",
        "\\begin{equation}\n",
        " q = \\int_{ \\Gamma_{\\mbox{left}}}{\\mu_A \\nabla{u}_h \\cdot \\check{\\mathbf{e}}_1}\\,ds\n",
        " \\end{equation}\n",
        "\n",
        " Complete the following code:\n",
        "\n",
        "    muA = 1.0\n",
        "    mueff = []\n",
        "    n = FacetNormal(msh)\n",
        "    ds = Measure(\"ds\")(subdomain_data=boundaries)\n",
        "    muBvals = [1e-2, 1e-1, 1e0, 1e1, 1e2, 1e3, 1e4]\n",
        "    for muB in muBvals:\n",
        "      uh = SolvePoissonMulti(msh, subdomains, muA, muB)\n",
        "      q = ...\n",
        "      mueff.append(...)"
      ],
      "metadata": {
        "id": "6R_uRiMWthbe"
      }
    },
    {
      "cell_type": "code",
      "source": [
        "muA = 1.0\n",
        "mueff = []\n",
        "n = FacetNormal(msh)\n",
        "ds = Measure(\"ds\")(subdomain_data=boundaries)\n",
        "muBvals = [1e-2, 1e-1, 1e0, 1e1, 1e2, 1e3, 1e4]\n",
        "for muB in muBvals:\n",
        "  uh = SolvePoissonMulti(msh, subdomains, muA, muB)\n",
        "  q_form = fem.form( inner(grad(uh),n) * ds(3) )\n",
        "  q = fem.assemble_scalar(q_form)\n",
        "  mueff.append( (q/Ly) / ((uleft - uright)/Lx) )"
      ],
      "metadata": {
        "colab": {
          "base_uri": "https://localhost:8080/"
        },
        "id": "MIlT5Fqh-7DD",
        "outputId": "7b99f310-9e80-4cc9-cf44-96b2cae2d3d2"
      },
      "execution_count": 19,
      "outputs": [
        {
          "output_type": "stream",
          "name": "stdout",
          "text": [
            "Solving problem with 2054 unknowns\n",
            "Solving problem with 2054 unknowns\n",
            "Solving problem with 2054 unknowns\n",
            "Solving problem with 2054 unknowns\n",
            "Solving problem with 2054 unknowns\n",
            "Solving problem with 2054 unknowns\n",
            "Solving problem with 2054 unknowns\n"
          ]
        }
      ]
    },
    {
      "cell_type": "code",
      "source": [
        "import matplotlib.pyplot as plt\n",
        "plt.figure(figsize= (9,6))\n",
        "plt.rcParams['font.size'] = '16'\n",
        "plt.axes(facecolor = \"lightgray\")\n",
        "plt.xlabel('$\\mu_B/\\mu_A$',fontsize=20)\n",
        "plt.ylabel('$\\mu_{eff}$', fontsize=20)\n",
        "l = plt.plot(muBvals, mueff, '-or')\n",
        "plt.setp(l, 'markersize', 10)\n",
        "plt.setp(l, 'markerfacecolor', 'white')\n",
        "plt.semilogx(base=10)\n",
        "plt.grid()\n",
        "plt.show()"
      ],
      "metadata": {
        "colab": {
          "base_uri": "https://localhost:8080/",
          "height": 409
        },
        "id": "3-w-2P6vAGVS",
        "outputId": "1bdcf12a-5101-45a1-f594-293304889849"
      },
      "execution_count": 20,
      "outputs": [
        {
          "output_type": "display_data",
          "data": {
            "text/plain": [
              "<Figure size 648x432 with 1 Axes>"
            ],
            "image/png": "[encoded data removed]"
          },
          "metadata": {
            "needs_background": "light"
          }
        }
      ]
    },
    {
      "cell_type": "markdown",
      "source": [
        "### Average temperature of inclusions\n",
        "\n",
        "Let consider $\\mu_B \\gg \\mu_A$, such that the temperature\n",
        "on each circular region is nearly uniform. Implement the computation of \n",
        "the average temperature on each inclusion, i.e., \n",
        " \\begin{equation}\n",
        " \\langle T_i \\rangle = \\frac{1}{|\\omega_i|} \\, \\int_{\\omega_i}{u(\\mathbf{x})}\\,d{x}\n",
        "\\end{equation}\n",
        "in which $|\\omega_i|$ stands for the the area of region $\\omega_i$.\n",
        "\n",
        "Complete the following code:\n",
        "\n",
        "    dx = Measure(\"dx\")(subdomain_data=subdomains)\n",
        "    one = Constant(msh, 1.0)\n",
        "    Tincav = []\n",
        "    for k in range(ninclusions):\n",
        "      area = assemble_scalar(fem.form(one * dx(k+1)))\n",
        "      Tinc = assemble_scalar(...)\n",
        "      Tincav.append(...)"
      ],
      "metadata": {
        "id": "bqPQXdPy5LQb"
      }
    },
    {
      "cell_type": "code",
      "source": [
        "dx = Measure(\"dx\")(subdomain_data=subdomains)\n",
        "one = fem.Constant(msh, ScalarType(1))\n",
        "Tincav = []\n",
        "for k in range(ninclusions):\n",
        "    area = fem.assemble_scalar(fem.form(one * dx(k+1)))\n",
        "    Tinc = fem.assemble_scalar(fem.form(uh  * dx(k+1)))\n",
        "    Tincav.append(Tinc/area)\n",
        "print(Tincav)"
      ],
      "metadata": {
        "colab": {
          "base_uri": "https://localhost:8080/"
        },
        "id": "Q2uAlqMSDpkr",
        "outputId": "e03a3b1d-f6b9-48c8-d7fa-c7688536c7cb"
      },
      "execution_count": 28,
      "outputs": [
        {
          "output_type": "stream",
          "name": "stdout",
          "text": [
            "[74.41092137764505, 50.501886603130274, 26.587766984600155]\n"
          ]
        }
      ]
    }
  ]
}