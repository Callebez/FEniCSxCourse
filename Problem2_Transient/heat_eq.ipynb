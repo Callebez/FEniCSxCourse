{
  "cells": [
    {
      "cell_type": "markdown",
      "metadata": {
        "id": "view-in-github",
        "colab_type": "text"
      },
      "source": [
        "<a href=\"https://colab.research.google.com/github/IgorBaratta/FEniCSxCourse/blob/ICMC23/Problem2_Transient/heat_eq.ipynb\" target=\"_parent\"><img src=\"https://colab.research.google.com/assets/colab-badge.svg\" alt=\"Open In Colab\"/></a>"
      ]
    },
    {
      "cell_type": "code",
      "source": [
        "try:\n",
        "    import gmsh\n",
        "except ImportError:\n",
        "    !wget \"https://fem-on-colab.github.io/releases/gmsh-install.sh\" -O \"/tmp/gmsh-install.sh\" && bash \"/tmp/gmsh-install.sh\"\n",
        "    import gmsh\n",
        "    \n",
        "try:\n",
        "    import dolfinx\n",
        "except ImportError:\n",
        "    !wget \"https://fem-on-colab.github.io/releases/fenicsx-install-real.sh\" -O \"/tmp/fenicsx-install.sh\" && bash \"/tmp/fenicsx-install.sh\"\n",
        "    import dolfinx\n",
        "\n",
        "try:\n",
        "    import pyvista\n",
        "except ImportError:\n",
        "    !pip install - q piglet pyvirtualdisplay ipyvtklink pyvista panel\n",
        "    !apt-get - qq install xvfb\n",
        "    import pyvista\n",
        "\n",
        "!wget \"https://raw.githubusercontent.com/IgorBaratta/FEniCSxCourse/ICMC23/Problem2_Transient/utils.py\""
      ],
      "metadata": {
        "id": "glCC3KAVkNxY"
      },
      "id": "glCC3KAVkNxY",
      "execution_count": null,
      "outputs": []
    },
    {
      "cell_type": "markdown",
      "id": "930b7e44",
      "metadata": {
        "id": "930b7e44"
      },
      "source": [
        "# Solving a time-dependent problem"
      ]
    },
    {
      "cell_type": "markdown",
      "id": "f80fc37c",
      "metadata": {
        "id": "f80fc37c"
      },
      "source": [
        "\n",
        "This notebook shows how to solve a transient problem using DOLFINx, \n",
        "namely the diffusion problem, the simplest extension of the Poisson problem.\n",
        "\n",
        "The transient or unsteady version of the previous problems includes an additional term involving the rate \n",
        "of change of the physical quantity of interest. \n",
        "For the heat conduction problem the equation reads\n",
        "$$\n",
        "\\begin{align*}\n",
        "a(\\mathbf{x},t)\\,\\dfrac{\\partial{u}(\\boldsymbol{x},t)}{\\partial{t}} -\\nabla \\cdot \\left ( \\mu(\\boldsymbol{x},t) \\nabla{u}(\\boldsymbol{x},t) \\right) & = f(\\boldsymbol{x},t) & \\boldsymbol{x} \\in \\Omega,~~t \\in [0,T] \\\\\n",
        "& & & \\\\\n",
        "u(\\boldsymbol{x},t) & =  g(\\boldsymbol{x},t) & \\boldsymbol{x} \\in \\partial{\\Omega},~~t \\in [0,T] \\\\\n",
        "& & & \\\\\n",
        "u(\\boldsymbol{x},0) & =  u_0(\\boldsymbol{x}) & \\boldsymbol{x} \\in \\partial{\\Omega} &\n",
        "\\end{align*}\n",
        "$$\n",
        "\n",
        "\n",
        "\n",
        "Where $u(\\boldsymbol{x}, t)$ is the temperature distribution at time $t$. \\\n",
        "$u_D$ is a prescribed function at the boundary $\\partial\\Omega_\\text{D}$. \\\n",
        "And $u_0$ is the initial temperature distribution.\n",
        "\n",
        "In general, to solve time-dependent PDEs using the finite element method, we first discretize the time derivative using a finite difference scheme which yelds a recursive series of stationary problems. We can then convert each stationary problem into a variational problem."
      ]
    },
    {
      "cell_type": "markdown",
      "id": "faa9c7e0",
      "metadata": {
        "id": "faa9c7e0"
      },
      "source": [
        "## Time discretization\n",
        "A backward Euler scheme can be used to approximate the time derivative.\n",
        "$$\n",
        "\\begin{align*}\n",
        "  a \\cdot \\frac{u_{n} - u_{n-1}}{\\Delta t} - \\nabla \\cdot (\\mu \\nabla u_{n}) = f_{n}\n",
        "\\end{align*}\n",
        "$$\n",
        "We may reorder the semi-discrete equation so that the left-hand side contains the terms with \n",
        "the unknown $u_{n}$ and the right-hand side contains computed terms only. \n",
        "$$\n",
        "\\begin{align*}\n",
        "  a \\, u_{n} - \\Delta t \\nabla \\, \\cdot (\\mu\\nabla u_{n}) = \\Delta t f_{n} + a \\, u_{n-1}\n",
        "\\end{align*}\n",
        "$$\n"
      ]
    },
    {
      "cell_type": "markdown",
      "id": "97b66a64",
      "metadata": {
        "id": "97b66a64"
      },
      "source": [
        "## Variational formulation\n",
        "As usual we find the weak by multiplying our semi-discrete equation by a sufficiently\n",
        "regular test function $v$ and applying integration by parts. \\\n",
        "At time-step $n$ the weak the variational problem reads: \n",
        "\n",
        "Find $u_n \\in V(\\Omega)$ such that\n",
        "$$\n",
        "\\begin{align*}\n",
        "  \\int_{\\Omega} a\\, u_n v \\,dx + \\Delta t \n",
        "  \\int_{\\Omega}{ \\mu \\nabla u_n \\cdot \\nabla v}\\,dx \n",
        "  = \\Delta t \\int_{\\Omega} f \\cdot v \\, dx + \\int_{\\Omega} \n",
        "  a\\,  u_{n-1} \\cdot v \\, dx\n",
        "\\end{align*}\n",
        "$$"
      ]
    },
    {
      "cell_type": "markdown",
      "id": "3f460e3e",
      "metadata": {
        "id": "3f460e3e"
      },
      "source": [
        "Again, for this problem, the natural choice is a space of scalar-valued continuous functions, \n",
        "that are element-wise polynomials of degree $k$\n",
        "$$\n",
        "V(\\mathcal{T}_h) = V_h = \\{v \\in H ^ 1(\\Omega), \n",
        "~v | _E \\in P_k(E) \\, \\forall E \\in \\mathcal{T}_h\\}\n",
        "$$\n",
        "Which in DOLFINx can be declared as:\n",
        "\n",
        "    V = fem.FunctionSpace(mesh, (\"Lagrange\", k))"
      ]
    },
    {
      "cell_type": "markdown",
      "id": "009f8308",
      "metadata": {
        "id": "009f8308"
      },
      "source": [
        "## Test problem - Manufactured Solution\n",
        "We construct first a test problem for which we can easily check the answer. \\\n",
        "In this tutorial we create a test problem with a linear variation in time because we \n",
        "know our first-order time-stepping scheme is exact for linear functions.\n",
        "\n",
        "$$\n",
        "\\begin{align*}\n",
        "  u(\\boldsymbol{x}, t) = c_0 x_0^2 + c_1 x_0 + c_3t\n",
        "\\end{align*}\n",
        "$$\n",
        "which produces a function whose computed values at the nodes are exact regardless \n",
        "of element size and $\\Delta t$, as long as the mesh is partitioned uniformly.\n",
        "Then we insert the exact solution into the strong form of our pde.\n",
        "With simple manipulations we realize that the source should be:\n",
        "$$\n",
        "\\begin{align*}\n",
        "  f = c_2 - 2c_0\n",
        "\\end{align*}\n",
        "$$\n",
        "Also, at the boundaries we have:\n",
        "$$\n",
        "\\begin{align*}\n",
        "  T_D(\\boldsymbol{x}, t) = c_0 x_0^2 + c_1 x_0 + c_2t\n",
        "\\end{align*}\n",
        "$$"
      ]
    },
    {
      "cell_type": "markdown",
      "id": "17b18fc5",
      "metadata": {
        "id": "17b18fc5"
      },
      "source": [
        "## Implementation\n",
        "\n",
        "The first step is to import all modules and packages we are going to use:"
      ]
    },
    {
      "cell_type": "code",
      "execution_count": null,
      "id": "5738ae4e",
      "metadata": {
        "id": "5738ae4e"
      },
      "outputs": [],
      "source": [
        "# Auxiliary packages\n",
        "from petsc4py import PETSc # Linear algebra backend\n",
        "from mpi4py import MPI     # MPI \n",
        "import numpy\n",
        "\n",
        "# Import dolfinx and ufl modules\n",
        "from dolfinx import geometry\n",
        "from dolfinx import fem\n",
        "from dolfinx import io\n",
        "from dolfinx import la\n",
        "from dolfinx.mesh import (CellType, create_unit_square, locate_entities, exterior_facet_indices)\n",
        "from ufl import TestFunction, TrialFunction, dx, inner, grad\n",
        "\n",
        "# Convenience functions for plotting on jupyter notebooks\n",
        "from utils import plot_mesh\n",
        "import IPython"
      ]
    },
    {
      "cell_type": "markdown",
      "id": "63d5433a",
      "metadata": {
        "id": "63d5433a"
      },
      "source": [
        "### Creating a distributed computational domain (mesh)"
      ]
    },
    {
      "cell_type": "markdown",
      "id": "3bae57e5",
      "metadata": {
        "id": "3bae57e5"
      },
      "source": [
        "To create a simple computational domain in DOLFINx, we use the mesh generation utilities in `dolfinx.mesh`.\n",
        "In this module, we have the tools to build rectangles of triangular or quadrilateral elements and boxes\n",
        "of tetrahedral or hexahedral elements. We start by creating a unit square:"
      ]
    },
    {
      "cell_type": "code",
      "execution_count": null,
      "id": "7f50a0be",
      "metadata": {
        "lines_to_next_cell": 2,
        "id": "7f50a0be"
      },
      "outputs": [],
      "source": [
        "comm = MPI.COMM_WORLD\n",
        "mesh = create_unit_square(comm, 10, 10, CellType.triangle)\n",
        "\n",
        "# Compute connectivities between facets and cells\n",
        "mesh.topology.create_connectivity(mesh.topology.dim - 1, mesh.topology.dim)"
      ]
    },
    {
      "cell_type": "markdown",
      "id": "c29c6264",
      "metadata": {
        "id": "c29c6264"
      },
      "source": [
        "### Visualizing mesh\n",
        "We have provided a few convenience functions for plotting on jupyter notebooks."
      ]
    },
    {
      "cell_type": "code",
      "execution_count": null,
      "id": "66aa0fbc",
      "metadata": {
        "id": "66aa0fbc"
      },
      "outputs": [],
      "source": [
        "plot_mesh(mesh, filename=\"mesh.html\")\n",
        "IPython.display.HTML(filename=\"mesh.html\")"
      ]
    },
    {
      "cell_type": "markdown",
      "id": "6e5d5b1b",
      "metadata": {
        "id": "6e5d5b1b"
      },
      "source": [
        "### Handling time-dependent functions expressions\n",
        "\n",
        "First we define the constants we use in our program:"
      ]
    },
    {
      "cell_type": "code",
      "execution_count": null,
      "id": "18bc9c0e",
      "metadata": {
        "id": "18bc9c0e"
      },
      "outputs": [],
      "source": [
        "a = fem.Constant(mesh, 1.0)\n",
        "mu = fem.Constant(mesh, 1.0)\n",
        "c0, c1, c2 = 1.0, 2.0, 0.5\n",
        "dt = fem.Constant(mesh, 0.1)"
      ]
    },
    {
      "cell_type": "markdown",
      "id": "b05f909b",
      "metadata": {
        "id": "b05f909b"
      },
      "source": [
        "We can now define the source term as a Constant:\n",
        "$$\n",
        "\\begin{align*}\n",
        "  f = c_2 - 2c_0\n",
        "\\end{align*}\n",
        "$$"
      ]
    },
    {
      "cell_type": "code",
      "execution_count": null,
      "id": "b274762d",
      "metadata": {
        "id": "b274762d"
      },
      "outputs": [],
      "source": [
        "f = fem.Constant(mesh, c2 - 2*c0)\n",
        "print(type(f))"
      ]
    },
    {
      "cell_type": "markdown",
      "id": "eec29707",
      "metadata": {
        "id": "eec29707"
      },
      "source": [
        "We can now define an expression that be used to compute $u$, $u_0$ and $u_D$.\n",
        "Once we have this expression we can compute the coefficients of a function $u \\in V_h$\n",
        "by interpolation."
      ]
    },
    {
      "cell_type": "code",
      "execution_count": null,
      "id": "429fb8de",
      "metadata": {
        "id": "429fb8de"
      },
      "outputs": [],
      "source": [
        "from functools import partial \n",
        "\n",
        "def expression(t, x):\n",
        "    return c0*x[0]**2 + c1*x[0] + c2*t\n",
        "\n",
        "V = fem.FunctionSpace(mesh, (\"Lagrange\", 1))\n",
        "u0 = fem.Function(V)\n",
        "u0.interpolate(partial(expression, 0))\n",
        "\n",
        "u0.name = \"Temperature0\"\n",
        "with io.XDMFFile(MPI.COMM_WORLD, \"t0.xdmf\", \"w\") as xdmf:\n",
        "    xdmf.write_mesh(mesh)\n",
        "    xdmf.write_function(u0)"
      ]
    },
    {
      "cell_type": "markdown",
      "id": "b608b5a1",
      "metadata": {
        "id": "b608b5a1"
      },
      "source": [
        "## Setting up a variational problem"
      ]
    },
    {
      "cell_type": "code",
      "execution_count": null,
      "id": "619825d7",
      "metadata": {
        "id": "619825d7"
      },
      "outputs": [],
      "source": [
        "V = fem.FunctionSpace(mesh, (\"Lagrange\", 1))\n",
        "u = TrialFunction(V)\n",
        "v = TestFunction(V)"
      ]
    },
    {
      "cell_type": "markdown",
      "id": "cd2d5355",
      "metadata": {
        "id": "cd2d5355"
      },
      "source": [
        "The variational form can be written in UFL syntax:\n",
        "$$\n",
        "\\begin{align*}\n",
        "  a(u, v) = \\int_{\\Omega} u v \\,dx + \\Delta t \\int_{\\Omega}{\\nabla u \\cdot \\nabla v}\\,dx\n",
        "\\end{align*}\n",
        "$$"
      ]
    },
    {
      "cell_type": "code",
      "execution_count": null,
      "id": "8551f2f2",
      "metadata": {
        "id": "8551f2f2"
      },
      "outputs": [],
      "source": [
        "a = inner(u, v) * dx + dt * inner(grad(u), grad(v)) * dx\n",
        "a = fem.form(a)  # JIT compilation"
      ]
    },
    {
      "cell_type": "markdown",
      "id": "702ad8cf",
      "metadata": {
        "id": "702ad8cf"
      },
      "source": [
        "$$\n",
        "\\begin{align*}\n",
        "  L(v) = \\Delta t \\int_{\\Omega} f \\cdot v \\, dx + \\int_{\\Omega} u_{n-1} \\cdot v \\, dx\n",
        "\\end{align*}\n",
        "$$"
      ]
    },
    {
      "cell_type": "code",
      "execution_count": null,
      "id": "930ddfe6",
      "metadata": {
        "id": "930ddfe6"
      },
      "outputs": [],
      "source": [
        "L = dt * inner(f, v) * dx + inner(u0, v) * dx\n",
        "L = fem.form(L)"
      ]
    },
    {
      "cell_type": "markdown",
      "id": "9406ef3b",
      "metadata": {
        "id": "9406ef3b"
      },
      "source": [
        "Note that we are using `u` for the solution that we seek at time step `n`\n",
        "and `u0` for time step `n-1`."
      ]
    },
    {
      "cell_type": "markdown",
      "id": "8efb48e6",
      "metadata": {
        "id": "8efb48e6"
      },
      "source": [
        "To give the user freedom to set boundary conditions on single degrees of freedom,\n",
        "the function `dolfinx.fem.dirichletbc` takes in the list of degrees of freedom(DOFs) as input.\\\n",
        "The DOFs on the boundary can be obtained in many ways: DOLFINx supplies a few convenience functions,\n",
        "such as `dolfinx.fem.locate_dofs_topological` and `dolfinx.fem.locate_dofs_geometrical`.\n",
        "DOLFINx also has convenience functions to obtain a list of all boundary facets."
      ]
    },
    {
      "cell_type": "code",
      "execution_count": null,
      "id": "84fd7823",
      "metadata": {
        "id": "84fd7823"
      },
      "outputs": [],
      "source": [
        "# Create Dirichlet function\n",
        "u_D = fem.Function(V)\n",
        "u_D.interpolate(partial(expression, 0))\n",
        "\n",
        "# Define Dirichlet bc\n",
        "\n",
        "# Get boundary facets\n",
        "bndry_facets = exterior_facet_indices(mesh.topology)\n",
        "\n",
        "# Locate degrees of freedom on those facets\n",
        "tdim = mesh.topology.dim\n",
        "bndry_dofs = fem.locate_dofs_topological(V, tdim - 1, bndry_facets)\n",
        "\n",
        "# Create list of Dirichlet BC\n",
        "bcs = [fem.dirichletbc(u_D, bndry_dofs)]"
      ]
    },
    {
      "cell_type": "markdown",
      "id": "c4a0adc8",
      "metadata": {
        "id": "c4a0adc8"
      },
      "source": [
        "### Setting up a time dependent solver\n",
        "\n",
        "As the left hand side of our problem(the matrix) is time independent, we would like avoid \n",
        "re-assembling it at every time step.We assemble the matrix once outside the temporal loop."
      ]
    },
    {
      "cell_type": "code",
      "execution_count": null,
      "id": "d403f869",
      "metadata": {
        "id": "d403f869"
      },
      "outputs": [],
      "source": [
        "A = fem.petsc.assemble_matrix(a, bcs=bcs)\n",
        "A.assemble()\n",
        "\n",
        "# https://www.mcs.anl.gov/petsc/petsc4py-current/docs/apiref/petsc4py.PETSc.Mat-class.html\n",
        "info = A.getInfo()"
      ]
    },
    {
      "cell_type": "markdown",
      "id": "cade8a20",
      "metadata": {
        "id": "cade8a20"
      },
      "source": [
        "Next, we can generate the integration kernel for the right hand side(RHS), \n",
        "and create the RHS vector `b` that we will assembled into at each time step."
      ]
    },
    {
      "cell_type": "code",
      "execution_count": null,
      "id": "95330734",
      "metadata": {
        "id": "95330734"
      },
      "outputs": [],
      "source": [
        "b = fem.Function(V)"
      ]
    },
    {
      "cell_type": "markdown",
      "id": "8dbd9a51",
      "metadata": {
        "id": "8dbd9a51"
      },
      "source": [
        "We next create the PETSc KSP(Krylov subspace method) solver, and set it to solve using an\n",
        "[algebraic multigrid method](https: // hypre.readthedocs.io/en/latest/solvers-boomeramg.html)."
      ]
    },
    {
      "cell_type": "code",
      "execution_count": null,
      "id": "d8155909",
      "metadata": {
        "id": "d8155909"
      },
      "outputs": [],
      "source": [
        "# Define Solver\n",
        "solver = PETSc.KSP().create(comm)\n",
        "solver.setOperators(A)\n",
        "solver.setType(PETSc.KSP.Type.CG)\n",
        "pc = solver.getPC()\n",
        "# https://www.mcs.anl.gov/petsc/petsc4py-current/docs/apiref/petsc4py.PETSc.PC.Type-class.html\n",
        "pc.setType(\"gamg\")"
      ]
    },
    {
      "cell_type": "markdown",
      "id": "b77f780b",
      "metadata": {
        "id": "b77f780b"
      },
      "source": [
        "### Plotting a time dependent problem"
      ]
    },
    {
      "cell_type": "markdown",
      "id": "ae798b18",
      "metadata": {
        "id": "ae798b18"
      },
      "source": [
        "As we are solving a time dependent problem, we would like to create a time dependent animation \n",
        "of the solution. The first step is to create an output file where we are going to save the \n",
        "solution at each time step:"
      ]
    },
    {
      "cell_type": "code",
      "execution_count": null,
      "id": "a54c14d9",
      "metadata": {
        "lines_to_next_cell": 2,
        "id": "a54c14d9"
      },
      "outputs": [],
      "source": [
        "# Open file, keep it \n",
        "file = io.XDMFFile(MPI.COMM_WORLD, \"temperature.xdmf\", \"w\")\n",
        "file.write_mesh(mesh)"
      ]
    },
    {
      "cell_type": "markdown",
      "id": "f1b410cd",
      "metadata": {
        "id": "f1b410cd"
      },
      "source": [
        "## Solving a time dependent problem\n",
        "\n",
        "We are now ready to solve the time dependent problem. At each time step, we need to:\n",
        "1. Update the time dependent boundary condition and source\n",
        "2. Reassemble the right hand side vector $b$ that depends on $u_{n-1}$\n",
        "3. Apply boundary conditions to $b$\n",
        "4. Solve linear problem $AU = b$\n",
        "5. Update current solution, $u_{n-1} = u_n$"
      ]
    },
    {
      "cell_type": "code",
      "execution_count": null,
      "id": "f523db9a",
      "metadata": {
        "id": "f523db9a"
      },
      "outputs": [],
      "source": [
        "u = fem.Function(V)\n",
        "u.name = \"temperature\"\n",
        "\n",
        "t = 0\n",
        "t_max = 100*dt.value\n",
        "while t < t_max:\n",
        "    t += dt.value\n",
        "    print(f\"t = {t:.2f} s\")\n",
        "\n",
        "    # Update boundary condition\n",
        "    u_D.interpolate(partial(expression, t))\n",
        "\n",
        "    # Assemble RHS\n",
        "    b.x.array[:] = 0\n",
        "    fem.petsc.assemble_vector(b.vector, L)\n",
        "\n",
        "    # Apply boundary condition\n",
        "    fem.petsc.apply_lifting(b.vector, [a], [bcs])\n",
        "    b.x.scatter_reverse(la.ScatterMode.add)\n",
        "    fem.petsc.set_bc(b.vector, bcs)\n",
        "\n",
        "    # Solve linear problem\n",
        "    u.x.array[:] = 0\n",
        "    solver.solve(b.vector, u.vector)\n",
        "    u.x.scatter_forward()\n",
        "\n",
        "    # Update un\n",
        "    u0.x.array[:] = u.x.array\n",
        "\n",
        "    # Save solution at time step t\n",
        "    file.write_function(u, t=t)\n",
        "\n",
        "# Now we can close the file\n",
        "file.close()"
      ]
    },
    {
      "cell_type": "code",
      "source": [
        "from google.colab import files\n",
        "files.download('temperature.xdmf') \n",
        "files.download('temperature.h5')"
      ],
      "metadata": {
        "id": "GCZERCzfpk21"
      },
      "id": "GCZERCzfpk21",
      "execution_count": null,
      "outputs": []
    },
    {
      "cell_type": "markdown",
      "id": "44a00bb3",
      "metadata": {
        "id": "44a00bb3"
      },
      "source": [
        "### What's the temperature at an arbitrary point $\\boldsymbol{x}_p$?\n",
        "Remember that \n",
        "$$\n",
        "u_h(\\boldsymbol{x}) = \\sum_{i=1}^{dim{V_h}}{u_j \\psi_j(\\boldsymbol{x}})\n",
        "$$\n",
        "\n",
        "Once we find the values of of coefficients, its just a matter of evaluation the basis functions\n",
        "at $\\boldsymbol{x}_p$."
      ]
    },
    {
      "cell_type": "code",
      "execution_count": null,
      "id": "881e0c42",
      "metadata": {
        "id": "881e0c42"
      },
      "outputs": [],
      "source": [
        "# Given an arbitrary point \"xp\"\n",
        "xp = numpy.array([0.5, 0.5, 0.0], dtype=numpy.float64)\n",
        "\n",
        "# We first compute the cells that it belongs to\n",
        "bb_tree = geometry.BoundingBoxTree(mesh, mesh.topology.dim)\n",
        "cell_candidates = geometry.compute_collisions(bb_tree, xp)\n",
        "cells = geometry.compute_colliding_cells(mesh, cell_candidates, xp)\n",
        "\n",
        "# Given a list of cells it's easy and \"efficient\" to compute T(p)\n",
        "values = u.eval(xp, cells[0])\n",
        "print(f\"Temperature at point {xp} is {values[0]}\")"
      ]
    },
    {
      "cell_type": "markdown",
      "source": [
        "**TASK 1**: The above time-stepping loop does not include any \n",
        "comparison of numerical and exact solutions, which is required \n",
        "to validate the implementation. In the previous section we've \n",
        "learned how to compute the L2 and H1 error norms.\n",
        "\n",
        "Use the knowledge gained in the previous section to calculate both\n",
        "the L2 and H1 error norms for $t=t_{max}$."
      ],
      "metadata": {
        "id": "WqZ-TwXItgTq"
      },
      "id": "WqZ-TwXItgTq"
    },
    {
      "cell_type": "code",
      "source": [
        "# Solution goes here:\n"
      ],
      "metadata": {
        "id": "Qk9C_1titinM"
      },
      "id": "Qk9C_1titinM",
      "execution_count": null,
      "outputs": []
    },
    {
      "cell_type": "markdown",
      "id": "f5f2b5ae",
      "metadata": {
        "id": "f5f2b5ae"
      },
      "source": [
        "# Homework 2"
      ]
    },
    {
      "cell_type": "markdown",
      "id": "d2a20ac8",
      "metadata": {
        "id": "d2a20ac8"
      },
      "source": [
        "In this homework we are going to tackle a more physically realistic problem.\n",
        "Given the temperature outside a room, we shall compute the temperature inside\n",
        "the room, and find the appropriate insulation material. \n",
        "\n",
        "Without internal sources the strong form of our problem reads:\n",
        "$$\n",
        "\\begin{align*}\n",
        "\\rho C_p\\frac{\\partial u}{\\partial t} &= \\nabla \\cdot (\\kappa  \\nabla u) & & \\text{in } \\, \\Omega, \\\\\n",
        "u(\\boldsymbol{x}, t) &= u_D = u_R + u_a \\cdot sin(\\omega t) & & \\,\\partial\\Omega_\\text{D}, \\\\\n",
        "u(\\boldsymbol{x}, t=0) &= u_0 & & \\text{in } \\, \\Omega,\n",
        "\\end{align*}\n",
        "$$\n",
        "where $k$ is the thermal conductivity, $\\rho$ is the density and $C_p$ is the \n",
        "is specific heat capacity.\n",
        "\n",
        "In this example, we assume computational domain is divided into \n",
        "two domains $\\Omega_{air}$ and $\\Omega_{wall}$. Within each domain\n",
        "we can define the thermal diffusivity of the medium $\\alpha$:\n",
        "$$\n",
        "\\begin{align*}\n",
        "\\alpha = \\frac{k}{\\rho C_p}\n",
        "\\end{align*}\n",
        "$$\n",
        "\n",
        "Examples of thermal diffusivity for four different materials:\n",
        "$$\\alpha_{air} = 19 \\cdot 10^{-6} \\, m^2/s$$\n",
        "$$\\alpha_{glass} = 0.34\t \\cdot 10^{-6} \\, m^2/s$$\n",
        "$$\\alpha_{brick} = 0.27 \\cdot 10^{-6} \\, m^2/s$$\n",
        "$$\\alpha_{wood} = 0.082 \\cdot 10^{-6} \\, m^2/s$$\n",
        "$$\\alpha_{steel} = 11.72 \\cdot 10^{-6} \\, m^2/s$$\n",
        "\n",
        "**Question**: Given unit square room $[1m \\times 1m]$, $0.1 m$ thick walls, and outside temperature given by $u_D$, which material should be used for the wall \n",
        "such that the temperature at the center of the room never drops below \n",
        "$10^oC$?"
      ]
    },
    {
      "cell_type": "markdown",
      "id": "48c0e2f6",
      "metadata": {
        "id": "48c0e2f6"
      },
      "source": [
        "**TASK 1**: Complete following code with the diffusivity of the wall \n",
        "(chosen from the above values). Then visualize the material distribution."
      ]
    },
    {
      "cell_type": "code",
      "execution_count": 40,
      "id": "d6bd684a",
      "metadata": {
        "lines_to_next_cell": 2,
        "colab": {
          "resources": {
            "http://localhost:8080/jupyter-threejs.js": {
              "data": "CjwhRE9DVFlQRSBodG1sPgo8aHRtbCBsYW5nPWVuPgogIDxtZXRhIGNoYXJzZXQ9dXRmLTg+CiAgPG1ldGEgbmFtZT12aWV3cG9ydCBjb250ZW50PSJpbml0aWFsLXNjYWxlPTEsIG1pbmltdW0tc2NhbGU9MSwgd2lkdGg9ZGV2aWNlLXdpZHRoIj4KICA8dGl0bGU+RXJyb3IgNDA0IChOb3QgRm91bmQpISExPC90aXRsZT4KICA8c3R5bGU+CiAgICAqe21hcmdpbjowO3BhZGRpbmc6MH1odG1sLGNvZGV7Zm9udDoxNXB4LzIycHggYXJpYWwsc2Fucy1zZXJpZn1odG1se2JhY2tncm91bmQ6I2ZmZjtjb2xvcjojMjIyO3BhZGRpbmc6MTVweH1ib2R5e21hcmdpbjo3JSBhdXRvIDA7bWF4LXdpZHRoOjM5MHB4O21pbi1oZWlnaHQ6MTgwcHg7cGFkZGluZzozMHB4IDAgMTVweH0qID4gYm9keXtiYWNrZ3JvdW5kOnVybCgvL3d3dy5nb29nbGUuY29tL2ltYWdlcy9lcnJvcnMvcm9ib3QucG5nKSAxMDAlIDVweCBuby1yZXBlYXQ7cGFkZGluZy1yaWdodDoyMDVweH1we21hcmdpbjoxMXB4IDAgMjJweDtvdmVyZmxvdzpoaWRkZW59aW5ze2NvbG9yOiM3Nzc7dGV4dC1kZWNvcmF0aW9uOm5vbmV9YSBpbWd7Ym9yZGVyOjB9QG1lZGlhIHNjcmVlbiBhbmQgKG1heC13aWR0aDo3NzJweCl7Ym9keXtiYWNrZ3JvdW5kOm5vbmU7bWFyZ2luLXRvcDowO21heC13aWR0aDpub25lO3BhZGRpbmctcmlnaHQ6MH19I2xvZ297YmFja2dyb3VuZDp1cmwoLy93d3cuZ29vZ2xlLmNvbS9pbWFnZXMvbG9nb3MvZXJyb3JwYWdlL2Vycm9yX2xvZ28tMTUweDU0LnBuZykgbm8tcmVwZWF0O21hcmdpbi1sZWZ0Oi01cHh9QG1lZGlhIG9ubHkgc2NyZWVuIGFuZCAobWluLXJlc29sdXRpb246MTkyZHBpKXsjbG9nb3tiYWNrZ3JvdW5kOnVybCgvL3d3dy5nb29nbGUuY29tL2ltYWdlcy9sb2dvcy9lcnJvcnBhZ2UvZXJyb3JfbG9nby0xNTB4NTQtMngucG5nKSBuby1yZXBlYXQgMCUgMCUvMTAwJSAxMDAlOy1tb3otYm9yZGVyLWltYWdlOnVybCgvL3d3dy5nb29nbGUuY29tL2ltYWdlcy9sb2dvcy9lcnJvcnBhZ2UvZXJyb3JfbG9nby0xNTB4NTQtMngucG5nKSAwfX1AbWVkaWEgb25seSBzY3JlZW4gYW5kICgtd2Via2l0LW1pbi1kZXZpY2UtcGl4ZWwtcmF0aW86Mil7I2xvZ297YmFja2dyb3VuZDp1cmwoLy93d3cuZ29vZ2xlLmNvbS9pbWFnZXMvbG9nb3MvZXJyb3JwYWdlL2Vycm9yX2xvZ28tMTUweDU0LTJ4LnBuZykgbm8tcmVwZWF0Oy13ZWJraXQtYmFja2dyb3VuZC1zaXplOjEwMCUgMTAwJX19I2xvZ297ZGlzcGxheTppbmxpbmUtYmxvY2s7aGVpZ2h0OjU0cHg7d2lkdGg6MTUwcHh9CiAgPC9zdHlsZT4KICA8YSBocmVmPS8vd3d3Lmdvb2dsZS5jb20vPjxzcGFuIGlkPWxvZ28gYXJpYS1sYWJlbD1Hb29nbGU+PC9zcGFuPjwvYT4KICA8cD48Yj40MDQuPC9iPiA8aW5zPlRoYXTigJlzIGFuIGVycm9yLjwvaW5zPgogIDxwPiAgPGlucz5UaGF04oCZcyBhbGwgd2Uga25vdy48L2lucz4K",
              "ok": false,
              "headers": [
                [
                  "content-length",
                  "1449"
                ],
                [
                  "content-type",
                  "text/html; charset=utf-8"
                ]
              ],
              "status": 404,
              "status_text": ""
            }
          },
          "base_uri": "https://localhost:8080/",
          "height": 789
        },
        "id": "d6bd684a",
        "outputId": "827bcdd4-bef4-4304-d288-421af797ca84"
      },
      "outputs": [
        {
          "output_type": "execute_result",
          "data": {
            "text/plain": [
              "<IPython.core.display.HTML object>"
            ],
            "text/html": [
              "<!DOCTYPE html>\n",
              "<html lang=\"en\">\n",
              "<head>\n",
              "    <meta charset=\"UTF-8\">\n",
              "    <title>PyVista</title>\n",
              "</head>\n",
              "<body>\n",
              "\n",
              "\n",
              "<!-- Load require.js. Delete this if your page already loads require.js -->\n",
              "<script src=\"https://cdnjs.cloudflare.com/ajax/libs/require.js/2.3.4/require.min.js\" integrity=\"sha256-Ae2Vz/4ePdIu6ZyI/5ZGsYnb+m0JlOmKPjt6XZ9JJkA=\" crossorigin=\"anonymous\"></script>\n",
              "<script src=\"https://unpkg.com/@jupyter-widgets/html-manager@^0.20.1/dist/embed-amd.js\" crossorigin=\"anonymous\"></script>\n",
              "\n",
              "<script type=\"application/vnd.jupyter.widget-state+json\">\n",
              "{\n",
              "  \"version_major\": 2,\n",
              "  \"version_minor\": 0,\n",
              "  \"state\": {\n",
              "    \"b3ac566dbd464eff849ae184b50b7e59\": {\n",
              "      \"model_name\": \"RendererModel\",\n",
              "      \"model_module\": \"jupyter-threejs\",\n",
              "      \"model_module_version\": \"^2.1.0\",\n",
              "      \"state\": {\n",
              "        \"_alpha\": true,\n",
              "        \"_dom_classes\": [],\n",
              "        \"_height\": 768,\n",
              "        \"_width\": 1024,\n",
              "        \"camera\": \"IPY_MODEL_8f9b93a974d74e4d8a4be53e611d1761\",\n",
              "        \"clearOpacity\": 0.0,\n",
              "        \"clippingPlanes\": [],\n",
              "        \"controls\": [\n",
              "          \"IPY_MODEL_30f2f80200044928bda3815f3ec111ff\"\n",
              "        ],\n",
              "        \"layout\": \"IPY_MODEL_a9be9b90be9e4742b52f70443c5bb607\",\n",
              "        \"scene\": \"IPY_MODEL_876276ccb9314884825a79fca8bf39f5\",\n",
              "        \"shadowMap\": \"IPY_MODEL_83d9d2f2757d4744b1326a67b1b562b6\"\n",
              "      }\n",
              "    },\n",
              "    \"8f9b93a974d74e4d8a4be53e611d1761\": {\n",
              "      \"model_name\": \"PerspectiveCameraModel\",\n",
              "      \"model_module\": \"jupyter-threejs\",\n",
              "      \"model_module_version\": \"^2.1.0\",\n",
              "      \"state\": {\n",
              "        \"aspect\": 1.3333333333333333,\n",
              "        \"children\": [\n",
              "          \"IPY_MODEL_694a1e6664004ebb9d2a5e74e083a910\",\n",
              "          \"IPY_MODEL_72acaa1d1cbd43dc95f64c4c63a1311a\",\n",
              "          \"IPY_MODEL_368adb74c81043ea94a00d83d7f81f09\",\n",
              "          \"IPY_MODEL_69dbbac6be1748d29f21bbea6086a5f3\",\n",
              "          \"IPY_MODEL_2730d0cd614547058d58724e7b0ae748\"\n",
              "        ],\n",
              "        \"far\": 273205.08075688774,\n",
              "        \"fov\": 30.0,\n",
              "        \"near\": 0.01,\n",
              "        \"position\": [\n",
              "          0.0,\n",
              "          0.0,\n",
              "          2.7320508075688776\n",
              "        ]\n",
              "      }\n",
              "    },\n",
              "    \"694a1e6664004ebb9d2a5e74e083a910\": {\n",
              "      \"model_name\": \"DirectionalLightModel\",\n",
              "      \"model_module\": \"jupyter-threejs\",\n",
              "      \"model_module_version\": \"^2.1.0\",\n",
              "      \"state\": {\n",
              "        \"children\": [],\n",
              "        \"intensity\": 0.25,\n",
              "        \"position\": [\n",
              "          0.0,\n",
              "          0.0,\n",
              "          100000.0\n",
              "        ],\n",
              "        \"shadow\": \"uninitialized\",\n",
              "        \"target\": \"uninitialized\"\n",
              "      }\n",
              "    },\n",
              "    \"72acaa1d1cbd43dc95f64c4c63a1311a\": {\n",
              "      \"model_name\": \"DirectionalLightModel\",\n",
              "      \"model_module\": \"jupyter-threejs\",\n",
              "      \"model_module_version\": \"^2.1.0\",\n",
              "      \"state\": {\n",
              "        \"children\": [],\n",
              "        \"color\": \"#fffcf4\",\n",
              "        \"intensity\": 0.75,\n",
              "        \"position\": [\n",
              "          11161.889704894966,\n",
              "          76604.4443118978,\n",
              "          63302.222155948904\n",
              "        ],\n",
              "        \"shadow\": \"uninitialized\",\n",
              "        \"target\": \"uninitialized\"\n",
              "      }\n",
              "    },\n",
              "    \"368adb74c81043ea94a00d83d7f81f09\": {\n",
              "      \"model_name\": \"DirectionalLightModel\",\n",
              "      \"model_module\": \"jupyter-threejs\",\n",
              "      \"model_module_version\": \"^2.1.0\",\n",
              "      \"state\": {\n",
              "        \"children\": [],\n",
              "        \"color\": \"#f5f7ff\",\n",
              "        \"intensity\": 0.25,\n",
              "        \"position\": [\n",
              "          -4494.345552754778,\n",
              "          -96592.58262890684,\n",
              "          25488.700224417877\n",
              "        ],\n",
              "        \"shadow\": \"uninitialized\",\n",
              "        \"target\": \"uninitialized\"\n",
              "      }\n",
              "    },\n",
              "    \"69dbbac6be1748d29f21bbea6086a5f3\": {\n",
              "      \"model_name\": \"DirectionalLightModel\",\n",
              "      \"model_module\": \"jupyter-threejs\",\n",
              "      \"model_module_version\": \"^2.1.0\",\n",
              "      \"state\": {\n",
              "        \"children\": [],\n",
              "        \"intensity\": 0.21428571428571427,\n",
              "        \"position\": [\n",
              "          93969.26207859084,\n",
              "          0.0,\n",
              "          -34202.01433256687\n",
              "        ],\n",
              "        \"shadow\": \"uninitialized\",\n",
              "        \"target\": \"uninitialized\"\n",
              "      }\n",
              "    },\n",
              "    \"2730d0cd614547058d58724e7b0ae748\": {\n",
              "      \"model_name\": \"DirectionalLightModel\",\n",
              "      \"model_module\": \"jupyter-threejs\",\n",
              "      \"model_module_version\": \"^2.1.0\",\n",
              "      \"state\": {\n",
              "        \"children\": [],\n",
              "        \"intensity\": 0.21428571428571427,\n",
              "        \"position\": [\n",
              "          -93969.26207859084,\n",
              "          0.0,\n",
              "          -34202.01433256687\n",
              "        ],\n",
              "        \"shadow\": \"uninitialized\",\n",
              "        \"target\": \"uninitialized\"\n",
              "      }\n",
              "    },\n",
              "    \"30f2f80200044928bda3815f3ec111ff\": {\n",
              "      \"model_name\": \"OrbitControlsModel\",\n",
              "      \"model_module\": \"jupyter-threejs\",\n",
              "      \"model_module_version\": \"^2.1.0\",\n",
              "      \"state\": {\n",
              "        \"controlling\": \"IPY_MODEL_8f9b93a974d74e4d8a4be53e611d1761\",\n",
              "        \"maxAzimuthAngle\": 1e+20,\n",
              "        \"maxDistance\": 1e+20,\n",
              "        \"maxZoom\": 1e+20,\n",
              "        \"minAzimuthAngle\": -1e+20\n",
              "      }\n",
              "    },\n",
              "    \"a9be9b90be9e4742b52f70443c5bb607\": {\n",
              "      \"model_name\": \"LayoutModel\",\n",
              "      \"model_module\": \"@jupyter-widgets/base\",\n",
              "      \"model_module_version\": \"1.2.0\",\n",
              "      \"state\": {}\n",
              "    },\n",
              "    \"876276ccb9314884825a79fca8bf39f5\": {\n",
              "      \"model_name\": \"SceneModel\",\n",
              "      \"model_module\": \"jupyter-threejs\",\n",
              "      \"model_module_version\": \"^2.1.0\",\n",
              "      \"state\": {\n",
              "        \"background\": \"#4c4c4c\",\n",
              "        \"children\": [\n",
              "          \"IPY_MODEL_95201c8b5a1a427891364ece78471c6a\",\n",
              "          \"IPY_MODEL_c9d98e3a30974294b8a8d24eb678773c\",\n",
              "          \"IPY_MODEL_8f9b93a974d74e4d8a4be53e611d1761\"\n",
              "        ],\n",
              "        \"fog\": null,\n",
              "        \"overrideMaterial\": null\n",
              "      }\n",
              "    },\n",
              "    \"95201c8b5a1a427891364ece78471c6a\": {\n",
              "      \"model_name\": \"LineSegmentsModel\",\n",
              "      \"model_module\": \"jupyter-threejs\",\n",
              "      \"model_module_version\": \"^2.1.0\",\n",
              "      \"state\": {\n",
              "        \"children\": [],\n",
              "        \"geometry\": \"IPY_MODEL_4c812494c2b34c84be6e62b444aaa693\",\n",
              "        \"material\": \"IPY_MODEL_aa1847a1ae8a4425ab2f3557c0eff2d6\",\n",
              "        \"position\": [\n",
              "          -0.5,\n",
              "          -0.5,\n",
              "          -0.0\n",
              "        ]\n",
              "      }\n",
              "    },\n",
              "    \"4c812494c2b34c84be6e62b444aaa693\": {\n",
              "      \"model_name\": \"BufferGeometryModel\",\n",
              "      \"model_module\": \"jupyter-threejs\",\n",
              "      \"model_module_version\": \"^2.1.0\",\n",
              "      \"state\": {\n",
              "        \"_ref_geometry\": null,\n",
              "        \"attributes\": {\n",
              "          \"position\": \"IPY_MODEL_5ea9e5b4d2974abfb691110a25cfe064\",\n",
              "          \"index\": \"IPY_MODEL_65f1c0c3cd7d422e829d546fa30b1b44\"\n",
              "        },\n",
              "        \"index\": null,\n",
              "        \"morphAttributes\": {},\n",
              "        \"userData\": {}\n",
              "      }\n",
              "    },\n",
              "    \"5ea9e5b4d2974abfb691110a25cfe064\": {\n",
              "      \"model_name\": \"BufferAttributeModel\",\n",
              "      \"model_module\": \"jupyter-threejs\",\n",
              "      \"model_module_version\": \"^2.1.0\",\n",
              "      \"state\": {\n",
              "        \"array\": {\n",
              "          \"shape\": [\n",
              "            441,\n",
              "            3\n",
              "          ],\n",
              "          \"dtype\": \"float32\"\n",
              "        }\n",
              "      },\n",
              "      \"buffers\": [\n",
              "        {\n",
              "          \"encoding\": \"base64\",\n",
              "          \"path\": [\n",
              "            \"array\",\n",
              "            \"buffer\"\n",
              "          ],\n",
              "          \"data\": \"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\"\n",
              "        }\n",
              "      ]\n",
              "    },\n",
              "    \"65f1c0c3cd7d422e829d546fa30b1b44\": {\n",
              "      \"model_name\": \"BufferAttributeModel\",\n",
              "      \"model_module\": \"jupyter-threejs\",\n",
              "      \"model_module_version\": \"^2.1.0\",\n",
              "      \"state\": {\n",
              "        \"array\": {\n",
              "          \"shape\": [\n",
              "            1680\n",
              "          ],\n",
              "          \"dtype\": \"uint16\"\n",
              "        }\n",
              "      },\n",
              "      \"buffers\": [\n",
              "        {\n",
              "          \"encoding\": \"base64\",\n",
              "          \"path\": [\n",
              "            \"array\",\n",
              "            \"buffer\"\n",
              "          ],\n",
              "          \"data\": \"AAABAAEAAgACAAMAAwAAAAEABAAEAAUABQACAAIABgAGAAcABwADAAQACAAIAAkACQAFAAUACgAKAAYABgALAAsADAAMAAcACAANAA0ADgAOAAkACQAPAA8ACgAKABAAEAALAAsAEQARABIAEgAMAA0AEwATABQAFAAOAA4AFQAVAA8ADwAWABYAEAAQABcAFwARABEAGAAYABkAGQASABMAGgAaABsAGwAUABQAHAAcABUAFQAdAB0AFgAWAB4AHgAXABcAHwAfABgAGAAgACAAIQAhABkAGgAiACIAIwAjABsAGwAkACQAHAAcACUAJQAdAB0AJgAmAB4AHgAnACcAHwAfACgAKAAgACAAKQApACoAKgAhACIAKwArACwALAAjACMALQAtACQAJAAuAC4AJQAlAC8ALwAmACYAMAAwACcAJwAxADEAKAAoADIAMgApACkAMwAzADQANAAqACsANQA1ADYANgAsACwANwA3AC0ALQA4ADgALgAuADkAOQAvAC8AOgA6ADAAMAA7ADsAMQAxADwAPAAyADIAPQA9ADMAMwA+AD4APwA/ADQANQBAAEAAQQBBADYANgBCAEIANwA3AEMAQwA4ADgARABEADkAOQBFAEUAOgA6AEYARgA7ADsARwBHADwAPABIAEgAPQA9AEkASQA+AD4ASgBKAEsASwA/AEAATABMAE0ATQBBAEEATgBOAEIAQgBPAE8AQwBDAFAAUABEAEQAUQBRAEUARQBSAFIARgBGAFMAUwBHAEcAVABUAEgASABVAFUASQBJAFYAVgBKAEoAVwBXAFgAWABLAEwAWQBZAFoAWgBNAE0AWwBbAE4ATgBcAFwATwBPAF0AXQBQAFAAXgBeAFEAUQBfAF8AUgBSAGAAYABTAFMAYQBhAFQAVABiAGIAVQBVAGMAYwBWAFYAZABkAFcAVwBlAGUAZgBmAFgAWQBnAGcAaABoAFoAWgBpAGkAWwBbAGoAagBcAFwAawBrAF0AXQBsAGwAXgBeAG0AbQBfAF8AbgBuAGAAYABvAG8AYQBhAHAAcABiAGIAcQBxAGMAYwByAHIAZABkAHMAcwBlAGUAdAB0AHUAdQBmAGcAdgB2AHcAdwBoAGgAeAB4AGkAaQB5AHkAagBqAHoAegBrAGsAewB7AGwAbAB8AHwAbQBtAH0AfQBuAG4AfgB+AG8AbwB/AH8AcABwAIAAgABxAHEAgQCBAHIAcgCCAIIAcwBzAIMAgwB0AHQAhACEAIUAhQB1AHYAhgCGAIcAhwB3AHcAiACIAHgAeACJAIkAeQB5AIoAigB6AHoAiwCLAHsAewCMAIwAfAB8AI0AjQB9AH0AjgCOAH4AfgCPAI8AfwB/AJAAkACAAIAAkQCRAIEAgQCSAJIAggCCAJMAkwCDAIMAlACUAIQAhACVAJUAlgCWAIUAhgCXAJcAmACYAIcAhwCZAJkAiACIAJoAmgCJAIkAmwCbAIoAigCcAJwAiwCLAJ0AnQCMAIwAngCeAI0AjQCfAJ8AjgCOAKAAoACPAI8AoQChAJAAkACiAKIAkQCRAKMAowCSAJIApACkAJMAkwClAKUAlACUAKYApgCVAJUApwCnAKgAqACWAJcAqQCpAKoAqgCYAJgAqwCrAJkAmQCsAKwAmgCaAK0ArQCbAJsArgCuAJwAnACvAK8AnQCdALAAsACeAJ4AsQCxAJ8AnwCyALIAoACgALMAswChAKEAtAC0AKIAogC1ALUAowCjALYAtgCkAKQAtwC3AKUApQC4ALgApgCmALkAuQCnAKcAugC6ALsAuwCoAKkAvAC8AL0AvQCqAKoAvgC+AKsAqwC/AL8ArACsAMAAwACtAK0AwQDBAK4ArgDCAMIArwCvAMMAwwCwALAAxADEALEAsQDFAMUAsgCyAMYAxgCzALMAxwDHALQAtADIAMgAtQC1AMkAyQC2ALYAygDKALcAtwDLAMsAuAC4AMwAzAC5ALkAzQDNALoAugDOAM4AzwDPALsAvADQANAA0QDRAL0AvQDSANIAvgC+ANMA0wC/AL8A1ADUAMAAwADVANUAwQDBANYA1gDCAMIA1wDXAMMAwwDYANgAxADEANkA2QDFAMUA2gDaAMYAxgDbANsAxwDHANwA3ADIAMgA3QDdAMkAyQDeAN4AygDKAN8A3wDLAMsA4ADgAMwAzADhAOEAzQDNAOIA4gDOAM4A4wDjAOQA5ADPANAA5QDlAOYA5gDRANEA5wDnANIA0gDoAOgA0wDTAOkA6QDUANQA6gDqANUA1QDrAOsA1gDWAOwA7ADXANcA7QDtANgA2ADuAO4A2QDZAO8A7wDaANoA8ADwANsA2wDxAPEA3ADcAPIA8gDdAN0A8wDzAN4A3gD0APQA3wDfAPUA9QDgAOAA9gD2AOEA4QD3APcA4gDiAPgA+ADjAOMA+QD5APoA+gDkAOYA+wD7AOcA5wD8APwA6ADoAP0A/QDpAOkA/gD+AOoA6gD/AP8A6wDrAAABAAHsAOwAAQEBAe0A7QACAQIB7gDuAAMBAwHvAO8ABAEEAfAA8AAFAQUB8QDxAAYBBgHyAPIABwEHAfMA8wAIAQgB9AD0AAkBCQH1APUACgEKAfYA9gALAQsB9wD3AAwBDAH4APgADQENAfkA+wAOAQ4B/AD8AA8BDwH9AP0AEAEQAf4A/gARAREB/wD/ABIBEgEAAQABEwETAQEBAQEUARQBAgECARUBFQEDAQMBFgEWAQQBBAEXARcBBQEFARgBGAEGAQYBGQEZAQcBBwEaARoBCAEIARsBGwEJAQkBHAEcAQoBCgEdAR0BCwELAR4BHgEMAQwBHwEfAQ0BDgEgASABDwEPASEBIQEQARABIgEiAREBEQEjASMBEgESASQBJAETARMBJQElARQBFAEmASYBFQEVAScBJwEWARYBKAEoARcBFwEpASkBGAEYASoBKgEZARkBKwErARoBGgEsASwBGwEbAS0BLQEcARwBLgEuAR0BHQEvAS8BHgEeATABMAEfASABMQExASEBIQEyATIBIgEiATMBMwEjASMBNAE0ASQBJAE1ATUBJQElATYBNgEmASYBNwE3AScBJwE4ATgBKAEoATkBOQEpASkBOgE6ASoBKgE7ATsBKwErATwBPAEsASwBPQE9AS0BLQE+AT4BLgEuAT8BPwEvAS8BQAFAATABMQFBAUEBMgEyAUIBQgEzATMBQwFDATQBNAFEAUQBNQE1AUUBRQE2ATYBRgFGATcBNwFHAUcBOAE4AUgBSAE5ATkBSQFJAToBOgFKAUoBOwE7AUsBSwE8ATwBTAFMAT0BPQFNAU0BPgE+AU4BTgE/AT8BTwFPAUABQQFQAVABQgFCAVEBUQFDAUMBUgFSAUQBRAFTAVMBRQFFAVQBVAFGAUYBVQFVAUcBRwFWAVYBSAFIAVcBVwFJAUkBWAFYAUoBSgFZAVkBSwFLAVoBWgFMAUwBWwFbAU0BTQFcAVwBTgFOAV0BXQFPAVABXgFeAVEBUQFfAV8BUgFSAWABYAFTAVMBYQFhAVQBVAFiAWIBVQFVAWMBYwFWAVYBZAFkAVcBVwFlAWUBWAFYAWYBZgFZAVkBZwFnAVoBWgFoAWgBWwFbAWkBaQFcAVwBagFqAV0BXgFrAWsBXwFfAWwBbAFgAWABbQFtAWEBYQFuAW4BYgFiAW8BbwFjAWMBcAFwAWQBZAFxAXEBZQFlAXIBcgFmAWYBcwFzAWcBZwF0AXQBaAFoAXUBdQFpAWkBdgF2AWoBawF3AXcBbAFsAXgBeAFtAW0BeQF5AW4BbgF6AXoBbwFvAXsBewFwAXABfAF8AXEBcQF9AX0BcgFyAX4BfgFzAXMBfwF/AXQBdAGAAYABdQF1AYEBgQF2AXcBggGCAXgBeAGDAYMBeQF5AYQBhAF6AXoBhQGFAXsBewGGAYYBfAF8AYcBhwF9AX0BiAGIAX4BfgGJAYkBfwF/AYoBigGAAYABiwGLAYEBggGMAYwBgwGDAY0BjQGEAYQBjgGOAYUBhQGPAY8BhgGGAZABkAGHAYcBkQGRAYgBiAGSAZIBiQGJAZMBkwGKAYoBlAGUAYsBjAGVAZUBjQGNAZYBlgGOAY4BlwGXAY8BjwGYAZgBkAGQAZkBmQGRAZEBmgGaAZIBkgGbAZsBkwGTAZwBnAGUAZUBnQGdAZYBlgGeAZ4BlwGXAZ8BnwGYAZgBoAGgAZkBmQGhAaEBmgGaAaIBogGbAZsBowGjAZwBnQGkAaQBngGeAaUBpQGfAZ8BpgGmAaABoAGnAacBoQGhAagBqAGiAaIBqQGpAaMBpAGqAaoBpQGlAasBqwGmAaYBrAGsAacBpwGtAa0BqAGoAa4BrgGpAaoBrwGvAasBqwGwAbABrAGsAbEBsQGtAa0BsgGyAa4BrwGzAbMBsAGwAbQBtAGxAbEBtQG1AbIBswG2AbYBtAG0AbcBtwG1AbYBuAG4AbcB\"\n",
              "        }\n",
              "      ]\n",
              "    },\n",
              "    \"aa1847a1ae8a4425ab2f3557c0eff2d6\": {\n",
              "      \"model_name\": \"LineBasicMaterialModel\",\n",
              "      \"model_module\": \"jupyter-threejs\",\n",
              "      \"model_module_version\": \"^2.1.0\",\n",
              "      \"state\": {\n",
              "        \"clippingPlanes\": [],\n",
              "        \"color\": \"#000000\",\n",
              "        \"defines\": null,\n",
              "        \"vertexColors\": \"FaceColors\"\n",
              "      }\n",
              "    },\n",
              "    \"c9d98e3a30974294b8a8d24eb678773c\": {\n",
              "      \"model_name\": \"MeshModel\",\n",
              "      \"model_module\": \"jupyter-threejs\",\n",
              "      \"model_module_version\": \"^2.1.0\",\n",
              "      \"state\": {\n",
              "        \"children\": [],\n",
              "        \"geometry\": \"IPY_MODEL_de71d36d9968467fbc7969aad771ca40\",\n",
              "        \"material\": \"IPY_MODEL_60947744c5104da7b9fe50d7c95525fd\",\n",
              "        \"morphTargetInfluences\": [],\n",
              "        \"position\": [\n",
              "          -0.5,\n",
              "          -0.5,\n",
              "          -0.0\n",
              "        ]\n",
              "      }\n",
              "    },\n",
              "    \"de71d36d9968467fbc7969aad771ca40\": {\n",
              "      \"model_name\": \"BufferGeometryModel\",\n",
              "      \"model_module\": \"jupyter-threejs\",\n",
              "      \"model_module_version\": \"^2.1.0\",\n",
              "      \"state\": {\n",
              "        \"_ref_geometry\": null,\n",
              "        \"attributes\": {\n",
              "          \"position\": \"IPY_MODEL_be330b78c15c42af95a78d11fad9bdd5\",\n",
              "          \"color\": \"IPY_MODEL_544227e83a6e4477a2491174a4d6dfc4\"\n",
              "        },\n",
              "        \"index\": null,\n",
              "        \"morphAttributes\": {},\n",
              "        \"userData\": {}\n",
              "      }\n",
              "    },\n",
              "    \"be330b78c15c42af95a78d11fad9bdd5\": {\n",
              "      \"model_name\": \"BufferAttributeModel\",\n",
              "      \"model_module\": \"jupyter-threejs\",\n",
              "      \"model_module_version\": \"^2.1.0\",\n",
              "      \"state\": {\n",
              "        \"array\": {\n",
              "          \"shape\": [\n",
              "            800,\n",
              "            3,\n",
              "            3\n",
              "          ],\n",
              "          \"dtype\": \"float32\"\n",
              "        }\n",
              "      },\n",
              "      \"buffers\": [\n",
              "        {\n",
              "          \"encoding\": \"base64\",\n",
              "          \"path\": [\n",
              "            \"array\",\n",
              "            \"buffer\"\n",
              "          ],\n",
              "          \"data\": \"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\"\n",
              "        }\n",
              "      ]\n",
              "    },\n",
              "    \"544227e83a6e4477a2491174a4d6dfc4\": {\n",
              "      \"model_name\": \"BufferAttributeModel\",\n",
              "      \"model_module\": \"jupyter-threejs\",\n",
              "      \"model_module_version\": \"^2.1.0\",\n",
              "      \"state\": {\n",
              "        \"array\": {\n",
              "          \"shape\": [\n",
              "            2400,\n",
              "            3\n",
              "          ],\n",
              "          \"dtype\": \"float32\"\n",
              "        }\n",
              "      },\n",
              "      \"buffers\": [\n",
              "        {\n",
              "          \"encoding\": \"base64\",\n",
              "          \"path\": [\n",
              "            \"array\",\n",
              "            \"buffer\"\n",
              "          ],\n",
              "          \"data\": \"iYiIPoGAgDupqKg+iYiIPoGAgDupqKg+iYiIPoGAgDupqKg+iYiIPoGAgDupqKg+iYiIPoGAgDupqKg+iYiIPoGAgDupqKg+iYiIPoGAgDupqKg+iYiIPoGAgDupqKg+iYiIPoGAgDupqKg+iYiIPoGAgDupqKg+iYiIPoGAgDupqKg+iYiIPoGAgDupqKg+iYiIPoGAgDupqKg+iYiIPoGAgDupqKg+iYiIPoGAgDupqKg+iYiIPoGAgDupqKg+iYiIPoGAgDupqKg+iYiIPoGAgDupqKg+iYiIPoGAgDupqKg+iYiIPoGAgDupqKg+iYiIPoGAgDupqKg+iYiIPoGAgDupqKg+iYiIPoGAgDupqKg+iYiIPoGAgDupqKg+iYiIPoGAgDupqKg+iYiIPoGAgDupqKg+iYiIPoGAgDupqKg+iYiIPoGAgDupqKg+iYiIPoGAgDupqKg+iYiIPoGAgDupqKg+iYiIPoGAgDupqKg+iYiIPoGAgDupqKg+iYiIPoGAgDupqKg+iYiIPoGAgDupqKg+iYiIPoGAgDupqKg+iYiIPoGAgDupqKg+iYiIPoGAgDupqKg+iYiIPoGAgDupqKg+iYiIPoGAgDupqKg+iYiIPoGAgDupqKg+iYiIPoGAgDupqKg+iYiIPoGAgDupqKg+iYiIPoGAgDupqKg+iYiIPoGAgDupqKg+iYiIPoGAgDupqKg+iYiIPoGAgDupqKg+iYiIPoGAgDupqKg+iYiIPoGAgDupqKg+iYiIPoGAgDupqKg+iYiIPoGAgDupqKg+iYiIPoGAgDupqKg+iYiIPoGAgDupqKg+iYiIPoGAgDupqKg+iYiIPoGAgDupqKg+iYiIPoGAgDupqKg+iYiIPoGAgDupqKg+iYiIPoGAgDupqKg+iYiIPoGAgDupqKg+iYiIPoGAgDupqKg+iYiIPoGAgDupqKg+iYiIPoGAgDupqKg+iYiIPoGAgDupqKg+iYiIPoGAgDupqKg+iYiIPoGAgDupqKg+iYiIPoGAgDupqKg+iYiIPoGAgDupqKg+iYiIPoGAgDupqKg+iYiIPoGAgDupqKg+iYiIPoGAgDupqKg+iYiIPoGAgDupqKg+iYiIPoGAgDupqKg+iYiIPoGAgDupqKg+/v19P+jnZz+RkBA+/v19P+jnZz+RkBA+/v19P+jnZz+RkBA+/v19P+jnZz+RkBA+/v19P+jnZz+RkBA+/v19P+jnZz+RkBA+iYiIPoGAgDupqKg+iYiIPoGAgDupqKg+iYiIPoGAgDupqKg+iYiIPoGAgDupqKg+iYiIPoGAgDupqKg+iYiIPoGAgDupqKg+iYiIPoGAgDupqKg+iYiIPoGAgDupqKg+iYiIPoGAgDupqKg+iYiIPoGAgDupqKg+iYiIPoGAgDupqKg+iYiIPoGAgDupqKg+iYiIPoGAgDupqKg+iYiIPoGAgDupqKg+iYiIPoGAgDupqKg+iYiIPoGAgDupqKg+iYiIPoGAgDupqKg+iYiIPoGAgDupqKg+iYiIPoGAgDupqKg+iYiIPoGAgDupqKg+iYiIPoGAgDupqKg+iYiIPoGAgDupqKg+iYiIPoGAgDupqKg+iYiIPoGAgDupqKg+/v19P+jnZz+RkBA+/v19P+jnZz+RkBA+/v19P+jnZz+RkBA+/v19P+jnZz+RkBA+/v19P+jnZz+RkBA+/v19P+jnZz+RkBA+/v19P+jnZz+RkBA+/v19P+jnZz+RkBA+/v19P+jnZz+RkBA+/v19P+jnZz+RkBA+/v19P+jnZz+RkBA+/v19P+jnZz+RkBA+iYiIPoGAgDupqKg+iYiIPoGAgDupqKg+iYiIPoGAgDupqKg+iYiIPoGAgDupqKg+iYiIPoGAgDupqKg+iYiIPoGAgDupqKg+iYiIPoGAgDupqKg+iYiIPoGAgDupqKg+iYiIPoGAgDupqKg+iYiIPoGAgDupqKg+iYiIPoGAgDupqKg+iYiIPoGAgDupqKg+iYiIPoGAgDupqKg+iYiIPoGAgDupqKg+iYiIPoGAgDupqKg+iYiIPoGAgDupqKg+iYiIPoGAgDupqKg+iYiIPoGAgDupqKg+iYiIPoGAgDupqKg+iYiIPoGAgDupqKg+iYiIPoGAgDupqKg+iYiIPoGAgDupqKg+iYiIPoGAgDupqKg+iYiIPoGAgDupqKg+/v19P+jnZz+RkBA+/v19P+jnZz+RkBA+/v19P+jnZz+RkBA+/v19P+jnZz+RkBA+/v19P+jnZz+RkBA+/v19P+jnZz+RkBA+/v19P+jnZz+RkBA+/v19P+jnZz+RkBA+/v19P+jnZz+RkBA+/v19P+jnZz+RkBA+/v19P+jnZz+RkBA+/v19P+jnZz+RkBA+/v19P+jnZz+RkBA+/v19P+jnZz+RkBA+/v19P+jnZz+RkBA+/v19P+jnZz+RkBA+/v19P+jnZz+RkBA+/v19P+jnZz+RkBA+iYiIPoGAgDupqKg+iYiIPoGAgDupqKg+iYiIPoGAgDupqKg+iYiIPoGAgDupqKg+iYiIPoGAgDupqKg+iYiIPoGAgDupqKg+iYiIPoGAgDupqKg+iYiIPoGAgDupqKg+iYiIPoGAgDupqKg+iYiIPoGAgDupqKg+iYiIPoGAgDupqKg+iYiIPoGAgDupqKg+iYiIPoGAgDupqKg+iYiIPoGAgDupqKg+iYiIPoGAgDupqKg+iYiIPoGAgDupqKg+iYiIPoGAgDupqKg+iYiIPoGAgDupqKg+iYiIPoGAgDupqKg+iYiIPoGAgDupqKg+iYiIPoGAgDupqKg+iYiIPoGAgDupqKg+iYiIPoGAgDupqKg+iYiIPoGAgDupqKg+/v19P+jnZz+RkBA+/v19P+jnZz+RkBA+/v19P+jnZz+RkBA+/v19P+jnZz+RkBA+/v19P+jnZz+RkBA+/v19P+jnZz+RkBA+/v19P+jnZz+RkBA+/v19P+jnZz+RkBA+/v19P+jnZz+RkBA+/v19P+jnZz+RkBA+/v19P+jnZz+RkBA+/v19P+jnZz+RkBA+/v19P+jnZz+RkBA+/v19P+jnZz+RkBA+/v19P+jnZz+RkBA+/v19P+jnZz+RkBA+/v19P+jnZz+RkBA+/v19P+jnZz+RkBA+/v19P+jnZz+RkBA+/v19P+jnZz+RkBA+/v19P+jnZz+RkBA+/v19P+jnZz+RkBA+/v19P+jnZz+RkBA+/v19P+jnZz+RkBA+iYiIPoGAgDupqKg+iYiIPoGAgDupqKg+iYiIPoGAgDupqKg+iYiIPoGAgDupqKg+iYiIPoGAgDupqKg+iYiIPoGAgDupqKg+iYiIPoGAgDupqKg+iYiIPoGAgDupqKg+iYiIPoGAgDupqKg+iYiIPoGAgDupqKg+iYiIPoGAgDupqKg+iYiIPoGAgDupqKg+iYiIPoGAgDupqKg+iYiIPoGAgDupqKg+iYiIPoGAgDupqKg+iYiIPoGAgDupqKg+iYiIPoGAgDupqKg+iYiIPoGAgDupqKg+iYiIPoGAgDupqKg+iYiIPoGAgDupqKg+iYiIPoGAgDupqKg+iYiIPoGAgDupqKg+iYiIPoGAgDupqKg+iYiIPoGAgDupqKg+/v19P+jnZz+RkBA+/v19P+jnZz+RkBA+/v19P+jnZz+RkBA+/v19P+jnZz+RkBA+/v19P+jnZz+RkBA+/v19P+jnZz+RkBA+/v19P+jnZz+RkBA+/v19P+jnZz+RkBA+/v19P+jnZz+RkBA+/v19P+jnZz+RkBA+/v19P+jnZz+RkBA+/v19P+jnZz+RkBA+/v19P+jnZz+RkBA+/v19P+jnZz+RkBA+/v19P+jnZz+RkBA+/v19P+jnZz+RkBA+/v19P+jnZz+RkBA+/v19P+jnZz+RkBA+/v19P+jnZz+RkBA+/v19P+jnZz+RkBA+/v19P+jnZz+RkBA+/v19P+jnZz+RkBA+/v19P+jnZz+RkBA+/v19P+jnZz+RkBA+/v19P+jnZz+RkBA+/v19P+jnZz+RkBA+/v19P+jnZz+RkBA+/v19P+jnZz+RkBA+/v19P+jnZz+RkBA+/v19P+jnZz+RkBA+iYiIPoGAgDupqKg+iYiIPoGAgDupqKg+iYiIPoGAgDupqKg+iYiIPoGAgDupqKg+iYiIPoGAgDupqKg+iYiIPoGAgDupqKg+iYiIPoGAgDupqKg+iYiIPoGAgDupqKg+iYiIPoGAgDupqKg+iYiIPoGAgDupqKg+iYiIPoGAgDupqKg+iYiIPoGAgDupqKg+iYiIPoGAgDupqKg+iYiIPoGAgDupqKg+iYiIPoGAgDupqKg+iYiIPoGAgDupqKg+iYiIPoGAgDupqKg+iYiIPoGAgDupqKg+iYiIPoGAgDupqKg+iYiIPoGAgDupqKg+iYiIPoGAgDupqKg+iYiIPoGAgDupqKg+iYiIPoGAgDupqKg+iYiIPoGAgDupqKg+/v19P+jnZz+RkBA+/v19P+jnZz+RkBA+/v19P+jnZz+RkBA+/v19P+jnZz+RkBA+/v19P+jnZz+RkBA+/v19P+jnZz+RkBA+/v19P+jnZz+RkBA+/v19P+jnZz+RkBA+/v19P+jnZz+RkBA+/v19P+jnZz+RkBA+/v19P+jnZz+RkBA+/v19P+jnZz+RkBA+/v19P+jnZz+RkBA+/v19P+jnZz+RkBA+/v19P+jnZz+RkBA+/v19P+jnZz+RkBA+/v19P+jnZz+RkBA+/v19P+jnZz+RkBA+/v19P+jnZz+RkBA+/v19P+jnZz+RkBA+/v19P+jnZz+RkBA+/v19P+jnZz+RkBA+/v19P+jnZz+RkBA+/v19P+jnZz+RkBA+/v19P+jnZz+RkBA+/v19P+jnZz+RkBA+/v19P+jnZz+RkBA+/v19P+jnZz+RkBA+/v19P+jnZz+RkBA+/v19P+jnZz+RkBA+/v19P+jnZz+RkBA+/v19P+jnZz+RkBA+/v19P+jnZz+RkBA+/v19P+jnZz+RkBA+/v19P+jnZz+RkBA+/v19P+jnZz+RkBA+iYiIPoGAgDupqKg+iYiIPoGAgDupqKg+iYiIPoGAgDupqKg+iYiIPoGAgDupqKg+iYiIPoGAgDupqKg+iYiIPoGAgDupqKg+iYiIPoGAgDupqKg+iYiIPoGAgDupqKg+iYiIPoGAgDupqKg+iYiIPoGAgDupqKg+iYiIPoGAgDupqKg+iYiIPoGAgDupqKg+iYiIPoGAgDupqKg+iYiIPoGAgDupqKg+iYiIPoGAgDupqKg+iYiIPoGAgDupqKg+iYiIPoGAgDupqKg+iYiIPoGAgDupqKg+iYiIPoGAgDupqKg+iYiIPoGAgDupqKg+iYiIPoGAgDupqKg+iYiIPoGAgDupqKg+iYiIPoGAgDupqKg+iYiIPoGAgDupqKg+/v19P+jnZz+RkBA+/v19P+jnZz+RkBA+/v19P+jnZz+RkBA+/v19P+jnZz+RkBA+/v19P+jnZz+RkBA+/v19P+jnZz+RkBA+/v19P+jnZz+RkBA+/v19P+jnZz+RkBA+/v19P+jnZz+RkBA+/v19P+jnZz+RkBA+/v19P+jnZz+RkBA+/v19P+jnZz+RkBA+/v19P+jnZz+RkBA+/v19P+jnZz+RkBA+/v19P+jnZz+RkBA+/v19P+jnZz+RkBA+/v19P+jnZz+RkBA+/v19P+jnZz+RkBA+/v19P+jnZz+RkBA+/v19P+jnZz+RkBA+/v19P+jnZz+RkBA+/v19P+jnZz+RkBA+/v19P+jnZz+RkBA+/v19P+jnZz+RkBA+/v19P+jnZz+RkBA+/v19P+jnZz+RkBA+/v19P+jnZz+RkBA+/v19P+jnZz+RkBA+/v19P+jnZz+RkBA+/v19P+jnZz+RkBA+/v19P+jnZz+RkBA+/v19P+jnZz+RkBA+/v19P+jnZz+RkBA+/v19P+jnZz+RkBA+/v19P+jnZz+RkBA+/v19P+jnZz+RkBA+/v19P+jnZz+RkBA+/v19P+jnZz+RkBA+/v19P+jnZz+RkBA+/v19P+jnZz+RkBA+/v19P+jnZz+RkBA+/v19P+jnZz+RkBA+iYiIPoGAgDupqKg+iYiIPoGAgDupqKg+iYiIPoGAgDupqKg+iYiIPoGAgDupqKg+iYiIPoGAgDupqKg+iYiIPoGAgDupqKg+iYiIPoGAgDupqKg+iYiIPoGAgDupqKg+iYiIPoGAgDupqKg+iYiIPoGAgDupqKg+iYiIPoGAgDupqKg+iYiIPoGAgDupqKg+iYiIPoGAgDupqKg+iYiIPoGAgDupqKg+iYiIPoGAgDupqKg+iYiIPoGAgDupqKg+iYiIPoGAgDupqKg+iYiIPoGAgDupqKg+iYiIPoGAgDupqKg+iYiIPoGAgDupqKg+iYiIPoGAgDupqKg+iYiIPoGAgDupqKg+iYiIPoGAgDupqKg+iYiIPoGAgDupqKg+/v19P+jnZz+RkBA+/v19P+jnZz+RkBA+/v19P+jnZz+RkBA+/v19P+jnZz+RkBA+/v19P+jnZz+RkBA+/v19P+jnZz+RkBA+/v19P+jnZz+RkBA+/v19P+jnZz+RkBA+/v19P+jnZz+RkBA+/v19P+jnZz+RkBA+/v19P+jnZz+RkBA+/v19P+jnZz+RkBA+/v19P+jnZz+RkBA+/v19P+jnZz+RkBA+/v19P+jnZz+RkBA+/v19P+jnZz+RkBA+/v19P+jnZz+RkBA+/v19P+jnZz+RkBA+/v19P+jnZz+RkBA+/v19P+jnZz+RkBA+/v19P+jnZz+RkBA+/v19P+jnZz+RkBA+/v19P+jnZz+RkBA+/v19P+jnZz+RkBA+/v19P+jnZz+RkBA+/v19P+jnZz+RkBA+/v19P+jnZz+RkBA+/v19P+jnZz+RkBA+/v19P+jnZz+RkBA+/v19P+jnZz+RkBA+/v19P+jnZz+RkBA+/v19P+jnZz+RkBA+/v19P+jnZz+RkBA+/v19P+jnZz+RkBA+/v19P+jnZz+RkBA+/v19P+jnZz+RkBA+/v19P+jnZz+RkBA+/v19P+jnZz+RkBA+/v19P+jnZz+RkBA+/v19P+jnZz+RkBA+/v19P+jnZz+RkBA+/v19P+jnZz+RkBA+/v19P+jnZz+RkBA+/v19P+jnZz+RkBA+/v19P+jnZz+RkBA+/v19P+jnZz+RkBA+/v19P+jnZz+RkBA+/v19P+jnZz+RkBA+iYiIPoGAgDupqKg+iYiIPoGAgDupqKg+iYiIPoGAgDupqKg+iYiIPoGAgDupqKg+iYiIPoGAgDupqKg+iYiIPoGAgDupqKg+iYiIPoGAgDupqKg+iYiIPoGAgDupqKg+iYiIPoGAgDupqKg+iYiIPoGAgDupqKg+iYiIPoGAgDupqKg+iYiIPoGAgDupqKg+iYiIPoGAgDupqKg+iYiIPoGAgDupqKg+iYiIPoGAgDupqKg+iYiIPoGAgDupqKg+iYiIPoGAgDupqKg+iYiIPoGAgDupqKg+iYiIPoGAgDupqKg+iYiIPoGAgDupqKg+iYiIPoGAgDupqKg+iYiIPoGAgDupqKg+iYiIPoGAgDupqKg+iYiIPoGAgDupqKg+/v19P+jnZz+RkBA+/v19P+jnZz+RkBA+/v19P+jnZz+RkBA+/v19P+jnZz+RkBA+/v19P+jnZz+RkBA+/v19P+jnZz+RkBA+/v19P+jnZz+RkBA+/v19P+jnZz+RkBA+/v19P+jnZz+RkBA+/v19P+jnZz+RkBA+/v19P+jnZz+RkBA+/v19P+jnZz+RkBA+/v19P+jnZz+RkBA+/v19P+jnZz+RkBA+/v19P+jnZz+RkBA+/v19P+jnZz+RkBA+/v19P+jnZz+RkBA+/v19P+jnZz+RkBA+/v19P+jnZz+RkBA+/v19P+jnZz+RkBA+/v19P+jnZz+RkBA+/v19P+jnZz+RkBA+/v19P+jnZz+RkBA+/v19P+jnZz+RkBA+/v19P+jnZz+RkBA+/v19P+jnZz+RkBA+/v19P+jnZz+RkBA+/v19P+jnZz+RkBA+/v19P+jnZz+RkBA+/v19P+jnZz+RkBA+/v19P+jnZz+RkBA+/v19P+jnZz+RkBA+/v19P+jnZz+RkBA+/v19P+jnZz+RkBA+/v19P+jnZz+RkBA+/v19P+jnZz+RkBA+/v19P+jnZz+RkBA+/v19P+jnZz+RkBA+/v19P+jnZz+RkBA+/v19P+jnZz+RkBA+/v19P+jnZz+RkBA+/v19P+jnZz+RkBA+/v19P+jnZz+RkBA+/v19P+jnZz+RkBA+/v19P+jnZz+RkBA+/v19P+jnZz+RkBA+/v19P+jnZz+RkBA+/v19P+jnZz+RkBA+/v19P+jnZz+RkBA+/v19P+jnZz+RkBA+/v19P+jnZz+RkBA+/v19P+jnZz+RkBA+/v19P+jnZz+RkBA+/v19P+jnZz+RkBA+iYiIPoGAgDupqKg+iYiIPoGAgDupqKg+iYiIPoGAgDupqKg+iYiIPoGAgDupqKg+iYiIPoGAgDupqKg+iYiIPoGAgDupqKg+iYiIPoGAgDupqKg+iYiIPoGAgDupqKg+iYiIPoGAgDupqKg+iYiIPoGAgDupqKg+iYiIPoGAgDupqKg+iYiIPoGAgDupqKg+iYiIPoGAgDupqKg+iYiIPoGAgDupqKg+iYiIPoGAgDupqKg+iYiIPoGAgDupqKg+iYiIPoGAgDupqKg+iYiIPoGAgDupqKg+iYiIPoGAgDupqKg+iYiIPoGAgDupqKg+iYiIPoGAgDupqKg+iYiIPoGAgDupqKg+iYiIPoGAgDupqKg+iYiIPoGAgDupqKg+/v19P+jnZz+RkBA+/v19P+jnZz+RkBA+/v19P+jnZz+RkBA+/v19P+jnZz+RkBA+/v19P+jnZz+RkBA+/v19P+jnZz+RkBA+/v19P+jnZz+RkBA+/v19P+jnZz+RkBA+/v19P+jnZz+RkBA+/v19P+jnZz+RkBA+/v19P+jnZz+RkBA+/v19P+jnZz+RkBA+/v19P+jnZz+RkBA+/v19P+jnZz+RkBA+/v19P+jnZz+RkBA+/v19P+jnZz+RkBA+/v19P+jnZz+RkBA+/v19P+jnZz+RkBA+/v19P+jnZz+RkBA+/v19P+jnZz+RkBA+/v19P+jnZz+RkBA+/v19P+jnZz+RkBA+/v19P+jnZz+RkBA+/v19P+jnZz+RkBA+/v19P+jnZz+RkBA+/v19P+jnZz+RkBA+/v19P+jnZz+RkBA+/v19P+jnZz+RkBA+/v19P+jnZz+RkBA+/v19P+jnZz+RkBA+/v19P+jnZz+RkBA+/v19P+jnZz+RkBA+/v19P+jnZz+RkBA+/v19P+jnZz+RkBA+/v19P+jnZz+RkBA+/v19P+jnZz+RkBA+/v19P+jnZz+RkBA+/v19P+jnZz+RkBA+/v19P+jnZz+RkBA+/v19P+jnZz+RkBA+/v19P+jnZz+RkBA+/v19P+jnZz+RkBA+/v19P+jnZz+RkBA+/v19P+jnZz+RkBA+/v19P+jnZz+RkBA+/v19P+jnZz+RkBA+/v19P+jnZz+RkBA+/v19P+jnZz+RkBA+/v19P+jnZz+RkBA+/v19P+jnZz+RkBA+/v19P+jnZz+RkBA+/v19P+jnZz+RkBA+/v19P+jnZz+RkBA+/v19P+jnZz+RkBA+/v19P+jnZz+RkBA+/v19P+jnZz+RkBA+/v19P+jnZz+RkBA+/v19P+jnZz+RkBA+/v19P+jnZz+RkBA+/v19P+jnZz+RkBA+iYiIPoGAgDupqKg+iYiIPoGAgDupqKg+iYiIPoGAgDupqKg+iYiIPoGAgDupqKg+iYiIPoGAgDupqKg+iYiIPoGAgDupqKg+iYiIPoGAgDupqKg+iYiIPoGAgDupqKg+iYiIPoGAgDupqKg+iYiIPoGAgDupqKg+iYiIPoGAgDupqKg+iYiIPoGAgDupqKg+iYiIPoGAgDupqKg+iYiIPoGAgDupqKg+iYiIPoGAgDupqKg+iYiIPoGAgDupqKg+iYiIPoGAgDupqKg+iYiIPoGAgDupqKg+iYiIPoGAgDupqKg+iYiIPoGAgDupqKg+iYiIPoGAgDupqKg+iYiIPoGAgDupqKg+iYiIPoGAgDupqKg+iYiIPoGAgDupqKg+/v19P+jnZz+RkBA+/v19P+jnZz+RkBA+/v19P+jnZz+RkBA+/v19P+jnZz+RkBA+/v19P+jnZz+RkBA+/v19P+jnZz+RkBA+/v19P+jnZz+RkBA+/v19P+jnZz+RkBA+/v19P+jnZz+RkBA+/v19P+jnZz+RkBA+/v19P+jnZz+RkBA+/v19P+jnZz+RkBA+/v19P+jnZz+RkBA+/v19P+jnZz+RkBA+/v19P+jnZz+RkBA+/v19P+jnZz+RkBA+/v19P+jnZz+RkBA+/v19P+jnZz+RkBA+/v19P+jnZz+RkBA+/v19P+jnZz+RkBA+/v19P+jnZz+RkBA+/v19P+jnZz+RkBA+/v19P+jnZz+RkBA+/v19P+jnZz+RkBA+/v19P+jnZz+RkBA+/v19P+jnZz+RkBA+/v19P+jnZz+RkBA+/v19P+jnZz+RkBA+/v19P+jnZz+RkBA+/v19P+jnZz+RkBA+/v19P+jnZz+RkBA+/v19P+jnZz+RkBA+/v19P+jnZz+RkBA+/v19P+jnZz+RkBA+/v19P+jnZz+RkBA+/v19P+jnZz+RkBA+/v19P+jnZz+RkBA+/v19P+jnZz+RkBA+/v19P+jnZz+RkBA+/v19P+jnZz+RkBA+/v19P+jnZz+RkBA+/v19P+jnZz+RkBA+/v19P+jnZz+RkBA+/v19P+jnZz+RkBA+/v19P+jnZz+RkBA+/v19P+jnZz+RkBA+/v19P+jnZz+RkBA+/v19P+jnZz+RkBA+/v19P+jnZz+RkBA+/v19P+jnZz+RkBA+/v19P+jnZz+RkBA+/v19P+jnZz+RkBA+/v19P+jnZz+RkBA+/v19P+jnZz+RkBA+/v19P+jnZz+RkBA+/v19P+jnZz+RkBA+/v19P+jnZz+RkBA+/v19P+jnZz+RkBA+/v19P+jnZz+RkBA+/v19P+jnZz+RkBA+/v19P+jnZz+RkBA+/v19P+jnZz+RkBA+/v19P+jnZz+RkBA+/v19P+jnZz+RkBA+/v19P+jnZz+RkBA+/v19P+jnZz+RkBA+iYiIPoGAgDupqKg+iYiIPoGAgDupqKg+iYiIPoGAgDupqKg+iYiIPoGAgDupqKg+iYiIPoGAgDupqKg+iYiIPoGAgDupqKg+iYiIPoGAgDupqKg+iYiIPoGAgDupqKg+iYiIPoGAgDupqKg+iYiIPoGAgDupqKg+iYiIPoGAgDupqKg+iYiIPoGAgDupqKg+iYiIPoGAgDupqKg+iYiIPoGAgDupqKg+iYiIPoGAgDupqKg+iYiIPoGAgDupqKg+iYiIPoGAgDupqKg+iYiIPoGAgDupqKg+iYiIPoGAgDupqKg+iYiIPoGAgDupqKg+iYiIPoGAgDupqKg+iYiIPoGAgDupqKg+iYiIPoGAgDupqKg+iYiIPoGAgDupqKg+/v19P+jnZz+RkBA+/v19P+jnZz+RkBA+/v19P+jnZz+RkBA+/v19P+jnZz+RkBA+/v19P+jnZz+RkBA+/v19P+jnZz+RkBA+/v19P+jnZz+RkBA+/v19P+jnZz+RkBA+/v19P+jnZz+RkBA+/v19P+jnZz+RkBA+/v19P+jnZz+RkBA+/v19P+jnZz+RkBA+/v19P+jnZz+RkBA+/v19P+jnZz+RkBA+/v19P+jnZz+RkBA+/v19P+jnZz+RkBA+/v19P+jnZz+RkBA+/v19P+jnZz+RkBA+/v19P+jnZz+RkBA+/v19P+jnZz+RkBA+/v19P+jnZz+RkBA+/v19P+jnZz+RkBA+/v19P+jnZz+RkBA+/v19P+jnZz+RkBA+/v19P+jnZz+RkBA+/v19P+jnZz+RkBA+/v19P+jnZz+RkBA+/v19P+jnZz+RkBA+/v19P+jnZz+RkBA+/v19P+jnZz+RkBA+/v19P+jnZz+RkBA+/v19P+jnZz+RkBA+/v19P+jnZz+RkBA+/v19P+jnZz+RkBA+/v19P+jnZz+RkBA+/v19P+jnZz+RkBA+/v19P+jnZz+RkBA+/v19P+jnZz+RkBA+/v19P+jnZz+RkBA+/v19P+jnZz+RkBA+/v19P+jnZz+RkBA+/v19P+jnZz+RkBA+/v19P+jnZz+RkBA+/v19P+jnZz+RkBA+/v19P+jnZz+RkBA+/v19P+jnZz+RkBA+/v19P+jnZz+RkBA+/v19P+jnZz+RkBA+/v19P+jnZz+RkBA+/v19P+jnZz+RkBA+/v19P+jnZz+RkBA+/v19P+jnZz+RkBA+/v19P+jnZz+RkBA+/v19P+jnZz+RkBA+/v19P+jnZz+RkBA+/v19P+jnZz+RkBA+/v19P+jnZz+RkBA+/v19P+jnZz+RkBA+/v19P+jnZz+RkBA+/v19P+jnZz+RkBA+/v19P+jnZz+RkBA+/v19P+jnZz+RkBA+/v19P+jnZz+RkBA+/v19P+jnZz+RkBA+/v19P+jnZz+RkBA+/v19P+jnZz+RkBA+/v19P+jnZz+RkBA+/v19P+jnZz+RkBA+/v19P+jnZz+RkBA+/v19P+jnZz+RkBA+/v19P+jnZz+RkBA+/v19P+jnZz+RkBA+iYiIPoGAgDupqKg+iYiIPoGAgDupqKg+iYiIPoGAgDupqKg+iYiIPoGAgDupqKg+iYiIPoGAgDupqKg+iYiIPoGAgDupqKg+iYiIPoGAgDupqKg+iYiIPoGAgDupqKg+iYiIPoGAgDupqKg+iYiIPoGAgDupqKg+iYiIPoGAgDupqKg+iYiIPoGAgDupqKg+iYiIPoGAgDupqKg+iYiIPoGAgDupqKg+iYiIPoGAgDupqKg+iYiIPoGAgDupqKg+iYiIPoGAgDupqKg+iYiIPoGAgDupqKg+iYiIPoGAgDupqKg+iYiIPoGAgDupqKg+iYiIPoGAgDupqKg+iYiIPoGAgDupqKg+iYiIPoGAgDupqKg+iYiIPoGAgDupqKg+/v19P+jnZz+RkBA+/v19P+jnZz+RkBA+/v19P+jnZz+RkBA+/v19P+jnZz+RkBA+/v19P+jnZz+RkBA+/v19P+jnZz+RkBA+/v19P+jnZz+RkBA+/v19P+jnZz+RkBA+/v19P+jnZz+RkBA+/v19P+jnZz+RkBA+/v19P+jnZz+RkBA+/v19P+jnZz+RkBA+/v19P+jnZz+RkBA+/v19P+jnZz+RkBA+/v19P+jnZz+RkBA+/v19P+jnZz+RkBA+/v19P+jnZz+RkBA+/v19P+jnZz+RkBA+/v19P+jnZz+RkBA+/v19P+jnZz+RkBA+/v19P+jnZz+RkBA+/v19P+jnZz+RkBA+/v19P+jnZz+RkBA+/v19P+jnZz+RkBA+/v19P+jnZz+RkBA+/v19P+jnZz+RkBA+/v19P+jnZz+RkBA+/v19P+jnZz+RkBA+/v19P+jnZz+RkBA+/v19P+jnZz+RkBA+/v19P+jnZz+RkBA+/v19P+jnZz+RkBA+/v19P+jnZz+RkBA+/v19P+jnZz+RkBA+/v19P+jnZz+RkBA+/v19P+jnZz+RkBA+/v19P+jnZz+RkBA+/v19P+jnZz+RkBA+/v19P+jnZz+RkBA+/v19P+jnZz+RkBA+/v19P+jnZz+RkBA+/v19P+jnZz+RkBA+/v19P+jnZz+RkBA+/v19P+jnZz+RkBA+/v19P+jnZz+RkBA+/v19P+jnZz+RkBA+/v19P+jnZz+RkBA+/v19P+jnZz+RkBA+/v19P+jnZz+RkBA+/v19P+jnZz+RkBA+/v19P+jnZz+RkBA+/v19P+jnZz+RkBA+/v19P+jnZz+RkBA+/v19P+jnZz+RkBA+/v19P+jnZz+RkBA+/v19P+jnZz+RkBA+/v19P+jnZz+RkBA+/v19P+jnZz+RkBA+/v19P+jnZz+RkBA+/v19P+jnZz+RkBA+/v19P+jnZz+RkBA+/v19P+jnZz+RkBA+/v19P+jnZz+RkBA+/v19P+jnZz+RkBA+/v19P+jnZz+RkBA+/v19P+jnZz+RkBA+/v19P+jnZz+RkBA+/v19P+jnZz+RkBA+/v19P+jnZz+RkBA+/v19P+jnZz+RkBA+/v19P+jnZz+RkBA+/v19P+jnZz+RkBA+/v19P+jnZz+RkBA+/v19P+jnZz+RkBA+/v19P+jnZz+RkBA+/v19P+jnZz+RkBA+/v19P+jnZz+RkBA+/v19P+jnZz+RkBA+iYiIPoGAgDupqKg+iYiIPoGAgDupqKg+iYiIPoGAgDupqKg+iYiIPoGAgDupqKg+iYiIPoGAgDupqKg+iYiIPoGAgDupqKg+iYiIPoGAgDupqKg+iYiIPoGAgDupqKg+iYiIPoGAgDupqKg+iYiIPoGAgDupqKg+iYiIPoGAgDupqKg+iYiIPoGAgDupqKg+iYiIPoGAgDupqKg+iYiIPoGAgDupqKg+iYiIPoGAgDupqKg+iYiIPoGAgDupqKg+iYiIPoGAgDupqKg+iYiIPoGAgDupqKg+iYiIPoGAgDupqKg+iYiIPoGAgDupqKg+iYiIPoGAgDupqKg+iYiIPoGAgDupqKg+iYiIPoGAgDupqKg+iYiIPoGAgDupqKg+/v19P+jnZz+RkBA+/v19P+jnZz+RkBA+/v19P+jnZz+RkBA+/v19P+jnZz+RkBA+/v19P+jnZz+RkBA+/v19P+jnZz+RkBA+/v19P+jnZz+RkBA+/v19P+jnZz+RkBA+/v19P+jnZz+RkBA+/v19P+jnZz+RkBA+/v19P+jnZz+RkBA+/v19P+jnZz+RkBA+/v19P+jnZz+RkBA+/v19P+jnZz+RkBA+/v19P+jnZz+RkBA+/v19P+jnZz+RkBA+/v19P+jnZz+RkBA+/v19P+jnZz+RkBA+/v19P+jnZz+RkBA+/v19P+jnZz+RkBA+/v19P+jnZz+RkBA+/v19P+jnZz+RkBA+/v19P+jnZz+RkBA+/v19P+jnZz+RkBA+/v19P+jnZz+RkBA+/v19P+jnZz+RkBA+/v19P+jnZz+RkBA+/v19P+jnZz+RkBA+/v19P+jnZz+RkBA+/v19P+jnZz+RkBA+/v19P+jnZz+RkBA+/v19P+jnZz+RkBA+/v19P+jnZz+RkBA+/v19P+jnZz+RkBA+/v19P+jnZz+RkBA+/v19P+jnZz+RkBA+/v19P+jnZz+RkBA+/v19P+jnZz+RkBA+/v19P+jnZz+RkBA+/v19P+jnZz+RkBA+/v19P+jnZz+RkBA+/v19P+jnZz+RkBA+/v19P+jnZz+RkBA+/v19P+jnZz+RkBA+/v19P+jnZz+RkBA+/v19P+jnZz+RkBA+/v19P+jnZz+RkBA+/v19P+jnZz+RkBA+/v19P+jnZz+RkBA+/v19P+jnZz+RkBA+/v19P+jnZz+RkBA+/v19P+jnZz+RkBA+/v19P+jnZz+RkBA+/v19P+jnZz+RkBA+/v19P+jnZz+RkBA+/v19P+jnZz+RkBA+/v19P+jnZz+RkBA+/v19P+jnZz+RkBA+/v19P+jnZz+RkBA+/v19P+jnZz+RkBA+/v19P+jnZz+RkBA+/v19P+jnZz+RkBA+/v19P+jnZz+RkBA+/v19P+jnZz+RkBA+/v19P+jnZz+RkBA+/v19P+jnZz+RkBA+/v19P+jnZz+RkBA+/v19P+jnZz+RkBA+/v19P+jnZz+RkBA+/v19P+jnZz+RkBA+/v19P+jnZz+RkBA+/v19P+jnZz+RkBA+/v19P+jnZz+RkBA+/v19P+jnZz+RkBA+/v19P+jnZz+RkBA+/v19P+jnZz+RkBA+/v19P+jnZz+RkBA+/v19P+jnZz+RkBA+/v19P+jnZz+RkBA+/v19P+jnZz+RkBA+/v19P+jnZz+RkBA+/v19P+jnZz+RkBA+/v19P+jnZz+RkBA+/v19P+jnZz+RkBA+iYiIPoGAgDupqKg+iYiIPoGAgDupqKg+iYiIPoGAgDupqKg+iYiIPoGAgDupqKg+iYiIPoGAgDupqKg+iYiIPoGAgDupqKg+iYiIPoGAgDupqKg+iYiIPoGAgDupqKg+iYiIPoGAgDupqKg+iYiIPoGAgDupqKg+iYiIPoGAgDupqKg+iYiIPoGAgDupqKg+iYiIPoGAgDupqKg+iYiIPoGAgDupqKg+iYiIPoGAgDupqKg+iYiIPoGAgDupqKg+iYiIPoGAgDupqKg+iYiIPoGAgDupqKg+iYiIPoGAgDupqKg+iYiIPoGAgDupqKg+iYiIPoGAgDupqKg+iYiIPoGAgDupqKg+iYiIPoGAgDupqKg+iYiIPoGAgDupqKg+/v19P+jnZz+RkBA+/v19P+jnZz+RkBA+/v19P+jnZz+RkBA+/v19P+jnZz+RkBA+/v19P+jnZz+RkBA+/v19P+jnZz+RkBA+/v19P+jnZz+RkBA+/v19P+jnZz+RkBA+/v19P+jnZz+RkBA+/v19P+jnZz+RkBA+/v19P+jnZz+RkBA+/v19P+jnZz+RkBA+/v19P+jnZz+RkBA+/v19P+jnZz+RkBA+/v19P+jnZz+RkBA+/v19P+jnZz+RkBA+/v19P+jnZz+RkBA+/v19P+jnZz+RkBA+/v19P+jnZz+RkBA+/v19P+jnZz+RkBA+/v19P+jnZz+RkBA+/v19P+jnZz+RkBA+/v19P+jnZz+RkBA+/v19P+jnZz+RkBA+/v19P+jnZz+RkBA+/v19P+jnZz+RkBA+/v19P+jnZz+RkBA+/v19P+jnZz+RkBA+/v19P+jnZz+RkBA+/v19P+jnZz+RkBA+/v19P+jnZz+RkBA+/v19P+jnZz+RkBA+/v19P+jnZz+RkBA+/v19P+jnZz+RkBA+/v19P+jnZz+RkBA+/v19P+jnZz+RkBA+/v19P+jnZz+RkBA+/v19P+jnZz+RkBA+/v19P+jnZz+RkBA+/v19P+jnZz+RkBA+/v19P+jnZz+RkBA+/v19P+jnZz+RkBA+/v19P+jnZz+RkBA+/v19P+jnZz+RkBA+/v19P+jnZz+RkBA+/v19P+jnZz+RkBA+/v19P+jnZz+RkBA+/v19P+jnZz+RkBA+/v19P+jnZz+RkBA+/v19P+jnZz+RkBA+/v19P+jnZz+RkBA+/v19P+jnZz+RkBA+/v19P+jnZz+RkBA+/v19P+jnZz+RkBA+/v19P+jnZz+RkBA+/v19P+jnZz+RkBA+/v19P+jnZz+RkBA+/v19P+jnZz+RkBA+/v19P+jnZz+RkBA+/v19P+jnZz+RkBA+/v19P+jnZz+RkBA+/v19P+jnZz+RkBA+/v19P+jnZz+RkBA+/v19P+jnZz+RkBA+/v19P+jnZz+RkBA+/v19P+jnZz+RkBA+/v19P+jnZz+RkBA+/v19P+jnZz+RkBA+/v19P+jnZz+RkBA+/v19P+jnZz+RkBA+/v19P+jnZz+RkBA+/v19P+jnZz+RkBA+/v19P+jnZz+RkBA+/v19P+jnZz+RkBA+/v19P+jnZz+RkBA+/v19P+jnZz+RkBA+/v19P+jnZz+RkBA+/v19P+jnZz+RkBA+/v19P+jnZz+RkBA+/v19P+jnZz+RkBA+/v19P+jnZz+RkBA+/v19P+jnZz+RkBA+/v19P+jnZz+RkBA+/v19P+jnZz+RkBA+/v19P+jnZz+RkBA+/v19P+jnZz+RkBA+/v19P+jnZz+RkBA+/v19P+jnZz+RkBA+/v19P+jnZz+RkBA+/v19P+jnZz+RkBA+iYiIPoGAgDupqKg+iYiIPoGAgDupqKg+iYiIPoGAgDupqKg+iYiIPoGAgDupqKg+iYiIPoGAgDupqKg+iYiIPoGAgDupqKg+iYiIPoGAgDupqKg+iYiIPoGAgDupqKg+iYiIPoGAgDupqKg+iYiIPoGAgDupqKg+iYiIPoGAgDupqKg+iYiIPoGAgDupqKg+iYiIPoGAgDupqKg+iYiIPoGAgDupqKg+iYiIPoGAgDupqKg+iYiIPoGAgDupqKg+iYiIPoGAgDupqKg+iYiIPoGAgDupqKg+iYiIPoGAgDupqKg+iYiIPoGAgDupqKg+iYiIPoGAgDupqKg+iYiIPoGAgDupqKg+iYiIPoGAgDupqKg+iYiIPoGAgDupqKg+/v19P+jnZz+RkBA+/v19P+jnZz+RkBA+/v19P+jnZz+RkBA+/v19P+jnZz+RkBA+/v19P+jnZz+RkBA+/v19P+jnZz+RkBA+/v19P+jnZz+RkBA+/v19P+jnZz+RkBA+/v19P+jnZz+RkBA+/v19P+jnZz+RkBA+/v19P+jnZz+RkBA+/v19P+jnZz+RkBA+/v19P+jnZz+RkBA+/v19P+jnZz+RkBA+/v19P+jnZz+RkBA+/v19P+jnZz+RkBA+/v19P+jnZz+RkBA+/v19P+jnZz+RkBA+/v19P+jnZz+RkBA+/v19P+jnZz+RkBA+/v19P+jnZz+RkBA+/v19P+jnZz+RkBA+/v19P+jnZz+RkBA+/v19P+jnZz+RkBA+/v19P+jnZz+RkBA+/v19P+jnZz+RkBA+/v19P+jnZz+RkBA+/v19P+jnZz+RkBA+/v19P+jnZz+RkBA+/v19P+jnZz+RkBA+/v19P+jnZz+RkBA+/v19P+jnZz+RkBA+/v19P+jnZz+RkBA+/v19P+jnZz+RkBA+/v19P+jnZz+RkBA+/v19P+jnZz+RkBA+/v19P+jnZz+RkBA+/v19P+jnZz+RkBA+/v19P+jnZz+RkBA+/v19P+jnZz+RkBA+/v19P+jnZz+RkBA+/v19P+jnZz+RkBA+/v19P+jnZz+RkBA+/v19P+jnZz+RkBA+/v19P+jnZz+RkBA+/v19P+jnZz+RkBA+/v19P+jnZz+RkBA+/v19P+jnZz+RkBA+/v19P+jnZz+RkBA+/v19P+jnZz+RkBA+/v19P+jnZz+RkBA+/v19P+jnZz+RkBA+/v19P+jnZz+RkBA+/v19P+jnZz+RkBA+/v19P+jnZz+RkBA+/v19P+jnZz+RkBA+/v19P+jnZz+RkBA+/v19P+jnZz+RkBA+/v19P+jnZz+RkBA+/v19P+jnZz+RkBA+/v19P+jnZz+RkBA+/v19P+jnZz+RkBA+/v19P+jnZz+RkBA+/v19P+jnZz+RkBA+/v19P+jnZz+RkBA+/v19P+jnZz+RkBA+/v19P+jnZz+RkBA+/v19P+jnZz+RkBA+/v19P+jnZz+RkBA+/v19P+jnZz+RkBA+/v19P+jnZz+RkBA+/v19P+jnZz+RkBA+/v19P+jnZz+RkBA+/v19P+jnZz+RkBA+/v19P+jnZz+RkBA+/v19P+jnZz+RkBA+/v19P+jnZz+RkBA+/v19P+jnZz+RkBA+/v19P+jnZz+RkBA+/v19P+jnZz+RkBA+/v19P+jnZz+RkBA+/v19P+jnZz+RkBA+/v19P+jnZz+RkBA+/v19P+jnZz+RkBA+/v19P+jnZz+RkBA+/v19P+jnZz+RkBA+/v19P+jnZz+RkBA+/v19P+jnZz+RkBA+/v19P+jnZz+RkBA+/v19P+jnZz+RkBA+/v19P+jnZz+RkBA+/v19P+jnZz+RkBA+/v19P+jnZz+RkBA+/v19P+jnZz+RkBA+/v19P+jnZz+RkBA+/v19P+jnZz+RkBA+iYiIPoGAgDupqKg+iYiIPoGAgDupqKg+iYiIPoGAgDupqKg+iYiIPoGAgDupqKg+iYiIPoGAgDupqKg+iYiIPoGAgDupqKg+iYiIPoGAgDupqKg+iYiIPoGAgDupqKg+iYiIPoGAgDupqKg+iYiIPoGAgDupqKg+iYiIPoGAgDupqKg+iYiIPoGAgDupqKg+iYiIPoGAgDupqKg+iYiIPoGAgDupqKg+iYiIPoGAgDupqKg+iYiIPoGAgDupqKg+iYiIPoGAgDupqKg+iYiIPoGAgDupqKg+iYiIPoGAgDupqKg+iYiIPoGAgDupqKg+iYiIPoGAgDupqKg+iYiIPoGAgDupqKg+iYiIPoGAgDupqKg+iYiIPoGAgDupqKg+/v19P+jnZz+RkBA+/v19P+jnZz+RkBA+/v19P+jnZz+RkBA+/v19P+jnZz+RkBA+/v19P+jnZz+RkBA+/v19P+jnZz+RkBA+/v19P+jnZz+RkBA+/v19P+jnZz+RkBA+/v19P+jnZz+RkBA+/v19P+jnZz+RkBA+/v19P+jnZz+RkBA+/v19P+jnZz+RkBA+/v19P+jnZz+RkBA+/v19P+jnZz+RkBA+/v19P+jnZz+RkBA+/v19P+jnZz+RkBA+/v19P+jnZz+RkBA+/v19P+jnZz+RkBA+/v19P+jnZz+RkBA+/v19P+jnZz+RkBA+/v19P+jnZz+RkBA+/v19P+jnZz+RkBA+/v19P+jnZz+RkBA+/v19P+jnZz+RkBA+/v19P+jnZz+RkBA+/v19P+jnZz+RkBA+/v19P+jnZz+RkBA+/v19P+jnZz+RkBA+/v19P+jnZz+RkBA+/v19P+jnZz+RkBA+/v19P+jnZz+RkBA+/v19P+jnZz+RkBA+/v19P+jnZz+RkBA+/v19P+jnZz+RkBA+/v19P+jnZz+RkBA+/v19P+jnZz+RkBA+/v19P+jnZz+RkBA+/v19P+jnZz+RkBA+/v19P+jnZz+RkBA+/v19P+jnZz+RkBA+/v19P+jnZz+RkBA+/v19P+jnZz+RkBA+/v19P+jnZz+RkBA+/v19P+jnZz+RkBA+/v19P+jnZz+RkBA+/v19P+jnZz+RkBA+/v19P+jnZz+RkBA+/v19P+jnZz+RkBA+/v19P+jnZz+RkBA+/v19P+jnZz+RkBA+/v19P+jnZz+RkBA+/v19P+jnZz+RkBA+/v19P+jnZz+RkBA+/v19P+jnZz+RkBA+/v19P+jnZz+RkBA+/v19P+jnZz+RkBA+/v19P+jnZz+RkBA+/v19P+jnZz+RkBA+/v19P+jnZz+RkBA+/v19P+jnZz+RkBA+/v19P+jnZz+RkBA+/v19P+jnZz+RkBA+/v19P+jnZz+RkBA+/v19P+jnZz+RkBA+/v19P+jnZz+RkBA+/v19P+jnZz+RkBA+/v19P+jnZz+RkBA+/v19P+jnZz+RkBA+/v19P+jnZz+RkBA+/v19P+jnZz+RkBA+/v19P+jnZz+RkBA+/v19P+jnZz+RkBA+/v19P+jnZz+RkBA+/v19P+jnZz+RkBA+/v19P+jnZz+RkBA+/v19P+jnZz+RkBA+/v19P+jnZz+RkBA+/v19P+jnZz+RkBA+/v19P+jnZz+RkBA+/v19P+jnZz+RkBA+/v19P+jnZz+RkBA+/v19P+jnZz+RkBA+/v19P+jnZz+RkBA+/v19P+jnZz+RkBA+/v19P+jnZz+RkBA+/v19P+jnZz+RkBA+/v19P+jnZz+RkBA+/v19P+jnZz+RkBA+/v19P+jnZz+RkBA+/v19P+jnZz+RkBA+iYiIPoGAgDupqKg+iYiIPoGAgDupqKg+iYiIPoGAgDupqKg+iYiIPoGAgDupqKg+iYiIPoGAgDupqKg+iYiIPoGAgDupqKg+iYiIPoGAgDupqKg+iYiIPoGAgDupqKg+iYiIPoGAgDupqKg+iYiIPoGAgDupqKg+iYiIPoGAgDupqKg+iYiIPoGAgDupqKg+iYiIPoGAgDupqKg+iYiIPoGAgDupqKg+iYiIPoGAgDupqKg+iYiIPoGAgDupqKg+iYiIPoGAgDupqKg+iYiIPoGAgDupqKg+iYiIPoGAgDupqKg+iYiIPoGAgDupqKg+iYiIPoGAgDupqKg+iYiIPoGAgDupqKg+iYiIPoGAgDupqKg+iYiIPoGAgDupqKg+/v19P+jnZz+RkBA+/v19P+jnZz+RkBA+/v19P+jnZz+RkBA+/v19P+jnZz+RkBA+/v19P+jnZz+RkBA+/v19P+jnZz+RkBA+/v19P+jnZz+RkBA+/v19P+jnZz+RkBA+/v19P+jnZz+RkBA+/v19P+jnZz+RkBA+/v19P+jnZz+RkBA+/v19P+jnZz+RkBA+/v19P+jnZz+RkBA+/v19P+jnZz+RkBA+/v19P+jnZz+RkBA+/v19P+jnZz+RkBA+/v19P+jnZz+RkBA+/v19P+jnZz+RkBA+/v19P+jnZz+RkBA+/v19P+jnZz+RkBA+/v19P+jnZz+RkBA+/v19P+jnZz+RkBA+/v19P+jnZz+RkBA+/v19P+jnZz+RkBA+/v19P+jnZz+RkBA+/v19P+jnZz+RkBA+/v19P+jnZz+RkBA+/v19P+jnZz+RkBA+/v19P+jnZz+RkBA+/v19P+jnZz+RkBA+/v19P+jnZz+RkBA+/v19P+jnZz+RkBA+/v19P+jnZz+RkBA+/v19P+jnZz+RkBA+/v19P+jnZz+RkBA+/v19P+jnZz+RkBA+/v19P+jnZz+RkBA+/v19P+jnZz+RkBA+/v19P+jnZz+RkBA+/v19P+jnZz+RkBA+/v19P+jnZz+RkBA+/v19P+jnZz+RkBA+/v19P+jnZz+RkBA+/v19P+jnZz+RkBA+/v19P+jnZz+RkBA+/v19P+jnZz+RkBA+/v19P+jnZz+RkBA+/v19P+jnZz+RkBA+/v19P+jnZz+RkBA+/v19P+jnZz+RkBA+/v19P+jnZz+RkBA+/v19P+jnZz+RkBA+/v19P+jnZz+RkBA+/v19P+jnZz+RkBA+/v19P+jnZz+RkBA+/v19P+jnZz+RkBA+/v19P+jnZz+RkBA+/v19P+jnZz+RkBA+/v19P+jnZz+RkBA+/v19P+jnZz+RkBA+/v19P+jnZz+RkBA+/v19P+jnZz+RkBA+/v19P+jnZz+RkBA+/v19P+jnZz+RkBA+/v19P+jnZz+RkBA+/v19P+jnZz+RkBA+/v19P+jnZz+RkBA+/v19P+jnZz+RkBA+/v19P+jnZz+RkBA+/v19P+jnZz+RkBA+/v19P+jnZz+RkBA+/v19P+jnZz+RkBA+/v19P+jnZz+RkBA+/v19P+jnZz+RkBA+/v19P+jnZz+RkBA+/v19P+jnZz+RkBA+/v19P+jnZz+RkBA+/v19P+jnZz+RkBA+/v19P+jnZz+RkBA+/v19P+jnZz+RkBA+/v19P+jnZz+RkBA+/v19P+jnZz+RkBA+/v19P+jnZz+RkBA+/v19P+jnZz+RkBA+iYiIPoGAgDupqKg+iYiIPoGAgDupqKg+iYiIPoGAgDupqKg+iYiIPoGAgDupqKg+iYiIPoGAgDupqKg+iYiIPoGAgDupqKg+iYiIPoGAgDupqKg+iYiIPoGAgDupqKg+iYiIPoGAgDupqKg+iYiIPoGAgDupqKg+iYiIPoGAgDupqKg+iYiIPoGAgDupqKg+iYiIPoGAgDupqKg+iYiIPoGAgDupqKg+iYiIPoGAgDupqKg+iYiIPoGAgDupqKg+iYiIPoGAgDupqKg+iYiIPoGAgDupqKg+iYiIPoGAgDupqKg+iYiIPoGAgDupqKg+iYiIPoGAgDupqKg+iYiIPoGAgDupqKg+iYiIPoGAgDupqKg+iYiIPoGAgDupqKg+/v19P+jnZz+RkBA+/v19P+jnZz+RkBA+/v19P+jnZz+RkBA+/v19P+jnZz+RkBA+/v19P+jnZz+RkBA+/v19P+jnZz+RkBA+/v19P+jnZz+RkBA+/v19P+jnZz+RkBA+/v19P+jnZz+RkBA+/v19P+jnZz+RkBA+/v19P+jnZz+RkBA+/v19P+jnZz+RkBA+/v19P+jnZz+RkBA+/v19P+jnZz+RkBA+/v19P+jnZz+RkBA+/v19P+jnZz+RkBA+/v19P+jnZz+RkBA+/v19P+jnZz+RkBA+/v19P+jnZz+RkBA+/v19P+jnZz+RkBA+/v19P+jnZz+RkBA+/v19P+jnZz+RkBA+/v19P+jnZz+RkBA+/v19P+jnZz+RkBA+/v19P+jnZz+RkBA+/v19P+jnZz+RkBA+/v19P+jnZz+RkBA+/v19P+jnZz+RkBA+/v19P+jnZz+RkBA+/v19P+jnZz+RkBA+/v19P+jnZz+RkBA+/v19P+jnZz+RkBA+/v19P+jnZz+RkBA+/v19P+jnZz+RkBA+/v19P+jnZz+RkBA+/v19P+jnZz+RkBA+/v19P+jnZz+RkBA+/v19P+jnZz+RkBA+/v19P+jnZz+RkBA+/v19P+jnZz+RkBA+/v19P+jnZz+RkBA+/v19P+jnZz+RkBA+/v19P+jnZz+RkBA+/v19P+jnZz+RkBA+/v19P+jnZz+RkBA+/v19P+jnZz+RkBA+/v19P+jnZz+RkBA+/v19P+jnZz+RkBA+/v19P+jnZz+RkBA+/v19P+jnZz+RkBA+/v19P+jnZz+RkBA+/v19P+jnZz+RkBA+/v19P+jnZz+RkBA+/v19P+jnZz+RkBA+/v19P+jnZz+RkBA+/v19P+jnZz+RkBA+/v19P+jnZz+RkBA+/v19P+jnZz+RkBA+/v19P+jnZz+RkBA+/v19P+jnZz+RkBA+/v19P+jnZz+RkBA+/v19P+jnZz+RkBA+/v19P+jnZz+RkBA+/v19P+jnZz+RkBA+/v19P+jnZz+RkBA+/v19P+jnZz+RkBA+/v19P+jnZz+RkBA+/v19P+jnZz+RkBA+/v19P+jnZz+RkBA+/v19P+jnZz+RkBA+/v19P+jnZz+RkBA+/v19P+jnZz+RkBA+/v19P+jnZz+RkBA+/v19P+jnZz+RkBA+/v19P+jnZz+RkBA+/v19P+jnZz+RkBA+/v19P+jnZz+RkBA+/v19P+jnZz+RkBA+iYiIPoGAgDupqKg+iYiIPoGAgDupqKg+iYiIPoGAgDupqKg+iYiIPoGAgDupqKg+iYiIPoGAgDupqKg+iYiIPoGAgDupqKg+iYiIPoGAgDupqKg+iYiIPoGAgDupqKg+iYiIPoGAgDupqKg+iYiIPoGAgDupqKg+iYiIPoGAgDupqKg+iYiIPoGAgDupqKg+iYiIPoGAgDupqKg+iYiIPoGAgDupqKg+iYiIPoGAgDupqKg+iYiIPoGAgDupqKg+iYiIPoGAgDupqKg+iYiIPoGAgDupqKg+iYiIPoGAgDupqKg+iYiIPoGAgDupqKg+iYiIPoGAgDupqKg+iYiIPoGAgDupqKg+iYiIPoGAgDupqKg+iYiIPoGAgDupqKg+/v19P+jnZz+RkBA+/v19P+jnZz+RkBA+/v19P+jnZz+RkBA+/v19P+jnZz+RkBA+/v19P+jnZz+RkBA+/v19P+jnZz+RkBA+/v19P+jnZz+RkBA+/v19P+jnZz+RkBA+/v19P+jnZz+RkBA+/v19P+jnZz+RkBA+/v19P+jnZz+RkBA+/v19P+jnZz+RkBA+/v19P+jnZz+RkBA+/v19P+jnZz+RkBA+/v19P+jnZz+RkBA+/v19P+jnZz+RkBA+/v19P+jnZz+RkBA+/v19P+jnZz+RkBA+/v19P+jnZz+RkBA+/v19P+jnZz+RkBA+/v19P+jnZz+RkBA+/v19P+jnZz+RkBA+/v19P+jnZz+RkBA+/v19P+jnZz+RkBA+/v19P+jnZz+RkBA+/v19P+jnZz+RkBA+/v19P+jnZz+RkBA+/v19P+jnZz+RkBA+/v19P+jnZz+RkBA+/v19P+jnZz+RkBA+/v19P+jnZz+RkBA+/v19P+jnZz+RkBA+/v19P+jnZz+RkBA+/v19P+jnZz+RkBA+/v19P+jnZz+RkBA+/v19P+jnZz+RkBA+/v19P+jnZz+RkBA+/v19P+jnZz+RkBA+/v19P+jnZz+RkBA+/v19P+jnZz+RkBA+/v19P+jnZz+RkBA+/v19P+jnZz+RkBA+/v19P+jnZz+RkBA+/v19P+jnZz+RkBA+/v19P+jnZz+RkBA+/v19P+jnZz+RkBA+/v19P+jnZz+RkBA+/v19P+jnZz+RkBA+/v19P+jnZz+RkBA+/v19P+jnZz+RkBA+/v19P+jnZz+RkBA+/v19P+jnZz+RkBA+/v19P+jnZz+RkBA+/v19P+jnZz+RkBA+/v19P+jnZz+RkBA+/v19P+jnZz+RkBA+/v19P+jnZz+RkBA+/v19P+jnZz+RkBA+/v19P+jnZz+RkBA+/v19P+jnZz+RkBA+/v19P+jnZz+RkBA+/v19P+jnZz+RkBA+/v19P+jnZz+RkBA+/v19P+jnZz+RkBA+/v19P+jnZz+RkBA+/v19P+jnZz+RkBA+/v19P+jnZz+RkBA+/v19P+jnZz+RkBA+/v19P+jnZz+RkBA+/v19P+jnZz+RkBA+/v19P+jnZz+RkBA+/v19P+jnZz+RkBA+iYiIPoGAgDupqKg+iYiIPoGAgDupqKg+iYiIPoGAgDupqKg+iYiIPoGAgDupqKg+iYiIPoGAgDupqKg+iYiIPoGAgDupqKg+iYiIPoGAgDupqKg+iYiIPoGAgDupqKg+iYiIPoGAgDupqKg+iYiIPoGAgDupqKg+iYiIPoGAgDupqKg+iYiIPoGAgDupqKg+iYiIPoGAgDupqKg+iYiIPoGAgDupqKg+iYiIPoGAgDupqKg+iYiIPoGAgDupqKg+iYiIPoGAgDupqKg+iYiIPoGAgDupqKg+iYiIPoGAgDupqKg+iYiIPoGAgDupqKg+iYiIPoGAgDupqKg+iYiIPoGAgDupqKg+iYiIPoGAgDupqKg+iYiIPoGAgDupqKg+/v19P+jnZz+RkBA+/v19P+jnZz+RkBA+/v19P+jnZz+RkBA+/v19P+jnZz+RkBA+/v19P+jnZz+RkBA+/v19P+jnZz+RkBA+/v19P+jnZz+RkBA+/v19P+jnZz+RkBA+/v19P+jnZz+RkBA+/v19P+jnZz+RkBA+/v19P+jnZz+RkBA+/v19P+jnZz+RkBA+/v19P+jnZz+RkBA+/v19P+jnZz+RkBA+/v19P+jnZz+RkBA+/v19P+jnZz+RkBA+/v19P+jnZz+RkBA+/v19P+jnZz+RkBA+/v19P+jnZz+RkBA+/v19P+jnZz+RkBA+/v19P+jnZz+RkBA+/v19P+jnZz+RkBA+/v19P+jnZz+RkBA+/v19P+jnZz+RkBA+/v19P+jnZz+RkBA+/v19P+jnZz+RkBA+/v19P+jnZz+RkBA+/v19P+jnZz+RkBA+/v19P+jnZz+RkBA+/v19P+jnZz+RkBA+/v19P+jnZz+RkBA+/v19P+jnZz+RkBA+/v19P+jnZz+RkBA+/v19P+jnZz+RkBA+/v19P+jnZz+RkBA+/v19P+jnZz+RkBA+/v19P+jnZz+RkBA+/v19P+jnZz+RkBA+/v19P+jnZz+RkBA+/v19P+jnZz+RkBA+/v19P+jnZz+RkBA+/v19P+jnZz+RkBA+/v19P+jnZz+RkBA+/v19P+jnZz+RkBA+/v19P+jnZz+RkBA+/v19P+jnZz+RkBA+/v19P+jnZz+RkBA+/v19P+jnZz+RkBA+/v19P+jnZz+RkBA+/v19P+jnZz+RkBA+/v19P+jnZz+RkBA+/v19P+jnZz+RkBA+/v19P+jnZz+RkBA+/v19P+jnZz+RkBA+/v19P+jnZz+RkBA+/v19P+jnZz+RkBA+/v19P+jnZz+RkBA+/v19P+jnZz+RkBA+/v19P+jnZz+RkBA+/v19P+jnZz+RkBA+/v19P+jnZz+RkBA+/v19P+jnZz+RkBA+/v19P+jnZz+RkBA+/v19P+jnZz+RkBA+/v19P+jnZz+RkBA+/v19P+jnZz+RkBA+iYiIPoGAgDupqKg+iYiIPoGAgDupqKg+iYiIPoGAgDupqKg+iYiIPoGAgDupqKg+iYiIPoGAgDupqKg+iYiIPoGAgDupqKg+iYiIPoGAgDupqKg+iYiIPoGAgDupqKg+iYiIPoGAgDupqKg+iYiIPoGAgDupqKg+iYiIPoGAgDupqKg+iYiIPoGAgDupqKg+iYiIPoGAgDupqKg+iYiIPoGAgDupqKg+iYiIPoGAgDupqKg+iYiIPoGAgDupqKg+iYiIPoGAgDupqKg+iYiIPoGAgDupqKg+iYiIPoGAgDupqKg+iYiIPoGAgDupqKg+iYiIPoGAgDupqKg+iYiIPoGAgDupqKg+iYiIPoGAgDupqKg+iYiIPoGAgDupqKg+/v19P+jnZz+RkBA+/v19P+jnZz+RkBA+/v19P+jnZz+RkBA+/v19P+jnZz+RkBA+/v19P+jnZz+RkBA+/v19P+jnZz+RkBA+/v19P+jnZz+RkBA+/v19P+jnZz+RkBA+/v19P+jnZz+RkBA+/v19P+jnZz+RkBA+/v19P+jnZz+RkBA+/v19P+jnZz+RkBA+/v19P+jnZz+RkBA+/v19P+jnZz+RkBA+/v19P+jnZz+RkBA+/v19P+jnZz+RkBA+/v19P+jnZz+RkBA+/v19P+jnZz+RkBA+/v19P+jnZz+RkBA+/v19P+jnZz+RkBA+/v19P+jnZz+RkBA+/v19P+jnZz+RkBA+/v19P+jnZz+RkBA+/v19P+jnZz+RkBA+/v19P+jnZz+RkBA+/v19P+jnZz+RkBA+/v19P+jnZz+RkBA+/v19P+jnZz+RkBA+/v19P+jnZz+RkBA+/v19P+jnZz+RkBA+/v19P+jnZz+RkBA+/v19P+jnZz+RkBA+/v19P+jnZz+RkBA+/v19P+jnZz+RkBA+/v19P+jnZz+RkBA+/v19P+jnZz+RkBA+/v19P+jnZz+RkBA+/v19P+jnZz+RkBA+/v19P+jnZz+RkBA+/v19P+jnZz+RkBA+/v19P+jnZz+RkBA+/v19P+jnZz+RkBA+/v19P+jnZz+RkBA+/v19P+jnZz+RkBA+/v19P+jnZz+RkBA+/v19P+jnZz+RkBA+/v19P+jnZz+RkBA+/v19P+jnZz+RkBA+/v19P+jnZz+RkBA+/v19P+jnZz+RkBA+/v19P+jnZz+RkBA+/v19P+jnZz+RkBA+/v19P+jnZz+RkBA+/v19P+jnZz+RkBA+/v19P+jnZz+RkBA+/v19P+jnZz+RkBA+/v19P+jnZz+RkBA+/v19P+jnZz+RkBA+/v19P+jnZz+RkBA+/v19P+jnZz+RkBA+iYiIPoGAgDupqKg+iYiIPoGAgDupqKg+iYiIPoGAgDupqKg+iYiIPoGAgDupqKg+iYiIPoGAgDupqKg+iYiIPoGAgDupqKg+iYiIPoGAgDupqKg+iYiIPoGAgDupqKg+iYiIPoGAgDupqKg+iYiIPoGAgDupqKg+iYiIPoGAgDupqKg+iYiIPoGAgDupqKg+iYiIPoGAgDupqKg+iYiIPoGAgDupqKg+iYiIPoGAgDupqKg+iYiIPoGAgDupqKg+iYiIPoGAgDupqKg+iYiIPoGAgDupqKg+iYiIPoGAgDupqKg+iYiIPoGAgDupqKg+iYiIPoGAgDupqKg+iYiIPoGAgDupqKg+iYiIPoGAgDupqKg+iYiIPoGAgDupqKg+/v19P+jnZz+RkBA+/v19P+jnZz+RkBA+/v19P+jnZz+RkBA+/v19P+jnZz+RkBA+/v19P+jnZz+RkBA+/v19P+jnZz+RkBA+/v19P+jnZz+RkBA+/v19P+jnZz+RkBA+/v19P+jnZz+RkBA+/v19P+jnZz+RkBA+/v19P+jnZz+RkBA+/v19P+jnZz+RkBA+/v19P+jnZz+RkBA+/v19P+jnZz+RkBA+/v19P+jnZz+RkBA+/v19P+jnZz+RkBA+/v19P+jnZz+RkBA+/v19P+jnZz+RkBA+/v19P+jnZz+RkBA+/v19P+jnZz+RkBA+/v19P+jnZz+RkBA+/v19P+jnZz+RkBA+/v19P+jnZz+RkBA+/v19P+jnZz+RkBA+/v19P+jnZz+RkBA+/v19P+jnZz+RkBA+/v19P+jnZz+RkBA+/v19P+jnZz+RkBA+/v19P+jnZz+RkBA+/v19P+jnZz+RkBA+/v19P+jnZz+RkBA+/v19P+jnZz+RkBA+/v19P+jnZz+RkBA+/v19P+jnZz+RkBA+/v19P+jnZz+RkBA+/v19P+jnZz+RkBA+/v19P+jnZz+RkBA+/v19P+jnZz+RkBA+/v19P+jnZz+RkBA+/v19P+jnZz+RkBA+/v19P+jnZz+RkBA+/v19P+jnZz+RkBA+/v19P+jnZz+RkBA+/v19P+jnZz+RkBA+/v19P+jnZz+RkBA+/v19P+jnZz+RkBA+/v19P+jnZz+RkBA+/v19P+jnZz+RkBA+/v19P+jnZz+RkBA+/v19P+jnZz+RkBA+/v19P+jnZz+RkBA+/v19P+jnZz+RkBA+/v19P+jnZz+RkBA+/v19P+jnZz+RkBA+iYiIPoGAgDupqKg+iYiIPoGAgDupqKg+iYiIPoGAgDupqKg+iYiIPoGAgDupqKg+iYiIPoGAgDupqKg+iYiIPoGAgDupqKg+iYiIPoGAgDupqKg+iYiIPoGAgDupqKg+iYiIPoGAgDupqKg+iYiIPoGAgDupqKg+iYiIPoGAgDupqKg+iYiIPoGAgDupqKg+iYiIPoGAgDupqKg+iYiIPoGAgDupqKg+iYiIPoGAgDupqKg+iYiIPoGAgDupqKg+iYiIPoGAgDupqKg+iYiIPoGAgDupqKg+iYiIPoGAgDupqKg+iYiIPoGAgDupqKg+iYiIPoGAgDupqKg+iYiIPoGAgDupqKg+iYiIPoGAgDupqKg+iYiIPoGAgDupqKg+/v19P+jnZz+RkBA+/v19P+jnZz+RkBA+/v19P+jnZz+RkBA+/v19P+jnZz+RkBA+/v19P+jnZz+RkBA+/v19P+jnZz+RkBA+/v19P+jnZz+RkBA+/v19P+jnZz+RkBA+/v19P+jnZz+RkBA+/v19P+jnZz+RkBA+/v19P+jnZz+RkBA+/v19P+jnZz+RkBA+/v19P+jnZz+RkBA+/v19P+jnZz+RkBA+/v19P+jnZz+RkBA+/v19P+jnZz+RkBA+/v19P+jnZz+RkBA+/v19P+jnZz+RkBA+/v19P+jnZz+RkBA+/v19P+jnZz+RkBA+/v19P+jnZz+RkBA+/v19P+jnZz+RkBA+/v19P+jnZz+RkBA+/v19P+jnZz+RkBA+/v19P+jnZz+RkBA+/v19P+jnZz+RkBA+/v19P+jnZz+RkBA+/v19P+jnZz+RkBA+/v19P+jnZz+RkBA+/v19P+jnZz+RkBA+/v19P+jnZz+RkBA+/v19P+jnZz+RkBA+/v19P+jnZz+RkBA+/v19P+jnZz+RkBA+/v19P+jnZz+RkBA+/v19P+jnZz+RkBA+/v19P+jnZz+RkBA+/v19P+jnZz+RkBA+/v19P+jnZz+RkBA+/v19P+jnZz+RkBA+/v19P+jnZz+RkBA+/v19P+jnZz+RkBA+/v19P+jnZz+RkBA+/v19P+jnZz+RkBA+/v19P+jnZz+RkBA+/v19P+jnZz+RkBA+/v19P+jnZz+RkBA+/v19P+jnZz+RkBA+iYiIPoGAgDupqKg+iYiIPoGAgDupqKg+iYiIPoGAgDupqKg+iYiIPoGAgDupqKg+iYiIPoGAgDupqKg+iYiIPoGAgDupqKg+iYiIPoGAgDupqKg+iYiIPoGAgDupqKg+iYiIPoGAgDupqKg+iYiIPoGAgDupqKg+iYiIPoGAgDupqKg+iYiIPoGAgDupqKg+iYiIPoGAgDupqKg+iYiIPoGAgDupqKg+iYiIPoGAgDupqKg+iYiIPoGAgDupqKg+iYiIPoGAgDupqKg+iYiIPoGAgDupqKg+iYiIPoGAgDupqKg+iYiIPoGAgDupqKg+iYiIPoGAgDupqKg+iYiIPoGAgDupqKg+iYiIPoGAgDupqKg+iYiIPoGAgDupqKg+/v19P+jnZz+RkBA+/v19P+jnZz+RkBA+/v19P+jnZz+RkBA+/v19P+jnZz+RkBA+/v19P+jnZz+RkBA+/v19P+jnZz+RkBA+/v19P+jnZz+RkBA+/v19P+jnZz+RkBA+/v19P+jnZz+RkBA+/v19P+jnZz+RkBA+/v19P+jnZz+RkBA+/v19P+jnZz+RkBA+/v19P+jnZz+RkBA+/v19P+jnZz+RkBA+/v19P+jnZz+RkBA+/v19P+jnZz+RkBA+/v19P+jnZz+RkBA+/v19P+jnZz+RkBA+/v19P+jnZz+RkBA+/v19P+jnZz+RkBA+/v19P+jnZz+RkBA+/v19P+jnZz+RkBA+/v19P+jnZz+RkBA+/v19P+jnZz+RkBA+/v19P+jnZz+RkBA+/v19P+jnZz+RkBA+/v19P+jnZz+RkBA+/v19P+jnZz+RkBA+/v19P+jnZz+RkBA+/v19P+jnZz+RkBA+/v19P+jnZz+RkBA+/v19P+jnZz+RkBA+/v19P+jnZz+RkBA+/v19P+jnZz+RkBA+/v19P+jnZz+RkBA+/v19P+jnZz+RkBA+/v19P+jnZz+RkBA+/v19P+jnZz+RkBA+/v19P+jnZz+RkBA+/v19P+jnZz+RkBA+/v19P+jnZz+RkBA+/v19P+jnZz+RkBA+iYiIPoGAgDupqKg+iYiIPoGAgDupqKg+iYiIPoGAgDupqKg+iYiIPoGAgDupqKg+iYiIPoGAgDupqKg+iYiIPoGAgDupqKg+iYiIPoGAgDupqKg+iYiIPoGAgDupqKg+iYiIPoGAgDupqKg+iYiIPoGAgDupqKg+iYiIPoGAgDupqKg+iYiIPoGAgDupqKg+iYiIPoGAgDupqKg+iYiIPoGAgDupqKg+iYiIPoGAgDupqKg+iYiIPoGAgDupqKg+iYiIPoGAgDupqKg+iYiIPoGAgDupqKg+iYiIPoGAgDupqKg+iYiIPoGAgDupqKg+iYiIPoGAgDupqKg+iYiIPoGAgDupqKg+iYiIPoGAgDupqKg+iYiIPoGAgDupqKg+/v19P+jnZz+RkBA+/v19P+jnZz+RkBA+/v19P+jnZz+RkBA+/v19P+jnZz+RkBA+/v19P+jnZz+RkBA+/v19P+jnZz+RkBA+/v19P+jnZz+RkBA+/v19P+jnZz+RkBA+/v19P+jnZz+RkBA+/v19P+jnZz+RkBA+/v19P+jnZz+RkBA+/v19P+jnZz+RkBA+/v19P+jnZz+RkBA+/v19P+jnZz+RkBA+/v19P+jnZz+RkBA+/v19P+jnZz+RkBA+/v19P+jnZz+RkBA+/v19P+jnZz+RkBA+/v19P+jnZz+RkBA+/v19P+jnZz+RkBA+/v19P+jnZz+RkBA+/v19P+jnZz+RkBA+/v19P+jnZz+RkBA+/v19P+jnZz+RkBA+/v19P+jnZz+RkBA+/v19P+jnZz+RkBA+/v19P+jnZz+RkBA+/v19P+jnZz+RkBA+/v19P+jnZz+RkBA+/v19P+jnZz+RkBA+/v19P+jnZz+RkBA+/v19P+jnZz+RkBA+/v19P+jnZz+RkBA+/v19P+jnZz+RkBA+/v19P+jnZz+RkBA+/v19P+jnZz+RkBA+iYiIPoGAgDupqKg+iYiIPoGAgDupqKg+iYiIPoGAgDupqKg+iYiIPoGAgDupqKg+iYiIPoGAgDupqKg+iYiIPoGAgDupqKg+iYiIPoGAgDupqKg+iYiIPoGAgDupqKg+iYiIPoGAgDupqKg+iYiIPoGAgDupqKg+iYiIPoGAgDupqKg+iYiIPoGAgDupqKg+iYiIPoGAgDupqKg+iYiIPoGAgDupqKg+iYiIPoGAgDupqKg+iYiIPoGAgDupqKg+iYiIPoGAgDupqKg+iYiIPoGAgDupqKg+iYiIPoGAgDupqKg+iYiIPoGAgDupqKg+iYiIPoGAgDupqKg+iYiIPoGAgDupqKg+iYiIPoGAgDupqKg+iYiIPoGAgDupqKg+/v19P+jnZz+RkBA+/v19P+jnZz+RkBA+/v19P+jnZz+RkBA+/v19P+jnZz+RkBA+/v19P+jnZz+RkBA+/v19P+jnZz+RkBA+/v19P+jnZz+RkBA+/v19P+jnZz+RkBA+/v19P+jnZz+RkBA+/v19P+jnZz+RkBA+/v19P+jnZz+RkBA+/v19P+jnZz+RkBA+/v19P+jnZz+RkBA+/v19P+jnZz+RkBA+/v19P+jnZz+RkBA+/v19P+jnZz+RkBA+/v19P+jnZz+RkBA+/v19P+jnZz+RkBA+/v19P+jnZz+RkBA+/v19P+jnZz+RkBA+/v19P+jnZz+RkBA+/v19P+jnZz+RkBA+/v19P+jnZz+RkBA+/v19P+jnZz+RkBA+/v19P+jnZz+RkBA+/v19P+jnZz+RkBA+/v19P+jnZz+RkBA+/v19P+jnZz+RkBA+/v19P+jnZz+RkBA+/v19P+jnZz+RkBA+iYiIPoGAgDupqKg+iYiIPoGAgDupqKg+iYiIPoGAgDupqKg+iYiIPoGAgDupqKg+iYiIPoGAgDupqKg+iYiIPoGAgDupqKg+iYiIPoGAgDupqKg+iYiIPoGAgDupqKg+iYiIPoGAgDupqKg+iYiIPoGAgDupqKg+iYiIPoGAgDupqKg+iYiIPoGAgDupqKg+iYiIPoGAgDupqKg+iYiIPoGAgDupqKg+iYiIPoGAgDupqKg+iYiIPoGAgDupqKg+iYiIPoGAgDupqKg+iYiIPoGAgDupqKg+iYiIPoGAgDupqKg+iYiIPoGAgDupqKg+iYiIPoGAgDupqKg+iYiIPoGAgDupqKg+iYiIPoGAgDupqKg+iYiIPoGAgDupqKg+/v19P+jnZz+RkBA+/v19P+jnZz+RkBA+/v19P+jnZz+RkBA+/v19P+jnZz+RkBA+/v19P+jnZz+RkBA+/v19P+jnZz+RkBA+/v19P+jnZz+RkBA+/v19P+jnZz+RkBA+/v19P+jnZz+RkBA+/v19P+jnZz+RkBA+/v19P+jnZz+RkBA+/v19P+jnZz+RkBA+/v19P+jnZz+RkBA+/v19P+jnZz+RkBA+/v19P+jnZz+RkBA+/v19P+jnZz+RkBA+/v19P+jnZz+RkBA+/v19P+jnZz+RkBA+/v19P+jnZz+RkBA+/v19P+jnZz+RkBA+/v19P+jnZz+RkBA+/v19P+jnZz+RkBA+/v19P+jnZz+RkBA+/v19P+jnZz+RkBA+iYiIPoGAgDupqKg+iYiIPoGAgDupqKg+iYiIPoGAgDupqKg+iYiIPoGAgDupqKg+iYiIPoGAgDupqKg+iYiIPoGAgDupqKg+iYiIPoGAgDupqKg+iYiIPoGAgDupqKg+iYiIPoGAgDupqKg+iYiIPoGAgDupqKg+iYiIPoGAgDupqKg+iYiIPoGAgDupqKg+iYiIPoGAgDupqKg+iYiIPoGAgDupqKg+iYiIPoGAgDupqKg+iYiIPoGAgDupqKg+iYiIPoGAgDupqKg+iYiIPoGAgDupqKg+iYiIPoGAgDupqKg+iYiIPoGAgDupqKg+iYiIPoGAgDupqKg+iYiIPoGAgDupqKg+iYiIPoGAgDupqKg+iYiIPoGAgDupqKg+/v19P+jnZz+RkBA+/v19P+jnZz+RkBA+/v19P+jnZz+RkBA+/v19P+jnZz+RkBA+/v19P+jnZz+RkBA+/v19P+jnZz+RkBA+/v19P+jnZz+RkBA+/v19P+jnZz+RkBA+/v19P+jnZz+RkBA+/v19P+jnZz+RkBA+/v19P+jnZz+RkBA+/v19P+jnZz+RkBA+/v19P+jnZz+RkBA+/v19P+jnZz+RkBA+/v19P+jnZz+RkBA+/v19P+jnZz+RkBA+/v19P+jnZz+RkBA+/v19P+jnZz+RkBA+iYiIPoGAgDupqKg+iYiIPoGAgDupqKg+iYiIPoGAgDupqKg+iYiIPoGAgDupqKg+iYiIPoGAgDupqKg+iYiIPoGAgDupqKg+iYiIPoGAgDupqKg+iYiIPoGAgDupqKg+iYiIPoGAgDupqKg+iYiIPoGAgDupqKg+iYiIPoGAgDupqKg+iYiIPoGAgDupqKg+iYiIPoGAgDupqKg+iYiIPoGAgDupqKg+iYiIPoGAgDupqKg+iYiIPoGAgDupqKg+iYiIPoGAgDupqKg+iYiIPoGAgDupqKg+iYiIPoGAgDupqKg+iYiIPoGAgDupqKg+iYiIPoGAgDupqKg+iYiIPoGAgDupqKg+iYiIPoGAgDupqKg+iYiIPoGAgDupqKg+/v19P+jnZz+RkBA+/v19P+jnZz+RkBA+/v19P+jnZz+RkBA+/v19P+jnZz+RkBA+/v19P+jnZz+RkBA+/v19P+jnZz+RkBA+/v19P+jnZz+RkBA+/v19P+jnZz+RkBA+/v19P+jnZz+RkBA+/v19P+jnZz+RkBA+/v19P+jnZz+RkBA+/v19P+jnZz+RkBA+iYiIPoGAgDupqKg+iYiIPoGAgDupqKg+iYiIPoGAgDupqKg+iYiIPoGAgDupqKg+iYiIPoGAgDupqKg+iYiIPoGAgDupqKg+iYiIPoGAgDupqKg+iYiIPoGAgDupqKg+iYiIPoGAgDupqKg+iYiIPoGAgDupqKg+iYiIPoGAgDupqKg+iYiIPoGAgDupqKg+iYiIPoGAgDupqKg+iYiIPoGAgDupqKg+iYiIPoGAgDupqKg+iYiIPoGAgDupqKg+iYiIPoGAgDupqKg+iYiIPoGAgDupqKg+iYiIPoGAgDupqKg+iYiIPoGAgDupqKg+iYiIPoGAgDupqKg+iYiIPoGAgDupqKg+iYiIPoGAgDupqKg+iYiIPoGAgDupqKg+/v19P+jnZz+RkBA+/v19P+jnZz+RkBA+/v19P+jnZz+RkBA+/v19P+jnZz+RkBA+/v19P+jnZz+RkBA+/v19P+jnZz+RkBA+iYiIPoGAgDupqKg+iYiIPoGAgDupqKg+iYiIPoGAgDupqKg+iYiIPoGAgDupqKg+iYiIPoGAgDupqKg+iYiIPoGAgDupqKg+iYiIPoGAgDupqKg+iYiIPoGAgDupqKg+iYiIPoGAgDupqKg+iYiIPoGAgDupqKg+iYiIPoGAgDupqKg+iYiIPoGAgDupqKg+iYiIPoGAgDupqKg+iYiIPoGAgDupqKg+iYiIPoGAgDupqKg+iYiIPoGAgDupqKg+iYiIPoGAgDupqKg+iYiIPoGAgDupqKg+iYiIPoGAgDupqKg+iYiIPoGAgDupqKg+iYiIPoGAgDupqKg+iYiIPoGAgDupqKg+iYiIPoGAgDupqKg+iYiIPoGAgDupqKg+iYiIPoGAgDupqKg+iYiIPoGAgDupqKg+iYiIPoGAgDupqKg+iYiIPoGAgDupqKg+iYiIPoGAgDupqKg+iYiIPoGAgDupqKg+iYiIPoGAgDupqKg+iYiIPoGAgDupqKg+iYiIPoGAgDupqKg+iYiIPoGAgDupqKg+iYiIPoGAgDupqKg+iYiIPoGAgDupqKg+iYiIPoGAgDupqKg+iYiIPoGAgDupqKg+iYiIPoGAgDupqKg+iYiIPoGAgDupqKg+iYiIPoGAgDupqKg+iYiIPoGAgDupqKg+iYiIPoGAgDupqKg+iYiIPoGAgDupqKg+iYiIPoGAgDupqKg+iYiIPoGAgDupqKg+iYiIPoGAgDupqKg+iYiIPoGAgDupqKg+iYiIPoGAgDupqKg+iYiIPoGAgDupqKg+iYiIPoGAgDupqKg+iYiIPoGAgDupqKg+iYiIPoGAgDupqKg+iYiIPoGAgDupqKg+iYiIPoGAgDupqKg+iYiIPoGAgDupqKg+iYiIPoGAgDupqKg+iYiIPoGAgDupqKg+iYiIPoGAgDupqKg+iYiIPoGAgDupqKg+iYiIPoGAgDupqKg+iYiIPoGAgDupqKg+iYiIPoGAgDupqKg+iYiIPoGAgDupqKg+iYiIPoGAgDupqKg+iYiIPoGAgDupqKg+iYiIPoGAgDupqKg+iYiIPoGAgDupqKg+iYiIPoGAgDupqKg+iYiIPoGAgDupqKg+iYiIPoGAgDupqKg+iYiIPoGAgDupqKg+\"\n",
              "        }\n",
              "      ]\n",
              "    },\n",
              "    \"60947744c5104da7b9fe50d7c95525fd\": {\n",
              "      \"model_name\": \"MeshPhongMaterialModel\",\n",
              "      \"model_module\": \"jupyter-threejs\",\n",
              "      \"model_module_version\": \"^2.1.0\",\n",
              "      \"state\": {\n",
              "        \"alphaMap\": null,\n",
              "        \"aoMap\": null,\n",
              "        \"bumpMap\": null,\n",
              "        \"clippingPlanes\": [],\n",
              "        \"defines\": null,\n",
              "        \"displacementMap\": null,\n",
              "        \"emissiveMap\": null,\n",
              "        \"envMap\": null,\n",
              "        \"flatShading\": true,\n",
              "        \"lightMap\": null,\n",
              "        \"map\": null,\n",
              "        \"normalMap\": null,\n",
              "        \"polygonOffset\": true,\n",
              "        \"polygonOffsetFactor\": 1.0,\n",
              "        \"polygonOffsetUnits\": 1.0,\n",
              "        \"reflectivity\": 0.0,\n",
              "        \"shininess\": 0.0,\n",
              "        \"side\": \"DoubleSide\",\n",
              "        \"specular\": \"#000000\",\n",
              "        \"specularMap\": null,\n",
              "        \"vertexColors\": \"FaceColors\"\n",
              "      }\n",
              "    },\n",
              "    \"83d9d2f2757d4744b1326a67b1b562b6\": {\n",
              "      \"model_name\": \"WebGLShadowMapModel\",\n",
              "      \"model_module\": \"jupyter-threejs\",\n",
              "      \"model_module_version\": \"^2.1.0\",\n",
              "      \"state\": {}\n",
              "    }\n",
              "  }\n",
              "}\n",
              "</script>\n",
              "<script type=\"application/vnd.jupyter.widget-view+json\">\n",
              "{\"version_major\": 2, \"version_minor\": 0, \"model_id\": \"de4204502fca4b4897cd3df73b3d7b16\"}\n",
              "</script>\n",
              "<script type=\"application/vnd.jupyter.widget-view+json\">\n",
              "{\"version_major\": 2, \"version_minor\": 0, \"model_id\": \"b8ab3186fe2f4c7da443617cce61f971\"}\n",
              "</script>\n",
              "<script type=\"application/vnd.jupyter.widget-view+json\">\n",
              "{\"version_major\": 2, \"version_minor\": 0, \"model_id\": \"b3ac566dbd464eff849ae184b50b7e59\"}\n",
              "</script>\n",
              "\n",
              "</body>\n",
              "</html>\n"
            ]
          },
          "metadata": {},
          "execution_count": 40
        }
      ],
      "source": [
        "def wall(x):\n",
        "    vertical = (x[0] <= 0.1) | (x[0] >= 0.9)\n",
        "    horizontal = (x[1] <= 0.1) | (x[1] >= 0.9)\n",
        "    return horizontal | vertical\n",
        "\n",
        "\n",
        "comm = MPI.COMM_WORLD\n",
        "mesh = create_unit_square(comm, 20, 20, CellType.quadrilateral)\n",
        "\n",
        "cells = locate_entities(mesh, mesh.topology.dim, wall)\n",
        "DG = fem.FunctionSpace(mesh, (\"DG\", 0))\n",
        "\n",
        "# Thermal diffusivity\n",
        "alpha = fem.Function(DG)\n",
        "alpha.x.array[:] = 19e-6\n",
        "\n",
        "# Edit here: diffusivity of wall\n",
        "alpha.x.array[cells] = 0.27e-6\n",
        "\n",
        "plot_mesh(mesh, cell_values=alpha, filename=\"alpha.html\")\n",
        "IPython.display.HTML(filename=\"alpha.html\")"
      ]
    },
    {
      "cell_type": "markdown",
      "id": "2ddb6574",
      "metadata": {
        "id": "2ddb6574"
      },
      "source": [
        "**Task 2**: create a python function that defines the outside temperature\n",
        "$$u_{out} = -5 + 15 \\cdot |sin(\\omega t)|$$\n",
        "where $\\omega = \\pi/(24\\cdot60\\cdot60)$. \n",
        "Plot the temperature for a period of 48 hours."
      ]
    },
    {
      "cell_type": "code",
      "execution_count": 91,
      "id": "9bcaebb1",
      "metadata": {
        "lines_to_next_cell": 2,
        "colab": {
          "base_uri": "https://localhost:8080/",
          "height": 305
        },
        "id": "9bcaebb1",
        "outputId": "74966d42-4e0b-4133-d85e-2ada907b291e"
      },
      "outputs": [
        {
          "output_type": "execute_result",
          "data": {
            "text/plain": [
              "Text(0, 0.5, 'Temperature ($^oC$)')"
            ]
          },
          "metadata": {},
          "execution_count": 91
        },
        {
          "output_type": "display_data",
          "data": {
            "text/plain": [
              "<Figure size 432x288 with 1 Axes>"
            ],
            "image/png": "[encoded data removed]"
          },
          "metadata": {
            "needs_background": "light"
          }
        }
      ],
      "source": [
        "period = 60*60*24 # seconds in a day\n",
        "def outside_temperature(t, x):\n",
        "    # Edit this function\n",
        "    temperature = 0.\n",
        "    return numpy.full_like(x[0], temperature)\n",
        "\n",
        "# Task: Plot the hourly temperature during a day:\n",
        "time = numpy.linspace(0, 48*60*60, 1000)\n",
        "temp = numpy.zeros_like(time)\n",
        "for i, t in enumerate(time):\n",
        "    point = numpy.array([[0., 0.]]).T\n",
        "    temp[i] = outside_temperature(t, point)[0]\n",
        "\n",
        "\n",
        "import matplotlib.pyplot as plt\n",
        "plt.plot(time/(60*60), temp)\n",
        "plt.xlabel('Time (hour)', fontsize=20)\n",
        "plt.ylabel('Temperature ($^oC$)', fontsize=20)"
      ]
    },
    {
      "cell_type": "markdown",
      "id": "f472c3a7",
      "metadata": {
        "id": "f472c3a7"
      },
      "source": [
        "**Task 3**: Modify the following thermal solver so that it returns the temperature inside the room at each time step.\n",
        "Save the solution at each time-step and visualize with paraview."
      ]
    },
    {
      "cell_type": "code",
      "execution_count": 103,
      "id": "7676a619",
      "metadata": {
        "id": "7676a619"
      },
      "outputs": [],
      "source": [
        "def thermal_solver(alpha, intial_temp=15, time_step=900.0):\n",
        "    mesh = alpha.function_space.mesh\n",
        "\n",
        "    # Create function space\n",
        "    V = fem.FunctionSpace(mesh, (\"Lagrange\", 1))\n",
        "    \n",
        "    # Define trial and test functions\n",
        "    u = TrialFunction(V)\n",
        "    v = TestFunction(V)\n",
        "\n",
        "    # Initial condition\n",
        "    u0 = fem.Function(V)\n",
        "    u0.interpolate(lambda x: numpy.full_like(x[0], intial_temp))\n",
        "\n",
        "    # Time step (15 min - 900 seconds)\n",
        "    dt = fem.Constant(mesh, time_step)\n",
        "\n",
        "    # Bilinear form\n",
        "    a = inner(u, v) * dx + dt * alpha * inner(grad(u), grad(v)) * dx\n",
        "    a = fem.form(a)\n",
        "\n",
        "    # Linear form\n",
        "    L = inner(u0, v) * dx\n",
        "    L = fem.form(L)  # JIT compilation\n",
        "\n",
        "\n",
        "    # Define dirichlet bc at t=0\n",
        "    temp0 = partial(outside_temperature, 0)\n",
        "    u_D = fem.Function(V)\n",
        "    u_D.interpolate(temp0)\n",
        "    \n",
        "    # Create boundary condition\n",
        "    tdim = mesh.topology.dim\n",
        "    mesh.topology.create_connectivity(tdim - 1, tdim)\n",
        "    bndry_facets = exterior_facet_indices(mesh.topology)\n",
        "    bndry_dofs = fem.locate_dofs_topological(V, tdim - 1, bndry_facets)\n",
        "    bcs = [fem.dirichletbc(u_D, bndry_dofs)]\n",
        "\n",
        "    # Assemble matrix A and RHS b\n",
        "    A = fem.petsc.assemble_matrix(a, bcs=bcs)\n",
        "    A.assemble()\n",
        "    b = fem.Function(V)\n",
        "\n",
        "    solver = PETSc.KSP().create(comm)\n",
        "    solver.setOperators(A)\n",
        "    solver.setType(PETSc.KSP.Type.CG)\n",
        "    pc = solver.getPC()\n",
        "    pc.setType(\"gamg\")\n",
        "\n",
        "    u = fem.Function(V)\n",
        "    u.interpolate(u0)\n",
        "\n",
        "    # Check against standard table value\n",
        "    # Create bounding box for function evaluation\n",
        "    bb_tree = geometry.BoundingBoxTree(mesh, mesh.topology.dim)\n",
        "    p = numpy.array([0.5, 0.5, 0.0], dtype=numpy.float64)\n",
        "    cell_candidates = geometry.compute_collisions(bb_tree, p)\n",
        "    cells = geometry.compute_colliding_cells(mesh, cell_candidates, p)\n",
        "\n",
        "    value = u.eval(p, cells[0])\n",
        "    print(f\"Room temperature {value} at time t=0\")\n",
        "\n",
        "    t = 0\n",
        "    num_days = 2\n",
        "    t_max = period * num_days\n",
        "\n",
        "    # Array to store temperature\n",
        "    temperature = [value]\n",
        "    time = [t]\n",
        "\n",
        "    while t < t_max:\n",
        "        time.append(t)\n",
        "        t += dt.value\n",
        "\n",
        "        # Update boundary condition\n",
        "        u_D.interpolate(partial(outside_temperature, t))\n",
        "\n",
        "        # Assemble RHS\n",
        "        b.x.array[:] = 0\n",
        "        fem.petsc.assemble_vector(b.vector, L)\n",
        "\n",
        "        # Apply boundary condition\n",
        "        fem.petsc.apply_lifting(b.vector, [a], [bcs])\n",
        "        # b.x.scatter_reverse(ScatterMode.add)\n",
        "        fem.petsc.set_bc(b.vector, bcs)\n",
        "\n",
        "        # Solve linear problem\n",
        "        solver.solve(b.vector, u.vector)\n",
        "        u.x.scatter_forward()\n",
        "\n",
        "        ##### TODO\n",
        "        ###### Evaluate u an append to \"temperature\"\n",
        "\n",
        "        # Update un\n",
        "        u0.x.array[:] = u.x.array\n",
        "    \n",
        "    return temperature, time"
      ]
    },
    {
      "cell_type": "markdown",
      "id": "a4d96ba9",
      "metadata": {
        "id": "a4d96ba9"
      },
      "source": [
        "**Task 4**: Which material should we use for insulation?\n",
        "Modify the alpha value on the wall and plot temperature\n",
        "vs time inside the room."
      ]
    },
    {
      "cell_type": "code",
      "execution_count": 109,
      "id": "acca4b42",
      "metadata": {
        "colab": {
          "base_uri": "https://localhost:8080/",
          "height": 357
        },
        "id": "acca4b42",
        "outputId": "04d01672-a2ee-4ae3-d428-d4689f7304f2"
      },
      "outputs": [
        {
          "output_type": "stream",
          "name": "stdout",
          "text": [
            "Room temperature [15.] at time t=0\n",
            "Room temperature [15.] at time t=0\n",
            "Room temperature [15.] at time t=0\n"
          ]
        },
        {
          "output_type": "execute_result",
          "data": {
            "text/plain": [
              "<matplotlib.legend.Legend at 0x7fe40ce22310>"
            ]
          },
          "metadata": {},
          "execution_count": 109
        },
        {
          "output_type": "display_data",
          "data": {
            "text/plain": [
              "<Figure size 432x288 with 1 Axes>"
            ],
            "image/png": "[encoded data removed]"
          },
          "metadata": {
            "needs_background": "light"
          }
        }
      ],
      "source": [
        "alpha.x.array[cells] = 0.27e-6\n",
        "temperature, time = thermal_solver(alpha)\n",
        "import matplotlib.pyplot as plt\n",
        "plt.plot(time, temperature, label=\"brick\")\n",
        "assert len(temperature) == len(time)\n",
        "\n",
        "## Complete with different material\n",
        "\n",
        "plt.xlabel('Time (hour)', fontsize=20)\n",
        "plt.ylabel('Temperature ($^oC$)', fontsize=20)\n",
        "plt.legend()"
      ]
    }
  ],
  "metadata": {
    "jupytext": {
      "cell_metadata_filter": "-all",
      "main_language": "python",
      "notebook_metadata_filter": "-all"
    },
    "colab": {
      "provenance": [],
      "include_colab_link": true
    },
    "language_info": {
      "name": "python"
    },
    "kernelspec": {
      "name": "python3",
      "display_name": "Python 3"
    },
    "gpuClass": "standard"
  },
  "nbformat": 4,
  "nbformat_minor": 5
}