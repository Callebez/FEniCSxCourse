{
  "cells": [
    {
      "cell_type": "markdown",
      "metadata": {
        "id": "view-in-github",
        "colab_type": "text"
      },
      "source": [
        "<a href=\"https://colab.research.google.com/github/IgorBaratta/FEniCSxCourse/blob/ICMC23/Problem2_Transient/heat_eq.ipynb\" target=\"_parent\"><img src=\"https://colab.research.google.com/assets/colab-badge.svg\" alt=\"Open In Colab\"/></a>"
      ]
    },
    {
      "cell_type": "code",
      "source": [
        "try:\n",
        "    import gmsh\n",
        "except ImportError:\n",
        "    !wget \"https://fem-on-colab.github.io/releases/gmsh-install.sh\" -O \"/tmp/gmsh-install.sh\" && bash \"/tmp/gmsh-install.sh\"\n",
        "    import gmsh\n",
        "    \n",
        "try:\n",
        "    import dolfinx\n",
        "except ImportError:\n",
        "    !wget \"https://fem-on-colab.github.io/releases/fenicsx-install-real.sh\" -O \"/tmp/fenicsx-install.sh\" && bash \"/tmp/fenicsx-install.sh\"\n",
        "    import dolfinx\n",
        "\n",
        "try:\n",
        "    import pyvista\n",
        "except ImportError:\n",
        "    !pip install - q piglet pyvirtualdisplay ipyvtklink pyvista panel\n",
        "    !apt-get - qq install xvfb\n",
        "    import pyvista"
      ],
      "metadata": {
        "id": "glCC3KAVkNxY"
      },
      "id": "glCC3KAVkNxY",
      "execution_count": null,
      "outputs": []
    },
    {
      "cell_type": "markdown",
      "id": "930b7e44",
      "metadata": {
        "id": "930b7e44"
      },
      "source": [
        "# Solving a time-dependent problem"
      ]
    },
    {
      "cell_type": "markdown",
      "id": "f80fc37c",
      "metadata": {
        "id": "f80fc37c"
      },
      "source": [
        "\n",
        "This notebook shows how to solve a transient problem using DOLFINx, \n",
        "namely the diffusion problem, the simplest extension of the Poisson problem.\n",
        "\n",
        "The transient or unsteady version of the previous problems includes an additional term involving the rate \n",
        "of change of the physical quantity of interest. \n",
        "For the heat conduction problem the equation reads\n",
        "$$\n",
        "\\begin{align*}\n",
        "a(\\mathbf{x},t)\\,\\dfrac{\\partial{u}(\\boldsymbol{x},t)}{\\partial{t}} -\\nabla \\cdot \\left ( \\mu(\\boldsymbol{x},t) \\nabla{u}(\\boldsymbol{x},t) \\right) & = f(\\boldsymbol{x},t) & \\boldsymbol{x} \\in \\Omega,~~t \\in [0,T] \\\\\n",
        "& & & \\\\\n",
        "u(\\boldsymbol{x},t) & =  g(\\boldsymbol{x},t) & \\boldsymbol{x} \\in \\partial{\\Omega},~~t \\in [0,T] \\\\\n",
        "& & & \\\\\n",
        "u(\\boldsymbol{x},0) & =  u_0(\\boldsymbol{x}) & \\boldsymbol{x} \\in \\partial{\\Omega} &\n",
        "\\end{align*}\n",
        "$$\n",
        "\n",
        "Where $u$, the temperature distribution, varies with space and time $u(\\boldsymbol{x}, t)$. \\\n",
        "$u_D$ is a prescribed function at the boundary $\\partial\\Omega_\\text{D}$. \\\n",
        "And $u_0$ is the initial temperature distribution.\n",
        "\n",
        "In general, to solve time-dependent PDEs using the finite element method, we first discretize \n",
        "the time derivative using a finite difference scheme which yelds a recursive series of stationary \n",
        "problems. We can then convert each stationary problem into a variational problem."
      ]
    },
    {
      "cell_type": "markdown",
      "id": "faa9c7e0",
      "metadata": {
        "id": "faa9c7e0"
      },
      "source": [
        "## Time discretization\n",
        "A backward Euler scheme can be used to approximate the time derivative.\n",
        "$$\n",
        "\\begin{align*}\n",
        "  a \\cdot \\frac{u_{n} - u_{n-1}}{\\Delta t} - \\nabla \\cdot (\\mu \\nabla u_{n}) = f_{n}\n",
        "\\end{align*}\n",
        "$$\n",
        "We may reorder the semi-discrete equation so that the left-hand side contains the terms with \n",
        "the unknown $u_{n}$ and the right-hand side contains computed terms only. \n",
        "$$\n",
        "\\begin{align*}\n",
        "  a \\, u_{n} - \\Delta t \\nabla \\, \\cdot (\\mu\\nabla u_{n}) = \\Delta t f_{n} + a \\, u_{n-1}\n",
        "\\end{align*}\n",
        "$$\n"
      ]
    },
    {
      "cell_type": "markdown",
      "id": "97b66a64",
      "metadata": {
        "id": "97b66a64"
      },
      "source": [
        "## Variational formulation\n",
        "As usual we find the weak by multiplying our semi-discrete equation by a sufficiently\n",
        "regular test function $v$ and applying integration by parts. \\\n",
        "At time-step $n$ the weak the variational problem reads: \n",
        "\n",
        "Find $u_n \\in V(\\Omega)$ such that\n",
        "$$\n",
        "\\begin{align*}\n",
        "  \\int_{\\Omega} a\\, u_n v \\,dx + \\Delta t \n",
        "  \\int_{\\Omega}{ \\mu \\nabla u_n \\cdot \\nabla v}\\,dx \n",
        "  = \\Delta t \\int_{\\Omega} f \\cdot v \\, dx + \\int_{\\Omega} \n",
        "  a\\,  u_{n-1} \\cdot v \\, dx\n",
        "\\end{align*}\n",
        "$$"
      ]
    },
    {
      "cell_type": "markdown",
      "id": "3f460e3e",
      "metadata": {
        "id": "3f460e3e"
      },
      "source": [
        "Again, for this problem, the natural choice is a space of scalar-valued continuous functions, \n",
        "that are element-wise polynomials of degree $k$\n",
        "$$\n",
        "V(\\mathcal{T}_h) = V_h = \\{v \\in H ^ 1(\\Omega), \n",
        "~v | _E \\in P_k(E) \\, \\forall E \\in \\mathcal{T}_h\\}\n",
        "$$\n",
        "Which in DOLFINx can be declared as:\n",
        "\n",
        "    V = fem.FunctionSpace(mesh, (\"Lagrange\", k))"
      ]
    },
    {
      "cell_type": "markdown",
      "id": "009f8308",
      "metadata": {
        "id": "009f8308"
      },
      "source": [
        "## Test problem - Manufactured Solution\n",
        "We construct first a test problem for which we can easily check the answer. \\\n",
        "In this tutorial we create a test problem with a linear variation in time because we \n",
        "know our first-order time-stepping scheme is exact for linear functions.\n",
        "\n",
        "$$\n",
        "\\begin{align*}\n",
        "  u(\\boldsymbol{x}, t) = c_0 x_0^2 + c_1 x_0 + c_3t\n",
        "\\end{align*}\n",
        "$$\n",
        "which produces a function whose computed values at the nodes are exact regardless \n",
        "of element size and $\\Delta t$, as long as the mesh is partitioned uniformly.\n",
        "Then we insert the exact solution into the strong form of our pde.\n",
        "With simple manipulations we realize that the source should be:\n",
        "$$\n",
        "\\begin{align*}\n",
        "  f = c_2 - 2c_0\n",
        "\\end{align*}\n",
        "$$\n",
        "Also, at the boundaries we have:\n",
        "$$\n",
        "\\begin{align*}\n",
        "  T_D(\\boldsymbol{x}, t) = c_0 x_0^2 + c_1 x_0 + c_2t\n",
        "\\end{align*}\n",
        "$$"
      ]
    },
    {
      "cell_type": "markdown",
      "id": "17b18fc5",
      "metadata": {
        "id": "17b18fc5"
      },
      "source": [
        "## Implementation\n",
        "\n",
        "The first step is to import all modules and packages we are going to use:"
      ]
    },
    {
      "cell_type": "code",
      "execution_count": null,
      "id": "5738ae4e",
      "metadata": {
        "id": "5738ae4e"
      },
      "outputs": [],
      "source": [
        "# Auxiliary packages\n",
        "from petsc4py import PETSc # Linear algebra backend\n",
        "from mpi4py import MPI     # MPI \n",
        "import numpy\n",
        "\n",
        "# Import dolfinx and ufl modules\n",
        "from dolfinx import geometry\n",
        "from dolfinx import fem\n",
        "from dolfinx import io\n",
        "from dolfinx import la\n",
        "from dolfinx.mesh import (CellType, create_unit_square, locate_entities, exterior_facet_indices)\n",
        "from ufl import TestFunction, TrialFunction, dx, inner, grad\n",
        "\n",
        "# Convenience functions for plotting on jupyter notebooks\n",
        "from utils import plot_mesh\n",
        "import IPython"
      ]
    },
    {
      "cell_type": "markdown",
      "id": "63d5433a",
      "metadata": {
        "id": "63d5433a"
      },
      "source": [
        "### Creating a distributed computational domain (mesh)"
      ]
    },
    {
      "cell_type": "markdown",
      "id": "3bae57e5",
      "metadata": {
        "id": "3bae57e5"
      },
      "source": [
        "To create a simple computational domain in DOLFINx, we use the mesh generation utilities in `dolfinx.mesh`.\n",
        "In this module, we have the tools to build rectangles of triangular or quadrilateral elements and boxes\n",
        "of tetrahedral or hexahedral elements. We start by creating a unit square:"
      ]
    },
    {
      "cell_type": "code",
      "execution_count": null,
      "id": "7f50a0be",
      "metadata": {
        "lines_to_next_cell": 2,
        "id": "7f50a0be"
      },
      "outputs": [],
      "source": [
        "comm = MPI.COMM_WORLD\n",
        "mesh = create_unit_square(comm, 10, 10, CellType.triangle)\n",
        "# Compute conductivities between facets and cells\n",
        "mesh.topology.create_connectivity(mesh.topology.dim - 1, mesh.topology.dim)"
      ]
    },
    {
      "cell_type": "markdown",
      "id": "c29c6264",
      "metadata": {
        "id": "c29c6264"
      },
      "source": [
        "### Visualizing mesh\n",
        "We have provided a few convenience functions for plotting on jupyter notebooks."
      ]
    },
    {
      "cell_type": "code",
      "execution_count": null,
      "id": "66aa0fbc",
      "metadata": {
        "id": "66aa0fbc"
      },
      "outputs": [],
      "source": [
        "plot_mesh(mesh, filename=\"mesh.html\")\n",
        "IPython.display.HTML(filename=\"mesh.html\")"
      ]
    },
    {
      "cell_type": "markdown",
      "id": "6e5d5b1b",
      "metadata": {
        "id": "6e5d5b1b"
      },
      "source": [
        "### Handling time-dependent functions expressions\n",
        "\n",
        "First we define the constants we use in our program:"
      ]
    },
    {
      "cell_type": "code",
      "execution_count": null,
      "id": "18bc9c0e",
      "metadata": {
        "id": "18bc9c0e"
      },
      "outputs": [],
      "source": [
        "a = fem.Constant(1.0)\n",
        "mu = fem.Constant(1.0)\n",
        "c0, c1, c2 = 1.0, 2.0, 0.5\n",
        "dt = fem.Constant(mesh, 0.1)"
      ]
    },
    {
      "cell_type": "markdown",
      "id": "b05f909b",
      "metadata": {
        "id": "b05f909b"
      },
      "source": [
        "We can now define the source term as a Constant:\n",
        "$$\n",
        "\\begin{align*}\n",
        "  f = c_2 - 2c_0\n",
        "\\end{align*}\n",
        "$$"
      ]
    },
    {
      "cell_type": "code",
      "execution_count": null,
      "id": "b274762d",
      "metadata": {
        "id": "b274762d"
      },
      "outputs": [],
      "source": [
        "f = fem.Constant(mesh, c2 - 2*c0)\n",
        "print(type(f))"
      ]
    },
    {
      "cell_type": "markdown",
      "id": "eec29707",
      "metadata": {
        "id": "eec29707"
      },
      "source": [
        "We can now define an expression that be used to compute $u$, $u_0$ and $u_D$.\n",
        "Once we have this expression we can compute the coefficients of a function $u \\in V_h$\n",
        "by interpolation."
      ]
    },
    {
      "cell_type": "code",
      "execution_count": null,
      "id": "429fb8de",
      "metadata": {
        "id": "429fb8de"
      },
      "outputs": [],
      "source": [
        "from functools import partial \n",
        "\n",
        "def expression(t, x):\n",
        "    return c0*x[0]**2 + c1*x[0] + c2*t\n",
        "\n",
        "V = fem.FunctionSpace(mesh, (\"Lagrange\", 1))\n",
        "u0 = fem.Function(V)\n",
        "u0.interpolate(partial(expression, 0))\n",
        "\n",
        "u0.name = \"Temperature0\"\n",
        "with io.XDMFFile(MPI.COMM_WORLD, \"t0.xdmf\", \"w\") as xdmf:\n",
        "    xdmf.write_mesh(mesh)\n",
        "    xdmf.write_function(u0)"
      ]
    },
    {
      "cell_type": "markdown",
      "id": "b608b5a1",
      "metadata": {
        "id": "b608b5a1"
      },
      "source": [
        "## Setting up a variational problem"
      ]
    },
    {
      "cell_type": "code",
      "execution_count": null,
      "id": "619825d7",
      "metadata": {
        "id": "619825d7"
      },
      "outputs": [],
      "source": [
        "V = fem.FunctionSpace(mesh, (\"Lagrange\", 1))\n",
        "u = TrialFunction(V)\n",
        "v = TestFunction(V)"
      ]
    },
    {
      "cell_type": "markdown",
      "id": "cd2d5355",
      "metadata": {
        "id": "cd2d5355"
      },
      "source": [
        "The variational form can be written in UFL syntax:\n",
        "$$\n",
        "\\begin{align*}\n",
        "  a(u, v) = \\int_{\\Omega} u v \\,dx + \\Delta t \\int_{\\Omega}{\\nabla u \\cdot \\nabla v}\\,dx\n",
        "\\end{align*}\n",
        "$$"
      ]
    },
    {
      "cell_type": "code",
      "execution_count": null,
      "id": "8551f2f2",
      "metadata": {
        "id": "8551f2f2"
      },
      "outputs": [],
      "source": [
        "a = inner(u, v) * dx + dt * inner(grad(u), grad(v)) * dx\n",
        "a = fem.form(a)  # JIT compilation"
      ]
    },
    {
      "cell_type": "markdown",
      "id": "702ad8cf",
      "metadata": {
        "id": "702ad8cf"
      },
      "source": [
        "$$\n",
        "\\begin{align*}\n",
        "  L(v) = \\Delta t \\int_{\\Omega} f \\cdot v \\, dx + \\int_{\\Omega} u_{n-1} \\cdot v \\, dx\n",
        "\\end{align*}\n",
        "$$"
      ]
    },
    {
      "cell_type": "code",
      "execution_count": null,
      "id": "930ddfe6",
      "metadata": {
        "id": "930ddfe6"
      },
      "outputs": [],
      "source": [
        "L = dt * inner(f, v) * dx + inner(u0, v) * dx"
      ]
    },
    {
      "cell_type": "markdown",
      "id": "9406ef3b",
      "metadata": {
        "id": "9406ef3b"
      },
      "source": [
        "Note that we are using `u` for the solution that we seek at time step `n``\n",
        "and `u0`` for time step `n-1``."
      ]
    },
    {
      "cell_type": "markdown",
      "id": "8efb48e6",
      "metadata": {
        "id": "8efb48e6"
      },
      "source": [
        "To give the user freedom to set boundary conditions on single degrees of freedom,\n",
        "the function `dolfinx.fem.dirichletbc` takes in the list of degrees of freedom(DOFs) as input.\\\n",
        "The DOFs on the boundary can be obtained in many ways: DOLFINx supplies a few convenience functions,\n",
        "such as `dolfinx.fem.locate_dofs_topological` and `dolfinx.fem.locate_dofs_geometrical`.\n",
        "DOLFINx also has convenience functions to obtain a list of all boundary facets."
      ]
    },
    {
      "cell_type": "code",
      "execution_count": null,
      "id": "84fd7823",
      "metadata": {
        "id": "84fd7823"
      },
      "outputs": [],
      "source": [
        "# Create Dirichlet function\n",
        "u_D = fem.Function(V)\n",
        "u_D.interpolate(partial(expression, 0))\n",
        "\n",
        "# Define Dirichlet bc\n",
        "\n",
        "# Get boundary facets\n",
        "bndry_facets = exterior_facet_indices(mesh.topology)\n",
        "\n",
        "# Locate degrees of freedom on those facets\n",
        "tdim = mesh.topology.dim\n",
        "bndry_dofs = fem.locate_dofs_topological(V, tdim - 1, bndry_facets)\n",
        "\n",
        "# Create list of Dirichlet BC\n",
        "bcs = [fem.dirichletbc(u_D, bndry_dofs)]"
      ]
    },
    {
      "cell_type": "markdown",
      "id": "c4a0adc8",
      "metadata": {
        "id": "c4a0adc8"
      },
      "source": [
        "### Setting up a time dependent solver\n",
        "\n",
        "As the left hand side of our problem(the matrix) is time independent, we would like avoid \n",
        "re-assembling it at every time step.We assemble the matrix once outside the temporal loop."
      ]
    },
    {
      "cell_type": "code",
      "execution_count": null,
      "id": "d403f869",
      "metadata": {
        "id": "d403f869"
      },
      "outputs": [],
      "source": [
        "A = fem.petsc.assemble_matrix(a, bcs=bcs)\n",
        "A.assemble()"
      ]
    },
    {
      "cell_type": "markdown",
      "id": "cade8a20",
      "metadata": {
        "id": "cade8a20"
      },
      "source": [
        "Next, we can generate the integration kernel for the right hand side(RHS), \n",
        "and create the RHS vector `b` that we will assembled into at each time step."
      ]
    },
    {
      "cell_type": "code",
      "execution_count": null,
      "id": "95330734",
      "metadata": {
        "id": "95330734"
      },
      "outputs": [],
      "source": [
        "b = fem.Function(V)\n",
        "L = fem.form(L)  # JIT compilation"
      ]
    },
    {
      "cell_type": "markdown",
      "id": "8dbd9a51",
      "metadata": {
        "id": "8dbd9a51"
      },
      "source": [
        "We next create the PETSc KSP(Krylov subspace method) solver, and set it to solve using an\n",
        "[algebraic multigrid method](https: // hypre.readthedocs.io/en/latest/solvers-boomeramg.html)."
      ]
    },
    {
      "cell_type": "code",
      "execution_count": null,
      "id": "d8155909",
      "metadata": {
        "id": "d8155909"
      },
      "outputs": [],
      "source": [
        "# Define Solver\n",
        "solver = PETSc.KSP().create(comm)\n",
        "solver.setOperators(A)\n",
        "solver.setType(PETSc.KSP.Type.CG)\n",
        "pc = solver.getPC()\n",
        "pc.setType(PETSc.PC.Type.HYPRE)\n",
        "pc.setHYPREType(\"boomeramg\")"
      ]
    },
    {
      "cell_type": "markdown",
      "id": "b77f780b",
      "metadata": {
        "id": "b77f780b"
      },
      "source": [
        "### Plotting a time dependent problem"
      ]
    },
    {
      "cell_type": "markdown",
      "id": "ae798b18",
      "metadata": {
        "id": "ae798b18"
      },
      "source": [
        "As we are solving a time dependent problem, we would like to create a time dependent animation \n",
        "of the solution. The first step is to create an output file where we are going to save the \n",
        "solution at each time step:"
      ]
    },
    {
      "cell_type": "code",
      "execution_count": null,
      "id": "a54c14d9",
      "metadata": {
        "lines_to_next_cell": 2,
        "id": "a54c14d9"
      },
      "outputs": [],
      "source": [
        "# Open file, keep it \n",
        "file = io.XDMFFile(MPI.COMM_WORLD, \"temperature.xdmf\", \"w\")\n",
        "file.write_mesh(mesh)"
      ]
    },
    {
      "cell_type": "markdown",
      "id": "f1b410cd",
      "metadata": {
        "id": "f1b410cd"
      },
      "source": [
        "## Solving a time dependent problem\n",
        "\n",
        "We are now ready to solve the time dependent problem. At each time step, we need to:\n",
        "1. Update the time dependent boundary condition and source\n",
        "2. Reassemble the right hand side vector $b$ that depends on $u_{n-1}$\n",
        "3. Apply boundary conditions to $b$\n",
        "4. Solve linear problem $AU = b$\n",
        "5. Update current solution, $u_{n-1} = u_n$"
      ]
    },
    {
      "cell_type": "code",
      "execution_count": null,
      "id": "f523db9a",
      "metadata": {
        "id": "f523db9a"
      },
      "outputs": [],
      "source": [
        "u = fem.Function(V)\n",
        "u.name = \"temperature\"\n",
        "\n",
        "t = 0\n",
        "t_max = 100*dt.value\n",
        "while t < t_max:\n",
        "    t += dt.value\n",
        "    print(f\"t = {t:.2f} s\")\n",
        "\n",
        "    # Update boundary condition\n",
        "    u_D.interpolate(partial(expression, t))\n",
        "\n",
        "    # Assemble RHS\n",
        "    b.x.array[:] = 0\n",
        "    fem.petsc.assemble_vector(b.vector, L)\n",
        "\n",
        "    # Apply boundary condition\n",
        "    fem.petsc.apply_lifting(b.vector, [a], [bcs])\n",
        "    b.x.scatter_reverse(la.ScatterMode.add)\n",
        "    fem.petsc.set_bc(b.vector, bcs)\n",
        "\n",
        "    # Solve linear problem\n",
        "    u.x.array[:] = 0\n",
        "    solver.solve(b.vector, u.vector)\n",
        "    u.x.scatter_forward()\n",
        "\n",
        "    # Update un\n",
        "    u0.x.array[:] = u.x.array\n",
        "\n",
        "    # Save solution at time step t\n",
        "    file.write_function(T, t=t)\n",
        "\n",
        "# Now we can close the file\n",
        "file.close()"
      ]
    },
    {
      "cell_type": "markdown",
      "id": "44a00bb3",
      "metadata": {
        "id": "44a00bb3"
      },
      "source": [
        "### What's the temperature at an arbitrary point $\\boldsymbol{x}_p$?\n",
        "Remember that \n",
        "$$\n",
        "u_h(\\boldsymbol{x}) = \\sum_{i=1}^{dim{V_h}}{u_j \\psi_j(\\boldsymbol{x}})\n",
        "$$\n",
        "\n",
        "Once we find the values of of coefficients, its just a matter of evaluation the basis functions\n",
        "at $\\boldsymbol{x}_p$."
      ]
    },
    {
      "cell_type": "code",
      "execution_count": null,
      "id": "881e0c42",
      "metadata": {
        "id": "881e0c42"
      },
      "outputs": [],
      "source": [
        "# Given an arbitrary point \"xp\"\n",
        "xp = numpy.array([0.5, 0.5, 0.0], dtype=numpy.float64)\n",
        "\n",
        "# We first compute the cells that it belongs to\n",
        "bb_tree = geometry.BoundingBoxTree(mesh, mesh.topology.dim)\n",
        "cell_candidates = geometry.compute_collisions(bb_tree, p)\n",
        "cells = geometry.compute_colliding_cells(mesh, cell_candidates, xp)\n",
        "\n",
        "# Given a list of cells it's easy and \"efficient\" to compute T(p)\n",
        "values = u.eval(xp, cells[0])\n",
        "print(f\"Temperature at point {xp} is {values[0]}\")"
      ]
    },
    {
      "cell_type": "markdown",
      "id": "f5f2b5ae",
      "metadata": {
        "id": "f5f2b5ae"
      },
      "source": [
        "# Homework 2:\n",
        "**TASK 1**: The above time-stepping loop does not include any \n",
        "comparison of numerical and exact solutions, which is required \n",
        "to validate the implementation. In the previous section we've \n",
        "learned how to compute the L2 and H1 error norms.\n",
        "\n",
        "Use the knowledge gained in the previous section to calculate both\n",
        "the L2 and H1 error norms for $t=t_{max}$."
      ]
    },
    {
      "cell_type": "code",
      "execution_count": null,
      "id": "2dec5606",
      "metadata": {
        "lines_to_next_cell": 2,
        "id": "2dec5606"
      },
      "outputs": [],
      "source": [
        "# Solution goes here:"
      ]
    },
    {
      "cell_type": "markdown",
      "id": "d2a20ac8",
      "metadata": {
        "id": "d2a20ac8"
      },
      "source": [
        "In this homework we are going to tackle a more physically realistic problem.\n",
        "Given the temperature outside a room, we shall compute the temperature inside\n",
        "the room, and find the appropriate insulation material. \n",
        "\n",
        "Without internal sources the strong form of our problem reads:\n",
        "$$\n",
        "\\begin{align*}\n",
        "\\rho C_p\\frac{\\partial T}{\\partial t} &= \\nabla \\cdot (\\kappa  \\nabla T) & & \\text{in } \\, \\Omega, \\\\\n",
        "T(\\boldsymbol{x}, t) &= T_D = T_R + T_a \\cdot sin(\\omega t) & & \\,\\partial\\Omega_\\text{D}, \\\\\n",
        "T(\\boldsymbol{x}, t=0) &= T_0 & & \\text{in } \\, \\Omega,\n",
        "\\end{align*}\n",
        "$$\n",
        "where $k$ is the thermal conductivity, $\\rho$ is the density and $C_p$ is the \n",
        "is specific heat capacity.\n",
        "\n",
        "In this example, we assume computational domain is divided into \n",
        "two domains $\\Omega_{air}$ and $\\Omega_{wall}$. Within each domain\n",
        "we can define the thermal diffusivity of the medium $\\alpha$:\n",
        "$$\n",
        "\\begin{align*}\n",
        "\\alpha = \\frac{k}{\\rho C_p}\n",
        "\\end{align*}\n",
        "$$\n",
        "\n",
        "Examples of thermal diffusivity for four different materials:\n",
        "$$\\alpha_{air} = 19 \\cdot 10^{-6} \\, m^2/s$$\n",
        "$$\\alpha_{glass} = 0.34\t \\cdot 10^{-6} \\, m^2/s$$\n",
        "$$\\alpha_{brick} = 0.27 \\cdot 10^{-6} \\, m^2/s$$\n",
        "$$\\alpha_{wood} = 0.082 \\cdot 10^{-6} \\, m^2/s$$\n",
        "$$\\alpha_{steel} = 11.72 \\cdot 10^{-6} \\, m^2/s$$\n",
        "\n",
        "Given unit square room $[1m \\times 1m]$, $0.1 m$ thick walls, and outside \n",
        "temperature given by $T_D$, which material should be used for the wall \n",
        "such that the temperature at the center of the room never drops below \n",
        "$10^oC$?"
      ]
    },
    {
      "cell_type": "markdown",
      "id": "48c0e2f6",
      "metadata": {
        "id": "48c0e2f6"
      },
      "source": [
        "**TASK 1**: Complete following code with the diffusivity of the wall \n",
        "(chosen from the above values). Then visualize the material distribution."
      ]
    },
    {
      "cell_type": "code",
      "execution_count": null,
      "id": "d6bd684a",
      "metadata": {
        "lines_to_next_cell": 2,
        "id": "d6bd684a"
      },
      "outputs": [],
      "source": [
        "def wall(x):\n",
        "    vertical = (x[0] <= 0.1) | (x[0] >= 0.9)\n",
        "    horizontal = (x[1] <= 0.1) | (x[1] >= 0.9)\n",
        "    return horizontal | vertical\n",
        "\n",
        "\n",
        "comm = MPI.COMM_WORLD\n",
        "mesh = create_unit_square(comm, 20, 20, CellType.quadrilateral)\n",
        "\n",
        "cells = locate_entities(mesh, mesh.topology.dim, wall)\n",
        "DG = fem.FunctionSpace(mesh, (\"DG\", 0))\n",
        "\n",
        "# Thermal diffusivity\n",
        "alpha = fem.Function(DG)\n",
        "alpha.x.array[:] = 19e-6\n",
        "\n",
        "# Edit here: diffusivity of wall\n",
        "alpha.x.array[cells] = 0.37e-6 # wood\n",
        "\n",
        "plot_mesh(mesh, cell_values=alpha, filename=\"alpha.html\")\n",
        "IPython.display.HTML(filename=\"alpha.html\")"
      ]
    },
    {
      "cell_type": "markdown",
      "id": "2ddb6574",
      "metadata": {
        "id": "2ddb6574"
      },
      "source": [
        "**Task 2**: create a python function that defines the outside temperature\n",
        "$$T_{out} = -5 + 15 \\cdot sin(\\omega t)$$\n",
        "where $\\omega = \\pi/(24\\cdot60\\cdot60)$. \n",
        "Plot the temperature for a period of 24 hours."
      ]
    },
    {
      "cell_type": "code",
      "execution_count": null,
      "id": "9bcaebb1",
      "metadata": {
        "lines_to_next_cell": 2,
        "id": "9bcaebb1"
      },
      "outputs": [],
      "source": [
        "period = 60*60*24 # seconds in a day\n",
        "def outside_temperature(t, x):\n",
        "    # Edit this function\n",
        "    temperature = 0\n",
        "    return numpy.full_like(x[0], temperature)\n",
        "\n",
        "# Task: Plot the hourly temperature during a day:\n",
        "temp = numpy.zeros(24)\n",
        "time = numpy.zeros(24)\n",
        "for i in range(temp.size):\n",
        "    time[i] = i*60*60\n",
        "    temp[i] = outside_temperature(time[i], [0, 0])\n",
        "\n",
        "import matplotlib.pyplot as plt\n",
        "plt.plot(time, temp)\n",
        "plt.xlabel('Time (hour)', fontsize=20)\n",
        "plt.ylabel('Temperature ($^oC$)', fontsize=20)\n",
        "plt.savefig(\"temperature.png\")"
      ]
    },
    {
      "cell_type": "code",
      "execution_count": null,
      "id": "21318048",
      "metadata": {
        "id": "21318048"
      },
      "outputs": [],
      "source": [
        "# Reference solution\n",
        "period = 60*60*24 # seconds in a day\n",
        "\n",
        "def outside_temperature(t, x):\n",
        "    omega = numpy.pi/period\n",
        "    t = t % period\n",
        "    temperature = 15 * numpy.sin(omega*t) - 5\n",
        "    return numpy.full_like(x[0], temperature)\n",
        "\n",
        "# Task: Plot the hourly temperature during a day:\n",
        "temp = numpy.zeros(24)\n",
        "time = numpy.zeros(24)\n",
        "for i in range(temp.size):\n",
        "    t = i*60*60\n",
        "    time[i] = i\n",
        "    temp[i] = outside_temperature(t, [0, 0])\n",
        "\n",
        "import matplotlib.pyplot as plt\n",
        "plt.plot(time, temp)\n",
        "plt.xlabel('Time (hour)', fontsize=20)\n",
        "plt.ylabel('Temperature ($^oC$)', fontsize=20)"
      ]
    },
    {
      "cell_type": "markdown",
      "id": "f472c3a7",
      "metadata": {
        "id": "f472c3a7"
      },
      "source": [
        "**Task 3**: Modify the following thermal solver so that it returns \n",
        "the temperature inside the room at each time step.\n",
        "Save the solution at each time-step and visualize with paraview."
      ]
    },
    {
      "cell_type": "code",
      "execution_count": null,
      "id": "7676a619",
      "metadata": {
        "id": "7676a619"
      },
      "outputs": [],
      "source": [
        "def thermal_solver(alpha, intial_temp=15, time_step=900.0):\n",
        "    mesh = alpha.function_space.mesh\n",
        "\n",
        "    # Create function space\n",
        "    V = fem.FunctionSpace(mesh, (\"Lagrange\", 1))\n",
        "    \n",
        "    # Define trial and test functions\n",
        "    T = TrialFunction(V)\n",
        "    v = TestFunction(V)\n",
        "\n",
        "    # Initial condition\n",
        "    T0 = fem.Function(V)\n",
        "    T0.interpolate(lambda x: numpy.full_like(x[0], intial_temp))\n",
        "\n",
        "    # Time step (15 min - 900 seconds)\n",
        "    dt = fem.Constant(mesh, time_step)\n",
        "\n",
        "    # Bilinear form\n",
        "    a = inner(T, v) * dx + dt * alpha * inner(grad(T), grad(v)) * dx\n",
        "    a = fem.form(a)\n",
        "\n",
        "    # Linear form\n",
        "    L = inner(T0, v) * dx\n",
        "    L = fem.form(L)  # JIT compilation\n",
        "\n",
        "\n",
        "    # Define dirichlet bc at t=0\n",
        "    temp0 = partial(outside_temperature, 0)\n",
        "    T_D = fem.Function(V)\n",
        "    T_D.interpolate(temp0)\n",
        "    \n",
        "    # Create boundary condition\n",
        "    tdim = mesh.topology.dim\n",
        "    mesh.topology.create_connectivity(tdim - 1, tdim)\n",
        "    bndry_facets = exterior_facet_indices(mesh.topology)\n",
        "    bndry_dofs = fem.locate_dofs_topological(V, tdim - 1, bndry_facets)\n",
        "    bcs = [fem.dirichletbc(T_D, bndry_dofs)]\n",
        "\n",
        "    # Assemble matrix A and RHS b\n",
        "    A = fem.petsc.assemble_matrix(a, bcs=bcs)\n",
        "    A.assemble()\n",
        "    b = fem.Function(V)\n",
        "\n",
        "    solver = PETSc.KSP().create(comm)\n",
        "    solver.setOperators(A)\n",
        "    solver.setType(PETSc.KSP.Type.CG)\n",
        "    pc = solver.getPC()\n",
        "    pc.setType(PETSc.PC.Type.HYPRE)\n",
        "    pc.setHYPREType(\"boomeramg\")\n",
        "\n",
        "    T = fem.Function(V)\n",
        "    T.interpolate(T0)\n",
        "\n",
        "    # Check against standard table value\n",
        "    # Create bounding box for function evaluation\n",
        "    bb_tree = geometry.BoundingBoxTree(mesh, mesh.topology.dim)\n",
        "    p = numpy.array([0.5, 0.5, 0.0], dtype=numpy.float64)\n",
        "    cell_candidates = geometry.compute_collisions(bb_tree, p)\n",
        "    cells = geometry.compute_colliding_cells(mesh, cell_candidates, p)\n",
        "\n",
        "    value = T.eval(p, cells[0])\n",
        "    print(f\"Room temperature {value}\")\n",
        "\n",
        "    t = 0\n",
        "    num_days = 1\n",
        "    t_max = period * num_days\n",
        "\n",
        "    # Array to store temperature\n",
        "    temperature = [value]\n",
        "    time = [t]\n",
        "\n",
        "    while t < t_max:\n",
        "        time.append(t)\n",
        "        t += dt.value\n",
        "\n",
        "        # Update boundary condition\n",
        "        T_D.interpolate(partial(outside_temperature, t))\n",
        "\n",
        "        # Assemble RHS\n",
        "        b.x.array[:] = 0\n",
        "        fem.petsc.assemble_vector(b.vector, L)\n",
        "\n",
        "        # Apply boundary condition\n",
        "        fem.petsc.apply_lifting(b.vector, [a], [bcs])\n",
        "        # b.x.scatter_reverse(ScatterMode.add)\n",
        "        fem.petsc.set_bc(b.vector, bcs)\n",
        "\n",
        "        # Solve linear problem\n",
        "        solver.solve(b.vector, T.vector)\n",
        "        T.x.scatter_forward()\n",
        "\n",
        "        value = T.eval(p, cells[0])\n",
        "        print(f\"Room temperature {value[0]} at {t/(60*60)} h\")\n",
        "\n",
        "        # Update un\n",
        "        T0.x.array[:] = T.x.array\n",
        "    \n",
        "    return temperature, time"
      ]
    },
    {
      "cell_type": "markdown",
      "id": "a4d96ba9",
      "metadata": {
        "id": "a4d96ba9"
      },
      "source": [
        "**Task 4**: Which material should we use for insulation?\n",
        "Modify the alpha value on the wall and plot temperature\n",
        "vs time inside the room."
      ]
    },
    {
      "cell_type": "code",
      "execution_count": null,
      "id": "acca4b42",
      "metadata": {
        "id": "acca4b42"
      },
      "outputs": [],
      "source": [
        "temperature, time = thermal_solver(alpha)\n",
        "assert len(temperature) == len(time)"
      ]
    }
  ],
  "metadata": {
    "jupytext": {
      "cell_metadata_filter": "-all",
      "main_language": "python",
      "notebook_metadata_filter": "-all"
    },
    "colab": {
      "provenance": [],
      "include_colab_link": true
    }
  },
  "nbformat": 4,
  "nbformat_minor": 5
}