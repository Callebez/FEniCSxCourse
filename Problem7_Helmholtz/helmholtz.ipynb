{
  "cells": [
    {
      "cell_type": "markdown",
      "metadata": {
        "id": "view-in-github",
        "colab_type": "text"
      },
      "source": [
        "<a href=\"https://colab.research.google.com/github/IgorBaratta/FEniCSxCourse/blob/ICMC23/Problem7_Helmholtz/helmholtz.ipynb\" target=\"_parent\"><img src=\"https://colab.research.google.com/assets/colab-badge.svg\" alt=\"Open In Colab\"/></a>"
      ]
    },
    {
      "cell_type": "code",
      "execution_count": null,
      "id": "234ab15d",
      "metadata": {
        "id": "234ab15d"
      },
      "outputs": [],
      "source": [
        "try:\n",
        "  import gmsh\n",
        "except ImportError:\n",
        "  !wget \"https://fem-on-colab.github.io/releases/gmsh-install.sh\" -O \"/tmp/gmsh-install.sh\" && bash \"/tmp/gmsh-install.sh\"\n",
        "  import gmsh\n",
        "\n",
        "try:\n",
        "    import dolfinx\n",
        "except ImportError:\n",
        "    !wget \"https://fem-on-colab.github.io/releases/fenicsx-install-complex.sh\" -O \"/tmp/fenicsx-install.sh\" && bash \"/tmp/fenicsx-install.sh\"\n",
        "    import dolfinx\n",
        "\n",
        "try:\n",
        "  import pyvista\n",
        "except ImportError:\n",
        "  !pip install -q piglet pyvirtualdisplay ipyvtklink pyvista panel pythreejs\n",
        "  !apt-get -qq install xvfb\n",
        "  import pyvista\n",
        "\n",
        "!wget \"https://raw.githubusercontent.com/IgorBaratta/FEniCSxCourse/main/Problem7_Helmholtz/utils.py\"\n",
        "!wget \"https://raw.githubusercontent.com/IgorBaratta/FEniCSxCourse/main/Problem7_Helmholtz/mesh_generation.py\""
      ]
    },
    {
      "cell_type": "markdown",
      "id": "55b1e5ba",
      "metadata": {
        "id": "55b1e5ba"
      },
      "source": [
        "# The Helmholtz equation\n",
        "\n",
        "In this tutorial, we will learn:\n",
        "- How to solve PDEs with complex-valued fields,\n",
        "- How to import and use high-order meshes from Gmsh,\n",
        "- How to use high order discretizations,\n",
        "- How to use UFL expressions."
      ]
    },
    {
      "cell_type": "markdown",
      "id": "242b1d4f",
      "metadata": {
        "id": "242b1d4f"
      },
      "source": [
        "## Problem statement\n",
        "\n",
        "The Helmholtz equation can be used to model the scattering of time-harmonic waves by finite and infinite obstacles.\n",
        "We will solve the Helmholtz equation subject to a first order absorbing boundary condition:\n",
        "$$\n",
        "\\begin{align*}\n",
        "\\Delta u + k^2 u &= 0 && \\text{in } \\Omega,\\\\\n",
        "\\nabla u \\cdot \\mathbf{n} - \\mathrm{j}ku &= g && \\text{on } \\partial\\Omega,\n",
        "\\end{align*}\n",
        "$$\n",
        "\n",
        "where $k$ is a piecewise constant wavenumber, $\\mathrm{j}=\\sqrt{-1}$, and $g$ is the boundary source term computed as\n",
        "\n",
        "$$g = \\nabla u_\\text{inc} \\cdot \\mathbf{n} - \\mathrm{j}ku_\\text{inc}$$\n",
        "\n",
        "\n",
        "The second equation on $\\partial\\Omega$ is a mixed boundary condition, or a Robin boundary condition."
      ]
    },
    {
      "cell_type": "markdown",
      "id": "cf144769",
      "metadata": {
        "id": "cf144769"
      },
      "source": [
        " To derive the weak form for the Helmholtz's equation, we first multiply both sides\n",
        "of the equation with the complex conjugate of a sufficiently smooth arbitrary test\n",
        "function $v$, integrate by parts in $\\Omega$, the domain of interest, and after\n",
        "applying the divergence theorem, we find\n",
        "$$\n",
        "\\begin{align*}\n",
        "    -\\int_\\Omega \\nabla u \\cdot \\nabla \\bar{v} ~ dx + \\int_\\Omega k^2 u \\,\\bar{v} ~ dx + \\int_{\\partial \\Omega} \\left(\\nabla u \\cdot \\mathbf{n} \\right) \\bar{v} ~ ds = \\int_\\Omega f \\, \\bar{v} ~ dx.\n",
        "\\end{align*}\n",
        "$$"
      ]
    },
    {
      "cell_type": "markdown",
      "id": "9de856eb",
      "metadata": {
        "lines_to_next_cell": 2,
        "id": "9de856eb"
      },
      "source": [
        "Assuming that $u$ is a classical solution of our original equation with suitable\n",
        "boundary conditions, it is also a solution of the weak form for any $v \\in C_0^1(\\Omega)$,\n",
        "nevertheless with a reduced smoothness requirement.\n",
        "If $\\Omega \\in \\mathbb{R}^d, \\, d = 1, 2, 3 \\,$, then the natural space for the\n",
        "weak solution and the test functions $v$ is the Sobolev space\n",
        "$\\mathcal{H}^1 (\\Omega)$, given by\n",
        "\\begin{equation}\n",
        "    \\mathcal{H}^1(\\Omega) := \\{ u: \\Omega \\rightarrow \\mathbb{C}|\\,  u \\in L^2(\\Omega),\\,  \\partial_{x_i}u\\in L^2(\\Omega), 1\\leq i \\leq d  \\}.\n",
        "\\end{equation}"
      ]
    },
    {
      "cell_type": "markdown",
      "id": "07fef7d7",
      "metadata": {
        "lines_to_next_cell": 2,
        "id": "07fef7d7"
      },
      "source": [
        "Assuming that the test function $v$ vanishes on $\\Gamma_D$, where\n",
        "the solution $u$ is known, we arrive at the following variational problem:\n",
        "\n",
        "Find $u \\in V$ such that\n",
        "$$\n",
        "\\begin{align*}\n",
        "    -\\int_\\Omega \\nabla u \\cdot \\nabla \\bar{v} ~ dx + \\int_\\Omega k^2 u \\,\\bar{v}~ dx + \\int_{\\partial \\Omega / \\Gamma_D} \\left(\\nabla u \\cdot \\mathbf{n} \\right) \\bar{v} ~ ds = \\int_\\Omega f \\, \\bar{v}~ dx \\qquad \\forall v \\in V_0.\n",
        "\\end{align*}\n",
        "$$\n",
        "\n",
        "Standard Galerkin finite element solutions with low-order piecewise polynomials differ significantly from the best approximation, due to spurious dispersion in the computation, unless the mesh is sufficiently refined. This phenomenon, related to the indefiniteness of the Helmholtz operator is known as the pollution effect.\n"
      ]
    },
    {
      "cell_type": "code",
      "execution_count": null,
      "id": "10902239",
      "metadata": {
        "id": "10902239"
      },
      "outputs": [],
      "source": [
        "from utils import penetrable_circle\n",
        "from dolfinx import geometry\n",
        "import matplotlib.pyplot as plt\n",
        "import dolfinx.cpp as _cpp\n",
        "from dolfinx.io import XDMFFile, VTXWriter\n",
        "from mpi4py import MPI\n",
        "\n",
        "# utils for plotting and generating mesh\n",
        "from utils import plot_mesh\n",
        "from mesh_generation import generate_mesh\n",
        "\n",
        "# Auxiliary libraries\n",
        "import IPython\n",
        "import numpy as np\n",
        "\n",
        "# Import dolfinx modules and ufl\n",
        "import dolfinx\n",
        "from dolfinx.io import gmshio\n",
        "import ufl"
      ]
    },
    {
      "cell_type": "markdown",
      "id": "bbfa8947",
      "metadata": {
        "id": "bbfa8947"
      },
      "source": [
        "This example is designed to be executed with complex-valued coefficients.\n",
        "To be able to solve this problem, we use the complex build of PETSc."
      ]
    },
    {
      "cell_type": "code",
      "execution_count": null,
      "id": "70cf61f9",
      "metadata": {
        "id": "70cf61f9"
      },
      "outputs": [],
      "source": [
        "import sys\n",
        "from petsc4py import PETSc\n",
        "\n",
        "if not np.issubdtype(PETSc.ScalarType, np.complexfloating):\n",
        "    print(\"This tutorial requires complex number support\")\n",
        "    sys.exit(0)\n",
        "else:\n",
        "    print(f\"Using {PETSc.ScalarType}.\")"
      ]
    },
    {
      "cell_type": "markdown",
      "id": "1ecbf397",
      "metadata": {
        "id": "1ecbf397"
      },
      "source": [
        "## Defining model parameters\n",
        "\n",
        "Wavenumber:\n",
        "$$ k_0 = \\frac{2\\pi}{λ} $$\n",
        "\n",
        "$$ \\nu = \\frac{c_0}{\\lambda} $$\n",
        "\n",
        "\n",
        "The complex values wavenumber for a medium can be expressed as \n",
        "$$\n",
        "k = n \\cdot k_0\n",
        "$$"
      ]
    },
    {
      "cell_type": "code",
      "execution_count": null,
      "id": "cbfd47cb",
      "metadata": {
        "id": "cbfd47cb"
      },
      "outputs": [],
      "source": [
        "# wavenumber in free space (air)\n",
        "k0 = 5\n",
        "\n",
        "# Corresponding wavelength\n",
        "lmbda = 2 * np.pi / k0\n",
        "\n",
        "# scatterer radius\n",
        "radius = 2*lmbda\n",
        "\n",
        "# refractive index of scatterer\n",
        "ref_ind = 1.2\n",
        "\n",
        "# Polynomial degree\n",
        "degree = 5\n",
        "\n",
        "# width of computational domain\n",
        "dim_x = 10*lmbda\n",
        "\n",
        "# Mesh order\n",
        "mesh_order = 2"
      ]
    },
    {
      "cell_type": "code",
      "execution_count": null,
      "id": "616cdce4",
      "metadata": {
        "lines_to_next_cell": 2,
        "id": "616cdce4"
      },
      "outputs": [],
      "source": [
        "# For this problem we use a square mesh with triangular elements.\n",
        "# The mesh element size is h_elem, and the #elements in one dimension is n_elem\n",
        "h_elem = lmbda / 5"
      ]
    },
    {
      "cell_type": "markdown",
      "source": [
        "The rules of thumb in engineering practice dictates that with a constant $kh$ the error remains constant.\n",
        "\n",
        "However the error estimates include a second term\n",
        "$$\n",
        "e \\leq C_1 \\left(\\frac{kh}{2p} \\right)^p + C_2 k  \\left(\\frac{kh}{2p} \\right)^{2p}\n",
        "$$\n",
        "which dominates the error for high-frequency problems, so keeping $kh = const$ may lead to corrupted solutions.\n",
        "\n",
        "For example, for $P=1$\n",
        "$$\n",
        "e \\leq C_1 \\frac{kh}{2} + C_2 k  \\left(\\frac{kh}{2} \\right)^2\n",
        "$$"
      ],
      "metadata": {
        "id": "ViJw2R9-9Fsv"
      },
      "id": "ViJw2R9-9Fsv"
    },
    {
      "cell_type": "markdown",
      "id": "e6afce46",
      "metadata": {
        "id": "e6afce46"
      },
      "source": [
        "## Interfacing with GMSH\n",
        "We will use Gmsh to generate the computational domain (mesh) for this example.\n",
        "As long as Gmsh has been installed (including its Python API), DOLFINx supports direct input of Gmsh models (generated on one process).\n",
        "DOLFINx will then in turn distribute the mesh over all processes in the communicator passed to `dolfinx.io.gmshio.model_to_mesh`."
      ]
    },
    {
      "cell_type": "markdown",
      "id": "b6655d87",
      "metadata": {
        "id": "b6655d87"
      },
      "source": [
        "The function `generate_mesh` creates a Gmsh model and saves it into a `.msh` file."
      ]
    },
    {
      "cell_type": "code",
      "execution_count": null,
      "id": "71f548e6",
      "metadata": {
        "id": "71f548e6"
      },
      "outputs": [],
      "source": [
        "\n",
        "# MPI communicator\n",
        "comm = MPI.COMM_WORLD\n",
        "\n",
        "file_name = \"domain.msh\"\n",
        "generate_mesh(file_name, radius, dim_x, h_elem, mesh_order)"
      ]
    },
    {
      "cell_type": "markdown",
      "id": "42b68454",
      "metadata": {
        "id": "42b68454"
      },
      "source": [
        "Now we can read the mesh from file:"
      ]
    },
    {
      "cell_type": "code",
      "execution_count": null,
      "id": "8a4e389f",
      "metadata": {
        "id": "8a4e389f"
      },
      "outputs": [],
      "source": [
        "mesh, cell_tags, _ = gmshio.read_from_msh(file_name, comm, rank=0, gdim=2)\n",
        "\n",
        "num_cells = mesh.topology.index_map(2).size_global\n",
        "h = _cpp.mesh.h(mesh, 2, range(num_cells))\n",
        "print(num_cells, h.max(), h_elem)"
      ]
    },
    {
      "cell_type": "markdown",
      "id": "27d31aa4",
      "metadata": {
        "id": "27d31aa4"
      },
      "source": [
        "## Material parameters\n",
        "In this problem, the wave number in the different parts of the domain\n",
        "depends on cell markers, inputted through `cell_tags`. We use the fact that a\n",
        "discontinuous Lagrange space of order 0 (cell-wise constants) has a\n",
        "one-to-one mapping with the cells local to the process."
      ]
    },
    {
      "cell_type": "code",
      "execution_count": null,
      "id": "60c7ffab",
      "metadata": {
        "lines_to_next_cell": 2,
        "id": "60c7ffab"
      },
      "outputs": [],
      "source": [
        "W = dolfinx.fem.FunctionSpace(mesh, (\"DG\", 0))\n",
        "k = dolfinx.fem.Function(W)\n",
        "k.x.array[:] = k0\n",
        "k.x.array[cell_tags.find(1)] = ref_ind*k0\n",
        "\n",
        "plot_mesh(mesh, cell_values=k, filename=\"mesh.html\")\n",
        "IPython.display.HTML(filename=\"mesh.html\")"
      ]
    },
    {
      "cell_type": "markdown",
      "id": "8227cd18",
      "metadata": {
        "id": "8227cd18"
      },
      "source": [
        "## Boundary source term\n",
        "$$g = \\nabla u_{inc} \\cdot \\mathbf{n} - \\mathrm{j}ku_{inc}$$\n",
        "where $u_{inc} = e^{-jkx}$ the incoming wave, is a plane wave propagating\n",
        "in the $x$ direction.\n",
        "\n",
        "Next, we define the boundary source term by using `ufl.SpatialCoordinate`.\n",
        "When using this function, all quantities using this expression will be evaluated\n",
        "at quadrature points."
      ]
    },
    {
      "cell_type": "code",
      "execution_count": null,
      "id": "411f7c32",
      "metadata": {
        "id": "411f7c32"
      },
      "outputs": [],
      "source": [
        "n = ufl.FacetNormal(mesh)\n",
        "x = ufl.SpatialCoordinate(mesh)\n",
        "uinc = ufl.exp(-1j * k0 * x[0])\n",
        "g = ufl.dot(ufl.grad(uinc), n) + 1j * k0 * uinc"
      ]
    },
    {
      "cell_type": "markdown",
      "id": "731f4f9e",
      "metadata": {
        "id": "731f4f9e"
      },
      "source": [
        "## Variational form\n",
        "Next, we define the variational problem using a 6th order Lagrange space.\n",
        "Note that as we are using complex valued functions, we have to use the\n",
        "appropriate inner product; see DOLFINx tutorial: Complex numbers for more\n",
        "information.\n",
        "\n",
        "Find $u \\in V$ such that\n",
        "$$-\\int_\\Omega \\nabla u \\cdot \\nabla \\bar{v} ~ dx + \\int_\\Omega k^2 u \\,\\bar{v}~ dx - j\\int_{\\partial \\Omega} ku  \\bar{v} ~ ds = \\int_{\\partial \\Omega} g \\, \\bar{v}~ ds \\qquad \\forall v \\in \\widehat{V}.$$"
      ]
    },
    {
      "cell_type": "code",
      "execution_count": null,
      "id": "80814672",
      "metadata": {
        "lines_to_next_cell": 0,
        "id": "80814672"
      },
      "outputs": [],
      "source": [
        "element = ufl.FiniteElement(\"Lagrange\", mesh.ufl_cell(), degree)\n",
        "V = dolfinx.fem.FunctionSpace(mesh, element)\n",
        "\n",
        "u = ufl.TrialFunction(V)\n",
        "v = ufl.TestFunction(V)"
      ]
    },
    {
      "cell_type": "code",
      "execution_count": null,
      "id": "c4c7ebf2",
      "metadata": {
        "id": "c4c7ebf2"
      },
      "outputs": [],
      "source": [
        "a = - ufl.inner(ufl.grad(u), ufl.grad(v)) * ufl.dx \\\n",
        "    + k**2 * ufl.inner(u, v) * ufl.dx \\\n",
        "    + 1j * k * ufl.inner(u, v) * ufl.ds\n",
        "L = ufl.inner(g, v) * ufl.ds"
      ]
    },
    {
      "cell_type": "markdown",
      "source": [
        "## Linear solver\n",
        "Next, we will solve the problem using a direct solver (LU).\n",
        "Contrary to the case of elliptic problems where effective multigrid\n",
        "and domain decomposition methods are readily available\n",
        "(see for example PETSc documentation), the solution of $Au=b$ is less understood.\n",
        "\n",
        "The matrix inherits many characteristics from the original equations;\n",
        "it is symmetric unless non-reciprocal materials are used, and generally,\n",
        "it is not positive definite nor hermitian."
      ],
      "metadata": {
        "id": "gMQYaMTHBuzq"
      },
      "id": "gMQYaMTHBuzq"
    },
    {
      "cell_type": "code",
      "execution_count": null,
      "id": "52acdc8d",
      "metadata": {
        "id": "52acdc8d"
      },
      "outputs": [],
      "source": [
        "opt = {\"ksp_type\": \"preonly\", \"pc_type\": \"lu\"}\n",
        "problem = dolfinx.fem.petsc.LinearProblem(a, L, petsc_options=opt)\n",
        "uh = problem.solve()\n",
        "uh.name = \"u\""
      ]
    },
    {
      "cell_type": "markdown",
      "source": [
        "We can compute the L2 norm of the error:"
      ],
      "metadata": {
        "id": "92GI9qlKDvNF"
      },
      "id": "92GI9qlKDvNF"
    },
    {
      "cell_type": "code",
      "source": [
        "uex = ufl.exp(-1j * k0 * x[0])\n",
        "error = uh - uex\n",
        "M = dolfinx.fem.form(ufl.inner(uh, uh)*ufl.dx)\n",
        "errorL2 = dolfinx.fem.assemble_scalar(M)\n",
        "\n",
        "print(\"    |-L2error=\", np.sqrt(errorL2))"
      ],
      "metadata": {
        "id": "JYJNT9u4EHuo"
      },
      "id": "JYJNT9u4EHuo",
      "execution_count": null,
      "outputs": []
    },
    {
      "cell_type": "markdown",
      "id": "5b149b8c",
      "metadata": {
        "id": "5b149b8c"
      },
      "source": [
        "## Visualizing the solution:"
      ]
    },
    {
      "cell_type": "markdown",
      "id": "9061106c",
      "metadata": {
        "id": "9061106c"
      },
      "source": [
        "### Post-processing with Paraview"
      ]
    },
    {
      "cell_type": "markdown",
      "id": "7cd5201e",
      "metadata": {
        "id": "7cd5201e"
      },
      "source": [
        "Using XDMFFile:"
      ]
    },
    {
      "cell_type": "code",
      "execution_count": null,
      "id": "8874f2e1",
      "metadata": {
        "id": "8874f2e1"
      },
      "outputs": [],
      "source": [
        "# XDMF writes data to mesh nodes\n",
        "with XDMFFile(comm, \"out.xdmf\", \"w\") as file:\n",
        "    file.write_mesh(mesh)\n",
        "    file.write_function(uh)\n",
        "\n",
        "\n",
        "from google.colab import files\n",
        "files.download('out.xdmf')\n",
        "files.download('out.h5')"
      ]
    },
    {
      "cell_type": "markdown",
      "id": "f7095280",
      "metadata": {
        "id": "f7095280"
      },
      "source": [
        "### Using VTXWriter"
      ]
    },
    {
      "cell_type": "code",
      "execution_count": null,
      "id": "8e53295d",
      "metadata": {
        "lines_to_next_cell": 2,
        "id": "8e53295d"
      },
      "outputs": [],
      "source": [
        "with VTXWriter(comm, \"out.bp\", [uh]) as f:\n",
        "    f.write(0.0)\n",
        "\n",
        "!zip -r out.zip out.bp\n",
        "\n",
        "from google.colab import files\n",
        "files.download('out.zip') "
      ]
    },
    {
      "cell_type": "markdown",
      "id": "4040bef4",
      "metadata": {
        "lines_to_next_cell": 2,
        "id": "4040bef4"
      },
      "source": [
        "### Using matplotlib\n"
      ]
    },
    {
      "cell_type": "code",
      "execution_count": null,
      "id": "5398665e",
      "metadata": {
        "id": "5398665e"
      },
      "outputs": [],
      "source": [
        "# Square grid with 10 points per wavelength in each direction\n",
        "Nx = int(np.ceil(dim_x/lmbda * 10))\n",
        "extent = [-dim_x/2, dim_x/2, -dim_x/2, dim_x/2]\n",
        "xmin, xmax, ymin, ymax = extent\n",
        "plot_grid = np.mgrid[xmin:xmax:Nx * 1j, ymin:ymax:Nx * 1j]\n",
        "points = np.column_stack((plot_grid[0].ravel(),\n",
        "                          plot_grid[1].ravel(),\n",
        "                          np.zeros(plot_grid[0].size))) \n",
        "\n",
        "print(points)"
      ]
    },
    {
      "cell_type": "code",
      "execution_count": null,
      "id": "4dd14fed",
      "metadata": {
        "id": "4dd14fed"
      },
      "outputs": [],
      "source": [
        "# Compute values at points\n",
        "tree = geometry.BoundingBoxTree(mesh, 2)\n",
        "cell_candidates = geometry.compute_collisions(tree, points)\n",
        "colliding_cells = geometry.compute_colliding_cells(\n",
        "    mesh, cell_candidates, points)\n",
        "ncells = colliding_cells.num_nodes\n",
        "cells = [colliding_cells.links(i)[0] for i in range(ncells)]\n",
        "u_total = uh.eval(points, cells).reshape((Nx, Nx))"
      ]
    },
    {
      "cell_type": "code",
      "execution_count": null,
      "id": "94c98e61",
      "metadata": {
        "id": "94c98e61"
      },
      "outputs": [],
      "source": [
        "plt.rc('font', family='serif', size=22)\n",
        "fig = plt.figure(figsize=(10, 10))\n",
        "ax = fig.gca()\n",
        "plt.imshow(np.real(u_total).T, extent=extent,\n",
        "           cmap=plt.cm.get_cmap('seismic'), \n",
        "           interpolation='spline16')\n",
        "# Add circle\n",
        "circle = plt.Circle((0., 0.), radius, color='black', fill=False)\n",
        "ax.add_artist(circle)"
      ]
    },
    {
      "cell_type": "markdown",
      "id": "2ca2aab7",
      "metadata": {
        "id": "2ca2aab7"
      },
      "source": [
        "# Homework:"
      ]
    },
    {
      "cell_type": "code",
      "source": [
        "def helmoltz_solver(h, p, k):\n",
        "  import math\n",
        "  N = math.ceil(1/h)\n",
        "  mesh = dolfinx.mesh.create_unit_square(MPI.COMM_WORLD, N, N)\n",
        "  element = ufl.FiniteElement(\"Lagrange\", ufl.triangle, p)\n",
        "  n = ufl.FacetNormal(mesh)\n",
        "\n",
        "  # Definition of function space\n",
        "  V = dolfinx.fem.FunctionSpace(mesh, element)\n",
        "\n",
        "  # Incoming wave\n",
        "  ui = dolfinx.fem.Function(V)\n",
        "  ui.interpolate(lambda x: np.exp(1.0j * k0 * x[0]))\n",
        "  g = ufl.dot(ufl.grad(ui), n) + 1j * k0 * ui\n",
        "\n",
        "  # Define variational problem\n",
        "  u = ufl.TrialFunction(V)\n",
        "  v = ufl.TestFunction(V)\n",
        "\n",
        "  # Weak Form\n",
        "  a = ufl.inner(ufl.grad(u), ufl.grad(v)) * ufl.dx \\\n",
        "      - k0**2 * ufl.inner(u, v) * ufl.dx \\\n",
        "      + 1j * k0 * ufl.inner(u, v) * ufl.ds\n",
        "  L = ufl.inner(g, v) * ufl.ds\n",
        "\n",
        "  opt = {\"ksp_type\": \"preonly\", \"pc_type\": \"lu\"}\n",
        "  problem = dolfinx.fem.petsc.LinearProblem(a, L, petsc_options=opt)\n",
        "  uh = problem.solve()\n",
        "  uh.name = \"u\"\n",
        "\n",
        "  error = ui - uh\n",
        "  M = ufl.inner(error, error) * ufl.dx\n",
        "  error_sq = dolfinx.fem.assemble_scalar(dolfinx.fem.form(M))\n",
        "  return np.sqrt(error_sq, dtype=float)"
      ],
      "metadata": {
        "id": "S71IIZFJMX-m"
      },
      "id": "S71IIZFJMX-m",
      "execution_count": null,
      "outputs": []
    },
    {
      "cell_type": "code",
      "source": [
        "p = 2\n",
        "k0 = 10 * np.pi\n",
        "\n",
        "h_list = [0.1, 0.01, 0.001, 0.001]\n",
        "\n",
        "for h in h_list:\n",
        "  e = helmoltz_solver(h, p, k)\n",
        "  print(e)"
      ],
      "metadata": {
        "id": "WVHtKawxOLRy"
      },
      "id": "WVHtKawxOLRy",
      "execution_count": null,
      "outputs": []
    }
  ],
  "metadata": {
    "jupytext": {
      "cell_metadata_filter": "-all",
      "main_language": "python",
      "notebook_metadata_filter": "-all"
    },
    "colab": {
      "provenance": [],
      "toc_visible": true,
      "include_colab_link": true
    },
    "language_info": {
      "name": "python"
    },
    "kernelspec": {
      "name": "python3",
      "display_name": "Python 3"
    },
    "gpuClass": "standard"
  },
  "nbformat": 4,
  "nbformat_minor": 5
}