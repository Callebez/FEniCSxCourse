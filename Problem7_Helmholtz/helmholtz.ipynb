{
 "cells": [
  {
   "cell_type": "code",
   "execution_count": null,
   "id": "234ab15d",
   "metadata": {},
   "outputs": [],
   "source": [
    "try:\n",
    "  import gmsh\n",
    "except ImportError:\n",
    "  !wget \"https://github.com/fem-on-colab/fem-on-colab.github.io/raw/7f220b6/releases/gmsh-install.sh\" -O \"/tmp/gmsh-install.sh\" && bash \"/tmp/gmsh-install.sh\"\n",
    "  import gmsh\n",
    "\n",
    "try:\n",
    "    import dolfinx\n",
    "except ImportError:\n",
    "    !wget \"https://fem-on-colab.github.io/releases/fenicsx-install-complex.sh\" -O \"/tmp/fenicsx-install.sh\" && bash \"/tmp/fenicsx-install.sh\"\n",
    "    import dolfinx\n",
    "\n",
    "try:\n",
    "  import pyvista\n",
    "except ImportError:\n",
    "  !pip install -q piglet pyvirtualdisplay ipyvtklink pyvista panel pythreejs\n",
    "  !apt-get -qq install xvfb\n",
    "  import pyvista\n",
    "\n",
    "!wget \"https://raw.githubusercontent.com/IgorBaratta/FEniCSxCourse/main/Problem7_Helmholtz/utils.py\"\n",
    "!wget \"https://raw.githubusercontent.com/IgorBaratta/FEniCSxCourse/main/Problem7_Helmholtz/mesh_generation.py\""
   ]
  },
  {
   "cell_type": "markdown",
   "id": "55b1e5ba",
   "metadata": {},
   "source": [
    "# The Helmholtz equation\n",
    "\n",
    "In this tutorial, we will learn:\n",
    "- How to solve PDEs with complex-valued fields,\n",
    "- How to import and use high-order meshes from Gmsh,\n",
    "- How to use high order discretizations,\n",
    "- How to use UFL expressions."
   ]
  },
  {
   "cell_type": "markdown",
   "id": "242b1d4f",
   "metadata": {},
   "source": [
    "## Problem statement\n",
    "\n",
    "The Helmholtz equation can be used to model the scattering of time-harmonic waves by finite and infinite obstacles.\n",
    "We will solve the Helmholtz equation subject to a first order absorbing boundary condition:\n",
    "$$\n",
    "\\begin{align*}\n",
    "\\Delta u + k^2 u &= 0 && \\text{in } \\Omega,\\\\\n",
    "\\nabla u \\cdot \\mathbf{n} - \\mathrm{j}ku &= g && \\text{on } \\partial\\Omega,\n",
    "\\end{align*}\n",
    "$$\n",
    "where $k$ is a piecewise constant wavenumber, $\\mathrm{j}=\\sqrt{-1}$, and $g$ is the boundary source term computed as\n",
    "$$g = \\nabla u_\\text{inc} \\cdot \\mathbf{n} - \\mathrm{j}ku_\\text{inc}$$"
   ]
  },
  {
   "cell_type": "markdown",
   "id": "cf144769",
   "metadata": {},
   "source": [
    " To derive the weak form for the Helmholtz's equation, we first multiply both sides\n",
    "of the equation with the complex conjugate of a sufficiently smooth arbitrary test\n",
    "function $v$, integrate by parts in $\\Omega$, the domain of interest, and after\n",
    "applying the divergence theorem, we find\n",
    "$$\n",
    "\\begin{align*}\n",
    "    -\\int_\\Omega \\nabla u \\cdot \\nabla \\bar{v} ~ dx + \\int_\\Omega k^2 u \\,\\bar{v} ~ dx + \\int_{\\partial \\Omega} \\left(\\nabla u \\cdot \\mathbf{n} \\right) \\bar{v} ~ ds = \\int_\\Omega f \\, \\bar{v} ~ dx.\n",
    "\\end{align*}\n",
    "$$"
   ]
  },
  {
   "cell_type": "markdown",
   "id": "9de856eb",
   "metadata": {
    "lines_to_next_cell": 2
   },
   "source": [
    "Assuming that $u$ is a classical solution of our original equation with suitable\n",
    "boundary conditions, it is also a solution of the weak form for any $v \\in C_0^1(\\Omega)$,\n",
    "nevertheless with a reduced smoothness requirement.\n",
    "If $\\Omega \\in \\mathbb{R}^d, \\, d = 1, 2, 3 \\,$, then the natural space for the\n",
    "weak solution and the test functions $v$ is the Sobolev space\n",
    "$\\mathcal{H}^1 (\\Omega)$, given by\n",
    "\\begin{equation}\n",
    "    \\mathcal{H}^1(\\Omega) := \\{ u: \\Omega \\rightarrow \\mathbb{C}|\\,  u \\in L^2(\\Omega),\\,  \\partial_{x_i}u\\in L^2(\\Omega), 1\\leq i \\leq d  \\}.\n",
    "\\end{equation}"
   ]
  },
  {
   "cell_type": "markdown",
   "id": "07fef7d7",
   "metadata": {
    "lines_to_next_cell": 2
   },
   "source": [
    "Assuming that the test function $v$ vanishes on $\\Gamma_D$, where\n",
    "the solution $u$ is known, we arrive at the following variational problem:\n",
    "\n",
    "Find $u \\in V$ such that\n",
    "$$\n",
    "\\begin{align*}\n",
    "    -\\int_\\Omega \\nabla u \\cdot \\nabla \\bar{v} ~ dx + \\int_\\Omega k^2 u \\,\\bar{v}~ dx + \\int_{\\partial \\Omega / \\Gamma_D} \\left(\\nabla u \\cdot \\mathbf{n} \\right) \\bar{v} ~ ds = \\int_\\Omega f \\, \\bar{v}~ dx \\qquad \\forall v \\in \\widehat{V}.\n",
    "\\end{align*}\n",
    "$$\n",
    "\n",
    "Standard Galerkin finite element solutions with low-order piecewise polynomials differ significantly\n",
    "from the best approximation, due to spurious dispersion in the computation, unless the mesh is sufficiently refined.\n",
    "This phenomenon, related to the indefiniteness of the Helmholtz operator is known as the pollution effect.\n"
   ]
  },
  {
   "cell_type": "code",
   "execution_count": null,
   "id": "10902239",
   "metadata": {},
   "outputs": [],
   "source": [
    "from utils import penetrable_circle\n",
    "from dolfinx import geometry\n",
    "import matplotlib.pyplot as plt\n",
    "import dolfinx.cpp as _cpp\n",
    "from dolfinx.io import XDMFFile, VTXWriter\n",
    "from mpi4py import MPI\n",
    "\n",
    "# utils for plotting and generating mesh\n",
    "from utils import plot_mesh\n",
    "from mesh_generation import generate_mesh\n",
    "\n",
    "# Auxiliary libraries\n",
    "import IPython\n",
    "import numpy as np\n",
    "\n",
    "# Import dolfinx modules and ufl\n",
    "import dolfinx\n",
    "from dolfinx.io import gmshio\n",
    "import ufl"
   ]
  },
  {
   "cell_type": "markdown",
   "id": "bbfa8947",
   "metadata": {},
   "source": [
    "This example is designed to be executed with complex-valued coefficients.\n",
    "To be able to solve this problem, we use the complex build of PETSc."
   ]
  },
  {
   "cell_type": "code",
   "execution_count": null,
   "id": "70cf61f9",
   "metadata": {},
   "outputs": [],
   "source": [
    "import sys\n",
    "from petsc4py import PETSc\n",
    "\n",
    "if not np.issubdtype(PETSc.ScalarType, np.complexfloating):\n",
    "    print(\"This tutorial requires complex number support\")\n",
    "    sys.exit(0)\n",
    "else:\n",
    "    print(f\"Using {PETSc.ScalarType}.\")"
   ]
  },
  {
   "cell_type": "markdown",
   "id": "1ecbf397",
   "metadata": {},
   "source": [
    "## Defining model parameters"
   ]
  },
  {
   "cell_type": "code",
   "execution_count": null,
   "id": "cbfd47cb",
   "metadata": {},
   "outputs": [],
   "source": [
    "# wavenumber in free space (air)\n",
    "k0 = 10\n",
    "\n",
    "# Corresponding wavelength\n",
    "lmbda = 2 * np.pi / k0\n",
    "\n",
    "# scatterer radius\n",
    "radius = 2*lmbda\n",
    "\n",
    "# refractive index of scatterer\n",
    "ref_ind = 1.0\n",
    "\n",
    "# Polynomial degree\n",
    "degree = 6\n",
    "\n",
    "# width of computational domain\n",
    "dim_x = 20*lmbda\n",
    "\n",
    "# Mesh order\n",
    "mesh_order = 2"
   ]
  },
  {
   "cell_type": "code",
   "execution_count": null,
   "id": "616cdce4",
   "metadata": {
    "lines_to_next_cell": 2
   },
   "outputs": [],
   "source": [
    "# For this problem we use a square mesh with triangular elements.\n",
    "# The mesh element size is h_elem, and the #elements in one dimension is n_elem\n",
    "h_elem = lmbda / 5"
   ]
  },
  {
   "cell_type": "markdown",
   "id": "e6afce46",
   "metadata": {},
   "source": [
    "## Interfacing with GMSH\n",
    "We will use Gmsh to generate the computational domain (mesh) for this example.\n",
    "As long as Gmsh has been installed (including its Python API), DOLFINx supports direct input of Gmsh models (generated on one process).\n",
    "DOLFINx will then in turn distribute the mesh over all processes in the communicator passed to `dolfinx.io.gmshio.model_to_mesh`."
   ]
  },
  {
   "cell_type": "markdown",
   "id": "b6655d87",
   "metadata": {},
   "source": [
    "The function `generate_mesh` creates a Gmsh model and saves it into a `.msh` file."
   ]
  },
  {
   "cell_type": "code",
   "execution_count": null,
   "id": "71f548e6",
   "metadata": {},
   "outputs": [],
   "source": [
    "\n",
    "# MPI communicator\n",
    "comm = MPI.COMM_WORLD\n",
    "\n",
    "file_name = \"domain.msh\"\n",
    "generate_mesh(file_name, radius, dim_x, h_elem, mesh_order)"
   ]
  },
  {
   "cell_type": "markdown",
   "id": "42b68454",
   "metadata": {},
   "source": [
    "Now we can read the mesh from file:"
   ]
  },
  {
   "cell_type": "code",
   "execution_count": null,
   "id": "8a4e389f",
   "metadata": {},
   "outputs": [],
   "source": [
    "mesh, cell_tags, _ = gmshio.read_from_msh(file_name, comm, rank=0, gdim=2)\n",
    "\n",
    "num_cells = mesh.topology.index_map(2).size_global\n",
    "h = _cpp.mesh.h(mesh, 2, range(num_cells))\n",
    "print(num_cells, h.max(), h_elem)"
   ]
  },
  {
   "cell_type": "markdown",
   "id": "27d31aa4",
   "metadata": {},
   "source": [
    "## Material parameters\n",
    "In this problem, the wave number in the different parts of the domain\n",
    "depends on cell markers, inputted through `cell_tags`. We use the fact that a\n",
    "discontinuous Lagrange space of order 0 (cell-wise constants) has a\n",
    "one-to-one mapping with the cells local to the process."
   ]
  },
  {
   "cell_type": "code",
   "execution_count": null,
   "id": "60c7ffab",
   "metadata": {
    "lines_to_next_cell": 2
   },
   "outputs": [],
   "source": [
    "W = dolfinx.fem.FunctionSpace(mesh, (\"DG\", 0))\n",
    "k = dolfinx.fem.Function(W)\n",
    "k.x.array[:] = k0\n",
    "k.x.array[cell_tags.find(1)] = ref_ind*k0\n",
    "\n",
    "plot_mesh(mesh, cell_values=k, filename=\"mesh.html\")\n",
    "IPython.display.HTML(filename=\"mesh.html\")"
   ]
  },
  {
   "cell_type": "markdown",
   "id": "8227cd18",
   "metadata": {},
   "source": [
    "## Boundary source term\n",
    "$$g = \\nabla u_{inc} \\cdot \\mathbf{n} - \\mathrm{j}ku_{inc}$$\n",
    "where $u_{inc} = e^{-jkx}$ the incoming wave, is a plane wave propagating\n",
    "in the $x$ direction.\n",
    "\n",
    "Next, we define the boundary source term by using `ufl.SpatialCoordinate`.\n",
    "When using this function, all quantities using this expression will be evaluated\n",
    "at quadrature points."
   ]
  },
  {
   "cell_type": "code",
   "execution_count": null,
   "id": "411f7c32",
   "metadata": {},
   "outputs": [],
   "source": [
    "n = ufl.FacetNormal(mesh)\n",
    "x = ufl.SpatialCoordinate(mesh)\n",
    "uinc = ufl.exp(-1j * k0 * x[0])\n",
    "g = ufl.dot(ufl.grad(uinc), n) + 1j * k0 * uinc"
   ]
  },
  {
   "cell_type": "markdown",
   "id": "731f4f9e",
   "metadata": {},
   "source": [
    "## Variational form\n",
    "Next, we define the variational problem using a 6th order Lagrange space.\n",
    "Note that as we are using complex valued functions, we have to use the\n",
    "appropriate inner product; see DOLFINx tutorial: Complex numbers for more\n",
    "information.\n",
    "\n",
    "Find $u \\in V$ such that\n",
    "$$-\\int_\\Omega \\nabla u \\cdot \\nabla \\bar{v} ~ dx + \\int_\\Omega k^2 u \\,\\bar{v}~ dx - j\\int_{\\partial \\Omega} ku  \\bar{v} ~ ds = \\int_{\\partial \\Omega} g \\, \\bar{v}~ ds \\qquad \\forall v \\in \\widehat{V}.$$"
   ]
  },
  {
   "cell_type": "code",
   "execution_count": null,
   "id": "80814672",
   "metadata": {
    "lines_to_next_cell": 0
   },
   "outputs": [],
   "source": [
    "element = ufl.FiniteElement(\"Lagrange\", mesh.ufl_cell(), degree)\n",
    "V = dolfinx.fem.FunctionSpace(mesh, element)\n",
    "\n",
    "u = ufl.TrialFunction(V)\n",
    "v = ufl.TestFunction(V)"
   ]
  },
  {
   "cell_type": "code",
   "execution_count": null,
   "id": "c4c7ebf2",
   "metadata": {},
   "outputs": [],
   "source": [
    "a = - ufl.inner(ufl.grad(u), ufl.grad(v)) * ufl.dx \\\n",
    "    + k**2 * ufl.inner(u, v) * ufl.dx \\\n",
    "    - 1j * k * ufl.inner(u, v) * ufl.ds\n",
    "L = ufl.inner(g, v) * ufl.ds"
   ]
  },
  {
   "cell_type": "code",
   "execution_count": null,
   "id": "fa1ec89d",
   "metadata": {
    "lines_to_next_cell": 0
   },
   "outputs": [],
   "source": [
    "# ## Linear solver\n",
    "# Next, we will solve the problem using a direct solver (LU).\n",
    "# Contrary to the case of elliptic problems where effective multigrid\n",
    "# and domain decomposition methods are readily available\n",
    "# (see for example PETSc documentation), the solution of $Au=b$ is less understood.\n",
    "# The matrix inherits many characteristics from the original equations;\n",
    "# it is symmetric unless non-reciprocal materials are used, and generally,\n",
    "# it is not positive definite nor hermitian."
   ]
  },
  {
   "cell_type": "code",
   "execution_count": null,
   "id": "52acdc8d",
   "metadata": {},
   "outputs": [],
   "source": [
    "opt = {\"ksp_type\": \"preonly\", \"pc_type\": \"lu\"}\n",
    "problem = dolfinx.fem.petsc.LinearProblem(a, L, petsc_options=opt)\n",
    "uh = problem.solve()\n",
    "uh.name = \"u\""
   ]
  },
  {
   "cell_type": "markdown",
   "id": "5b149b8c",
   "metadata": {},
   "source": [
    "## Visualizing the solution:"
   ]
  },
  {
   "cell_type": "markdown",
   "id": "9061106c",
   "metadata": {},
   "source": [
    "### Post-processing with Paraview"
   ]
  },
  {
   "cell_type": "markdown",
   "id": "7cd5201e",
   "metadata": {},
   "source": [
    "Using XDMFFile:"
   ]
  },
  {
   "cell_type": "code",
   "execution_count": null,
   "id": "8874f2e1",
   "metadata": {},
   "outputs": [],
   "source": [
    "# XDMF writes data to mesh nodes\n",
    "with XDMFFile(comm, \"out.xdmf\", \"w\") as file:\n",
    "    file.write_mesh(mesh)\n",
    "    file.write_function(uh)"
   ]
  },
  {
   "cell_type": "markdown",
   "id": "f7095280",
   "metadata": {},
   "source": [
    "# Using VTXWriter"
   ]
  },
  {
   "cell_type": "code",
   "execution_count": null,
   "id": "8e53295d",
   "metadata": {
    "lines_to_next_cell": 2
   },
   "outputs": [],
   "source": [
    "# with VTXWriter(comm, \"out.bp\", [u_abs]) as f:\n",
    "#     f.write(0.0)"
   ]
  },
  {
   "cell_type": "markdown",
   "id": "4040bef4",
   "metadata": {
    "lines_to_next_cell": 2
   },
   "source": [
    "# Using matplotlib\n",
    "# +"
   ]
  },
  {
   "cell_type": "markdown",
   "id": "8faa3d3e",
   "metadata": {},
   "source": [
    "# Plot field and save figure"
   ]
  },
  {
   "cell_type": "code",
   "execution_count": null,
   "id": "5afdc0d8",
   "metadata": {
    "lines_to_next_cell": 2
   },
   "outputs": [],
   "source": [
    "# Square grid with 10 points per wavelength in each direction\n",
    "Nx = int(np.ceil(dim_x/lmbda * 10))"
   ]
  },
  {
   "cell_type": "code",
   "execution_count": null,
   "id": "5398665e",
   "metadata": {},
   "outputs": [],
   "source": [
    "extent = [-dim_x/2, dim_x/2, -dim_x/2, dim_x/2]\n",
    "xmin, xmax, ymin, ymax = extent\n",
    "plot_grid = np.mgrid[xmin:xmax:Nx * 1j, ymin:ymax:Nx * 1j]\n",
    "points = np.vstack((plot_grid[0].ravel(),\n",
    "                    plot_grid[1].ravel(),\n",
    "                    np.zeros(plot_grid[0].size)))"
   ]
  },
  {
   "cell_type": "code",
   "execution_count": null,
   "id": "4dd14fed",
   "metadata": {},
   "outputs": [],
   "source": [
    "#\n",
    "tree = geometry.BoundingBoxTree(mesh, 2)\n",
    "cell_candidates = geometry.compute_collisions(tree, points.T)\n",
    "colliding_cells = geometry.compute_colliding_cells(\n",
    "    mesh, cell_candidates, points.T)\n",
    "ncells = colliding_cells.num_nodes\n",
    "cells = [colliding_cells.links(i)[0] for i in range(ncells)]\n",
    "u_total = uh.eval(points.T, cells).reshape((Nx, Nx))"
   ]
  },
  {
   "cell_type": "code",
   "execution_count": null,
   "id": "757aca1d",
   "metadata": {},
   "outputs": [],
   "source": [
    "u_exact = penetrable_circle(k0, k0*ref_ind, radius, plot_grid)\n",
    "error = np.linalg.norm(np.abs(u_exact)-np.abs(u_total))/np.linalg.norm(u_exact)\n",
    "print('Relative error = ', error)"
   ]
  },
  {
   "cell_type": "code",
   "execution_count": null,
   "id": "94c98e61",
   "metadata": {},
   "outputs": [],
   "source": [
    "plt.rc('font', family='serif', size=22)\n",
    "fig = plt.figure(figsize=(10, 10))\n",
    "ax = fig.gca()\n",
    "plt.imshow(np.fliplr(np.real(u_total)).T, extent=extent,\n",
    "           cmap=plt.cm.get_cmap('seismic'), interpolation='spline16')"
   ]
  },
  {
   "cell_type": "code",
   "execution_count": null,
   "id": "95a1b5b0",
   "metadata": {},
   "outputs": [],
   "source": [
    "# Add circle\n",
    "circle = plt.Circle((0., 0.), radius, color='black', fill=False)\n",
    "ax.add_artist(circle)"
   ]
  },
  {
   "cell_type": "code",
   "execution_count": null,
   "id": "60eb77ee",
   "metadata": {
    "lines_to_next_cell": 2
   },
   "outputs": [],
   "source": [
    "plt.axis('off')\n",
    "plt.colorbar()\n",
    "fig.savefig('circle_scatter.png')"
   ]
  },
  {
   "cell_type": "markdown",
   "id": "edbed8b6",
   "metadata": {},
   "source": [
    "# -"
   ]
  },
  {
   "cell_type": "markdown",
   "id": "2ca2aab7",
   "metadata": {},
   "source": [
    "# Homework:"
   ]
  },
  {
   "cell_type": "markdown",
   "id": "33fdf07b",
   "metadata": {},
   "source": [
    "# **Task 1**: download the files `out.xdmf` and `out.bp`.\n",
    "# Why do they look so different?"
   ]
  },
  {
   "cell_type": "markdown",
   "id": "5c60915a",
   "metadata": {},
   "source": [
    "# **Task 2**: create a first order Lagrange function and interpolate the solution\n",
    "# into u1. Use XDMFFile and VTXWriter to visualize the solution."
   ]
  },
  {
   "cell_type": "markdown",
   "id": "00b038e5",
   "metadata": {},
   "source": [
    "# +\n",
    "p1 = ufl.FiniteElement(\"Lagrange\", mesh.ufl_cell(), 1)\n",
    "V1 = dolfinx.fem.FunctionSpace(mesh, p1)"
   ]
  },
  {
   "cell_type": "markdown",
   "id": "408c064e",
   "metadata": {},
   "source": [
    "u1 = dolfinx.fem.Function(V1)\n",
    "u1.interpolate(uh)\n",
    "# -"
   ]
  },
  {
   "cell_type": "markdown",
   "id": "28514b7e",
   "metadata": {},
   "source": [
    "# **Task 3**: Select an iterative solver and plot the solution.\n",
    "# Can you explain what's happening?"
   ]
  }
 ],
 "metadata": {
  "jupytext": {
   "cell_metadata_filter": "-all",
   "main_language": "python",
   "notebook_metadata_filter": "-all"
  }
 },
 "nbformat": 4,
 "nbformat_minor": 5
}
