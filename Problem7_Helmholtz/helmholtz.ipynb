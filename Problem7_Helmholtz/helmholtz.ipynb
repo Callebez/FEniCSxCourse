{
 "cells": [
  {
   "cell_type": "code",
   "execution_count": null,
   "metadata": {},
   "outputs": [],
   "source": [
    "try:\n",
    "  import gmsh\n",
    "except ImportError:\n",
    "  !wget \"https://github.com/fem-on-colab/fem-on-colab.github.io/raw/7f220b6/releases/gmsh-install.sh\" -O \"/tmp/gmsh-install.sh\" && bash \"/tmp/gmsh-install.sh\"\n",
    "  import gmsh\n",
    "\n",
    "try:\n",
    "    import dolfinx\n",
    "except ImportError:\n",
    "    !wget \"https://fem-on-colab.github.io/releases/fenicsx-install-complex.sh\" -O \"/tmp/fenicsx-install.sh\" && bash \"/tmp/fenicsx-install.sh\"\n",
    "    import dolfinx\n",
    "\n",
    "try: \n",
    "  import pyvista\n",
    "except ImportError:\n",
    "  !pip install -q piglet pyvirtualdisplay ipyvtklink pyvista panel\n",
    "  !apt-get -qq install xvfb\n",
    "  import pyvista\n",
    "\n",
    "!wget \"https://raw.githubusercontent.com/IgorBaratta/FEniCSxCourse/main/Problem7_Helmholtz/utils.py\"\n",
    "!wget \"https://raw.githubusercontent.com/IgorBaratta/FEniCSxCourse/main/Problem7_Helmholtz/mesh_generation.py\"\n"
   ]
  },
  {
   "cell_type": "markdown",
   "metadata": {},
   "source": [
    "# The Helmholtz equation\n",
    "\n",
    "In this tutorial, we will learn:\n",
    "- How to solve PDEs with complex-valued fields,\n",
    "- How to import and use high-order meshes from Gmsh,\n",
    "- How to use high order discretizations,\n",
    "- How to use UFL expressions."
   ]
  },
  {
   "cell_type": "markdown",
   "metadata": {},
   "source": [
    "## Problem statement"
   ]
  },
  {
   "cell_type": "markdown",
   "metadata": {},
   "source": [
    "We will solve the Helmholtz equation subject to a first order absorbing boundary condition:\n",
    "$$\n",
    "\\begin{align*}\n",
    "\\Delta u + k^2 u &= 0 && \\text{in } \\Omega,\\\\\n",
    "\\nabla u \\cdot \\mathbf{n} - \\mathrm{j}ku &= g && \\text{on } \\partial\\Omega,\n",
    "\\end{align*}\n",
    "$$\n",
    "where $k$ is a piecewise constant wavenumber, $\\mathrm{j}=\\sqrt{-1}$, and $g$ is the boundary source term computed as\n",
    "$$g = \\nabla u_\\text{inc} \\cdot \\mathbf{n} - \\mathrm{j}ku_\\text{inc}$$"
   ]
  },
  {
   "cell_type": "markdown",
   "metadata": {},
   "source": [
    " To derive the weak form for the Helmholtz's equation, we first multiply both sides \n",
    "of the equation with the complex conjugate of a sufficiently smooth arbitrary test \n",
    "function $v$, integrate by parts in $\\Omega$, the domain of interest, and after \n",
    "applying the divergence theorem, we find\n",
    "$$\n",
    "\\begin{align*}\n",
    "    -\\int_\\Omega \\nabla u \\cdot \\nabla \\bar{v} ~ dx + \\int_\\Omega k^2 u \\,\\bar{v} ~ dx + \\int_{\\partial \\Omega} \\left(\\nabla u \\cdot \\mathbf{n} \\right) \\bar{v} ~ ds = \\int_\\Omega f \\, \\bar{v} ~ dx.\n",
    "\\end{align*}\n",
    "$$"
   ]
  },
  {
   "cell_type": "markdown",
   "metadata": {
    "lines_to_next_cell": 2
   },
   "source": [
    "Assuming that $u$ is a classical solution of our original equation with suitable \n",
    "boundary conditions, it is also a solution of the weak form for any $v \\in C_0^1(\\Omega)$, \n",
    "nevertheless with a reduced smoothness requirement. \n",
    "If $\\Omega \\in \\mathbb{R}^d, \\, d = 1, 2, 3 \\,$, then the natural space for the \n",
    "weak solution and the test functions $v$ is the Sobolev space \n",
    "$\\mathcal{H}^1 (\\Omega)$, given by\n",
    "\\begin{equation}\n",
    "    \\mathcal{H}^1(\\Omega) := \\{ u: \\Omega \\rightarrow \\mathbb{C}|\\,  u \\in L^2(\\Omega),\\,  \\partial_{x_i}u\\in L^2(\\Omega), 1\\leq i \\leq d  \\}.\n",
    "\\end{equation}"
   ]
  },
  {
   "cell_type": "markdown",
   "metadata": {},
   "source": [
    "Assuming that the test function $v$ vanishes on $\\Gamma_D$, where \n",
    "the solution $u$ is known, we arrive at the following variational problem:\n",
    "\n",
    "Find $u \\in V$ such that\n",
    "$$\n",
    "\\begin{align*}\n",
    "    -\\int_\\Omega \\nabla u \\cdot \\nabla \\bar{v} ~ dx + \\int_\\Omega k^2 u \\,\\bar{v}~ dx + \\int_{\\partial \\Omega / \\Gamma_D} \\left(\\nabla u \\cdot \\mathbf{n} \\right) \\bar{v} ~ ds = \\int_\\Omega f \\, \\bar{v}~ dx \\qquad \\forall v \\in \\widehat{V}.\n",
    "\\end{align*}\n",
    "$$"
   ]
  },
  {
   "cell_type": "code",
   "execution_count": null,
   "metadata": {},
   "outputs": [],
   "source": [
    "from utils import plot_mesh, plot_function\n",
    "from mesh_generation import generate_mesh\n",
    "from dolfinx.io import gmshio\n",
    "import IPython\n",
    "import numpy as np\n",
    "from mpi4py import MPI\n",
    "\n",
    "import dolfinx\n",
    "import ufl"
   ]
  },
  {
   "cell_type": "markdown",
   "metadata": {},
   "source": [
    "This example is designed to be executed with complex-valued coefficients.\n",
    "To be able to solve this problem, we use the complex build of PETSc."
   ]
  },
  {
   "cell_type": "code",
   "execution_count": null,
   "metadata": {},
   "outputs": [],
   "source": [
    "import sys\n",
    "from petsc4py import PETSc\n",
    "\n",
    "if not np.issubdtype(PETSc.ScalarType, np.complexfloating):\n",
    "    print(\"This tutorial requires complex number support\")\n",
    "    sys.exit(0)\n",
    "else:\n",
    "    print(f\"Using {PETSc.ScalarType}.\")"
   ]
  },
  {
   "cell_type": "markdown",
   "metadata": {},
   "source": [
    "## Defining model parameters"
   ]
  },
  {
   "cell_type": "code",
   "execution_count": null,
   "metadata": {
    "lines_to_next_cell": 2
   },
   "outputs": [],
   "source": [
    "# wavenumber in free space (air)\n",
    "k0 = 10 * np.pi\n",
    "\n",
    "# Corresponding wavelength\n",
    "lmbda = 2 * np.pi / k0\n",
    "\n",
    "# Polynomial degree\n",
    "degree = 6\n",
    "\n",
    "# Mesh order\n",
    "mesh_order = 2"
   ]
  },
  {
   "cell_type": "markdown",
   "metadata": {},
   "source": [
    "## Interfacing with GMSH\n",
    "We will use Gmsh to generate the computational domain (mesh) for this example.\n",
    "As long as Gmsh has been installed (including its Python API), DOLFINx supports direct input of Gmsh models (generated on one process).\n",
    "DOLFINx will then in turn distribute the mesh over all processes in the communicator passed to `dolfinx.io.gmshio.model_to_mesh`."
   ]
  },
  {
   "cell_type": "markdown",
   "metadata": {},
   "source": [
    "The function `generate_mesh` creates a Gmsh model and saves it into a .msh file."
   ]
  },
  {
   "cell_type": "code",
   "execution_count": null,
   "metadata": {},
   "outputs": [],
   "source": [
    "\n",
    "# MPI communicator\n",
    "comm = MPI.COMM_WORLD\n",
    "\n",
    "file_name = \"domain.msh\"\n",
    "generate_mesh(file_name, lmbda, order=mesh_order)"
   ]
  },
  {
   "cell_type": "markdown",
   "metadata": {},
   "source": [
    "Now we can read the mesh from file:"
   ]
  },
  {
   "cell_type": "code",
   "execution_count": null,
   "metadata": {
    "lines_to_end_of_cell_marker": 2
   },
   "outputs": [],
   "source": [
    "mesh, cell_tags, _ = gmshio.read_from_msh(file_name, comm, rank=0, gdim=2)"
   ]
  },
  {
   "cell_type": "markdown",
   "metadata": {},
   "source": [
    "## Material parameters\n",
    "In this problem, the wave number in the different parts of the domain\n",
    "depends on cell markers, inputted through `cell_tags`. We use the fact that a\n",
    "discontinuous Lagrange space of order 0 (cell-wise constants) has a\n",
    "one-to-one mapping with the cells local to the process."
   ]
  },
  {
   "cell_type": "code",
   "execution_count": null,
   "metadata": {
    "lines_to_next_cell": 2
   },
   "outputs": [],
   "source": [
    "W = dolfinx.fem.FunctionSpace(mesh, (\"DG\", 0))\n",
    "k = dolfinx.fem.Function(W)\n",
    "k.x.array[:] = k0\n",
    "k.x.array[cell_tags.find(1)] = 3 * k0\n",
    "\n",
    "plot_mesh(mesh, cell_values=k, filename=\"mesh.html\")\n",
    "IPython.display.HTML(filename=\"mesh.html\")"
   ]
  },
  {
   "cell_type": "markdown",
   "metadata": {},
   "source": [
    "## Boundary source term\n",
    "$$g = \\nabla u_{inc} \\cdot \\mathbf{n} - \\mathrm{j}ku_{inc}$$\n",
    "where $u_{inc} = e^{-jkx}$ the incoming wave, is a plane wave propagating\n",
    "in the $x$ direction.\n",
    "\n",
    "Next, we define the boundary source term by using `ufl.SpatialCoordinate`.\n",
    "When using this function, all quantities using this expression will be evaluated\n",
    "at quadrature points."
   ]
  },
  {
   "cell_type": "code",
   "execution_count": null,
   "metadata": {},
   "outputs": [],
   "source": [
    "n = ufl.FacetNormal(mesh)\n",
    "x = ufl.SpatialCoordinate(mesh)\n",
    "uinc = ufl.exp(1j * k * x[0])\n",
    "g = ufl.dot(ufl.grad(uinc), n) - 1j * k * uinc"
   ]
  },
  {
   "cell_type": "markdown",
   "metadata": {},
   "source": [
    "## Variational form\n",
    "Next, we define the variational problem using a 6th order Lagrange space. \n",
    "Note that as we are using complex valued functions, we have to use the \n",
    "appropriate inner product; see DOLFINx tutorial: Complex numbers for more \n",
    "information. \n",
    "\n",
    "Find $u \\in V$ such that\n",
    "$$-\\int_\\Omega \\nabla u \\cdot \\nabla \\bar{v} ~ dx + \\int_\\Omega k^2 u \\,\\bar{v}~ dx - j\\int_{\\partial \\Omega} ku  \\bar{v} ~ ds = \\int_{\\partial \\Omega} g \\, \\bar{v}~ ds \\qquad \\forall v \\in \\widehat{V}.$$"
   ]
  },
  {
   "cell_type": "code",
   "execution_count": null,
   "metadata": {
    "lines_to_next_cell": 0
   },
   "outputs": [],
   "source": [
    "element = ufl.FiniteElement(\"Lagrange\", mesh.ufl_cell(), degree)\n",
    "V = dolfinx.fem.FunctionSpace(mesh, element)\n",
    "\n",
    "u = ufl.TrialFunction(V)\n",
    "v = ufl.TestFunction(V)"
   ]
  },
  {
   "cell_type": "code",
   "execution_count": null,
   "metadata": {},
   "outputs": [],
   "source": [
    "a = - ufl.inner(ufl.grad(u), ufl.grad(v)) * ufl.dx \\\n",
    "    + k**2 * ufl.inner(u, v) * ufl.dx \\\n",
    "    - 1j * k * ufl.inner(u, v) * ufl.ds\n",
    "L = ufl.inner(g, v) * ufl.ds"
   ]
  },
  {
   "cell_type": "markdown",
   "metadata": {},
   "source": [
    "## Linear solver\n",
    "Next, we will solve the problem using a direct solver (LU)."
   ]
  },
  {
   "cell_type": "code",
   "execution_count": null,
   "metadata": {},
   "outputs": [],
   "source": [
    "opt = {\"ksp_type\": \"preonly\", \"pc_type\": \"lu\"}\n",
    "problem = dolfinx.fem.petsc.LinearProblem(a, L, petsc_options=opt)\n",
    "uh = problem.solve()\n",
    "uh.name = \"u\""
   ]
  },
  {
   "cell_type": "markdown",
   "metadata": {},
   "source": [
    "Visualizing the solution:"
   ]
  },
  {
   "cell_type": "code",
   "execution_count": null,
   "metadata": {},
   "outputs": [],
   "source": [
    "plot_function(uh, \"uh.html\")\n",
    "IPython.display.HTML(filename=\"uh.html\")"
   ]
  },
  {
   "cell_type": "markdown",
   "metadata": {},
   "source": [
    "### Post-processing with Paraview"
   ]
  },
  {
   "cell_type": "code",
   "execution_count": null,
   "metadata": {},
   "outputs": [],
   "source": [
    "from dolfinx.io import XDMFFile, VTXWriter\n",
    "u_abs = dolfinx.fem.Function(V, dtype=np.float64)\n",
    "u_abs.x.array[:] = np.abs(uh.x.array)"
   ]
  },
  {
   "cell_type": "markdown",
   "metadata": {},
   "source": [
    "Using XDMFFile:"
   ]
  },
  {
   "cell_type": "code",
   "execution_count": null,
   "metadata": {},
   "outputs": [],
   "source": [
    "# XDMF writes data to mesh nodes\n",
    "with XDMFFile(comm, \"out.xdmf\", \"w\") as file:\n",
    "    file.write_mesh(mesh)\n",
    "    file.write_function(u_abs)"
   ]
  },
  {
   "cell_type": "markdown",
   "metadata": {},
   "source": [
    "Using VTXWriter"
   ]
  },
  {
   "cell_type": "code",
   "execution_count": null,
   "metadata": {},
   "outputs": [],
   "source": [
    "with VTXWriter(comm, \"out.bp\", [u_abs]) as f:\n",
    "    f.write(0.0)"
   ]
  },
  {
   "cell_type": "markdown",
   "metadata": {},
   "source": [
    "# Homework:"
   ]
  },
  {
   "cell_type": "markdown",
   "metadata": {},
   "source": [
    "**Task 1**: download the files `out.xdmf` and `out.bp`.\n",
    "Why do they look so different?"
   ]
  },
  {
   "cell_type": "markdown",
   "metadata": {},
   "source": [
    "**Task 2**: create a first order Lagrange function and interpolate the solution\n",
    "into u1. Use XDMFFile and VTXWriter to visualize the solution."
   ]
  },
  {
   "cell_type": "code",
   "execution_count": null,
   "metadata": {},
   "outputs": [],
   "source": [
    "p1 = ufl.FiniteElement(\"Lagrange\", mesh.ufl_cell(), 1)\n",
    "V1 = dolfinx.fem.FunctionSpace(mesh, p1)\n",
    "\n",
    "u1 = dolfinx.fem.Function(V1)\n",
    "u1.interpolate(uh)"
   ]
  },
  {
   "cell_type": "markdown",
   "metadata": {},
   "source": [
    "**Task 3**: Select an iterative solver and plot the solution.\n",
    "Can you explain what's happening?"
   ]
  }
 ],
 "metadata": {
  "jupytext": {
   "cell_metadata_filter": "-all",
   "main_language": "python",
   "notebook_metadata_filter": "-all"
  }
 },
 "nbformat": 4,
 "nbformat_minor": 4
}
