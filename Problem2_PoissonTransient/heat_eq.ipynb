{
 "cells": [
  {
   "cell_type": "code",
   "execution_count": null,
   "id": "db5a20cf",
   "metadata": {},
   "outputs": [],
   "source": [
    "# @title Install dolfinx and dependencies\n",
    "try:\n",
    "    from matplotlib import pyplot\n",
    "    from dolfinx import plot\n",
    "    import pyvista\n",
    "    import gmsh\n",
    "except ImportError:\n",
    "    !wget \"https://github.com/fem-on-colab/fem-on-colab.github.io/raw/7f220b6/releases/gmsh-install.sh\" - O \"/tmp/gmsh-install.sh\" & & bash \"/tmp/gmsh-install.sh\"\n",
    "    import gmsh\n",
    "\n",
    "try:\n",
    "    import dolfinx\n",
    "except ImportError:\n",
    "    !wget \"https://github.com/fem-on-colab/fem-on-colab.github.io/raw/7f220b6/releases/fenicsx-install-real.sh\" - O \"/tmp/fenicsx-install.sh\" & & bash \"/tmp/fenicsx-install.sh\"\n",
    "    import dolfinx\n",
    "\n",
    "try:\n",
    "    import pyvista\n",
    "except ImportError:\n",
    "    !pip install - q piglet pyvirtualdisplay ipyvtklink pyvista panel\n",
    "    !apt-get - qq install xvfb\n",
    "    import pyvista"
   ]
  },
  {
   "cell_type": "markdown",
   "id": "ae882bba",
   "metadata": {},
   "source": [
    "# Solving a time-dependent problem"
   ]
  },
  {
   "cell_type": "markdown",
   "id": "a96d038b",
   "metadata": {
    "lines_to_next_cell": 2
   },
   "source": [
    "\n",
    "This notebook shows how to solve a transient problem using DOLFINx, namely the diffusion problem,\n",
    "the simplest extension of the Poisson problem.\n",
    "\n",
    "The strong form of our problem reads:\n",
    "$$\n",
    "\\begin{align*}\n",
    "\\frac{\\partial T(\\boldsymbol{x}, t)}{\\partial t} - \\nabla \\cdot (\\mu  \\nabla T(\\boldsymbol{x}, t)) &= f(\\boldsymbol{x}, t) & & \\text{in } \\, \\Omega, \\\\\n",
    "T(\\boldsymbol{x}, t) &= T_D(\\boldsymbol{x}, t) & &\\text{on} \\,\\partial\\Omega_\\text{D}, \\\\\n",
    "\\mu\\frac{\\partial T}{\\partial n} &= 0 & &\\text{on} \\, \\partial\\Omega_\\text{N} \\\\\n",
    "T(\\boldsymbol{x}, t=0) &= T_i(\\boldsymbol{x}) & & \\text{in } \\, \\Omega,\n",
    "\\end{align*}\n",
    "$$\n",
    "\n",
    "Where $T$, the temperature distribution, varies with space and time $T(\\boldsymbol{x}, t)$.\n",
    "$T_D$ is a prescribed function at the boundary $\\partial\\Omega_\\text{D}$.\n",
    "And $T_i$ is the initial temperature distribution.\n",
    "\n",
    "To solve time-dependent PDEs using the finite element method, we first discretize the time derivative\n",
    "using a finite difference approximation, yielding a recursive series of stationary problems,\n",
    "and then we convert each stationary problem into a variational problem.\n"
   ]
  },
  {
   "cell_type": "markdown",
   "id": "5619acb9",
   "metadata": {},
   "source": [
    "## Time discretization\n",
    "A backward Euler scheme can be used to approximate the time derivative.\n",
    "$$\n",
    "\\begin{align*}\n",
    "  \\frac{T_{n+1} - T_{n}}{\\Delta t} - \\nabla \\cdot (\\mu  \\nabla T_{n+1}) = f_{n+1}\n",
    "\\end{align*}\n",
    "$$\n",
    "Reordering the last equation equation so that only $T_{n+1}$ appears in the left-hand\n",
    "side:\n",
    "$$\n",
    "\\begin{align*}\n",
    "  T_{n+1} - \\Delta t \\nabla \\, \\cdot (\\mu  \\nabla T_{n+1}) = \\Delta t f_{n+1} + T_{n}\n",
    "\\end{align*}\n",
    "$$\n"
   ]
  },
  {
   "cell_type": "markdown",
   "id": "fb189a31",
   "metadata": {
    "lines_to_next_cell": 2
   },
   "source": [
    "## Time-stepping algorithm\n",
    "      Compute T_0 as interpolation of a given function T_i(\\boldsymbol{x})\n",
    "      Define the bilinear a(T,v) and linear L(v) forms\n",
    "      Assemble the matrix A from the bilinear form a\n",
    "      t = 0\n",
    "      while t < t_max:\n",
    "          Assemble the vector b from the linear form L\n",
    "          Apply time dependent boundary conditions\n",
    "          Solve the linear system AT=b\n",
    "          Update current solution T_n = T"
   ]
  },
  {
   "cell_type": "markdown",
   "id": "d5a53fa0",
   "metadata": {
    "lines_to_next_cell": 2
   },
   "source": [
    "## Variational formulation\n",
    "As usual we find the weak by multiplying our semi-discrete equation by a sufficiently\n",
    "regular test function $v$ and applying integration by parts"
   ]
  },
  {
   "cell_type": "markdown",
   "id": "5dbc8d19",
   "metadata": {},
   "source": [
    "## Test problem\n",
    "We construct a test problem for which we can easily check the answer. We first define the exact solution by\n",
    "\n",
    "$$\n",
    "\\begin{align*}\n",
    "  T(\\boldsymbol{x}, t) = c_0 x_0^2 - c_1 x_0 + c_2 x_1^2 - c_3 x_1 + c_4t\n",
    "\\end{align*}\n",
    "$$\n",
    "\n",
    "$$\n",
    "\\begin{align*}\n",
    "  f = c_4 - 2(c_0 + c_3)\n",
    "\\end{align*}\n",
    "$$\n",
    "\n",
    "$$\n",
    "\\begin{align*}\n",
    "  T(\\boldsymbol{x}, 0) = c_0 x_0^2 - c_1 x_0 + c_2 x_1^2 - c_3 x_1\n",
    "\\end{align*}\n",
    "$$\n",
    "\n",
    "$$\n",
    "\\begin{align*}\n",
    "  T_D(\\boldsymbol{x}, t) = c_0 x_0^2 - c_1 x_0 + c_2 x_1^2 - c_3 x_1 + c_4t\n",
    "\\end{align*}\n",
    "$$"
   ]
  },
  {
   "cell_type": "markdown",
   "id": "487bbd99",
   "metadata": {},
   "source": [
    "## Creating a distributed computational domain (mesh)"
   ]
  },
  {
   "cell_type": "markdown",
   "id": "6286d755",
   "metadata": {},
   "source": [
    "To create a simple computational domain in DOLFINx, we use the mesh generation utilities in `dolfinx.mesh`.\n",
    "In this module, we have the tools to build rectangles of triangular or quadrilateral elements and boxes\n",
    "of tetrahedral or hexahedral elements. We start by creating a unit square:"
   ]
  },
  {
   "cell_type": "code",
   "execution_count": null,
   "id": "af9ace8d",
   "metadata": {},
   "outputs": [],
   "source": [
    "from dolfinx.mesh import create_unit_square\n",
    "from mpi4py import MPI\n",
    "\n",
    "comm = MPI.COMM_WORLD\n",
    "mesh = create_unit_square(comm, 10, 10)"
   ]
  }
 ],
 "metadata": {
  "jupytext": {
   "cell_metadata_filter": "-all",
   "main_language": "python",
   "notebook_metadata_filter": "-all"
  }
 },
 "nbformat": 4,
 "nbformat_minor": 5
}
