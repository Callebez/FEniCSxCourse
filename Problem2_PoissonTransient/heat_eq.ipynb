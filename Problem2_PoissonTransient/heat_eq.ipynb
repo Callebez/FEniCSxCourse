{
 "cells": [
  {
   "cell_type": "code",
   "execution_count": null,
   "metadata": {},
   "outputs": [],
   "source": [
    "try:\n",
    "  import dolfinx\n",
    "except ImportError:\n",
    "  !wget \"https://github.com/fem-on-colab/fem-on-colab.github.io/raw/7f220b6/releases/fenicsx-install-real.sh\" -O \"/tmp/fenicsx-install.sh\" && bash \"/tmp/fenicsx-install.sh\"\n",
    "  import dolfinx\n",
    "\n",
    "try: \n",
    "  import pyvista\n",
    "except ImportError:\n",
    "  !pip install -q piglet pyvirtualdisplay ipyvtklink pyvista panel\n",
    "  !apt-get -qq install xvfb\n",
    "  import pyvista\n",
    "\n",
    "# Utils for plotting the mesh\n",
    "!wget https://raw.githubusercontent.com/IgorBaratta/FEniCSxCourse/main/Problem2_PoissonTransient/utils.py"
   ]
  },
  {
   "cell_type": "markdown",
   "metadata": {},
   "source": [
    "# Solving a time-dependent problem"
   ]
  },
  {
   "cell_type": "markdown",
   "metadata": {},
   "source": [
    "\n",
    "This notebook shows how to solve a transient problem using DOLFINx, \n",
    "namely the diffusion problem, the simplest extension of the Poisson problem.\n",
    "\n",
    "The strong form of our problem reads:\n",
    "$$\n",
    "\\begin{align*}\n",
    "\\frac{\\partial T(\\boldsymbol{x}, t)}{\\partial t} - \\nabla \\cdot (\\nabla T(\\boldsymbol{x}, t)) \n",
    "&= f(\\boldsymbol{x}, t) & & \\text{in } \\, \\Omega, \\\\\n",
    "T(\\boldsymbol{x}, t) &= T_D(\\boldsymbol{x}, t) & &\\text{on} \\,\\partial\\Omega_\\text{D}, \\\\\n",
    "T(\\boldsymbol{x}, t=0) &= T_i(\\boldsymbol{x}) & & \\text{in } \\, \\Omega,\n",
    "\\end{align*}\n",
    "$$\n",
    "\n",
    "Where $T$, the temperature distribution, varies with space and time $T(\\boldsymbol{x}, t)$.\n",
    "$T_D$ is a prescribed function at the boundary $\\partial\\Omega_\\text{D}$.\n",
    "And $T_i$ is the initial temperature distribution.\n",
    "\n",
    "To solve time-dependent PDEs using the finite element method, we first discretize the time derivative\n",
    "using a finite difference approximation, yielding a recursive series of stationary problems,\n",
    "and then we convert each stationary problem into a variational problem."
   ]
  },
  {
   "cell_type": "markdown",
   "metadata": {},
   "source": [
    "## Time discretization\n",
    "A backward Euler scheme can be used to approximate the time derivative.\n",
    "$$\n",
    "\\begin{align*}\n",
    "  \\frac{T_{n} - T_{n-1}}{\\Delta t} - \\nabla \\cdot (\\nabla T_{n}) = f_{n}\n",
    "\\end{align*}\n",
    "$$\n",
    "We may reorder the semi-discrete equation so that the left-hand side contains the terms with \n",
    "the unknown $T_{n}$ and the right-hand side contains computed terms only. \n",
    "$$\n",
    "\\begin{align*}\n",
    "  T_{n} - \\Delta t \\nabla \\, \\cdot (\\nabla T_{n}) = \\Delta t f_{n} + T_{n-1}\n",
    "\\end{align*}\n",
    "$$\n"
   ]
  },
  {
   "cell_type": "markdown",
   "metadata": {},
   "source": [
    "## Variational formulation\n",
    "As usual we find the weak by multiplying our semi-discrete equation by a sufficiently\n",
    "regular test function $v$ and applying integration by parts. At time-step $n$ the weak\n",
    "reads: \n",
    "\n",
    "Find $u \\in V(\\Omega)$ such that\n",
    "$$\n",
    "\\begin{align*}\n",
    "  \\int_{\\Omega} T_n v \\,dx + \\Delta t \n",
    "  \\int_{\\Omega}{ \\alpha \\nabla T_n \\cdot \\nabla v}\\,dx \n",
    "  = \\Delta t \\int_{\\Omega} f \\cdot v \\, dx + \\int_{\\Omega} \n",
    "  T_{n-1} \\cdot v \\, dx\n",
    "\\end{align*}\n",
    "$$"
   ]
  },
  {
   "cell_type": "markdown",
   "metadata": {},
   "source": [
    "For this problem, the natural choice is a space of scalar-valued continuous functions, \n",
    "that are element-wise polynomials of degree $k$\n",
    "$$\n",
    "V(\\mathcal{T}_h) = V_h = \\{v \\in H ^ 1(\\Omega), \n",
    "~v | _E \\in P_k(E) \\, \\forall E \\in \\mathcal{T}_h\\}\n",
    "$$"
   ]
  },
  {
   "cell_type": "markdown",
   "metadata": {},
   "source": [
    "## Test problem - Manufactured Solution\n",
    "We construct a test problem for which we can easily check the answer. \n",
    "We create a test problem with a linear variation in time because we know \n",
    "our first-order time-stepping scheme is exact for linear functions.\n",
    "\n",
    "$$\n",
    "\\begin{align*}\n",
    "  T(\\boldsymbol{x}, t) = c_0 x_0^2 + c_1 x_0 + c_3t\n",
    "\\end{align*}\n",
    "$$\n",
    "which produces a function whose computed values at the nodes are exact regardless \n",
    "of element size and $\\delta t$, as long as the mesh is partitioned uniformly.\n",
    "and then we insert the exact solution into the strong form of our pde.\n",
    "With simple manipulations we realize that the source should be:\n",
    "$$\n",
    "\\begin{align*}\n",
    "  f = c_2 - 2c_0\n",
    "\\end{align*}\n",
    "$$\n",
    "Also, at the boundaries we have:\n",
    "$$\n",
    "\\begin{align*}\n",
    "  T_D(\\boldsymbol{x}, t) = c_0 x_0^2 + c_1 x_0 + c_2t\n",
    "\\end{align*}\n",
    "$$"
   ]
  },
  {
   "cell_type": "markdown",
   "metadata": {},
   "source": [
    "## Implementation\n",
    "\n",
    "The first step is to import all modules and packages we are going to use:"
   ]
  },
  {
   "cell_type": "code",
   "execution_count": null,
   "metadata": {},
   "outputs": [],
   "source": [
    "# Auxiliary packages\n",
    "from petsc4py import PETSc # Linear algebra backend\n",
    "from mpi4py import MPI     # MPI \n",
    "import numpy\n",
    "\n",
    "# Import dolfinx and ufl modules\n",
    "from dolfinx import geometry\n",
    "from dolfinx import fem\n",
    "from dolfinx import io\n",
    "from dolfinx import la\n",
    "from dolfinx.mesh import (CellType, create_unit_square, locate_entities, exterior_facet_indices)\n",
    "from ufl import TestFunction, TrialFunction, dx, inner, grad\n",
    "\n",
    "# Convenience functions for plotting on jupyter notebooks\n",
    "from utils import plot_mesh, create_gif\n",
    "import IPython"
   ]
  },
  {
   "cell_type": "markdown",
   "metadata": {},
   "source": [
    "### Creating a distributed computational domain (mesh)"
   ]
  },
  {
   "cell_type": "markdown",
   "metadata": {},
   "source": [
    "To create a simple computational domain in DOLFINx, we use the mesh generation utilities in `dolfinx.mesh`.\n",
    "In this module, we have the tools to build rectangles of triangular or quadrilateral elements and boxes\n",
    "of tetrahedral or hexahedral elements. We start by creating a unit square:"
   ]
  },
  {
   "cell_type": "code",
   "execution_count": null,
   "metadata": {
    "lines_to_next_cell": 2
   },
   "outputs": [],
   "source": [
    "comm = MPI.COMM_WORLD\n",
    "mesh = create_unit_square(comm, 10, 10, CellType.triangle)"
   ]
  },
  {
   "cell_type": "markdown",
   "metadata": {},
   "source": [
    "### Visualizing mesh\n",
    "We have provided a few convenience functions for plotting on jupyter notebooks."
   ]
  },
  {
   "cell_type": "code",
   "execution_count": null,
   "metadata": {},
   "outputs": [],
   "source": [
    "plot_mesh(mesh, filename=\"mesh.html\")\n",
    "IPython.display.HTML(filename=\"mesh.html\")"
   ]
  },
  {
   "cell_type": "markdown",
   "metadata": {},
   "source": [
    "### Handling time-dependent functions expressions\n",
    "\n",
    "First we define the constants we use in our program:"
   ]
  },
  {
   "cell_type": "code",
   "execution_count": null,
   "metadata": {},
   "outputs": [],
   "source": [
    "c0, c1, c2 = 1.0, 2.0, 0.5\n",
    "dt = fem.Constant(mesh, 0.1)"
   ]
  },
  {
   "cell_type": "markdown",
   "metadata": {},
   "source": [
    "We can now define the source term as a Constant:\n",
    "$$\n",
    "\\begin{align*}\n",
    "  f = c_2 - 2c_0\n",
    "\\end{align*}\n",
    "$$"
   ]
  },
  {
   "cell_type": "code",
   "execution_count": null,
   "metadata": {},
   "outputs": [],
   "source": [
    "f = c2 - 2*c0\n",
    "print(type(f))"
   ]
  },
  {
   "cell_type": "markdown",
   "metadata": {},
   "source": [
    "For $T$, $T_0$ and $T_D$ we first define an expression and then we interpolate\n",
    "it into the corresponding function space."
   ]
  },
  {
   "cell_type": "code",
   "execution_count": null,
   "metadata": {},
   "outputs": [],
   "source": [
    "from functools import partial \n",
    "\n",
    "def expression(t, x):\n",
    "    return c0*x[0]**2 + c1*x[0] + c2*t\n",
    "\n",
    "V = fem.FunctionSpace(mesh, (\"Lagrange\", 1))\n",
    "T0 = fem.Function(V)\n",
    "T0.interpolate(partial(expression, 0))\n",
    "\n",
    "T0.name = \"Temperature0\"\n",
    "with io.XDMFFile(MPI.COMM_WORLD, \"t0.xdmf\", \"w\") as xdmf:\n",
    "    xdmf.write_mesh(mesh)\n",
    "    xdmf.write_function(T0)"
   ]
  },
  {
   "cell_type": "markdown",
   "metadata": {},
   "source": [
    "## Setting up a variational problem"
   ]
  },
  {
   "cell_type": "code",
   "execution_count": null,
   "metadata": {},
   "outputs": [],
   "source": [
    "V = fem.FunctionSpace(mesh, (\"Lagrange\", 1))\n",
    "T = TrialFunction(V)\n",
    "v = TestFunction(V)\n",
    "T0 = fem.Function(V)"
   ]
  },
  {
   "cell_type": "markdown",
   "metadata": {},
   "source": [
    "The variational form can be written in UFL syntax:\n",
    "$$\n",
    "\\begin{align*}\n",
    "  a(T, v) = \\int_{\\Omega} T v \\,dx + \\alpha \\Delta t \\int_{\\Omega}{\\nabla T \\cdot \\nabla v}\\,dx\n",
    "\\end{align*}\n",
    "$$"
   ]
  },
  {
   "cell_type": "code",
   "execution_count": null,
   "metadata": {},
   "outputs": [],
   "source": [
    "a = inner(T, v) * dx + dt * inner(grad(T), grad(v)) * dx\n",
    "a = fem.form(a)  # JIT compilation"
   ]
  },
  {
   "cell_type": "markdown",
   "metadata": {},
   "source": [
    "$$\n",
    "\\begin{align*}\n",
    "  L(v) = \\Delta t \\int_{\\Omega} f \\cdot v \\, dx + \\int_{\\Omega} T_0 \\cdot v \\, dx\n",
    "\\end{align*}\n",
    "$$"
   ]
  },
  {
   "cell_type": "code",
   "execution_count": null,
   "metadata": {},
   "outputs": [],
   "source": [
    "L = dt * inner(f, v) * dx + inner(T0, v) * dx"
   ]
  },
  {
   "cell_type": "markdown",
   "metadata": {},
   "source": [
    "To give the user freedom to set boundary conditions on single degrees of freedom,\n",
    "the function `dolfinx.fem.dirichletbc` takes in the list of degrees of freedom(DOFs) as input.\n",
    "The DOFs on the boundary can be obtained in many ways: DOLFINx supplies a few convenience functions,\n",
    "such as `dolfinx.fem.locate_dofs_topological` and `dolfinx.fem.locate_dofs_geometrical`.\n",
    "DOLFINx also has convenience functions to obtain a list of all boundary facets."
   ]
  },
  {
   "cell_type": "code",
   "execution_count": null,
   "metadata": {},
   "outputs": [],
   "source": [
    "# Create Dirichlet function\n",
    "T_D = fem.Function(V)\n",
    "T_D.interpolate(partial(expression, 0))\n",
    "\n",
    "# Define Dirichlet bc\n",
    "\n",
    "# Get boundary facets\n",
    "tdim = mesh.topology.dim\n",
    "mesh.topology.create_connectivity(tdim - 1, tdim)\n",
    "bndry_facets = exterior_facet_indices(mesh.topology)\n",
    "\n",
    "# Locate degrees of freedom on those facets\n",
    "bndry_dofs = fem.locate_dofs_topological(V, tdim - 1, bndry_facets)\n",
    "\n",
    "# Create list of Dirichlet BC\n",
    "bcs = [fem.dirichletbc(T_D, bndry_dofs)]"
   ]
  },
  {
   "cell_type": "markdown",
   "metadata": {},
   "source": [
    "### Setting up a time dependent solver\n",
    "\n",
    "As the left hand side of our problem(the matrix) is time independent, we would like avoid \n",
    "re-assembling it at every time step.We assemble the matrix once outside the temporal loop."
   ]
  },
  {
   "cell_type": "code",
   "execution_count": null,
   "metadata": {},
   "outputs": [],
   "source": [
    "A = fem.petsc.assemble_matrix(a, bcs=bcs)\n",
    "A.assemble()"
   ]
  },
  {
   "cell_type": "markdown",
   "metadata": {},
   "source": [
    "Next, we can generate the integration kernel for the right hand side(RHS), \n",
    "and create the RHS vector `b` that we will assembled into at each time step."
   ]
  },
  {
   "cell_type": "code",
   "execution_count": null,
   "metadata": {},
   "outputs": [],
   "source": [
    "b = fem.Function(V)\n",
    "L = fem.form(L)  # JIT compilation"
   ]
  },
  {
   "cell_type": "markdown",
   "metadata": {},
   "source": [
    "We next create the PETSc KSP(Krylov subspace method) solver, and set it to solve using an\n",
    "[algebraic multigrid method](https: // hypre.readthedocs.io/en/latest/solvers-boomeramg.html)."
   ]
  },
  {
   "cell_type": "code",
   "execution_count": null,
   "metadata": {},
   "outputs": [],
   "source": [
    "# Define Solver\n",
    "solver = PETSc.KSP().create(comm)\n",
    "solver.setOperators(A)\n",
    "solver.setType(PETSc.KSP.Type.CG)\n",
    "pc = solver.getPC()\n",
    "pc.setType(PETSc.PC.Type.HYPRE)\n",
    "pc.setHYPREType(\"boomeramg\")"
   ]
  },
  {
   "cell_type": "markdown",
   "metadata": {},
   "source": [
    "### Plotting a time dependent problem"
   ]
  },
  {
   "cell_type": "markdown",
   "metadata": {},
   "source": [
    "As we are solving a time dependent problem, we would like to create a time dependent animation \n",
    "of the solution. The first step is to create an output file where we are going to save the \n",
    "solution at each time step:"
   ]
  },
  {
   "cell_type": "code",
   "execution_count": null,
   "metadata": {
    "lines_to_next_cell": 2
   },
   "outputs": [],
   "source": [
    "# Output file\n",
    "file = io.XDMFFile(MPI.COMM_WORLD, \"temperature.xdmf\", \"w\")\n",
    "file.write_mesh(mesh)"
   ]
  },
  {
   "cell_type": "markdown",
   "metadata": {},
   "source": [
    "## Solving a time dependent problem\n",
    "\n",
    "We are now ready to solve the time dependent problem. At each time step, we need to:\n",
    "1. Update the time dependent boundary condition and source\n",
    "2. Reassemble the right hand side vector `b`\n",
    "3. Apply boundary conditions to `b`\n",
    "4. Solve linear problem `AT = b`\n",
    "5. Update current solution, `T0 = T`"
   ]
  },
  {
   "cell_type": "code",
   "execution_count": null,
   "metadata": {},
   "outputs": [],
   "source": [
    "T = fem.Function(V)\n",
    "T.name = \"temperature\"\n",
    "\n",
    "t = 0\n",
    "t_max = 100*dt.value\n",
    "while t < t_max:\n",
    "    t += dt.value\n",
    "    print(f\"t = {t:.2f} s\")\n",
    "\n",
    "    # Update boundary condition\n",
    "    T_D.interpolate(partial(expression, t))\n",
    "\n",
    "    # Assemble RHS\n",
    "    b.x.array[:] = 0\n",
    "    fem.petsc.assemble_vector(b.vector, L)\n",
    "\n",
    "    # Apply boundary condition\n",
    "    fem.petsc.apply_lifting(b.vector, [a], [bcs])\n",
    "    b.x.scatter_reverse(la.ScatterMode.add)\n",
    "    fem.petsc.set_bc(b.vector, bcs)\n",
    "\n",
    "    # Solve linear problem\n",
    "    T.x.array[:] = 0\n",
    "    solver.solve(b.vector, T.vector)\n",
    "    T.x.scatter_forward()\n",
    "\n",
    "    # Update un\n",
    "    T0.x.array[:] = T.x.array\n",
    "\n",
    "    # Save solution at time step t\n",
    "    file.write_function(T, t=t)\n",
    "\n",
    "file.close()"
   ]
  },
  {
   "cell_type": "markdown",
   "metadata": {},
   "source": [
    "What's the temperature at an arbitrary point p?"
   ]
  },
  {
   "cell_type": "code",
   "execution_count": null,
   "metadata": {
    "lines_to_end_of_cell_marker": 0,
    "lines_to_next_cell": 1
   },
   "outputs": [],
   "source": [
    "# Given an arbitrary point \"p\"\n",
    "p = numpy.array([0.5, 0.5, 0.0], dtype=numpy.float64)\n",
    "\n",
    "# We first compute the cells that it belongs to\n",
    "bb_tree = geometry.BoundingBoxTree(mesh, mesh.topology.dim)\n",
    "cell_candidates = geometry.compute_collisions(bb_tree, p)\n",
    "cells = geometry.compute_colliding_cells(mesh, cell_candidates, p)\n",
    "\n",
    "# Given a list of cells it's easy and \"efficient\" to compute T(p)\n",
    "values = T.eval(p, cells[0])\n",
    "print(f\"Temperature at point {p} is {values[0]}\")"
   ]
  },
  {
   "cell_type": "markdown",
   "metadata": {},
   "source": [
    "**TASK 1**: The above time-stepping loop does not include any \n",
    "comparison of numerical and exact solutions, which is required \n",
    "to validate the implementation. In the previous section we've \n",
    "learned how to compute the L2 and H1 error norms.\n",
    "\n",
    "Use the knowledge gained in the previous section to calculate both\n",
    "the L2 and H1 error norms for $t=t_{max}$."
   ]
  },
  {
   "cell_type": "code",
   "execution_count": null,
   "metadata": {},
   "outputs": [],
   "source": [
    "# Solution goes here:"
   ]
  },
  {
   "cell_type": "markdown",
   "metadata": {},
   "source": [
    "# Homework 1\n",
    "In this homework we are going to tackle a more physically realistic problem.\n",
    "Given the temperature outside a room, we shall compute the temperature inside\n",
    "the room, and find the appropriate insulation material. \n",
    "\n",
    "Without internal sources the strong form of our problem reads:\n",
    "$$\n",
    "\\begin{align*}\n",
    "\\rho C_p\\frac{\\partial T}{\\partial t} &= \\nabla \\cdot (\\kappa  \\nabla T) & & \\text{in } \\, \\Omega, \\\\\n",
    "T(\\boldsymbol{x}, t) &= T_D = T_R + T_a \\cdot sin(\\omega t) & & \\,\\partial\\Omega_\\text{D}, \\\\\n",
    "T(\\boldsymbol{x}, t=0) &= T_0 & & \\text{in } \\, \\Omega,\n",
    "\\end{align*}\n",
    "$$\n",
    "where $k$ is the thermal conductivity, $\\rho$ is the density and $C_p$ is the \n",
    "is specific heat capacity.\n",
    "\n",
    "In this example, we assume computational domain is divided into \n",
    "two domains $\\Omega_{air}$ and $\\Omega_{wall}$. Within each domain\n",
    "we can define the thermal diffusivity of the medium $\\alpha$:\n",
    "$$\n",
    "\\begin{align*}\n",
    "\\alpha = \\frac{k}{\\rho C_p}\n",
    "\\end{align*}\n",
    "$$\n",
    "\n",
    "Examples of thermal diffusivity for four different materials:\n",
    "$$\\alpha_{air} = 19 \\cdot 10^{-6} \\, m^2/s$$\n",
    "$$\\alpha_{glass} = 0.34\t \\cdot 10^{-6} \\, m^2/s$$\n",
    "$$\\alpha_{brick} = 0.27 \\cdot 10^{-6} \\, m^2/s$$\n",
    "$$\\alpha_{wood} = 0.082 \\cdot 10^{-6} \\, m^2/s$$\n",
    "$$\\alpha_{steel} = 11.72 \\cdot 10^{-6} \\, m^2/s$$\n",
    "\n",
    "Given unit square room $[1m \\times 1m]$, $0.1 m$ thick walls, and outside \n",
    "temperature given by $T_D$, which material should be used for the wall \n",
    "such that the temperature at the center of the room never drops below \n",
    "$10^oC$?"
   ]
  },
  {
   "cell_type": "markdown",
   "metadata": {},
   "source": [
    "**TASK 1**: Complete following code with the diffusivity of the wall \n",
    "(chosen from the above values). Then visualize the material distribution."
   ]
  },
  {
   "cell_type": "code",
   "execution_count": null,
   "metadata": {
    "lines_to_next_cell": 2
   },
   "outputs": [],
   "source": [
    "def wall(x):\n",
    "    vertical = (x[0] <= 0.1) | (x[0] >= 0.9)\n",
    "    horizontal = (x[1] <= 0.1) | (x[1] >= 0.9)\n",
    "    return horizontal | vertical\n",
    "\n",
    "\n",
    "comm = MPI.COMM_WORLD\n",
    "mesh = create_unit_square(comm, 20, 20, CellType.quadrilateral)\n",
    "\n",
    "cells = locate_entities(mesh, mesh.topology.dim, wall)\n",
    "DG = fem.FunctionSpace(mesh, (\"DG\", 0))\n",
    "\n",
    "# Thermal diffusivity\n",
    "alpha = fem.Function(DG)\n",
    "alpha.x.array[:] = 19e-6\n",
    "\n",
    "# Edit here: diffusivity of wall\n",
    "alpha.x.array[cells] = 0.37e-6 # wood\n",
    "\n",
    "plot_mesh(mesh, cell_values=alpha, filename=\"alpha.html\")\n",
    "IPython.display.HTML(filename=\"alpha.html\")"
   ]
  },
  {
   "cell_type": "markdown",
   "metadata": {},
   "source": [
    "**Task 2**: create a python function that defines the outside temperature\n",
    "$$T_{out} = -5 + 15 \\cdot sin(\\omega t)$$\n",
    "where $\\omega = \\pi/(24\\cdot60\\cdot60)$. \n",
    "Plot the temperature for a period of 24 hours."
   ]
  },
  {
   "cell_type": "code",
   "execution_count": null,
   "metadata": {},
   "outputs": [],
   "source": [
    "period = 60*60*24 # seconds in a day\n",
    "def outside_temperature(t, x):\n",
    "    # Edit this function\n",
    "    temperature = 0\n",
    "    return numpy.full_like(x[0], temperature)\n",
    "\n",
    "# Task: Plot the hourly temperature during a day:\n",
    "temp = numpy.zeros(24)\n",
    "time = numpy.zeros(24)\n",
    "for i in range(temp.size):\n",
    "    time[i] = i*60*60\n",
    "    temp[i] = outside_temperature(time[i], [0, 0])\n",
    "\n",
    "import matplotlib.pyplot as plt\n",
    "plt.plot(time, temp)\n",
    "plt.xlabel('Time (hour)', fontsize=20)\n",
    "plt.ylabel('Temperature ($^oC$)', fontsize=20)\n",
    "plt.savefig(\"temperature.png\")\n",
    "\n",
    "# "
   ]
  },
  {
   "cell_type": "code",
   "execution_count": null,
   "metadata": {},
   "outputs": [],
   "source": [
    "# Reference solution\n",
    "period = 60*60*24 # seconds in a day\n",
    "\n",
    "def outside_temperature(t, x):\n",
    "    omega = numpy.pi/period\n",
    "    t = t % period\n",
    "    temperature = 15 * numpy.sin(omega*t) - 5\n",
    "    return numpy.full_like(x[0], temperature)\n",
    "\n",
    "# Task: Plot the hourly temperature during a day:\n",
    "temp = numpy.zeros(24)\n",
    "time = numpy.zeros(24)\n",
    "for i in range(temp.size):\n",
    "    t = i*60*60\n",
    "    time[i] = i\n",
    "    temp[i] = outside_temperature(t, [0, 0])\n",
    "\n",
    "import matplotlib.pyplot as plt\n",
    "plt.plot(time, temp)\n",
    "plt.xlabel('Time (hour)', fontsize=20)\n",
    "plt.ylabel('Temperature ($^oC$)', fontsize=20)"
   ]
  },
  {
   "cell_type": "markdown",
   "metadata": {},
   "source": [
    "**Task 3**: Modify the following thermal solver so that it returns \n",
    "the hourly temperature inside the room at each time step.\n",
    "Save the solution at each time-step and visualize with paraview."
   ]
  },
  {
   "cell_type": "code",
   "execution_count": null,
   "metadata": {},
   "outputs": [],
   "source": [
    "def thermal_solver(alpha, intial_temp=15, time_step=900.0):\n",
    "    mesh = alpha.function_space.mesh\n",
    "\n",
    "    # Create function space\n",
    "    V = fem.FunctionSpace(mesh, (\"Lagrange\", 1))\n",
    "    \n",
    "    # Define trial and test functions\n",
    "    T = TrialFunction(V)\n",
    "    v = TestFunction(V)\n",
    "\n",
    "    # Initial condition\n",
    "    T0 = fem.Function(V)\n",
    "    T0.interpolate(lambda x: numpy.full_like(x[0], intial_temp))\n",
    "\n",
    "    # Time step (15 min - 900 seconds)\n",
    "    dt = fem.Constant(mesh, time_step)\n",
    "\n",
    "    # Bilinear form\n",
    "    a = inner(T, v) * dx + dt * alpha * inner(grad(T), grad(v)) * dx\n",
    "    a = fem.form(a)\n",
    "\n",
    "    # Linear form\n",
    "    L = inner(T0, v) * dx\n",
    "    L = fem.form(L)  # JIT compilation\n",
    "\n",
    "\n",
    "    # Define dirichlet bc at t=0\n",
    "    temp0 = partial(outside_temperature, 0)\n",
    "    T_D = fem.Function(V)\n",
    "    T_D.interpolate(temp0)\n",
    "    \n",
    "    # Create boundary condition\n",
    "    tdim = mesh.topology.dim\n",
    "    mesh.topology.create_connectivity(tdim - 1, tdim)\n",
    "    bndry_facets = exterior_facet_indices(mesh.topology)\n",
    "    bndry_dofs = fem.locate_dofs_topological(V, tdim - 1, bndry_facets)\n",
    "    bcs = [fem.dirichletbc(T_D, bndry_dofs)]\n",
    "\n",
    "    # Assemble matrix A and RHS b\n",
    "    A = fem.petsc.assemble_matrix(a, bcs=bcs)\n",
    "    A.assemble()\n",
    "    b = fem.Function(V)\n",
    "\n",
    "    solver = PETSc.KSP().create(comm)\n",
    "    solver.setOperators(A)\n",
    "    solver.setType(PETSc.KSP.Type.CG)\n",
    "    pc = solver.getPC()\n",
    "    pc.setType(PETSc.PC.Type.HYPRE)\n",
    "    pc.setHYPREType(\"boomeramg\")\n",
    "\n",
    "    T = fem.Function(V)\n",
    "    T.interpolate(T0)\n",
    "\n",
    "    # Check against standard table value\n",
    "    # Create bounding box for function evaluation\n",
    "    bb_tree = geometry.BoundingBoxTree(mesh, mesh.topology.dim)\n",
    "    p = numpy.array([0.5, 0.5, 0.0], dtype=numpy.float64)\n",
    "    cell_candidates = geometry.compute_collisions(bb_tree, p)\n",
    "    cells = geometry.compute_colliding_cells(mesh, cell_candidates, p)\n",
    "\n",
    "    value = T.eval(p, cells[0])\n",
    "    print(f\"Room temperature {value}\")\n",
    "\n",
    "    t = 0\n",
    "    num_days = 1\n",
    "    t_max = period * num_days\n",
    "\n",
    "    # Array to store temperature\n",
    "    temperature = [value]\n",
    "    time = [t]\n",
    "\n",
    "    while t < t_max:\n",
    "        time.append(t)\n",
    "        t += dt.value\n",
    "\n",
    "        # Update boundary condition\n",
    "        T_D.interpolate(partial(outside_temperature, t))\n",
    "\n",
    "        # Assemble RHS\n",
    "        b.x.array[:] = 0\n",
    "        fem.petsc.assemble_vector(b.vector, L)\n",
    "\n",
    "        # Apply boundary condition\n",
    "        fem.petsc.apply_lifting(b.vector, [a], [bcs])\n",
    "        # b.x.scatter_reverse(ScatterMode.add)\n",
    "        fem.petsc.set_bc(b.vector, bcs)\n",
    "\n",
    "        # Solve linear problem\n",
    "        solver.solve(b.vector, T.vector)\n",
    "        T.x.scatter_forward()\n",
    "\n",
    "        value = T.eval(p, cells[0])\n",
    "        print(f\"Room temperature {value[0]} at {t/(60*60)} h\")\n",
    "\n",
    "        # Update un\n",
    "        T0.x.array[:] = T.x.array\n",
    "    \n",
    "    return temperature, time"
   ]
  },
  {
   "cell_type": "markdown",
   "metadata": {},
   "source": [
    "**Task 4**: Which material should we use for insulation?\n",
    "Modify the alpha value on the wall and plot temperature\n",
    "vs time inside the room."
   ]
  },
  {
   "cell_type": "code",
   "execution_count": null,
   "metadata": {},
   "outputs": [],
   "source": [
    "temperature, time = thermal_solver(alpha)\n",
    "assert len(temperature) == len(time)"
   ]
  }
 ],
 "metadata": {
  "jupytext": {
   "cell_metadata_filter": "-all",
   "main_language": "python",
   "notebook_metadata_filter": "-all"
  }
 },
 "nbformat": 4,
 "nbformat_minor": 4
}
