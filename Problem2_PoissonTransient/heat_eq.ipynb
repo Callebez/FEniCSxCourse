{
 "cells": [
  {
   "cell_type": "code",
   "execution_count": null,
   "id": "6941d71a",
   "metadata": {},
   "outputs": [],
   "source": [
    "# @title Install dolfinx and dependencies\n",
    "try:\n",
    "from matplotlib import pyplot\n",
    "from dolfinx import plot\n",
    "import pyvista\n",
    "import gmsh\n",
    "except ImportError:\n",
    "    !wget \"https://github.com/fem-on-colab/fem-on-colab.github.io/raw/7f220b6/releases/gmsh-install.sh\" - O \"/tmp/gmsh-install.sh\" & & bash \"/tmp/gmsh-install.sh\"\n",
    "    import gmsh\n",
    "\n",
    "try:\n",
    "    import dolfinx\n",
    "except ImportError:\n",
    "    !wget \"https://github.com/fem-on-colab/fem-on-colab.github.io/raw/7f220b6/releases/fenicsx-install-real.sh\" - O \"/tmp/fenicsx-install.sh\" & & bash \"/tmp/fenicsx-install.sh\"\n",
    "    import dolfinx\n",
    "\n",
    "try:\n",
    "    import pyvista\n",
    "except ImportError:\n",
    "    !pip install - q piglet pyvirtualdisplay ipyvtklink pyvista panel\n",
    "    !apt-get - qq install xvfb\n",
    "    import pyvista"
   ]
  },
  {
   "cell_type": "markdown",
   "id": "a1b5fe63",
   "metadata": {},
   "source": [
    "# Solving a time-dependent problem"
   ]
  },
  {
   "cell_type": "markdown",
   "id": "aafd8b4d",
   "metadata": {
    "lines_to_next_cell": 2
   },
   "source": [
    "\n",
    "This notebook will show how to solve a transient problem using DOLFINx, namely the diffusion problem,\n",
    "the simplest extension of the Poisson problem studied in the last section.\n",
    "\n",
    "The strong form of our problem reads:\n",
    "$$\n",
    "\\begin{align*}\n",
    "\\frac{\\partial u(\\boldsymbol{x}, t)}{\\delta t} - \\nabla \\cdot (\\mu  \\nabla u(\\boldsymbol{x}, t)) &= f(\\boldsymbol{x}, t) & & \\text{in } \\, \\Omega, \\\\\n",
    "u(\\boldsymbol{x}, t) &= u_D(\\boldsymbol{x}, t) & &\\text{on} \\,\\partial\\Omega_\\text{D}, \\\\\n",
    "\\mu\\frac{\\partial u}{\\partial n} &= 0 & &\\text{on} \\, \\partial\\Omega_\\text{N} \\\\\n",
    "u(\\boldsymbol{x}, t=0) &= T(\\boldsymbol{x}) & & \\text{in } \\, \\Omega,\n",
    "\\end{align*}\n",
    "$$\n",
    "\n",
    "Where u varies with space and time $u(\\boldsymbol{x}, t)$.\n",
    "u_D is a prescribed function at the boundary $\\partial\\Omega_\\text{D}$.\n",
    "\n",
    "To solve time-dependent PDEs using the finite element method, we first discretize the time derivative\n",
    "using a finite difference approximation, yielding a recursive series of stationary problems,\n",
    "and then we convert each stationary problem into a variational problem.\n"
   ]
  },
  {
   "cell_type": "markdown",
   "id": "bd9a9cb8",
   "metadata": {},
   "source": [
    "## Time discretization\n",
    "A finite difference can be used to approximate the time derivative.\n",
    "$$\n",
    "\\begin{align*}\n",
    "  \\frac{u_{n+1} - u_{n}}{\\Delta t} - \\nabla \\cdot (\\mu  \\nabla u_{n+1}) = f_{n+1}\n",
    "\\end{align*}\n",
    "$$\n",
    "Reordering the last equation equation so that only $u_{n}$ appears in the left-hand\n",
    "side:\n",
    "$$\n",
    "\\begin{align*}\n",
    "  u_{n+1} - \\Delta t \\nabla \\, \\cdot (\\mu  \\nabla u_{n+1}) = \\Delta t f_{n+1} + u_{n}\n",
    "\\end{align*}\n",
    "$$"
   ]
  },
  {
   "cell_type": "markdown",
   "id": "6b37e398",
   "metadata": {},
   "source": [
    "\n",
    "Relevant DOLFINx modules:\n",
    "- `dolfinx.mesh`: Classes and functions related to the computational domain\n",
    "- `dolfinx.fem`: Finite element method functionality\n",
    "- `dolfinx.io`: Input/Output(read/write) functionality\n",
    "- `dolfinx.plot`: Convenience functions for exporting plotting data\n",
    "- `dolfinx.la`: Functions related to linear algebra structures(matrices/vectors)"
   ]
  },
  {
   "cell_type": "code",
   "execution_count": null,
   "id": "e6eb8478",
   "metadata": {},
   "outputs": [],
   "source": [
    "from petsc4py import PETSc\n",
    "import numpy as np\n",
    "from ufl import (TestFunction, SpatialCoordinate, TrialFunction,\n",
    "                 as_vector, dx, grad, inner, system)\n",
    "import IPython\n",
    "from dolfinx import mesh, fem, la\n",
    "from mpi4py import MPI"
   ]
  },
  {
   "cell_type": "markdown",
   "id": "f6f639ab",
   "metadata": {},
   "source": [
    "## Creating a distributed computational domain (mesh)"
   ]
  },
  {
   "cell_type": "markdown",
   "id": "2aa8062a",
   "metadata": {},
   "source": [
    "To create a simple computational domain in DOLFINx, we use the mesh generation utilities in `dolfinx.mesh`.\n",
    "In this module, we have the tools to build rectangles of triangular or quadrilateral elements and boxes\n",
    "of tetrahedral or hexahedral elements. We start by creating a rectangle spanning $[0, 0]\\times[10, 3]$,\n",
    "with 100 and 20 elements in each direction respectively."
   ]
  },
  {
   "cell_type": "code",
   "execution_count": null,
   "id": "f8c58395",
   "metadata": {},
   "outputs": [],
   "source": [
    "length, height = 10, 3\n",
    "Nx, Ny = 40, 30\n",
    "extent = [[0., 0.], [length, height]]\n",
    "comm = MPI.COMM_WORLD\n",
    "domain = mesh.create_rectangle(\n",
    "    comm, extent, [Nx, Ny], mesh.CellType.quadrilateral)"
   ]
  },
  {
   "cell_type": "markdown",
   "id": "d017d564",
   "metadata": {
    "lines_to_next_cell": 2
   },
   "source": [
    "## Visualizing mesh\n",
    "+"
   ]
  },
  {
   "cell_type": "code",
   "execution_count": null,
   "id": "9d72b05c",
   "metadata": {},
   "outputs": [],
   "source": [
    "def plot_mesh(mesh, filename=\"file.html\"):\n",
    "    pyvista.start_xvfb()\n",
    "    grid = pyvista.UnstructuredGrid(*plot.create_vtk_mesh(mesh))\n",
    "    plotter = pyvista.Plotter(notebook=True)\n",
    "    plotter.add_mesh(grid, show_edges=True)\n",
    "    plotter.camera.zoom(2.0)\n",
    "    plotter.view_xy()\n",
    "    plotter.export_html(filename, backend=\"pythreejs\")\n",
    "    plotter.close()"
   ]
  },
  {
   "cell_type": "code",
   "execution_count": null,
   "id": "26cb747f",
   "metadata": {},
   "outputs": [],
   "source": [
    "def plot_function(uh, filename):\n",
    "    # Start virtual framebuffer for plotting\n",
    "    pyvista.start_xvfb(0.5)\n",
    "    plotter = pyvista.Plotter(notebook=False, off_screen=True)\n",
    "    if \"gif\" in filename:\n",
    "        plotter.open_gif(filename)\n",
    "\n",
    "    V = uh.function_space\n",
    "    topology, cells, geometry = plot.create_vtk_mesh(V)\n",
    "    grid = pyvista.UnstructuredGrid(topology, cells, geometry)\n",
    "    grid.point_data[\"uh\"] = uh.x.array\n",
    "    viridis = pyplot.cm.get_cmap(\"viridis\", 25)\n",
    "    sargs = dict(title_font_size=25, label_font_size=20, fmt=\"%.2e\", color=\"black\",\n",
    "                 position_x=0.1, position_y=0.8, width=0.8, height=0.1)\n",
    "    plotter.add_mesh(grid, show_edges=True, lighting=False,\n",
    "                     cmap=viridis, scalar_bar_args=sargs)\n",
    "    plotter.camera.zoom(2.0)\n",
    "    plotter.view_xy()\n",
    "\n",
    "    if \"html\" in filename:\n",
    "        plotter.export_html(filename, backend=\"pythreejs\")\n",
    "\n",
    "    return plotter\n",
    "# -"
   ]
  },
  {
   "cell_type": "code",
   "execution_count": null,
   "id": "9d9f04e2",
   "metadata": {
    "lines_to_next_cell": 2
   },
   "outputs": [],
   "source": [
    "plot_mesh(domain, \"mesh.html\")\n",
    "IPython.display.HTML(filename=\"mesh.html\")"
   ]
  },
  {
   "cell_type": "markdown",
   "id": "6f189d95",
   "metadata": {},
   "source": [
    "# Setting up a variational problem"
   ]
  },
  {
   "cell_type": "markdown",
   "id": "f841fb23",
   "metadata": {},
   "source": [
    "We will solve the heat equation, with a backward Euler time stepping scheme, ie\n",
    "\n",
    "$$\n",
    "\\begin{align*}\n",
    "\\frac{u_{n+1}-u_n}{\\Delta t} - \\nabla \\cdot (\\mu  \\nabla u_{n+1}) &= f(x, t_{n+1}) & & \\text{in } \\Omega, \\\\\n",
    "u &= u_D(x, t_{n+1}) & &\\text{on} \\partial\\Omega_\\text{D}, \\\\\n",
    "\\mu\\frac{\\partial u_{n+1}}{\\partial n} &= 0 & &\\text{on} \\partial\\Omega_\\text{N},\n",
    "\\end{align*}\n",
    "$$\n",
    "with $u_D = y\\cos(0.25t)$, $f = 0$. For this example, we take $\\Omega$ to be rectangle defined above, $\\Omega_\\text{D}$\n",
    "if the left-hand edge of the rectangle, and $\\Omega_\\text{N}$ is the remaining three edges of the rectangle.\n",
    "\n",
    "We start by defining the function space, the corresponding test and trial functions, as well as material and temporal parameters.\n",
    "Note that we use explicit imports from UFL to create the test and trial functions, to avoid confusion as to where they originate from .\n",
    "\n",
    "DOLFINx and UFL support both real and complex valued functions. However, to be able to use the PETSc linear algebra backend,\n",
    "which only supports a single floating type at compilation, we need to use appropriate scalar types in our variational form.\n",
    "This ensures that we generate consistent matrices and vectors."
   ]
  },
  {
   "cell_type": "code",
   "execution_count": null,
   "id": "a9f0f9cd",
   "metadata": {},
   "outputs": [],
   "source": [
    "V = fem.FunctionSpace(domain, (\"Lagrange\", 1))\n",
    "u = TrialFunction(V)\n",
    "v = TestFunction(V)\n",
    "un = fem.Function(V)\n",
    "f = fem.Constant(domain, 0.0)\n",
    "mu = fem.Constant(domain, 2.3)\n",
    "dt = fem.Constant(domain, 0.05)"
   ]
  },
  {
   "cell_type": "markdown",
   "id": "0dfd22ce",
   "metadata": {},
   "source": [
    "The variational form can be written in UFL syntax:"
   ]
  },
  {
   "cell_type": "code",
   "execution_count": null,
   "id": "ceb2c781",
   "metadata": {},
   "outputs": [],
   "source": [
    "F = inner(u - un, v) * dx + dt * mu * inner(grad(u), grad(v)) * dx\n",
    "F -= dt * inner(f, v) * dx\n",
    "(a, L) = system(F)"
   ]
  },
  {
   "cell_type": "markdown",
   "id": "2b3e2b69",
   "metadata": {},
   "source": [
    "## Creating Dirichlet boundary conditions"
   ]
  },
  {
   "cell_type": "markdown",
   "id": "534233ca",
   "metadata": {},
   "source": [
    "### Creating a time dependent boundary condition"
   ]
  },
  {
   "cell_type": "markdown",
   "id": "de994007",
   "metadata": {},
   "source": [
    "There are many ways of creating boundary conditions. In this example, we will create\n",
    "function $u_\\text{D}(x, t)$ dependent on both space and time. To do this, we define a\n",
    "function that takes a 2-dimensional array `x`.  Each column of `x` corresponds to an input\n",
    "coordinate $(x, y, z)$ and this function operates directly on the columns of `x`.\n"
   ]
  },
  {
   "cell_type": "code",
   "execution_count": null,
   "id": "d670ab13",
   "metadata": {},
   "outputs": [],
   "source": [
    "\n",
    "\n",
    "def uD_function(t):\n",
    "    return lambda x: x[1] * np.cos(0.25 * t)\n",
    "\n",
    "\n",
    "uD = fem.Function(V)\n",
    "t = 0\n",
    "uD.interpolate(uD_function(t))\n",
    "\n",
    "filename = uD.name + \".html\"\n",
    "plotter = plot_function(uD, filename)\n",
    "IPython.display.HTML(filename=filename)"
   ]
  },
  {
   "cell_type": "markdown",
   "id": "88346180",
   "metadata": {},
   "source": [
    "To give the user freedom to set boundary conditions on single degrees of freedom,\n",
    "the function `dolfinx.fem.dirichletbc` takes in the list of degrees of freedom(DOFs) as input.\n",
    "The DOFs on the boundary can be obtained in many ways: DOLFINx supplies a few convenience functions,\n",
    "such as `dolfinx.fem.locate_dofs_topological` and `dolfinx.fem.locate_dofs_geometrical`.\n",
    "Locating dofs topologically is generally advised, as certain finite elements have DOFs that do not have a\n",
    "geometrical coordinates associated with them(eg Nédélec and Raviart--Thomas).\n",
    "DOLFINx also has convenience functions to obtain a list of all boundary facets."
   ]
  },
  {
   "cell_type": "code",
   "execution_count": null,
   "id": "408a278e",
   "metadata": {},
   "outputs": [],
   "source": [
    "tdim = domain.topology.dim\n",
    "fdim = tdim - 1\n",
    "bndry_facets = mesh.locate_entities_boundary(\n",
    "    domain, fdim, lambda x: np.isclose(x[0], length))\n",
    "\n",
    "bndry_dofs = fem.locate_dofs_topological(V, tdim - 1, bndry_facets)\n",
    "bcs = [fem.dirichletbc(uD, bndry_dofs)]"
   ]
  },
  {
   "cell_type": "markdown",
   "id": "4c4b7edb",
   "metadata": {},
   "source": [
    "# Setting up a time dependent solver"
   ]
  },
  {
   "cell_type": "markdown",
   "id": "fafb55d7",
   "metadata": {},
   "source": [
    "As the left hand side of our problem(the matrix) is time independent, we would like avoid re-assembling it at every time step.\n",
    "DOLFINx gives the user more control over assembly so that this can be done. We assemble the matrix once outside the temporal loop."
   ]
  },
  {
   "cell_type": "code",
   "execution_count": null,
   "id": "e7a2d9d4",
   "metadata": {},
   "outputs": [],
   "source": [
    "compiled_a = fem.form(a)\n",
    "A = fem.petsc.assemble_matrix(compiled_a, bcs=bcs)\n",
    "A.assemble()"
   ]
  },
  {
   "cell_type": "markdown",
   "id": "5977ac89",
   "metadata": {},
   "source": [
    "Next, we can generate the integration kernel for the right hand side(RHS), and create the RHS vector `b` that we will\n",
    "assemble into at each time step."
   ]
  },
  {
   "cell_type": "code",
   "execution_count": null,
   "id": "3fcf4af0",
   "metadata": {},
   "outputs": [],
   "source": [
    "compiled_L = fem.form(L)\n",
    "b = fem.Function(V)"
   ]
  },
  {
   "cell_type": "markdown",
   "id": "2d16d0ef",
   "metadata": {},
   "source": [
    "We next create the PETSc KSP(Krylov subspace method) solver, and set it to solve using an\n",
    "[algebraic multigrid method](https: // hypre.readthedocs.io/en/latest/solvers-boomeramg.html)."
   ]
  },
  {
   "cell_type": "code",
   "execution_count": null,
   "id": "32945eb8",
   "metadata": {},
   "outputs": [],
   "source": [
    "solver = PETSc.KSP().create(domain.comm)\n",
    "solver.setOperators(A)\n",
    "solver.setType(PETSc.KSP.Type.CG)\n",
    "pc = solver.getPC()\n",
    "pc.setType(PETSc.PC.Type.HYPRE)\n",
    "pc.setHYPREType(\"boomeramg\")"
   ]
  },
  {
   "cell_type": "markdown",
   "id": "194e985b",
   "metadata": {},
   "source": [
    "## Plotting a time dependent problem"
   ]
  },
  {
   "cell_type": "markdown",
   "id": "94d9510b",
   "metadata": {},
   "source": [
    "As we are solving a time dependent problem, we would like to create a time dependent animation of the solution.\n",
    "We do this by using [pyvista](https: // docs.pyvista.org /), which uses VTK structures for plotting.\n",
    "In DOLFINx, we have the convenience function `dolfinx.plot.create_vtk_mesh` that can create meshes compatible\n",
    "with VTK formatting, based on meshes of(discontinuous) Lagrange function spaces."
   ]
  },
  {
   "cell_type": "code",
   "execution_count": null,
   "id": "5701151b",
   "metadata": {},
   "outputs": [],
   "source": [
    "uh = fem.Function(V)\n",
    "plotter = plot_function(uh, uh.name + \".gif\")\n",
    "plotter.write_frame()"
   ]
  },
  {
   "cell_type": "markdown",
   "id": "3d7b67d9",
   "metadata": {},
   "source": [
    "## Solving a time dependent problem\n",
    "\n",
    "We are now ready to solve the time dependent problem. At each time step, we need to:\n",
    "1. Update the time dependent boundary condition and source\n",
    "2. Reassemble the right hand side vector `b`\n",
    "3. Apply boundary conditions to `b`\n",
    "4. Solve linear problem `Au = b`\n",
    "5. Update previous time step, `un = u`"
   ]
  },
  {
   "cell_type": "code",
   "execution_count": null,
   "id": "0764a7cf",
   "metadata": {
    "lines_to_next_cell": 2
   },
   "outputs": [],
   "source": [
    "T = 3.14\n",
    "while t < T:\n",
    "    t += dt.value\n",
    "    print(f\"t = {t}\")\n",
    "\n",
    "    # Update boundary condition\n",
    "    uD.interpolate(uD_function(t))\n",
    "\n",
    "    # Assemble RHS\n",
    "    b.x.array[:] = 0\n",
    "    fem.petsc.assemble_vector(b.vector, compiled_L)\n",
    "\n",
    "    # Apply boundary condition\n",
    "    fem.petsc.apply_lifting(b.vector, [compiled_a], [bcs])\n",
    "    b.x.scatter_reverse(la.ScatterMode.add)\n",
    "    fem.petsc.set_bc(b.vector, bcs)\n",
    "\n",
    "    # Solve linear problem\n",
    "    solver.solve(b.vector, uh.vector)\n",
    "    uh.x.scatter_forward()\n",
    "\n",
    "    # Update un\n",
    "    un.x.array[:] = uh.x.array\n",
    "\n",
    "    # Update plotter\n",
    "    plotter.update_scalars(uh.x.array, render=False)\n",
    "    plotter.write_frame()\n",
    "\n",
    "IPython.display.Image(filename=uh.name + \".gif\")"
   ]
  },
  {
   "cell_type": "markdown",
   "id": "fb986792",
   "metadata": {},
   "source": [
    "## Post-processing without projections"
   ]
  },
  {
   "cell_type": "markdown",
   "id": "242697b4",
   "metadata": {},
   "source": [
    "In legacy dolfin, the only way of post-processing a `ufl`- expression over the domain, would be by using a projection.\n",
    "This would not be scalable in most cases. Therefore, we have introduced `dolfinx.fem.Expression`, which can be used to\n",
    "evaluate a `ufl`- expression at any given(reference) point in any cell(local to process). Let us consider\n",
    "\n",
    "$$(y, x) \\cdot(\\nabla u)$$"
   ]
  },
  {
   "cell_type": "code",
   "execution_count": null,
   "id": "c2f91ae7",
   "metadata": {},
   "outputs": [],
   "source": [
    "x = SpatialCoordinate(domain)\n",
    "x_grad = inner(as_vector((x[1], x[0])), grad(uh))\n",
    "\n",
    "W = fem.FunctionSpace(domain, (\"DQ\", 1))\n",
    "\n",
    "expr = fem.Expression(x_grad, W.element.interpolation_points())\n",
    "w = fem.Function(W)\n",
    "w.interpolate(expr)\n",
    "\n",
    "plot_function(w, \"w.html\")\n",
    "IPython.display.HTML(filename=\"w.html\")"
   ]
  }
 ],
 "metadata": {
  "jupytext": {
   "cell_metadata_filter": "-all",
   "main_language": "python",
   "notebook_metadata_filter": "-all"
  }
 },
 "nbformat": 4,
 "nbformat_minor": 5
}
