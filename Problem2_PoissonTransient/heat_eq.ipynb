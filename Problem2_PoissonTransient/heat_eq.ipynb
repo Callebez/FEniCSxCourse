{
 "cells": [
  {
   "cell_type": "code",
   "execution_count": null,
   "id": "42e30ed3",
   "metadata": {
    "lines_to_next_cell": 0
   },
   "outputs": [],
   "source": [
    "try:\n",
    "  import matplotlib.pyplot as plt\n",
    "  import gmsh\n",
    "except ImportError:\n",
    "    !wget \"https://github.com/fem-on-colab/fem-on-colab.github.io/raw/7f220b6/releases/gmsh-install.sh\" - O \"/tmp/gmsh-install.sh\" & & bash \"/tmp/gmsh-install.sh\"\n",
    "    import gmsh\n",
    "\n",
    "try:\n",
    "    import dolfinx\n",
    "except ImportError:\n",
    "    !wget \"https://github.com/fem-on-colab/fem-on-colab.github.io/raw/7f220b6/releases/fenicsx-install-real.sh\" - O \"/tmp/fenicsx-install.sh\" & & bash \"/tmp/fenicsx-install.sh\"\n",
    "    import dolfinx\n",
    "\n",
    "try: \n",
    "    import pyvista\n",
    "except ImportError:\n",
    "    !pip install -q piglet pyvirtualdisplay\n",
    "    !pip install -q pyvista\n",
    "    !apt-get -qq install xvfb\n",
    "    import pyvista"
   ]
  },
  {
   "cell_type": "markdown",
   "id": "8573756e",
   "metadata": {},
   "source": [
    "# Solving a time-dependent problem"
   ]
  },
  {
   "cell_type": "markdown",
   "id": "e2f5ef95",
   "metadata": {},
   "source": [
    "This notebook will show you how to solve a transient problem using DOLFINx, and highlight differences between legacy DOLFIN and DOLFINx.\n",
    "We start by looking at the structure of DOLFINx:\n",
    "\n",
    "Relevant DOLFINx modules:\n",
    "- `dolfinx.mesh`: Classes and functions related to the computational domain\n",
    "- `dolfinx.fem`: Finite element method functionality\n",
    "- `dolfinx.io`: Input/Output(read/write) functionality\n",
    "- `dolfinx.plot`: Convenience functions for exporting plotting data\n",
    "- `dolfinx.la`: Functions related to linear algebra structures(matrices/vectors)"
   ]
  },
  {
   "cell_type": "code",
   "execution_count": null,
   "id": "26b102a9",
   "metadata": {},
   "outputs": [],
   "source": [
    "from dolfinx import mesh, fem, io, plot, la"
   ]
  },
  {
   "cell_type": "markdown",
   "id": "4c6b952b",
   "metadata": {},
   "source": [
    "## Creating a distributed computational domain (mesh)"
   ]
  },
  {
   "cell_type": "markdown",
   "id": "3c32ac70",
   "metadata": {},
   "source": [
    "To create a simple computational domain in DOLFINx, we use the mesh generation utilities in `dolfinx.mesh`. \n",
    "In this module, we have the tools to build rectangles of triangular or quadrilateral elements and boxes \n",
    "of tetrahedral or hexahedral elements. We start by creating a rectangle spanning $[0, 0]\\times[10, 3]$, \n",
    "with 100 and 20 elements in each direction respectively."
   ]
  },
  {
   "cell_type": "code",
   "execution_count": null,
   "id": "d466aed1",
   "metadata": {},
   "outputs": [],
   "source": [
    "from mpi4py import MPI\n",
    "length, height = 10, 3\n",
    "Nx, Ny = 80, 60\n",
    "extent = [[0., 0.], [length, height]]\n",
    "domain = mesh.create_rectangle(\n",
    "    MPI.COMM_WORLD, extent, [Nx, Ny], mesh.CellType.quadrilateral)"
   ]
  },
  {
   "cell_type": "markdown",
   "id": "9544105d",
   "metadata": {},
   "source": [
    "In contrast to legacy DOLFIN, we work on simple Python structures(nested lists, numpy arrays, etc).\n",
    "We also note that we have to send in an MPI communicator. This is because we want the user to be aware \n",
    "of how the mesh is distributed when running in parallel.\n",
    "If we use the communicator `MPI.COMM_SELF`, each process initialized when running the script would have \n",
    "a version of the full mesh local to its process."
   ]
  },
  {
   "cell_type": "code",
   "execution_count": null,
   "id": "e376b965",
   "metadata": {},
   "outputs": [],
   "source": [
    "# Creating a mesh on each process\n",
    "local_domain = mesh.create_rectangle(\n",
    "    MPI.COMM_SELF, extent, [Nx, Ny], mesh.CellType.quadrilateral)"
   ]
  },
  {
   "cell_type": "code",
   "execution_count": null,
   "id": "e0506e7e",
   "metadata": {},
   "outputs": [],
   "source": [
    "import pyvista\n",
    "pyvista.start_xvfb()\n",
    "grid = pyvista.UnstructuredGrid(*plot.create_vtk_mesh(local_domain))\n",
    "plotter = pyvista.Plotter(window_size=(800, 400), notebook=True)\n",
    "renderer = plotter.add_mesh(grid, show_edges=True)\n",
    "plotter.view_xy()"
   ]
  },
  {
   "cell_type": "markdown",
   "id": "abe01fc5",
   "metadata": {},
   "source": [
    "\"\"\"With Pyvista, we can export the plots to many formats including pngs, interactive notebook plots, and html\"\"\""
   ]
  },
  {
   "cell_type": "markdown",
   "id": "fb68fba5",
   "metadata": {},
   "source": [
    "plotter.view_xy()\n",
    "plotter.camera.zoom(2)\n",
    "plotter.export_html(\"./beam.html\", backend=\"pythreejs\")"
   ]
  },
  {
   "cell_type": "markdown",
   "id": "fd29f33d",
   "metadata": {},
   "source": [
    "# Commented out IPython magic to ensure Python compatibility.\n",
    "%%html\n",
    "# <iframe src='./beam.html' scrolling=\"no\" width=\"800px\" height=\"400px\"></iframe> <!--  # noqa, -->"
   ]
  },
  {
   "cell_type": "markdown",
   "id": "a0912f82",
   "metadata": {},
   "source": [
    "\"\"\"  # Setting up a variational problem"
   ]
  },
  {
   "cell_type": "markdown",
   "id": "6d0cbd42",
   "metadata": {},
   "source": [
    "We will solve the heat equation, with a backward Euler time stepping scheme, ie"
   ]
  },
  {
   "cell_type": "markdown",
   "id": "ee9e8683",
   "metadata": {},
   "source": [
    "$$\n",
    "\\begin{align*}\n",
    "\\frac{u_{n+1}-u_n}{\\Delta t} - \\nabla \\cdot (\\mu  \\nabla u_{n+1}) &= f(x, t_{n+1}) & & \\text{in } \\Omega, \\\\\n",
    "u &= u_D(x, t_{n+1}) & &\\text{on} \\partial\\Omega_\\text{D}, \\\\\n",
    "\\mu\\frac{\\partial u_{n+1}}{\\partial n} &= 0 & &\\text{on} \\partial\\Omega_\\text{N},\n",
    "\\end{align*}\n",
    "$$\n",
    "with $u_D = y\\cos(0.25t)$, $f = 0$. For this example, we take $\\Omega$ to be rectangle defined above, $\\Omega_\\text{D}$ if the left-hand edge of the rectangle, and $\\Omega_\\text{N}$ is the remaining three edges of the rectangle."
   ]
  },
  {
   "cell_type": "markdown",
   "id": "71b2608d",
   "metadata": {},
   "source": [
    "We start by defining the function space, the corresponding test and trial functions, as well as material and temporal parameters. Note that we use explicit imports from UFL to create the test and trial functions, to avoid confusion as to where they originate from . DOLFINx and UFL support both real and complex valued functions. However, to be able to use the PETSc linear algebra backend, which only supports a single floating type at compilation, we need to use appropriate scalar types in our variational form. This ensures that we generate consistent matrices and vectors.\n",
    "\"\"\""
   ]
  },
  {
   "cell_type": "markdown",
   "id": "04b6c4cb",
   "metadata": {},
   "source": [
    "from ufl import (TestFunction, SpatialCoordinate, TrialFunction,\n",
    "                 as_vector, dx, grad, inner, system)\n",
    "V = fem.FunctionSpace(domain, (\"Lagrange\", 1))\n",
    "u = TrialFunction(V)\n",
    "v = TestFunction(V)\n",
    "un = fem.Function(V)\n",
    "f = fem.Constant(domain, 0.0)\n",
    "mu = fem.Constant(domain, 2.3)\n",
    "dt = fem.Constant(domain, 0.05)"
   ]
  },
  {
   "cell_type": "markdown",
   "id": "bce25a43",
   "metadata": {},
   "source": [
    "\"\"\"The variational form can be written in UFL syntax, as done in legacy DOLFIN: \"\"\""
   ]
  },
  {
   "cell_type": "markdown",
   "id": "62e91e54",
   "metadata": {},
   "source": [
    "F = inner(u - un, v) * dx + dt * mu * inner(grad(u), grad(v)) * dx\n",
    "F -= dt * inner(f, v) * dx\n",
    "(a, L) = system(F)"
   ]
  },
  {
   "cell_type": "markdown",
   "id": "9c1339ff",
   "metadata": {},
   "source": [
    "\"\"\"  # Creating Dirichlet boundary conditions"
   ]
  },
  {
   "cell_type": "markdown",
   "id": "3f7320fc",
   "metadata": {},
   "source": [
    "# Creating a time dependent boundary condition"
   ]
  },
  {
   "cell_type": "markdown",
   "id": "c958f4dd",
   "metadata": {},
   "source": [
    "There are many ways of creating boundary conditions. In this example, we will create function $u_\\text{D}(x, t)$ dependent on both space and time. To do this, we define a function that takes a 2-dimensional array `x`.  Each column of `x` corresponds to an input coordinate $(x, y, z)$ and this function operates directly on the columns of `x`.\n",
    "\"\"\""
   ]
  },
  {
   "cell_type": "markdown",
   "id": "70bd7b11",
   "metadata": {},
   "source": [
    "import numpy as np"
   ]
  },
  {
   "cell_type": "markdown",
   "id": "c18321de",
   "metadata": {},
   "source": [
    "def uD_function(t):\n",
    "    return lambda x: x[1] * np.cos(0.25 * t)"
   ]
  },
  {
   "cell_type": "markdown",
   "id": "8c73057c",
   "metadata": {},
   "source": [
    "uD = fem.Function(V)\n",
    "t = 0\n",
    "uD.interpolate(uD_function(t))"
   ]
  },
  {
   "cell_type": "markdown",
   "id": "c56d22b9",
   "metadata": {},
   "source": [
    "\"\"\"To give the user freedom to set boundary conditions on single degrees of freedom, the function `dolfinx.fem.dirichletbc` takes in the list of degrees of freedom(DOFs) as input. The DOFs on the boundary can be obtained in many ways: DOLFINx supplies a few convenience functions, such as `dolfinx.fem.locate_dofs_topological` and `dolfinx.fem.locate_dofs_geometrical`.\n",
    "Locating dofs topologically is generally advised, as certain finite elements have DOFs that do not have a geometrical coordinates associated with them(eg Nédélec and Raviart--Thomas). DOLFINx also has convenicence functions to obtain a list of all boundary facets.\n",
    "\"\"\""
   ]
  },
  {
   "cell_type": "markdown",
   "id": "bcaf9a08",
   "metadata": {},
   "source": [
    "def dirichlet_facets(x):\n",
    "    return np.isclose(x[0], length)"
   ]
  },
  {
   "cell_type": "markdown",
   "id": "33333ccb",
   "metadata": {},
   "source": [
    "tdim = domain.topology.dim\n",
    "bc_facets = mesh.locate_entities_boundary(\n",
    "    domain, tdim - 1, dirichlet_facets)"
   ]
  },
  {
   "cell_type": "markdown",
   "id": "3e6951a8",
   "metadata": {},
   "source": [
    "bndry_dofs = fem.locate_dofs_topological(V, tdim - 1, bc_facets)"
   ]
  },
  {
   "cell_type": "markdown",
   "id": "d91eb98e",
   "metadata": {},
   "source": [
    "bcs = [fem.dirichletbc(uD, bndry_dofs)]"
   ]
  },
  {
   "cell_type": "markdown",
   "id": "86bdfd0a",
   "metadata": {},
   "source": [
    "\"\"\"  # Setting up a time dependent solver"
   ]
  },
  {
   "cell_type": "markdown",
   "id": "edb60678",
   "metadata": {},
   "source": [
    "As the left hand side of our problem(the matrix) is time independent, we would like avoid re-assembling it at every time step. DOLFINx gives the user more control over assembly so that this can be done. We assemble the matrix once outside the temporal loop.\n",
    "\"\"\""
   ]
  },
  {
   "cell_type": "markdown",
   "id": "ff47c49f",
   "metadata": {},
   "source": [
    "compiled_a = fem.form(a)\n",
    "A = fem.petsc.assemble_matrix(compiled_a, bcs=bcs)\n",
    "A.assemble()"
   ]
  },
  {
   "cell_type": "markdown",
   "id": "f1e9f52e",
   "metadata": {},
   "source": [
    "\"\"\"Next, we can generate the integration kernel for the right hand side(RHS), and create the RHS vector `b` that we will assemble into at each time step.\"\"\""
   ]
  },
  {
   "cell_type": "markdown",
   "id": "f01e2b2f",
   "metadata": {},
   "source": [
    "compiled_L = fem.form(L)\n",
    "b = fem.Function(V)"
   ]
  },
  {
   "cell_type": "markdown",
   "id": "93a2a838",
   "metadata": {},
   "source": [
    "\"\"\"We next create the PETSc KSP(Krylov subspace method) solver, and set it to solve using an[algebraic multigrid method](https: // hypre.readthedocs.io/en/latest/solvers-boomeramg.html).\"\"\""
   ]
  },
  {
   "cell_type": "markdown",
   "id": "4af0eb3b",
   "metadata": {},
   "source": [
    "from petsc4py import PETSc\n",
    "solver = PETSc.KSP().create(domain.comm)\n",
    "solver.setOperators(A)\n",
    "solver.setType(PETSc.KSP.Type.CG)\n",
    "pc = solver.getPC()\n",
    "pc.setType(PETSc.PC.Type.HYPRE)\n",
    "pc.setHYPREType(\"boomeramg\")"
   ]
  },
  {
   "cell_type": "markdown",
   "id": "7ca778c0",
   "metadata": {},
   "source": [
    "\"\"\"  # Plotting a time dependent problem"
   ]
  },
  {
   "cell_type": "markdown",
   "id": "b46224c0",
   "metadata": {},
   "source": [
    "As we are solving a time dependent problem, we would like to create a time dependent animation of the solution.\n",
    "We do this by using [pyvista](https: // docs.pyvista.org /), which uses VTK structures for plotting.\n",
    "In DOLFINx, we have the convenience function `dolfinx.plot.create_vtk_mesh` that can create meshes compatible with VTK formatting, based on meshes of(discontinuous) Lagrange function spaces.\n",
    "\"\"\""
   ]
  },
  {
   "cell_type": "markdown",
   "id": "fbc0b55f",
   "metadata": {},
   "source": [
    "import pyvista\n",
    "import matplotlib.pyplot as plt\n",
    "pyvista.start_xvfb(0.5)  # Start virtual framebuffer for plotting\n",
    "plotter = pyvista.Plotter()\n",
    "plotter.open_gif(\"u_time.gif\")"
   ]
  },
  {
   "cell_type": "markdown",
   "id": "3bc9fb0d",
   "metadata": {},
   "source": [
    "topology, cells, geometry = plot.create_vtk_mesh(V)\n",
    "uh = fem.Function(V)\n",
    "grid = pyvista.UnstructuredGrid(topology, cells, geometry)\n",
    "grid.point_data[\"uh\"] = uh.x.array"
   ]
  },
  {
   "cell_type": "markdown",
   "id": "08110d62",
   "metadata": {},
   "source": [
    "viridis = plt.cm.get_cmap(\"viridis\", 25)\n",
    "sargs = dict(title_font_size=25, label_font_size=20, fmt=\"%.2e\", color=\"black\",\n",
    "             position_x=0.1, position_y=0.8, width=0.8, height=0.1)"
   ]
  },
  {
   "cell_type": "markdown",
   "id": "23233f04",
   "metadata": {},
   "source": [
    "renderer = plotter.add_mesh(grid, show_edges=True, lighting=False,\n",
    "                            cmap=viridis, scalar_bar_args=sargs,\n",
    "                            clim=[0, height])"
   ]
  },
  {
   "cell_type": "markdown",
   "id": "a1f4f4eb",
   "metadata": {},
   "source": [
    "plotter.view_xy()\n",
    "plotter.camera.zoom(1.3)"
   ]
  },
  {
   "cell_type": "markdown",
   "id": "21f1f6d4",
   "metadata": {},
   "source": [
    "\"\"\"  # Solving a time dependent problem"
   ]
  },
  {
   "cell_type": "markdown",
   "id": "9f3acab0",
   "metadata": {},
   "source": [
    "We are now ready to solve the time dependent problem. At each time step, we need to:\n",
    "1. Update the time dependent boundary condition and source\n",
    "2. Reassemble the right hand side vector `b`\n",
    "3. Apply boundary conditions to `b`\n",
    "4. Solve linear problem `Au = b`\n",
    "5. Update previous time step, `un = u`\n",
    "\"\"\""
   ]
  },
  {
   "cell_type": "markdown",
   "id": "f15af520",
   "metadata": {},
   "source": [
    "T =  np.pi\n",
    "while t < T:\n",
    "    # Update boundary condition\n",
    "    t += dt.value\n",
    "    uD.interpolate(uD_function(t))"
   ]
  },
  {
   "cell_type": "markdown",
   "id": "1ee9f0cc",
   "metadata": {},
   "source": [
    "    # Assemble RHS\n",
    "    b.x.array[:] = 0\n",
    "    fem.petsc.assemble_vector(b.vector, compiled_L)"
   ]
  },
  {
   "cell_type": "markdown",
   "id": "8288b5b6",
   "metadata": {},
   "source": [
    "    # Apply boundary condition\n",
    "    fem.petsc.apply_lifting(b.vector, [compiled_a], [bcs])\n",
    "    b.x.scatter_reverse(la.ScatterMode.add)\n",
    "    fem.petsc.set_bc(b.vector, bcs)"
   ]
  },
  {
   "cell_type": "markdown",
   "id": "fba56e3b",
   "metadata": {},
   "source": [
    "    # Solve linear problem\n",
    "    solver.solve(b.vector, uh.vector)\n",
    "    uh.x.scatter_forward()"
   ]
  },
  {
   "cell_type": "markdown",
   "id": "a88a575f",
   "metadata": {},
   "source": [
    "    # Update un\n",
    "    un.x.array[:] = uh.x.array"
   ]
  },
  {
   "cell_type": "markdown",
   "id": "d7e474cf",
   "metadata": {},
   "source": [
    "    # Update plotter\n",
    "    plotter.update_scalars(uh.x.array, render=False)\n",
    "    plotter.write_frame()"
   ]
  },
  {
   "cell_type": "markdown",
   "id": "829ffa5d",
   "metadata": {},
   "source": [
    "plotter.close()"
   ]
  },
  {
   "cell_type": "markdown",
   "id": "5223a211",
   "metadata": {},
   "source": [
    "\"\"\" < img src = \"https://github.com/IgorBaratta/FEniCSxCourse/blob/main/Problem2_PoissonTransient/u_time.gif?raw=1\" alt = \"gif\" class = \"bg-primary mb-1\" width = \"800px\" >"
   ]
  },
  {
   "cell_type": "markdown",
   "id": "578064a7",
   "metadata": {},
   "source": [
    "# Post-processing without projections"
   ]
  },
  {
   "cell_type": "markdown",
   "id": "9a36fd48",
   "metadata": {},
   "source": [
    "In legacy dolfin, the only way of post-processing a `ufl`- expression over the domain, would be by using a projection. This would not be scalable in most cases. Therefore, we have introduced `dolfinx.fem.Expression`, which can be used to evaluate a `ufl`- expression at any given(reference) point in any cell(local to process). Let us consider"
   ]
  },
  {
   "cell_type": "markdown",
   "id": "edca96fd",
   "metadata": {},
   "source": [
    "$$(y, x) \\cdot(\\nabla u)$$\n",
    "\"\"\""
   ]
  },
  {
   "cell_type": "markdown",
   "id": "141c7851",
   "metadata": {},
   "source": [
    "x = SpatialCoordinate(domain)\n",
    "x_grad = inner(as_vector((x[1], x[0])), grad(uh))"
   ]
  },
  {
   "cell_type": "markdown",
   "id": "ea1d74ae",
   "metadata": {},
   "source": [
    "W = fem.FunctionSpace(domain, (\"DQ\", 1))"
   ]
  },
  {
   "cell_type": "markdown",
   "id": "01e46858",
   "metadata": {},
   "source": [
    "expr = fem.Expression(x_grad, W.element.interpolation_points())\n",
    "w = fem.Function(W)\n",
    "w.interpolate(expr)"
   ]
  },
  {
   "cell_type": "markdown",
   "id": "2bc539fc",
   "metadata": {},
   "source": [
    "w_grid = pyvista.UnstructuredGrid(*plot.create_vtk_mesh(W))\n",
    "w_plotter = pyvista.Plotter(window_size=(800, 200))\n",
    "w_grid.point_data[\"w\"] = w.x.array[:].real\n",
    "w_plotter.add_mesh(w_grid, show_edges=True)\n",
    "w_plotter.view_xy()\n",
    "w_plotter.camera.zoom(3)\n",
    "w_plotter.export_html(\"./w.html\", backend=\"pythreejs\")"
   ]
  },
  {
   "cell_type": "markdown",
   "id": "638ee67b",
   "metadata": {},
   "source": [
    "# Commented out IPython magic to ensure Python compatibility.\n",
    "%%html\n",
    "# <iframe src='./w.html' scrolling=\"no\" width=\"800px\" height=\"200px\"></iframe> <!--  # noqa, -->"
   ]
  }
 ],
 "metadata": {
  "jupytext": {
   "cell_metadata_filter": "-all",
   "main_language": "python",
   "notebook_metadata_filter": "-all"
  }
 },
 "nbformat": 4,
 "nbformat_minor": 5
}
