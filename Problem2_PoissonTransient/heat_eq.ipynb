{
 "cells": [
  {
   "cell_type": "code",
   "execution_count": null,
   "metadata": {
    "lines_to_next_cell": 2
   },
   "outputs": [],
   "source": [
    "try:\n",
    "  import gmsh\n",
    "except ImportError:\n",
    "  !wget \"https://github.com/fem-on-colab/fem-on-colab.github.io/raw/7f220b6/releases/gmsh-install.sh\" -O \"/tmp/gmsh-install.sh\" && bash \"/tmp/gmsh-install.sh\"\n",
    "  import gmsh\n",
    "\n",
    "try:\n",
    "  import dolfinx\n",
    "except ImportError:\n",
    "  !wget \"https://github.com/fem-on-colab/fem-on-colab.github.io/raw/7f220b6/releases/fenicsx-install-real.sh\" -O \"/tmp/fenicsx-install.sh\" && bash \"/tmp/fenicsx-install.sh\"\n",
    "  import dolfinx\n",
    "\n",
    "try: \n",
    "  import pyvista\n",
    "except ImportError:\n",
    "  !pip install -q piglet pyvirtualdisplay ipyvtklink pyvista panel\n",
    "  !apt-get -qq install xvfb\n",
    "  import pyvista\n",
    "\n",
    "!wget https://raw.githubusercontent.com/IgorBaratta/FEniCSxCourse/main/Problem2_PoissonTransient/utils.py\n"
   ]
  },
  {
   "cell_type": "markdown",
   "metadata": {
    "lines_to_next_cell": 2
   },
   "source": [
    "# Solving a time-dependent problem\n",
    "\n",
    "This notebook shows how to solve a transient problem using DOLFINx, namely the diffusion problem,\n",
    "the simplest extension of the Poisson problem.\n",
    "\n",
    "The strong form of our problem reads:\n",
    "$$\n",
    "\\begin{align*}\n",
    "\\frac{\\partial T(\\boldsymbol{x}, t)}{\\partial t} - \\nabla \\cdot (\\alpha  \\nabla T(\\boldsymbol{x}, t)) &= f(\\boldsymbol{x}, t) & & \\text{in } \\, \\Omega, \\\\\n",
    "T(\\boldsymbol{x}, t) &= T_D(\\boldsymbol{x}, t) & &\\text{on} \\,\\partial\\Omega_\\text{D}, \\\\\n",
    "\\alpha\\frac{\\partial T}{\\partial n} &= 0 & &\\text{on} \\, \\partial\\Omega_\\text{N} \\\\\n",
    "T(\\boldsymbol{x}, t=0) &= T_i(\\boldsymbol{x}) & & \\text{in } \\, \\Omega,\n",
    "\\end{align*}\n",
    "$$\n",
    "\n",
    "Where $T$, the temperature distribution, varies with space and time $T(\\boldsymbol{x}, t)$.\n",
    "$T_D$ is a prescribed function at the boundary $\\partial\\Omega_\\text{D}$.\n",
    "And $T_i$ is the initial temperature distribution.\n",
    "\n",
    "To solve time-dependent PDEs using the finite element method, we first discretize the time derivative\n",
    "using a finite difference approximation, yielding a recursive series of stationary problems,\n",
    "and then we convert each stationary problem into a variational problem.\n"
   ]
  },
  {
   "cell_type": "markdown",
   "metadata": {
    "lines_to_next_cell": 2
   },
   "source": [
    "## Time discretization\n",
    "A backward Euler scheme can be used to approximate the time derivative.\n",
    "$$\n",
    "\\begin{align*}\n",
    "  \\frac{T_{n} - T_{n-1}}{\\Delta t} - \\nabla \\cdot (\\alpha  \\nabla T_{n}) = f_{n}\n",
    "\\end{align*}\n",
    "$$\n",
    "Reordering the last equation equation so that only unknows at time step n appear in the\n",
    "left-hand side:\n",
    "$$\n",
    "\\begin{align*}\n",
    "  T_{n} - \\Delta t \\nabla \\, \\cdot (\\alpha  \\nabla T_{n}) = \\Delta t f_{n} + T_{n-1}\n",
    "\\end{align*}\n",
    "$$\n",
    "\n",
    "## Time-stepping algorithm\n",
    "      Compute T_0 as interpolation of a given function T_i(\\boldsymbol{x})\n",
    "      Define the bilinear a(T,v) and linear L(v) forms\n",
    "      Assemble the matrix A from the bilinear form a\n",
    "      t = 0\n",
    "      while t < t_max:\n",
    "          Assemble the vector b from the linear form L\n",
    "          Apply time dependent boundary conditions\n",
    "          Solve the linear system AT=b\n",
    "          Update current solution T_n = T"
   ]
  },
  {
   "cell_type": "markdown",
   "metadata": {},
   "source": [
    "## Variational formulation\n",
    "As usual we find the weak by multiplying our semi-discrete equation by a sufficiently\n",
    "regular test function $v$ and applying integration by parts. At time-step $n$ the weak\n",
    "reads: Find $u \\in V(\\Omega)$ such that\n",
    "\n",
    "$$\n",
    "\\begin{align*}\n",
    "  \\int_{\\Omega} T_n v \\,dx + \\Delta t \\int_{\\Omega}{ \\alpha \\nabla T_n \\cdot \\nabla v}\\,dx = \\Delta t \\int_{\\Omega} f \\cdot v \\, dx + \\int_{\\Omega} T_0 \\cdot v \\, dx\n",
    "\\end{align*}\n",
    "$$\n",
    "For this problem, the natural choice is a space of continuous functions, that are element-wise polynomials of degree $k$\n",
    "\n",
    "$$\n",
    "V(\\mathcal{T}_h) = V_h = \\{v \\in H ^ 1(\\Omega), ~v | _E \\in P_k(E) \\, \\forall E \\in \\mathcal{T}_h\\}\n",
    "$$"
   ]
  },
  {
   "cell_type": "markdown",
   "metadata": {},
   "source": [
    "## Test problem - Manufactured Solution\n",
    "We construct a test problem for which we can easily check the answer. We first define the exact solution by\n",
    "\n",
    "$$\n",
    "\\begin{align*}\n",
    "  T(\\boldsymbol{x}, t) = c_0 x_0^2 + c_1 x_0 + c_3t\n",
    "\\end{align*}\n",
    "$$\n",
    "and then we insert the exact solution into the strong form of our pde.\n",
    "With simple manipulations we realize that the source should be:\n",
    "$$\n",
    "\\begin{align*}\n",
    "  f = c_4 - 2c_0\n",
    "\\end{align*}\n",
    "$$\n",
    "Also at the boundaries we have:\n",
    "$$\n",
    "\\begin{align*}\n",
    "  T_D(\\boldsymbol{x}, t) = c_0 x_0^2 + c_1 x_0 + c_2t\n",
    "\\end{align*}\n",
    "$$"
   ]
  },
  {
   "cell_type": "markdown",
   "metadata": {},
   "source": [
    "## Implementation"
   ]
  },
  {
   "cell_type": "markdown",
   "metadata": {},
   "source": [
    "The first step is to import all modules and packages we are going to use:"
   ]
  },
  {
   "cell_type": "code",
   "execution_count": null,
   "metadata": {},
   "outputs": [],
   "source": [
    "# Import dolfinx and ufl modules\n",
    "from dolfinx import geometry\n",
    "from dolfinx import fem\n",
    "from dolfinx import io\n",
    "from dolfinx import la\n",
    "from dolfinx.mesh import (CellType, create_unit_square, locate_entities, exterior_facet_indices)\n",
    "from ufl import TestFunction, TrialFunction, dx, inner, grad\n",
    "\n",
    "# Auxiliary packages\n",
    "from petsc4py import PETSc\n",
    "from mpi4py import MPI\n",
    "import numpy\n",
    "\n",
    "# Convenience functions for plotting on jupyter notebooks\n",
    "from utils import plot_mesh, plot_function, create_gif\n",
    "import IPython"
   ]
  },
  {
   "cell_type": "markdown",
   "metadata": {},
   "source": [
    "### Creating a distributed computational domain (mesh)"
   ]
  },
  {
   "cell_type": "markdown",
   "metadata": {},
   "source": [
    "To create a simple computational domain in DOLFINx, we use the mesh generation utilities in `dolfinx.mesh`.\n",
    "In this module, we have the tools to build rectangles of triangular or quadrilateral elements and boxes\n",
    "of tetrahedral or hexahedral elements. We start by creating a unit square:"
   ]
  },
  {
   "cell_type": "code",
   "execution_count": null,
   "metadata": {
    "lines_to_next_cell": 2
   },
   "outputs": [],
   "source": [
    "comm = MPI.COMM_WORLD\n",
    "mesh = create_unit_square(comm, 10, 10, CellType.quadrilateral)"
   ]
  },
  {
   "cell_type": "markdown",
   "metadata": {},
   "source": [
    "### Visualizing mesh\n",
    "We have provided a few convenience functions for plotting on jupyter notebooks."
   ]
  },
  {
   "cell_type": "code",
   "execution_count": null,
   "metadata": {},
   "outputs": [],
   "source": [
    "plot_mesh(mesh, filename=\"mesh.html\")\n",
    "IPython.display.HTML(filename=\"mesh.html\")"
   ]
  },
  {
   "cell_type": "markdown",
   "metadata": {},
   "source": [
    "### Handling time-dependent functions expressions\n",
    "\n",
    "First we define the constants we use in our program:"
   ]
  },
  {
   "cell_type": "code",
   "execution_count": null,
   "metadata": {},
   "outputs": [],
   "source": [
    "c0 = fem.Constant(mesh, 1.0)\n",
    "c1 = fem.Constant(mesh, 2.0)\n",
    "c2 = fem.Constant(mesh, 0.5)\n",
    "dt = fem.Constant(mesh, 0.1)"
   ]
  },
  {
   "cell_type": "markdown",
   "metadata": {},
   "source": [
    "We can now define the source term as a Constant:\n",
    "$$\n",
    "\\begin{align*}\n",
    "  f = c_2 - 2c_0\n",
    "\\end{align*}\n",
    "$$"
   ]
  },
  {
   "cell_type": "code",
   "execution_count": null,
   "metadata": {
    "lines_to_end_of_cell_marker": 0,
    "lines_to_next_cell": 1
   },
   "outputs": [],
   "source": [
    "f = c2 - 2*c0\n",
    "print(type(f))"
   ]
  },
  {
   "cell_type": "markdown",
   "metadata": {},
   "source": [
    "For $T$, $T_0$ and $T_D$ we first define an expression and then we interpolate\n",
    "it into the corresponding function space."
   ]
  },
  {
   "cell_type": "code",
   "execution_count": null,
   "metadata": {},
   "outputs": [],
   "source": [
    "def expression(t):\n",
    "    return lambda x: c0*x[0]**2 + c1*x[0] + c2*t\n",
    "\n",
    "V = fem.FunctionSpace(mesh, (\"Lagrange\", 1))\n",
    "T0 = fem.Function(V)\n",
    "T0.interpolate(expression(t=0))\n",
    "\n",
    "# plot T0 over Omega\n",
    "plot_function(T0, filename=\"T0.html\")\n",
    "IPython.display.HTML(filename=\"T0.html\")"
   ]
  },
  {
   "cell_type": "markdown",
   "metadata": {},
   "source": [
    "## Setting up a variational problem"
   ]
  },
  {
   "cell_type": "code",
   "execution_count": null,
   "metadata": {},
   "outputs": [],
   "source": [
    "V = fem.FunctionSpace(mesh, (\"Lagrange\", 1))\n",
    "T = TrialFunction(V)\n",
    "v = TestFunction(V)\n",
    "T0 = fem.Function(V)"
   ]
  },
  {
   "cell_type": "markdown",
   "metadata": {},
   "source": [
    "The variational form can be written in UFL syntax:\n",
    "$$\n",
    "\\begin{align*}\n",
    "  a(T, v) = \\int_{\\Omega} T v \\,dx + \\alpha \\Delta t \\int_{\\Omega}{\\nabla T \\cdot \\nabla v}\\,dx\n",
    "\\end{align*}\n",
    "$$"
   ]
  },
  {
   "cell_type": "code",
   "execution_count": null,
   "metadata": {},
   "outputs": [],
   "source": [
    "alpha = fem.Constant(mesh, 1.0)\n",
    "a = inner(T, v) * dx + dt * alpha * inner(grad(T), grad(v)) * dx\n",
    "a = fem.form(a)  # JIT compilation"
   ]
  },
  {
   "cell_type": "markdown",
   "metadata": {},
   "source": [
    "$$\n",
    "\\begin{align*}\n",
    "  L(v) = \\Delta t \\int_{\\Omega} f \\cdot v \\, dx + \\int_{\\Omega} T_0 \\cdot v \\, dx\n",
    "\\end{align*}\n",
    "$$"
   ]
  },
  {
   "cell_type": "code",
   "execution_count": null,
   "metadata": {},
   "outputs": [],
   "source": [
    "L = dt * inner(f, v) * dx + inner(T0, v) * dx"
   ]
  },
  {
   "cell_type": "markdown",
   "metadata": {},
   "source": [
    "To give the user freedom to set boundary conditions on single degrees of freedom,\n",
    "the function `dolfinx.fem.dirichletbc` takes in the list of degrees of freedom(DOFs) as input.\n",
    "The DOFs on the boundary can be obtained in many ways: DOLFINx supplies a few convenience functions,\n",
    "such as `dolfinx.fem.locate_dofs_topological` and `dolfinx.fem.locate_dofs_geometrical`.\n",
    "DOLFINx also has convenience functions to obtain a list of all boundary facets."
   ]
  },
  {
   "cell_type": "code",
   "execution_count": null,
   "metadata": {},
   "outputs": [],
   "source": [
    "# Create Dirichlet function\n",
    "T_D = fem.Function(V)\n",
    "T_D.interpolate(expression(0))\n",
    "\n",
    "# Define Dirichlet bc\n",
    "tdim = mesh.topology.dim\n",
    "mesh.topology.create_connectivity(tdim - 1, tdim)\n",
    "bndry_facets = exterior_facet_indices(mesh.topology)\n",
    "bndry_dofs = fem.locate_dofs_topological(V, tdim - 1, bndry_facets)\n",
    "bcs = [fem.dirichletbc(T_D, bndry_dofs)]"
   ]
  },
  {
   "cell_type": "markdown",
   "metadata": {},
   "source": [
    "### Setting up a time dependent solver\n",
    "\n",
    "As the left hand side of our problem(the matrix) is time independent, we would like avoid re-assembling it at every time step.\n",
    "We assemble the matrix once outside the temporal loop."
   ]
  },
  {
   "cell_type": "code",
   "execution_count": null,
   "metadata": {},
   "outputs": [],
   "source": [
    "A = fem.petsc.assemble_matrix(a, bcs=bcs)\n",
    "A.assemble()"
   ]
  },
  {
   "cell_type": "markdown",
   "metadata": {},
   "source": [
    "Next, we can generate the integration kernel for the right hand side(RHS), and create the RHS vector `b` that we will\n",
    "assembled into at each time step."
   ]
  },
  {
   "cell_type": "code",
   "execution_count": null,
   "metadata": {},
   "outputs": [],
   "source": [
    "b = fem.Function(V)\n",
    "L = fem.form(L)  # JIT compilation"
   ]
  },
  {
   "cell_type": "markdown",
   "metadata": {},
   "source": [
    "We next create the PETSc KSP(Krylov subspace method) solver, and set it to solve using an\n",
    "[algebraic multigrid method](https: // hypre.readthedocs.io/en/latest/solvers-boomeramg.html)."
   ]
  },
  {
   "cell_type": "code",
   "execution_count": null,
   "metadata": {},
   "outputs": [],
   "source": [
    "# Define Solver\n",
    "solver = PETSc.KSP().create(comm)\n",
    "solver.setOperators(A)\n",
    "solver.setType(PETSc.KSP.Type.CG)\n",
    "pc = solver.getPC()\n",
    "pc.setType(PETSc.PC.Type.HYPRE)\n",
    "pc.setHYPREType(\"boomeramg\")"
   ]
  },
  {
   "cell_type": "markdown",
   "metadata": {},
   "source": [
    "### Plotting a time dependent problem"
   ]
  },
  {
   "cell_type": "markdown",
   "metadata": {},
   "source": [
    "As we are solving a time dependent problem, we would like to create a time dependent animation of the solution.\n",
    "We do this by using [pyvista](https: // docs.pyvista.org /), which uses VTK structures for plotting.\n",
    "In DOLFINx, we have the convenience function `dolfinx.plot.create_vtk_mesh` that can create meshes compatible\n",
    "with VTK formatting, based on meshes of(discontinuous) Lagrange function spaces."
   ]
  },
  {
   "cell_type": "code",
   "execution_count": null,
   "metadata": {
    "lines_to_next_cell": 2
   },
   "outputs": [],
   "source": [
    "T = fem.Function(V)\n",
    "plotter = create_gif(T, \"T.gif\", [0, 2])\n",
    "plotter.write_frame()"
   ]
  },
  {
   "cell_type": "markdown",
   "metadata": {},
   "source": [
    "## Solving a time dependent problem\n",
    "\n",
    "We are now ready to solve the time dependent problem. At each time step, we need to:\n",
    "1. Update the time dependent boundary condition and source\n",
    "2. Reassemble the right hand side vector `b`\n",
    "3. Apply boundary conditions to `b`\n",
    "4. Solve linear problem `AT = b`\n",
    "5. Update current solution, `T0 = T`"
   ]
  },
  {
   "cell_type": "code",
   "execution_count": null,
   "metadata": {},
   "outputs": [],
   "source": [
    "t = 0\n",
    "t_max = 10*dt.value\n",
    "while t < t_max:\n",
    "    t += dt.value\n",
    "    print(f\"t = {t:.2f} s\")\n",
    "\n",
    "    # Update boundary condition\n",
    "    T_D.interpolate(expression(t))\n",
    "\n",
    "    # Assemble RHS\n",
    "    b.x.array[:] = 0\n",
    "    fem.petsc.assemble_vector(b.vector, L)\n",
    "\n",
    "    # Apply boundary condition\n",
    "    fem.petsc.apply_lifting(b.vector, [a], [bcs])\n",
    "    b.x.scatter_reverse(la.ScatterMode.add)\n",
    "    fem.petsc.set_bc(b.vector, bcs)\n",
    "\n",
    "    # Solve linear problem\n",
    "    T.x.array[:] = 0\n",
    "    solver.solve(b.vector, T.vector)\n",
    "    T.x.scatter_forward()\n",
    "\n",
    "    # Update un\n",
    "    T0.x.array[:] = T.x.array\n",
    "\n",
    "    # Update plotter\n",
    "    plotter.update_scalars(T.x.array, render=False)\n",
    "    plotter.write_frame()\n",
    "\n",
    "\n",
    "IPython.display.Image(filename=\"T.gif\")"
   ]
  },
  {
   "cell_type": "markdown",
   "metadata": {},
   "source": [
    "What's the temperature at an arbitrary point p?"
   ]
  },
  {
   "cell_type": "code",
   "execution_count": null,
   "metadata": {},
   "outputs": [],
   "source": [
    "# Given an arbitrary point \"p\"\n",
    "p = numpy.array([0.5, 0.5, 0.0], dtype=numpy.float64)\n",
    "\n",
    "# We first compute the cells that it belongs to\n",
    "bb_tree = geometry.BoundingBoxTree(mesh, mesh.topology.dim)\n",
    "cell_candidates = geometry.compute_collisions(bb_tree, p)\n",
    "cells = geometry.compute_colliding_cells(mesh, cell_candidates, p)\n",
    "\n",
    "# Given a list of cells it's easy and \"efficient\" to compute T(p)\n",
    "values = T.eval(p, cells[0])\n",
    "print(f\"Temperature at point {p} is {values[0]}\")"
   ]
  },
  {
   "cell_type": "markdown",
   "metadata": {},
   "source": [
    "**TASK 1**: compute the L2 and H1 error norms"
   ]
  },
  {
   "cell_type": "code",
   "execution_count": null,
   "metadata": {},
   "outputs": [],
   "source": [
    "eh = T_D - T\n",
    "M = fem.form(eh**2 * dx)\n",
    "error_norm =fem.assemble_scalar(M)\n",
    "print(f\"L2 Error norm: {error_norm}\")"
   ]
  },
  {
   "cell_type": "markdown",
   "metadata": {
    "lines_to_next_cell": 2
   },
   "source": [
    "**TASK 2**: Change the cell type and polynomial degree.\n",
    "Increase and decrease the time step dt.\n",
    "Why doesn't the norm of error change?"
   ]
  },
  {
   "cell_type": "markdown",
   "metadata": {},
   "source": [
    "# Homework 1\n",
    "In this homework we are going to tackle a more physically realistic problem.\n",
    "Given the temperature outside a room, we shall compute the temperature inside\n",
    "the room, and find the appropriate insulation material. \n",
    "\n",
    "Without internal sources the strong form of our problem reads:\n",
    "$$\n",
    "\\begin{align*}\n",
    "\\frac{\\partial T}{\\partial t} &= \\nabla \\cdot (\\alpha  \\nabla T) & & \\text{in } \\, \\Omega, \\\\\n",
    "T(\\boldsymbol{x}, t) &= T_D = T_R + T_a \\cdot sin(\\omega t) & & \\,\\partial\\Omega_\\text{D}, \\\\\n",
    "T(\\boldsymbol{x}, t=0) &= T_0 & & \\text{in } \\, \\Omega,\n",
    "\\end{align*}\n",
    "$$\n",
    "Where $\\alpha$ is the thermal diffusivity of the medium:\n",
    "$$\n",
    "\\begin{align*}\n",
    "\\alpha = \\frac{k}{\\rho C_p}\n",
    "\\end{align*}\n",
    "$$\n",
    "$k$ is the thermal conductivity, $\\rho$ is the density and $C_p$ is the is specific heat capacity.\n",
    "Examples of thermal diffusivity for four different materials:\n",
    "$$\\alpha_{air} = 19 \\cdot 10^{-6} \\, m^2/s$$\n",
    "$$\\alpha_{brick} = 0.27 \\cdot 10^{-6} \\, m^2/s$$\n",
    "$$\\alpha_{wood} = 0.082 \\cdot 10^{-6} \\, m^2/s$$\n",
    "$$\\alpha_{steel} = 11.72 \\cdot 10^{-6} \\, m^2/s$$\n",
    "\n",
    "Given a 1 squared meter room, 0.1 m thick walls, and with outside \n",
    "temperature given by $T_D$ which material should be used for the wall \n",
    "such that the temperature at the center of the room is never below $10^oC$?"
   ]
  },
  {
   "cell_type": "markdown",
   "metadata": {},
   "source": [
    "**TASK 1**: Complete the following code with the thermal diffusivity of the air and\n",
    "the wall and visualize the material distribution:"
   ]
  },
  {
   "cell_type": "code",
   "execution_count": null,
   "metadata": {
    "lines_to_next_cell": 2
   },
   "outputs": [],
   "source": [
    "def wall(x):\n",
    "    vertical = (x[0] <= 0.1) | (x[0] >= 0.9)\n",
    "    horizontal = (x[1] <= 0.1) | (x[1] >= 0.9)\n",
    "    return horizontal | vertical\n",
    "\n",
    "\n",
    "comm = MPI.COMM_WORLD\n",
    "mesh = create_unit_square(comm, 20, 20, CellType.quadrilateral)\n",
    "\n",
    "cells = locate_entities(mesh, mesh.topology.dim, wall)\n",
    "DG = fem.FunctionSpace(mesh, (\"DG\", 0))\n",
    "\n",
    "# Thermal diffusivity\n",
    "alpha = fem.Function(DG)\n",
    "# alpha.x.array[:] = alpha_air\n",
    "# alpha.x.array[cells] = alpha_wall\n",
    "\n",
    "# Solution - \n",
    "alpha.x.array[:] = 19e-6\n",
    "alpha.x.array[cells] = 0.082e-6 # wood\n",
    "\n",
    "plot_mesh(mesh, cell_values=alpha, filename=\"alpha.html\")\n",
    "IPython.display.HTML(filename=\"alpha.html\")"
   ]
  },
  {
   "cell_type": "markdown",
   "metadata": {},
   "source": [
    "**Task 2**: create a python function that defines the outside temperature\n",
    "$$T_{out} = -5 + 15 \\cdot sin(\\omega t)$$\n",
    "where $\\omega = \\pi/(24\\cdot60\\cdot60)$."
   ]
  },
  {
   "cell_type": "code",
   "execution_count": null,
   "metadata": {
    "lines_to_end_of_cell_marker": 0,
    "lines_to_next_cell": 1
   },
   "outputs": [],
   "source": [
    "period = 60*60*24 # seconds in a day\n",
    "\n",
    "# Task: define temperature outside temperature and plot it for \n",
    "def outside_temperature(t):\n",
    "    omega = numpy.pi/period\n",
    "    t = t % period\n",
    "    temperature = 15 * numpy.sin(omega*t) - 5\n",
    "    print(f\"Outside temperature = {temperature}\")\n",
    "    return lambda x: numpy.full_like(x[0], temperature)\n",
    "\n",
    "# Task: Plot the hourly temperature during a day:?\n",
    "temp = numpy.zeros(24)\n",
    "for i in range(temp.size):\n",
    "    t = i*0.5*60*60\n",
    "    temp[i] = outside_temperature(t)([0,0])\n",
    "\n",
    "import matplotlib.pyplot as plt\n",
    "\n",
    "plt.plot(temp)\n",
    "plt.savefig(\"temperature.png\")\n",
    "IPython.display.Image(filename=\"temperature.png\")"
   ]
  },
  {
   "cell_type": "markdown",
   "metadata": {},
   "source": [
    "**Task 3** Modify the following function to return the hourly variation \n",
    "of temperature inside the room."
   ]
  },
  {
   "cell_type": "code",
   "execution_count": null,
   "metadata": {},
   "outputs": [],
   "source": [
    "def thermal_solver(alpha):\n",
    "    mesh = alpha.function_space.mesh\n",
    "\n",
    "    # Create function space\n",
    "    V = fem.FunctionSpace(mesh, (\"Lagrange\", 1))\n",
    "    \n",
    "    # Define trial and test functions\n",
    "    T = TrialFunction(V)\n",
    "    v = TestFunction(V)\n",
    "\n",
    "    # Initial condition\n",
    "    T0 = fem.Function(V)\n",
    "    T0.interpolate(lambda x: numpy.full_like(x[0], 12))\n",
    "\n",
    "    # Time step (15 min - 900 seconds)\n",
    "    dt = fem.Constant(mesh, 900.0)\n",
    "\n",
    "    # Bilinear form\n",
    "    a = inner(T, v) * dx + dt * alpha * inner(grad(T), grad(v)) * dx\n",
    "    a = fem.form(a)\n",
    "\n",
    "    # Linear form\n",
    "    L = inner(T0, v) * dx\n",
    "    L = fem.form(L)  # JIT compilation\n",
    "\n",
    "\n",
    "    # Define dirichlet bc at t=0\n",
    "    T_D = fem.Function(V)\n",
    "    T_D.interpolate(outside_temperature(0))\n",
    "    \n",
    "    tdim = mesh.topology.dim\n",
    "    mesh.topology.create_connectivity(tdim - 1, tdim)\n",
    "    bndry_facets = exterior_facet_indices(mesh.topology)\n",
    "    bndry_dofs = fem.locate_dofs_topological(V, tdim - 1, bndry_facets)\n",
    "    bcs = [fem.dirichletbc(T_D, bndry_dofs)]\n",
    "\n",
    "    # Assemble matrix A\n",
    "    A = fem.petsc.assemble_matrix(a, bcs=bcs)\n",
    "    A.assemble()\n",
    "\n",
    "    b = fem.Function(V)\n",
    "\n",
    "    solver = PETSc.KSP().create(comm)\n",
    "    solver.setOperators(A)\n",
    "    solver.setType(PETSc.KSP.Type.CG)\n",
    "    pc = solver.getPC()\n",
    "    pc.setType(PETSc.PC.Type.HYPRE)\n",
    "    pc.setHYPREType(\"boomeramg\")\n",
    "\n",
    "    T = fem.Function(V)\n",
    "    T.interpolate(T0)\n",
    "    plotter = create_gif(T, \"room.gif\", clim=[-5, 15])\n",
    "    plotter.write_frame()\n",
    "\n",
    "    # Check against standard table value\n",
    "    # Create bounding box for function evaluation\n",
    "    bb_tree = geometry.BoundingBoxTree(mesh, mesh.topology.dim)\n",
    "    p = numpy.array([0.5, 0.5, 0.0], dtype=numpy.float64)\n",
    "    cell_candidates = geometry.compute_collisions(bb_tree, p)\n",
    "    cells = geometry.compute_colliding_cells(mesh, cell_candidates, p)\n",
    "\n",
    "    value = T.eval(p, cells[0])\n",
    "    print(f\"Inside temperature {value}\")\n",
    "\n",
    "\n",
    "    t = 0\n",
    "    t_max = period * 1\n",
    "\n",
    "    # Array to store temperature\n",
    "    temperature = numpy.zeros(int(t_max/dt.value))\n",
    "\n",
    "    while t < t_max:\n",
    "        t += dt.value\n",
    "        print(f\"t = {t/3600.0} h\")\n",
    "\n",
    "        # Update boundary condition\n",
    "        T_D.interpolate(outside_temperature(t))\n",
    "\n",
    "        # Assemble RHS\n",
    "        b.x.array[:] = 0\n",
    "        fem.petsc.assemble_vector(b.vector, L)\n",
    "\n",
    "        # Apply boundary condition\n",
    "        fem.petsc.apply_lifting(b.vector, [a], [bcs])\n",
    "        # b.x.scatter_reverse(ScatterMode.add)\n",
    "        fem.petsc.set_bc(b.vector, bcs)\n",
    "\n",
    "        # Solve linear problem\n",
    "        solver.solve(b.vector, T.vector)\n",
    "        T.x.scatter_forward()\n",
    "\n",
    "        value = T.eval(p, cells[0])\n",
    "        print(f\"Inside temperature {value}\")\n",
    "\n",
    "        # Update un\n",
    "        T0.x.array[:] = T.x.array\n",
    "\n",
    "        # Update plotter\n",
    "        plotter.update_scalars(T.x.array, render=False)\n",
    "        plotter.write_frame()\n",
    "    \n",
    "    return temperature"
   ]
  },
  {
   "cell_type": "markdown",
   "metadata": {},
   "source": [
    "**Task 4**: Which material should we use for insulation?\n",
    "Plot the T vs time for different types of material for the wall."
   ]
  },
  {
   "cell_type": "code",
   "execution_count": null,
   "metadata": {},
   "outputs": [],
   "source": [
    "alpha.x.array[cells] = 0.082e-6 # wood\n",
    "temp = thermal_solver(alpha)"
   ]
  }
 ],
 "metadata": {
  "jupytext": {
   "cell_metadata_filter": "-all",
   "main_language": "python",
   "notebook_metadata_filter": "-all"
  },
  "language_info": {
   "name": "python"
  }
 },
 "nbformat": 4,
 "nbformat_minor": 4
}
