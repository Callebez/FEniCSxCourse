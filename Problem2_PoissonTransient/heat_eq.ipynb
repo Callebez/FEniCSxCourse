{
 "cells": [
  {
   "cell_type": "code",
   "execution_count": null,
   "id": "e5498683",
   "metadata": {
    "lines_to_next_cell": 0
   },
   "outputs": [],
   "source": [
    "try:\n",
    "  import gmsh\n",
    "except ImportError:\n",
    "  !wget \"https://github.com/fem-on-colab/fem-on-colab.github.io/raw/7f220b6/releases/gmsh-install.sh\" -O \"/tmp/gmsh-install.sh\" && bash \"/tmp/gmsh-install.sh\"\n",
    "  import gmsh\n",
    "\n",
    "try:\n",
    "  import dolfinx\n",
    "except ImportError:\n",
    "  !wget \"https://github.com/fem-on-colab/fem-on-colab.github.io/raw/7f220b6/releases/fenicsx-install-real.sh\" -O \"/tmp/fenicsx-install.sh\" && bash \"/tmp/fenicsx-install.sh\"\n",
    "  import dolfinx\n",
    "\n",
    "try: \n",
    "    import pyvista\n",
    "except ImportError:\n",
    "    !pip install -q piglet pyvirtualdisplay\n",
    "    !pip install -q pyvista\n",
    "    !apt-get -qq install xvfb\n",
    "    import pyvista"
   ]
  },
  {
   "cell_type": "markdown",
   "id": "aa2dd543",
   "metadata": {},
   "source": [
    "# Solving a time-dependent problem"
   ]
  },
  {
   "cell_type": "markdown",
   "id": "ed2e550c",
   "metadata": {},
   "source": [
    "This notebook will show you how to solve a transient problem using DOLFINx, and highlight differences between legacy DOLFIN and DOLFINx.\n",
    "We start by looking at the structure of DOLFINx:\n",
    "\n",
    "Relevant DOLFINx modules:\n",
    "- `dolfinx.mesh`: Classes and functions related to the computational domain\n",
    "- `dolfinx.fem`: Finite element method functionality\n",
    "- `dolfinx.io`: Input/Output(read/write) functionality\n",
    "- `dolfinx.plot`: Convenience functions for exporting plotting data\n",
    "- `dolfinx.la`: Functions related to linear algebra structures(matrices/vectors)"
   ]
  },
  {
   "cell_type": "code",
   "execution_count": null,
   "id": "0d3c9da7",
   "metadata": {},
   "outputs": [],
   "source": [
    "from dolfinx import mesh, fem, io, plot, la"
   ]
  },
  {
   "cell_type": "markdown",
   "id": "83340bb9",
   "metadata": {},
   "source": [
    "## Creating a distributed computational domain (mesh)"
   ]
  },
  {
   "cell_type": "markdown",
   "id": "74dc3fbc",
   "metadata": {},
   "source": [
    "To create a simple computational domain in DOLFINx, we use the mesh generation utilities in `dolfinx.mesh`. \n",
    "In this module, we have the tools to build rectangles of triangular or quadrilateral elements and boxes \n",
    "of tetrahedral or hexahedral elements. We start by creating a rectangle spanning $[0, 0]\\times[10, 3]$, \n",
    "with 100 and 20 elements in each direction respectively."
   ]
  },
  {
   "cell_type": "code",
   "execution_count": null,
   "id": "b36cf4a3",
   "metadata": {},
   "outputs": [],
   "source": [
    "from mpi4py import MPI\n",
    "length, height = 10, 3\n",
    "Nx, Ny = 80, 60\n",
    "extent = [[0., 0.], [length, height]]\n",
    "domain = mesh.create_rectangle(\n",
    "    MPI.COMM_WORLD, extent, [Nx, Ny], mesh.CellType.quadrilateral)"
   ]
  },
  {
   "cell_type": "markdown",
   "id": "fe84b54e",
   "metadata": {},
   "source": [
    "In contrast to legacy DOLFIN, we work on simple Python structures(nested lists, numpy arrays, etc).\n",
    "We also note that we have to send in an MPI communicator. This is because we want the user to be aware \n",
    "of how the mesh is distributed when running in parallel.\n",
    "If we use the communicator `MPI.COMM_SELF`, each process initialized when running the script would have \n",
    "a version of the full mesh local to its process."
   ]
  },
  {
   "cell_type": "code",
   "execution_count": null,
   "id": "d9a73406",
   "metadata": {},
   "outputs": [],
   "source": [
    "# Creating a mesh on each process\n",
    "local_domain = mesh.create_rectangle(\n",
    "    MPI.COMM_SELF, extent, [Nx, Ny], mesh.CellType.quadrilateral)"
   ]
  },
  {
   "cell_type": "code",
   "execution_count": null,
   "id": "0f83ca47",
   "metadata": {},
   "outputs": [],
   "source": [
    "import pyvista\n",
    "pyvista.start_xvfb()\n",
    "grid = pyvista.UnstructuredGrid(*plot.create_vtk_mesh(local_domain))\n",
    "plotter = pyvista.Plotter(window_size=(800, 400), notebook=True)\n",
    "renderer = plotter.add_mesh(grid, show_edges=True)\n",
    "plotter.view_xy()"
   ]
  },
  {
   "cell_type": "markdown",
   "id": "d4274e72",
   "metadata": {},
   "source": [
    "\"\"\"With Pyvista, we can export the plots to many formats including pngs, interactive notebook plots, and html\"\"\""
   ]
  },
  {
   "cell_type": "markdown",
   "id": "1075ac3c",
   "metadata": {},
   "source": [
    "plotter.view_xy()\n",
    "plotter.camera.zoom(2)\n",
    "plotter.export_html(\"./beam.html\", backend=\"pythreejs\")"
   ]
  },
  {
   "cell_type": "markdown",
   "id": "e12cea77",
   "metadata": {},
   "source": [
    "# Commented out IPython magic to ensure Python compatibility.\n",
    "%%html\n",
    "# <iframe src='./beam.html' scrolling=\"no\" width=\"800px\" height=\"400px\"></iframe> <!--  # noqa, -->"
   ]
  },
  {
   "cell_type": "markdown",
   "id": "d6f0c277",
   "metadata": {},
   "source": [
    "\"\"\"  # Setting up a variational problem"
   ]
  },
  {
   "cell_type": "markdown",
   "id": "27ff5f7a",
   "metadata": {},
   "source": [
    "We will solve the heat equation, with a backward Euler time stepping scheme, ie"
   ]
  },
  {
   "cell_type": "markdown",
   "id": "c515281d",
   "metadata": {},
   "source": [
    "$$\n",
    "\\begin{align*}\n",
    "\\frac{u_{n+1}-u_n}{\\Delta t} - \\nabla \\cdot (\\mu  \\nabla u_{n+1}) &= f(x, t_{n+1}) & & \\text{in } \\Omega, \\\\\n",
    "u &= u_D(x, t_{n+1}) & &\\text{on} \\partial\\Omega_\\text{D}, \\\\\n",
    "\\mu\\frac{\\partial u_{n+1}}{\\partial n} &= 0 & &\\text{on} \\partial\\Omega_\\text{N},\n",
    "\\end{align*}\n",
    "$$\n",
    "with $u_D = y\\cos(0.25t)$, $f = 0$. For this example, we take $\\Omega$ to be rectangle defined above, $\\Omega_\\text{D}$ if the left-hand edge of the rectangle, and $\\Omega_\\text{N}$ is the remaining three edges of the rectangle."
   ]
  },
  {
   "cell_type": "markdown",
   "id": "af31d91e",
   "metadata": {},
   "source": [
    "We start by defining the function space, the corresponding test and trial functions, as well as material and temporal parameters. Note that we use explicit imports from UFL to create the test and trial functions, to avoid confusion as to where they originate from . DOLFINx and UFL support both real and complex valued functions. However, to be able to use the PETSc linear algebra backend, which only supports a single floating type at compilation, we need to use appropriate scalar types in our variational form. This ensures that we generate consistent matrices and vectors.\n",
    "\"\"\""
   ]
  },
  {
   "cell_type": "markdown",
   "id": "5a252966",
   "metadata": {},
   "source": [
    "from ufl import (TestFunction, SpatialCoordinate, TrialFunction,\n",
    "                 as_vector, dx, grad, inner, system)\n",
    "V = fem.FunctionSpace(domain, (\"Lagrange\", 1))\n",
    "u = TrialFunction(V)\n",
    "v = TestFunction(V)\n",
    "un = fem.Function(V)\n",
    "f = fem.Constant(domain, 0.0)\n",
    "mu = fem.Constant(domain, 2.3)\n",
    "dt = fem.Constant(domain, 0.05)"
   ]
  },
  {
   "cell_type": "markdown",
   "id": "ed55e59b",
   "metadata": {},
   "source": [
    "\"\"\"The variational form can be written in UFL syntax, as done in legacy DOLFIN: \"\"\""
   ]
  },
  {
   "cell_type": "markdown",
   "id": "a7409b54",
   "metadata": {},
   "source": [
    "F = inner(u - un, v) * dx + dt * mu * inner(grad(u), grad(v)) * dx\n",
    "F -= dt * inner(f, v) * dx\n",
    "(a, L) = system(F)"
   ]
  },
  {
   "cell_type": "markdown",
   "id": "a0c75e6b",
   "metadata": {},
   "source": [
    "\"\"\"  # Creating Dirichlet boundary conditions"
   ]
  },
  {
   "cell_type": "markdown",
   "id": "40a4c966",
   "metadata": {},
   "source": [
    "# Creating a time dependent boundary condition"
   ]
  },
  {
   "cell_type": "markdown",
   "id": "db5f51be",
   "metadata": {},
   "source": [
    "There are many ways of creating boundary conditions. In this example, we will create function $u_\\text{D}(x, t)$ dependent on both space and time. To do this, we define a function that takes a 2-dimensional array `x`.  Each column of `x` corresponds to an input coordinate $(x, y, z)$ and this function operates directly on the columns of `x`.\n",
    "\"\"\""
   ]
  },
  {
   "cell_type": "markdown",
   "id": "8348b593",
   "metadata": {},
   "source": [
    "import numpy as np"
   ]
  },
  {
   "cell_type": "markdown",
   "id": "a1bfc532",
   "metadata": {},
   "source": [
    "def uD_function(t):\n",
    "    return lambda x: x[1] * np.cos(0.25 * t)"
   ]
  },
  {
   "cell_type": "markdown",
   "id": "df9cf23b",
   "metadata": {},
   "source": [
    "uD = fem.Function(V)\n",
    "t = 0\n",
    "uD.interpolate(uD_function(t))"
   ]
  },
  {
   "cell_type": "markdown",
   "id": "fd781546",
   "metadata": {},
   "source": [
    "\"\"\"To give the user freedom to set boundary conditions on single degrees of freedom, the function `dolfinx.fem.dirichletbc` takes in the list of degrees of freedom(DOFs) as input. The DOFs on the boundary can be obtained in many ways: DOLFINx supplies a few convenience functions, such as `dolfinx.fem.locate_dofs_topological` and `dolfinx.fem.locate_dofs_geometrical`.\n",
    "Locating dofs topologically is generally advised, as certain finite elements have DOFs that do not have a geometrical coordinates associated with them(eg Nédélec and Raviart--Thomas). DOLFINx also has convenicence functions to obtain a list of all boundary facets.\n",
    "\"\"\""
   ]
  },
  {
   "cell_type": "markdown",
   "id": "68b29175",
   "metadata": {},
   "source": [
    "def dirichlet_facets(x):\n",
    "    return np.isclose(x[0], length)"
   ]
  },
  {
   "cell_type": "markdown",
   "id": "fd6c7ea8",
   "metadata": {},
   "source": [
    "tdim = domain.topology.dim\n",
    "bc_facets = mesh.locate_entities_boundary(\n",
    "    domain, tdim - 1, dirichlet_facets)"
   ]
  },
  {
   "cell_type": "markdown",
   "id": "2d5d01d1",
   "metadata": {},
   "source": [
    "bndry_dofs = fem.locate_dofs_topological(V, tdim - 1, bc_facets)"
   ]
  },
  {
   "cell_type": "markdown",
   "id": "7a6331a1",
   "metadata": {},
   "source": [
    "bcs = [fem.dirichletbc(uD, bndry_dofs)]"
   ]
  },
  {
   "cell_type": "markdown",
   "id": "42154217",
   "metadata": {},
   "source": [
    "\"\"\"  # Setting up a time dependent solver"
   ]
  },
  {
   "cell_type": "markdown",
   "id": "8cec0755",
   "metadata": {},
   "source": [
    "As the left hand side of our problem(the matrix) is time independent, we would like avoid re-assembling it at every time step. DOLFINx gives the user more control over assembly so that this can be done. We assemble the matrix once outside the temporal loop.\n",
    "\"\"\""
   ]
  },
  {
   "cell_type": "markdown",
   "id": "ab4ad3bf",
   "metadata": {},
   "source": [
    "compiled_a = fem.form(a)\n",
    "A = fem.petsc.assemble_matrix(compiled_a, bcs=bcs)\n",
    "A.assemble()"
   ]
  },
  {
   "cell_type": "markdown",
   "id": "494c9613",
   "metadata": {},
   "source": [
    "\"\"\"Next, we can generate the integration kernel for the right hand side(RHS), and create the RHS vector `b` that we will assemble into at each time step.\"\"\""
   ]
  },
  {
   "cell_type": "markdown",
   "id": "8f99ae4a",
   "metadata": {},
   "source": [
    "compiled_L = fem.form(L)\n",
    "b = fem.Function(V)"
   ]
  },
  {
   "cell_type": "markdown",
   "id": "ab6e24bd",
   "metadata": {},
   "source": [
    "\"\"\"We next create the PETSc KSP(Krylov subspace method) solver, and set it to solve using an[algebraic multigrid method](https: // hypre.readthedocs.io/en/latest/solvers-boomeramg.html).\"\"\""
   ]
  },
  {
   "cell_type": "markdown",
   "id": "a1dd5247",
   "metadata": {},
   "source": [
    "from petsc4py import PETSc\n",
    "solver = PETSc.KSP().create(domain.comm)\n",
    "solver.setOperators(A)\n",
    "solver.setType(PETSc.KSP.Type.CG)\n",
    "pc = solver.getPC()\n",
    "pc.setType(PETSc.PC.Type.HYPRE)\n",
    "pc.setHYPREType(\"boomeramg\")"
   ]
  },
  {
   "cell_type": "markdown",
   "id": "d229e0c2",
   "metadata": {},
   "source": [
    "\"\"\"  # Plotting a time dependent problem"
   ]
  },
  {
   "cell_type": "markdown",
   "id": "eeb7e45b",
   "metadata": {},
   "source": [
    "As we are solving a time dependent problem, we would like to create a time dependent animation of the solution.\n",
    "We do this by using [pyvista](https: // docs.pyvista.org /), which uses VTK structures for plotting.\n",
    "In DOLFINx, we have the convenience function `dolfinx.plot.create_vtk_mesh` that can create meshes compatible with VTK formatting, based on meshes of(discontinuous) Lagrange function spaces.\n",
    "\"\"\""
   ]
  },
  {
   "cell_type": "markdown",
   "id": "64dd3a5b",
   "metadata": {},
   "source": [
    "import pyvista\n",
    "import matplotlib.pyplot as plt\n",
    "pyvista.start_xvfb(0.5)  # Start virtual framebuffer for plotting\n",
    "plotter = pyvista.Plotter()\n",
    "plotter.open_gif(\"u_time.gif\")"
   ]
  },
  {
   "cell_type": "markdown",
   "id": "791a1577",
   "metadata": {},
   "source": [
    "topology, cells, geometry = plot.create_vtk_mesh(V)\n",
    "uh = fem.Function(V)\n",
    "grid = pyvista.UnstructuredGrid(topology, cells, geometry)\n",
    "grid.point_data[\"uh\"] = uh.x.array"
   ]
  },
  {
   "cell_type": "markdown",
   "id": "00d5a2de",
   "metadata": {},
   "source": [
    "viridis = plt.cm.get_cmap(\"viridis\", 25)\n",
    "sargs = dict(title_font_size=25, label_font_size=20, fmt=\"%.2e\", color=\"black\",\n",
    "             position_x=0.1, position_y=0.8, width=0.8, height=0.1)"
   ]
  },
  {
   "cell_type": "markdown",
   "id": "966fa65a",
   "metadata": {},
   "source": [
    "renderer = plotter.add_mesh(grid, show_edges=True, lighting=False,\n",
    "                            cmap=viridis, scalar_bar_args=sargs,\n",
    "                            clim=[0, height])"
   ]
  },
  {
   "cell_type": "markdown",
   "id": "160a3fe6",
   "metadata": {},
   "source": [
    "plotter.view_xy()\n",
    "plotter.camera.zoom(1.3)"
   ]
  },
  {
   "cell_type": "markdown",
   "id": "4cec5e00",
   "metadata": {},
   "source": [
    "\"\"\"  # Solving a time dependent problem"
   ]
  },
  {
   "cell_type": "markdown",
   "id": "734dfb54",
   "metadata": {},
   "source": [
    "We are now ready to solve the time dependent problem. At each time step, we need to:\n",
    "1. Update the time dependent boundary condition and source\n",
    "2. Reassemble the right hand side vector `b`\n",
    "3. Apply boundary conditions to `b`\n",
    "4. Solve linear problem `Au = b`\n",
    "5. Update previous time step, `un = u`\n",
    "\"\"\""
   ]
  },
  {
   "cell_type": "markdown",
   "id": "eef0ef87",
   "metadata": {},
   "source": [
    "T =  np.pi\n",
    "while t < T:\n",
    "    # Update boundary condition\n",
    "    t += dt.value\n",
    "    uD.interpolate(uD_function(t))"
   ]
  },
  {
   "cell_type": "markdown",
   "id": "6d129c9d",
   "metadata": {},
   "source": [
    "    # Assemble RHS\n",
    "    b.x.array[:] = 0\n",
    "    fem.petsc.assemble_vector(b.vector, compiled_L)"
   ]
  },
  {
   "cell_type": "markdown",
   "id": "d85f1830",
   "metadata": {},
   "source": [
    "    # Apply boundary condition\n",
    "    fem.petsc.apply_lifting(b.vector, [compiled_a], [bcs])\n",
    "    b.x.scatter_reverse(la.ScatterMode.add)\n",
    "    fem.petsc.set_bc(b.vector, bcs)"
   ]
  },
  {
   "cell_type": "markdown",
   "id": "b33c3078",
   "metadata": {},
   "source": [
    "    # Solve linear problem\n",
    "    solver.solve(b.vector, uh.vector)\n",
    "    uh.x.scatter_forward()"
   ]
  },
  {
   "cell_type": "markdown",
   "id": "4b65c12b",
   "metadata": {},
   "source": [
    "    # Update un\n",
    "    un.x.array[:] = uh.x.array"
   ]
  },
  {
   "cell_type": "markdown",
   "id": "cb74474e",
   "metadata": {},
   "source": [
    "    # Update plotter\n",
    "    plotter.update_scalars(uh.x.array, render=False)\n",
    "    plotter.write_frame()"
   ]
  },
  {
   "cell_type": "markdown",
   "id": "5ec042a8",
   "metadata": {},
   "source": [
    "plotter.close()"
   ]
  },
  {
   "cell_type": "markdown",
   "id": "33f24c35",
   "metadata": {},
   "source": [
    "\"\"\" < img src = \"https://github.com/IgorBaratta/FEniCSxCourse/blob/main/Problem2_PoissonTransient/u_time.gif?raw=1\" alt = \"gif\" class = \"bg-primary mb-1\" width = \"800px\" >"
   ]
  },
  {
   "cell_type": "markdown",
   "id": "271df322",
   "metadata": {},
   "source": [
    "# Post-processing without projections"
   ]
  },
  {
   "cell_type": "markdown",
   "id": "f1265c63",
   "metadata": {},
   "source": [
    "In legacy dolfin, the only way of post-processing a `ufl`- expression over the domain, would be by using a projection. This would not be scalable in most cases. Therefore, we have introduced `dolfinx.fem.Expression`, which can be used to evaluate a `ufl`- expression at any given(reference) point in any cell(local to process). Let us consider"
   ]
  },
  {
   "cell_type": "markdown",
   "id": "ce15a391",
   "metadata": {},
   "source": [
    "$$(y, x) \\cdot(\\nabla u)$$\n",
    "\"\"\""
   ]
  },
  {
   "cell_type": "markdown",
   "id": "9df57702",
   "metadata": {},
   "source": [
    "x = SpatialCoordinate(domain)\n",
    "x_grad = inner(as_vector((x[1], x[0])), grad(uh))"
   ]
  },
  {
   "cell_type": "markdown",
   "id": "2ae69527",
   "metadata": {},
   "source": [
    "W = fem.FunctionSpace(domain, (\"DQ\", 1))"
   ]
  },
  {
   "cell_type": "markdown",
   "id": "e990a37a",
   "metadata": {},
   "source": [
    "expr = fem.Expression(x_grad, W.element.interpolation_points())\n",
    "w = fem.Function(W)\n",
    "w.interpolate(expr)"
   ]
  },
  {
   "cell_type": "markdown",
   "id": "51654e5d",
   "metadata": {},
   "source": [
    "w_grid = pyvista.UnstructuredGrid(*plot.create_vtk_mesh(W))\n",
    "w_plotter = pyvista.Plotter(window_size=(800, 200))\n",
    "w_grid.point_data[\"w\"] = w.x.array[:].real\n",
    "w_plotter.add_mesh(w_grid, show_edges=True)\n",
    "w_plotter.view_xy()\n",
    "w_plotter.camera.zoom(3)\n",
    "w_plotter.export_html(\"./w.html\", backend=\"pythreejs\")"
   ]
  },
  {
   "cell_type": "markdown",
   "id": "1b654772",
   "metadata": {},
   "source": [
    "# Commented out IPython magic to ensure Python compatibility.\n",
    "%%html\n",
    "# <iframe src='./w.html' scrolling=\"no\" width=\"800px\" height=\"200px\"></iframe> <!--  # noqa, -->"
   ]
  }
 ],
 "metadata": {
  "jupytext": {
   "cell_metadata_filter": "-all",
   "main_language": "python",
   "notebook_metadata_filter": "-all"
  }
 },
 "nbformat": 4,
 "nbformat_minor": 5
}
