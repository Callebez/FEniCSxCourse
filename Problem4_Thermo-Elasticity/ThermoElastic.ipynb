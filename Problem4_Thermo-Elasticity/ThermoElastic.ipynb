{
  "cells": [
    {
      "cell_type": "markdown",
      "metadata": {
        "id": "view-in-github",
        "colab_type": "text"
      },
      "source": [
        "<a href=\"https://colab.research.google.com/github/IgorBaratta/FEniCSxCourse/blob/ICMC23/Problem4_Thermo-Elasticity/ThermoElastic.ipynb\" target=\"_parent\"><img src=\"https://colab.research.google.com/assets/colab-badge.svg\" alt=\"Open In Colab\"/></a>"
      ]
    },
    {
      "cell_type": "markdown",
      "metadata": {
        "id": "HlwXpyx788Vo"
      },
      "source": [
        "# Thermo-Elastic deformation\n",
        "---"
      ]
    },
    {
      "cell_type": "markdown",
      "metadata": {
        "id": "fJgZcRiQFgTB"
      },
      "source": [
        "In this tutorial we will combine two of our previous solvers to model the thermo-elastic deformation of a bimaterial, i.e., a specimen made of two materials with different thermal expansion coefficients. The idea is to solve a problem involving two fields governed by different EDPs, namely, the temperature field $T$ and the displacement field $\\mathbf{u}$.\n",
        "\n",
        "**Mathematical formulation:**\n",
        "\n",
        "Let us first recall the stationary **heat conduction equation** that governs the thermal problem\n",
        "\n",
        "\\begin{equation}\n",
        "\\left \\{\n",
        "\\begin{array}{rcll}\n",
        "-\\nabla \\cdot ( \\kappa \\, {T}) & = & s &  \\mbox{in}~\\Omega \\\\\n",
        "&& \\\\\n",
        "{T} & = & T_D &  \\mbox{in}~\\partial\\Omega_D \\\\\n",
        "&& \\\\\n",
        "-\\kappa \\nabla{T}\\cdot\\check{\\mathbf{n}} & = & J_N &  \\mbox{in}~\\partial\\Omega_N \\\\\n",
        "\\end{array}\n",
        "\\right.\n",
        "\\end{equation}\n",
        "\n",
        "where $s(\\mathbf{x})$ denotes the source term, $\\kappa$ the thermal diffusivity,\n",
        "$T_D$ the Dirichlet data and $J_N$ the Neumann data."
      ]
    },
    {
      "cell_type": "markdown",
      "metadata": {
        "id": "zlG7byqqFsly"
      },
      "source": [
        "As for the **elastostatic** problem that governs the deformation of the specimen, we have\n",
        "\n",
        "\\begin{equation}\n",
        "\\left \\{\n",
        "\\begin{array}{rcll}\n",
        "-\\nabla \\cdot \\boldsymbol{\\sigma} (\\mathbf{u},T) & = & \\mathbf{f} & \\mbox{in}~\\Omega \\\\\n",
        "& & & \\\\\n",
        "\\mathbf{u} & = & \\mathbf{g} & \\mbox{on}~\\Gamma_{\\mathbf{u}} \\\\\n",
        "& & & \\\\\n",
        "\\boldsymbol{\\sigma} \\cdot \\check{\\mathbf{n}} & = & \\boldsymbol{\\mathcal{F}} & \\mbox{on}~\\Gamma_{\\boldsymbol{\\mathcal{F}}}\n",
        "\\end{array}\n",
        "\\right.\n",
        "\\end{equation}\n",
        "\n",
        "where $\\mathbf{f}$ is the body force, $\\mathbf{g}$ the prescribed displacement, $\\boldsymbol{\\mathcal{F}}$ the surface force distribution.\n"
      ]
    },
    {
      "cell_type": "markdown",
      "metadata": {
        "id": "kxGxUGVwF-Im"
      },
      "source": [
        "The stress tensor is\n",
        "\n",
        "$$\n",
        "\\boldsymbol{\\sigma} = 2\\mu\\, \\boldsymbol{\\varepsilon}^{elas}({\\mathbf{u}})+ \\lambda \\, \\mbox{tr}(\\boldsymbol{\\varepsilon}^{elas}({\\mathbf{u}}))\\, \\mathbf{I}_{d}\n",
        "$$\n",
        "   \n",
        "\n",
        "  \n",
        "where $d$ is the spatial dimension, $\\mathbf{I}_{d}$ is the identity matrix and `tr` stands for the trace of a tensor, i.e.\n",
        "\n",
        "$$\n",
        "\\mbox{tr}(\\boldsymbol{\\varepsilon}^{elas}({\\mathbf{u}})) = \n",
        "\\sum_{k=1}^d{\\varepsilon}^{elas}_{kk}\n",
        "$$\n",
        "\n",
        "The difference now is that we have an additional contribution to the\n",
        "strain tensor\n",
        "\n",
        "$$\n",
        "\\boldsymbol{\\varepsilon}({\\mathbf{u}}) =\n",
        "\\frac12 (\\nabla{\\mathbf{u}} + \\nabla^{\\intercal}{\\mathbf{u}}) = \n",
        " \\boldsymbol{\\varepsilon}^{elas}({\\mathbf{u}}) + \\alpha(\\mathbf{x})\\, (T - T_0)\\,\\mathbf{I}_{d}\n",
        "$$\n",
        "\n",
        "where $T_0$ is a reference temperature at which no thermal deformation\n",
        "exists, that we assume to be equal to $0$.\n",
        "\n",
        "$~$\n",
        "\n",
        "---"
      ]
    },
    {
      "cell_type": "markdown",
      "metadata": {
        "id": "QreUwsXm5mhB"
      },
      "source": [
        "To implement the finite element solution, what matter to us is the **variational formulation of the coupled problem** given above, which is obtained by combining the two previously seen formulations for the Poisson's problem and the elasticity problem: Find $\\mathbf{u} \\in U_{\\mathbf{g}}$ and $T \\in V_{T}$ such that\n",
        "\n",
        "\\begin{eqnarray}\n",
        "a_{elas}((\\mathbf{u},T), \\mathbf{v}) = \\int_{\\Omega}{\\boldsymbol{\\sigma}(\\mathbf{u},T) : \\boldsymbol{\\varepsilon}(\\mathbf{v}) \\,dx} & = & \\\\\n",
        "& = & \\int_{\\Omega}{\\mathbf{f}\\cdot \\mathbf{v}}\\,dx +\n",
        "\\int_{\\Gamma_{\\boldsymbol{\\mathcal{F}}}}{\\boldsymbol{\\mathcal{F}} \\cdot \\mathbf{v}}\\,ds = \\ell_{elas}(\\mathbf{v}) ~~~\\forall \\mathbf{v} \\in U_{\\mathbf{0}}\\\\\n",
        "& & \\\\\n",
        "a_{th}(T,r) = {\\int_{\\Omega}}{\\kappa\\,\\nabla{T} \\cdot \\nabla{r}}\\,dx & = & \\\\\n",
        "& = &\\int_{\\Omega}{s\\,r}\\,dx - \\int_{\\partial\\Omega_N}{J_N\\,r}\\,ds = \\ell_{th}(r)~~~\\forall r \\in V_0\n",
        "\\end{eqnarray}\n",
        "\n",
        "$~$\n",
        "\n",
        "Of course, we can add everything together to obtain: Find $(\\mathbf{u}, T) \\in W = U_{\\mathbf{g}} \\times V_T$ such that \n",
        "\n",
        "$$\n",
        "a\\left ( (\\mathbf{u}, T),  (\\mathbf{v}, r) \\right) = L((\\mathbf{v}, r))\n",
        "$$\n",
        "\n",
        "$\\forall (\\mathbf{v}, r) \\in U_{\\mathbf{0}} \\times V_0$ with\n",
        "\n",
        "\\begin{eqnarray}\n",
        "a\\left ( (\\mathbf{u}, T),  (\\mathbf{v}, r) \\right) & = & \n",
        "a_{elas}((\\mathbf{u},T), \\mathbf{v}) + a_{th}(T,r)\\\\\n",
        "&& \\\\\n",
        "L((\\mathbf{v}, r)) & = & \\ell_{elas}(\\mathbf{v}) + \\ell_{th}(r)\n",
        "\\end{eqnarray}"
      ]
    },
    {
      "cell_type": "markdown",
      "metadata": {
        "id": "n1X0WfrwGXVe"
      },
      "source": [
        "The discrete problem follows by taking finite dimensional subspaces $U_h$ and\n",
        "$V_h$, which leads to the following discrete system\n",
        "\n",
        "$$\n",
        "\\begin{bmatrix}\n",
        "A_{\\mathbf{u}\\mathbf{u}} & B_{\\mathbf{u}T} \\\\\n",
        "0 & C_{TT}\n",
        "\\end{bmatrix} \n",
        "\\begin{bmatrix}\n",
        "\\mathsf{U} \\\\\n",
        "\\mathsf{T}\n",
        "\\end{bmatrix} \n",
        "= \n",
        "\\begin{bmatrix}\n",
        "\\mathsf{F} \\\\\n",
        "\\mathsf{G}\n",
        "\\end{bmatrix} \n",
        "$$\n",
        "\n",
        "where $\\boldsymbol{\\mathsf{X}} = [\\mathsf{U}, \\mathsf{T}]^{\\intercal}$\n",
        "is the global vector of displacement and temperature unknowns."
      ]
    },
    {
      "cell_type": "markdown",
      "metadata": {
        "id": "xkmZ4WVpHbNh"
      },
      "source": [
        "It is import to remark that, since the temperature field does not depend on the displacement $\\mathbf{u}$, we could easily eliminate $T$ and substitute in the elasticity problem, i.e.,\n",
        "\n",
        "$$\n",
        "A_{\\mathbf{u}\\mathbf{u}} \\mathsf{U} = \\mathsf{F} - C_{TT} \\mathsf{T}\n",
        "$$\n",
        "\n",
        "Nevertheless, for didactical reasons, in this tutorial we solve the problem\n",
        "in monolithic form, so as to determine both fields at once and illustrate the use of **mixed function spaces**. Moreover, with this implementation, the extension to handle problems with a stronger coupling is expected to be easier.\n",
        "A classical situation is when we include the influence of the volumetric changes into the energy balance in the transient case, i.e.,\n",
        "\n",
        "$$\n",
        "\\rho C_p \\dfrac{\\partial{T}}{\\partial{t}} - \\nabla \\cdot (\\kappa \\nabla{T}) + T_0 \\, \\alpha \\,\\mbox{tr}\\left (\\dfrac{\\partial{{\\boldsymbol{\\varepsilon}}}}{\\partial{t}} \\right ) = s\n",
        "$$\n",
        "\n",
        "also, notice that the thermal conductivity $\\kappa$ can depend on the current\n",
        "level of stresses in the material.\n"
      ]
    },
    {
      "cell_type": "markdown",
      "metadata": {
        "id": "LTbwyveXrl-A"
      },
      "source": [
        "## Initialization"
      ]
    },
    {
      "cell_type": "markdown",
      "metadata": {
        "id": "NHeWFMTqrrAf"
      },
      "source": [
        "As usual be begin by importing the necessary packages:"
      ]
    },
    {
      "cell_type": "code",
      "execution_count": null,
      "metadata": {
        "id": "BBQFPERYCiPG"
      },
      "outputs": [],
      "source": [
        "try:\n",
        "    import gmsh\n",
        "except ImportError:\n",
        "    !wget \"https://fem-on-colab.github.io/releases/gmsh-install.sh\" -O \"/tmp/gmsh-install.sh\" && bash \"/tmp/gmsh-install.sh\"\n",
        "    import gmsh\n",
        "    \n",
        "try:\n",
        "    import dolfinx\n",
        "except ImportError:\n",
        "    !wget \"https://fem-on-colab.github.io/releases/fenicsx-install-real.sh\" -O \"/tmp/fenicsx-install.sh\" && bash \"/tmp/fenicsx-install.sh\"\n",
        "    import dolfinx\n",
        "\n",
        "try:\n",
        "    import pyvista\n",
        "except ImportError:\n",
        "    !pip install - q piglet pyvirtualdisplay ipyvtklink pyvista panel\n",
        "    !apt-get - qq install xvfb\n",
        "    import pyvista"
      ]
    },
    {
      "cell_type": "code",
      "execution_count": null,
      "metadata": {
        "id": "1wztNG1oD7JD"
      },
      "outputs": [],
      "source": [
        "from dolfinx import mesh, fem, io, plot\n",
        "\n",
        "from ufl import sin, SpatialCoordinate, FiniteElement, VectorElement, MixedElement, TestFunction, TrialFunction, split, Identity, Measure, dx, ds, grad, nabla_grad, div, dot, inner, tr, as_vector, FacetNormal\n",
        "\n",
        "import numpy as np\n",
        "from mpi4py import MPI\n",
        "from petsc4py.PETSc import ScalarType\n",
        "import matplotlib.pyplot as plt"
      ]
    },
    {
      "cell_type": "markdown",
      "metadata": {
        "id": "wI0o0n2-vdmt"
      },
      "source": [
        "## Geometry"
      ]
    },
    {
      "cell_type": "markdown",
      "metadata": {
        "id": "nMlsTfrqH2HL"
      },
      "source": [
        "The aim is to create a rectangular mesh of the computational domain $\\Omega = [0,L_x] \\times [0, L_y]$. The domain will be divided into two regions, namely, the bottom and the top part\n",
        "\n",
        "$$\n",
        "\\Omega = \\Omega_B \\cup \\Omega_T\n",
        "$$\n",
        "\n",
        "where $\\Omega_B = [0,L_x] \\times [0, L_y/2]$ and $\\Omega_T = [0,L_x] \\times [L_y/2, L_y]$ each having different material properties."
      ]
    },
    {
      "cell_type": "code",
      "execution_count": null,
      "metadata": {
        "id": "71ykMgxElw2I"
      },
      "outputs": [],
      "source": [
        "Lx = 1.0\n",
        "Ly = 0.05\n",
        "widthlay = 0.5*Ly\n",
        "lengthlay = Lx\n",
        "\n",
        "def GenerateMesh():\n",
        "\n",
        "    gmsh.initialize()\n",
        "    proc = MPI.COMM_WORLD.rank\n",
        "\n",
        "    if proc == 0:\n",
        "        gmsh.model.occ.addRectangle(0, 0, 0, lengthlay, widthlay, tag=1)\n",
        "        gmsh.model.occ.addRectangle(0, widthlay, 0, lengthlay, widthlay, tag=2)\n",
        "        # We fuse the two rectangles and keep the interface between them \n",
        "        gmsh.model.occ.fragment([(2,1)],[(2,2)])\n",
        "        gmsh.model.occ.synchronize()\n",
        "   \n",
        "        # Mark the top (2) and bottom (1) rectangle\n",
        "        top, bottom = None, None\n",
        "        for surface in gmsh.model.getEntities(dim=2):\n",
        "          com = gmsh.model.occ.getCenterOfMass(surface[0], surface[1])\n",
        "          if np.allclose(com, [0.5*Lx, 0.5*widthlay, 0]):\n",
        "            bottom = surface[1]\n",
        "          else:\n",
        "            top = surface[1]\n",
        "\n",
        "        gmsh.model.addPhysicalGroup(2, [bottom], 1)\n",
        "        gmsh.model.addPhysicalGroup(2, [top], 2)\n",
        "\n",
        "        # Tag the left and right boundaries\n",
        "        left = []\n",
        "        right = []\n",
        "        for line in gmsh.model.getEntities(dim=1):\n",
        "            com = gmsh.model.occ.getCenterOfMass(line[0], line[1])\n",
        "            if np.isclose(com[0], 0.0):\n",
        "                left.append(line[1])\n",
        "            if np.isclose(com[0], Lx):\n",
        "                right.append(line[1])\n",
        "        gmsh.model.addPhysicalGroup(1, left, 3)\n",
        "        gmsh.model.addPhysicalGroup(1, right,1)\n",
        "\n",
        "        gmsh.model.mesh.setSize(gmsh.model.getEntities(0), 0.005)\n",
        "        gmsh.model.mesh.generate(2)    \n",
        "    \n",
        "        msh, subdomains, boundaries = io.gmshio.model_to_mesh(gmsh.model, comm=MPI.COMM_WORLD, rank=0, gdim=2)\n",
        "        \n",
        "    gmsh.finalize()\n",
        "\n",
        "    return msh, subdomains, boundaries\n",
        "\n",
        "msh, subdomains, boundaries = GenerateMesh()\n",
        "\n",
        "with io.XDMFFile(MPI.COMM_WORLD, \"mymesh.xdmf\", \"w\") as xdmf:\n",
        "    xdmf.write_mesh(msh)\n",
        "\n",
        "import IPython\n",
        "\n",
        "def plot_mesh(mesh, cell_values=None, filename=\"file.html\"):\n",
        "    pyvista.start_xvfb()\n",
        "    grid = pyvista.UnstructuredGrid(*plot.create_vtk_mesh(mesh))\n",
        "    plotter = pyvista.Plotter(notebook=True, window_size=[500,500])\n",
        "\n",
        "    if cell_values is not None:\n",
        "        min_ = cell_values.x.array.min()\n",
        "        max_ = cell_values.x.array.max()\n",
        "        grid.cell_data[\"cell_values\"] = cell_values.x.array\n",
        "        viridis = plt.cm.get_cmap(\"viridis\", 25)\n",
        "        plotter.add_mesh(grid, cmap=viridis, show_edges=True, clim=[min_, max_])\n",
        "    else:\n",
        "        plotter.add_mesh(grid, show_edges=True)\n",
        "    \n",
        "    plotter.camera.zoom(2.0)\n",
        "    plotter.view_xy()\n",
        "    plotter.export_html(filename, backend=\"pythreejs\")\n",
        "    plotter.close()\n",
        "\n",
        "\n",
        "plot_mesh(msh, cell_values = None, filename=\"mesh.html\")\n",
        "IPython.display.HTML(filename=\"mesh.html\")"
      ]
    },
    {
      "cell_type": "markdown",
      "metadata": {
        "id": "rBp5D1sxvmgS"
      },
      "source": [
        "## Finite element spaces"
      ]
    },
    {
      "cell_type": "markdown",
      "metadata": {
        "id": "eUv5jYdoKd1s"
      },
      "source": [
        "The solution $(\\mathbf{u}, T)$ belongs to the product space \n",
        "$W_h = U_h \\times V_h$, $~~U_h \\subset [H^1(\\Omega)]^d$ and \n",
        "$V_h \\subset H^1(\\Omega)$. Since we are working with conforming \n",
        "finite element formulations, natural choices for the discrete spaces\n",
        "$U_h$ and $V_h$ are:\n",
        "\n",
        "$$\n",
        "U_h = U(\\mathcal{T}_h) = \\{\\mathbf{v} \\in [H^1(\\Omega)]^d,~\\mathbf{v}|_E \\in [P_k(E)]^d \\, \\forall E \\in \\mathcal{T}_h\\}\n",
        "$$\n",
        "\n",
        "and \n",
        "\n",
        "$$\n",
        "V_h = V(\\mathcal{T}_h) = \\{v \\in H^1(\\Omega),~v|_E \\in P_k(E) \\, \\forall E \\in \\mathcal{T}_h\\}\n",
        "$$\n",
        "\n",
        "In particular we will use polynomials of degree $1$, which is the most economical option for this case. In order to implement a monolithic formulation of the problem at hand, we need to create a mixed function space in `dolfinx` as follows "
      ]
    },
    {
      "cell_type": "code",
      "execution_count": null,
      "metadata": {
        "id": "3qziWIPdG1R-"
      },
      "outputs": [],
      "source": [
        "# Create an element for each field\n",
        "\n",
        "degree_u = 1\n",
        "el_u = VectorElement(\"CG\", msh.ufl_cell(), degree_u)\n",
        "\n",
        "degree_T = 1\n",
        "el_T = FiniteElement(\"CG\",  msh.ufl_cell(), degree_T)\n",
        "\n",
        "# the mixed element \n",
        "el_m  = MixedElement([el_u , el_T])\n",
        "\n",
        "# and the corresponding global space of functions\n",
        "W = fem.FunctionSpace(msh, el_m)\n",
        "\n",
        "# Finally, declare a space of piecewise constant functions for later use\n",
        "Q = fem.FunctionSpace(msh, (\"DG\", 0))"
      ]
    },
    {
      "cell_type": "markdown",
      "metadata": {
        "id": "qyAEs8cfvqC9"
      },
      "source": [
        "## Boundary conditions"
      ]
    },
    {
      "cell_type": "markdown",
      "metadata": {
        "id": "WI27-9wLM9zT"
      },
      "source": [
        "Setting up the boundary conditions take some extra work, since we\n",
        "have to distinguish those BCs for the displacement field and for\n",
        "the temperature field, namely,\n",
        "\n",
        "* For the displacement field we totally restrict the left side\n",
        "\n",
        "$$\n",
        "\\mathbf{u}(x=0) = [0,0]^{\\intercal}\n",
        "$$\n",
        "\n",
        "* For the temperature field we impose:\n",
        "\n",
        "$$\n",
        "T(x=0) = T_l,~~~T(x=L_x) = T_r\n",
        "$$\n",
        "\n",
        "* The rest of the boundary is traction free and adiabatic, so we take\n",
        "\n",
        "$$\n",
        "\\boldsymbol{\\mathcal{F}} = [0,0]^{\\intercal},~~~g_N = 0\n",
        "$$\n",
        "\n",
        "although other boundary conditions are certainly possible. \n",
        "\n",
        "\n",
        "In order to proceed with the implementation, recall that the essential BCs have to be provided as a list of `fem.dirichletbc` objects, but first, we have\n",
        "to identify the associated degrees of freedom `dofs` to which the boundary\n",
        "value must be apply:"
      ]
    },
    {
      "cell_type": "code",
      "execution_count": null,
      "metadata": {
        "id": "8FADRDLFMu-4"
      },
      "outputs": [],
      "source": [
        "# Start an empty list for the Dirichlet BCs\n",
        "bcs = []\n",
        "sdim = msh.topology.dim\n",
        "\n",
        "# Identify the facets\n",
        "left_facets = boundaries.indices[boundaries.values == 3]\n",
        "right_facets = boundaries.indices[boundaries.values == 1]\n",
        "\n",
        "#---------------------------------\n",
        "# BCs for the displacement field\n",
        "\n",
        "U, _ = W.sub(0).collapse()\n",
        "bc_dofs_ul = fem.locate_dofs_topological((W.sub(0), U), sdim-1, left_facets)\n",
        "\n",
        "# Auxiliary function: Nao ha uma forma mais facil!!!\n",
        "def g(x):\n",
        "  return (np.zeros_like(x[0]), np.zeros_like(x[0]))\n",
        "w_bc = fem.Function(U)\n",
        "w_bc.interpolate(lambda x: g(x))\n",
        "bcs.append(fem.dirichletbc(w_bc, bc_dofs_ul, W.sub(0)))\n",
        "\n",
        "#---------------------------------\n",
        "# BCs for the temperature field\n",
        "\n",
        "V, _ = W.sub(1).collapse()\n",
        "\n",
        "bc_dofs_Tl = fem.locate_dofs_topological((W.sub(1), V), sdim-1, [left_facets])\n",
        "bc_dofs_Tr = fem.locate_dofs_topological((W.sub(1), V), sdim-1, [right_facets])\n",
        "\n",
        "# Boundary values\n",
        "Tleft  = 0.0\n",
        "Tright = 10.0\n",
        "\n",
        "# Auxiliary function\n",
        "def g(x, Temp):\n",
        "  return (Temp*np.ones_like(x[0]))\n",
        "\n",
        "w_bcl = fem.Function(V)\n",
        "w_bcl.interpolate(lambda x: g(x, Tleft))\n",
        "bcs.append(fem.dirichletbc(w_bcl, bc_dofs_Tl, W.sub(1)))\n",
        "\n",
        "w_bcr = fem.Function(V)\n",
        "w_bcr.interpolate(lambda x: g(x, Tright))\n",
        "bcs.append(fem.dirichletbc(w_bcr, bc_dofs_Tr, W.sub(1)))\n"
      ]
    },
    {
      "cell_type": "markdown",
      "metadata": {
        "id": "9bj4jFpXvtl1"
      },
      "source": [
        "## Material parameters"
      ]
    },
    {
      "cell_type": "markdown",
      "metadata": {
        "id": "-Lacko3OuuQW"
      },
      "source": [
        "Finally, let us recall the different terms in the variational formulation\n",
        "\n",
        "\n",
        "For simplicity we will assume both materials have the same elastic parameters\n",
        "that we take as, in terms of the Young's modulus and Poisson ration\n",
        "\n",
        "$$\n",
        "E = 10,~~~~\\nu = 0.3, \n",
        "$$\n",
        "\n",
        "\n",
        "although they have different thermal expansion coefficients, so as to illustrate the behavior of a bimetal bar, i.e.,\n",
        "\n",
        "$$\n",
        "\\alpha(\\mathbf{x}) = \\left \\{\n",
        "\\begin{array}{rcl}\n",
        "\\alpha_B = 10^{-3} & \\mbox{if} & y < \\frac12 L_y \\\\\n",
        "\\alpha_T = 10^{-5} & \\mbox{if} & y >= \\frac12 L_y\n",
        "\\end{array}\n",
        "\\right.\n",
        "$$\n",
        "\n",
        "and a thermal conductivity\n",
        "\n",
        "$$\n",
        "\\kappa = 1\n",
        "$$\n"
      ]
    },
    {
      "cell_type": "code",
      "execution_count": null,
      "metadata": {
        "id": "53_vI63Tdstp"
      },
      "outputs": [],
      "source": [
        "# Elastic constitutive parameters\n",
        "E, nu = 10.0, 0.3\n",
        "mu    = E/(2.0*(1.0 + nu))\n",
        "lamb  = E*nu/((1.0 + nu)*(1.0 - 2.0*nu))\n",
        "\n",
        "# Thermal conductivity\n",
        "kappa = fem.Constant(msh, ScalarType(1.0))\n",
        "\n",
        "# Thermal expansion\n",
        "def SetAlpha(msh, subdomains, alphaB, alphaT):\n",
        "  \n",
        "  alpha = fem.Function(Q)\n",
        "\n",
        "  # Identify elements with different tags\n",
        "  cells_layerB = subdomains.indices[subdomains.values == 1]\n",
        "  cells_layerT = subdomains.indices[subdomains.values == 2]\n",
        "  \n",
        "  alpha.x.array[cells_layerB] = np.full(len(cells_layerB), alphaB)\n",
        "  alpha.x.array[cells_layerT] = np.full(len(cells_layerT), alphaT)\n",
        "  \n",
        "  return alpha\n",
        "\n",
        "alphah = SetAlpha(msh, subdomains, 1e-3, 1e-5)\n",
        "\n",
        "# Visualize in Paraview for verification\n",
        "alphah.name = \"alpha\"\n",
        "with io.XDMFFile(msh.comm, \"alpha.xdmf\", \"w\") as xdmf:\n",
        "    xdmf.write_mesh(msh)\n",
        "    xdmf.write_function(alphah)\n",
        "\n",
        "plot_mesh(msh, cell_values=alphah, filename=\"alphavalues.html\")\n",
        "IPython.display.HTML(filename=\"alphavalues.html\")"
      ]
    },
    {
      "cell_type": "markdown",
      "metadata": {
        "id": "vzlfPRrlvxZR"
      },
      "source": [
        "As for the body forces, we will take\n",
        "\n",
        "$$\n",
        "\\mathbf{f} = [0, 0]^{\\intercal}\n",
        "$$\n",
        "\n",
        "and heat source\n",
        "\n",
        "$$\n",
        "s = 100\n",
        "$$\n",
        "\n",
        "always assuming consistent units."
      ]
    },
    {
      "cell_type": "code",
      "execution_count": null,
      "metadata": {
        "id": "HRoyGDWDy-Oj"
      },
      "outputs": [],
      "source": [
        "# Body force\n",
        "f = fem.Constant(msh, ScalarType( (0.0, 0.0) ) )\n",
        "\n",
        "# Heat source\n",
        "s = fem.Constant(msh, ScalarType(100.0))"
      ]
    },
    {
      "cell_type": "markdown",
      "metadata": {
        "id": "GMz0v2Usy42O"
      },
      "source": [
        "## Variational formulation"
      ]
    },
    {
      "cell_type": "code",
      "execution_count": null,
      "metadata": {
        "id": "-AQ9TL9Mde5g"
      },
      "outputs": [],
      "source": [
        "# Strain measures\n",
        "def epsilon(u):\n",
        "    return 0.5*(nabla_grad(u) + nabla_grad(u).T)\n",
        "\n",
        "def epsilon_elas(u, T):\n",
        "  return epsilon(u) - alphah*T*Identity(sdim)\n",
        "\n",
        "def sigma(u, T):\n",
        "    return 2*mu*epsilon_elas(u, T) + lamb*tr(epsilon_elas(u, T))*Identity(sdim)\n",
        "\n",
        "TrialF = TrialFunction(W)\n",
        "TestF = TestFunction(W)\n",
        "(u, T) = split(TrialF)\n",
        "(v, r) = split(TestF)\n",
        "\n",
        "# LHS: Bilinear forms\n",
        "a  = inner(sigma(u,T), epsilon(v)) * dx\n",
        "a += inner(kappa*grad(T), grad(r)) * dx\n",
        "\n",
        "# RHS: Forcing terms\n",
        "L = inner(f, v)*dx\n",
        "L += s*r*dx"
      ]
    },
    {
      "cell_type": "markdown",
      "metadata": {
        "id": "xaYUxf6Ux_T4"
      },
      "source": [
        "\n",
        "Finally solve and save the solution for visualization in `Paraview`"
      ]
    },
    {
      "cell_type": "code",
      "execution_count": null,
      "metadata": {
        "id": "_jECduwp5USo"
      },
      "outputs": [],
      "source": [
        "# Solver options\n",
        "petsc_opts={\"ksp_type\": \"preonly\", \"pc_type\": \"lu\", \"pc_factor_mat_solver_type\": \"mumps\", \"ksp_monitor\": None}\n",
        "problem = fem.petsc.LinearProblem(a, L, bcs=bcs, petsc_options=petsc_opts)\n",
        "wh = problem.solve()\n",
        "\n",
        "(uh,Th) = wh.split()\n",
        "\n",
        "uh.name = \"Displacement\"\n",
        "with io.XDMFFile(msh.comm, \"disp.xdmf\", \"w\") as xdmf:\n",
        "    xdmf.write_mesh(msh)\n",
        "    xdmf.write_function(uh)\n",
        "\n",
        "Th.name = \"Temperature\"\n",
        "with io.XDMFFile(msh.comm, \"temp.xdmf\", \"w\") as xdmf:\n",
        "    xdmf.write_mesh(msh)\n",
        "    xdmf.write_function(Th)\n",
        "\n",
        "from google.colab import files\n",
        "files.download('disp.xdmf')\n",
        "files.download('disp.h5')\n",
        "files.download('temp.xdmf')\n",
        "files.download('temp.h5')"
      ]
    },
    {
      "cell_type": "markdown",
      "metadata": {
        "id": "esul4qq8x7xH"
      },
      "source": [
        "## Homework 5"
      ]
    },
    {
      "cell_type": "markdown",
      "metadata": {
        "id": "yHTNmqcxfr3J"
      },
      "source": [
        "1) Solve the case of a source term in the thermal problem given by\n",
        "the function\n",
        "\n",
        "$$\n",
        "s(\\mathbf{x}) = 100 \\, \\sin(2\\pi\\,x)\n",
        "$$\n",
        "\n",
        "which can be programmed as:\n",
        "\n",
        "    def Source(x):\n",
        "      return 100*sin(2*np.pi*x[0])\n",
        "\n",
        "    x = SpatialCoordinate(msh)\n",
        "    s = Source(x)\n",
        "\n",
        "Take for simplicity the same boundary conditions of the previous example.\n"
      ]
    },
    {
      "cell_type": "markdown",
      "metadata": {
        "id": "BTzbxSZFO2Jw"
      },
      "source": [
        "2) Consider the case in which $T_l = T_r = 10$ and $s = 0$, such that the temperature increment in the sample is simply \n",
        "$\\Delta{T} = 10$ (i.e., uniform temperature distribution). \n",
        "\n",
        "Program a loop over different values of $\\alpha_A$ to solve the thermoelastic problem and plot the maximum deflection\n",
        " of the bimetal beam as a function of $\\alpha_A$.\n",
        " Notice that in the previous implementation we regarded\n",
        " many parameters, such as `alphah` as having global scope,\n",
        " so, you should structure the code as follows in order \n",
        " to be able to update $\\alpha_A$:\n",
        "\n",
        "        def epsilon_elas(u, T, alpha):\n",
        "          return epsilon(u) ...\n",
        "\n",
        "        def sigma(u, T, alpha):\n",
        "          return ...\n",
        "\n",
        "        max_def = []\n",
        "        alphas = [1e-5, 1e-4, 1e-3]\n",
        "        for alphaA in alphas:\n",
        "\n",
        "          print('Solving for alphaA=', alphaA)\n",
        "          alphah = SetAlpha(msh, subdomains, alphaA, 1e-5)\n",
        "\n",
        "          a  = ...\n",
        "          a += inner(kappa*grad(T), grad(r)) * dx\n",
        "          .\n",
        "          .\n",
        "          .\n",
        "          problem = fem.petsc.LinearProblem(a, L, bcs=bcs, petsc_options=petsc_opts)\n",
        "          wh = problem.solve()\n",
        "          (uh,Th) = ...\n",
        "\n",
        "          max_def.append( ... )\n",
        "          uh.name = \"Displacement\"\n",
        "          xdmf_f.write_function(uh, alphaA)\n",
        "\n",
        "\n",
        "\n",
        "Compare to the analytical prediction based on beam theory\n",
        "\n",
        "$$\n",
        "\\delta_{\\max} = \\dfrac{12(\\alpha_B - \\alpha_T) \\Delta{T}\\, L_x^2}{L_y \\,K}\n",
        "$$\n",
        "\n",
        "where \n",
        "\n",
        "$$\n",
        "K = 14 + \\dfrac{E_B}{E_T} + \\dfrac{E_T}{E_B}\n",
        "$$\n",
        "\n",
        "where $E_B$ and $E_T$ are the Young's modulus of the\n",
        "bottom and the top layer of the bimetal. Since, we are \n",
        "assuming the same values for both, we have $K = 16$."
      ]
    }
  ],
  "metadata": {
    "colab": {
      "provenance": [],
      "include_colab_link": true
    },
    "kernelspec": {
      "display_name": "Python 3",
      "language": "python",
      "name": "python3"
    },
    "language_info": {
      "name": "python",
      "version": "3.10.6 (main, Nov 14 2022, 16:10:14) [GCC 11.3.0]"
    },
    "vscode": {
      "interpreter": {
        "hash": "916dbcbb3f70747c44a77c7bcd40155683ae19c65e1c03b4aa3499c5328201f1"
      }
    }
  },
  "nbformat": 4,
  "nbformat_minor": 0
}