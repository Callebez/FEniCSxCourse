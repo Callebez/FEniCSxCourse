{
  "nbformat": 4,
  "nbformat_minor": 0,
  "metadata": {
    "colab": {
      "provenance": []
    },
    "kernelspec": {
      "name": "python3",
      "display_name": "Python 3"
    },
    "language_info": {
      "name": "python"
    }
  },
  "cells": [
    {
      "cell_type": "markdown",
      "source": [
        "# Solid mechanics: Linear elasticity\n",
        "---"
      ],
      "metadata": {
        "id": "HlwXpyx788Vo"
      }
    },
    {
      "cell_type": "markdown",
      "source": [
        "## Introduction"
      ],
      "metadata": {
        "id": "sUiY4ZupvRWL"
      }
    },
    {
      "cell_type": "markdown",
      "source": [
        "In this first tutorial we\n",
        "\n",
        "1.   Present a basic implementation of the finite element solution of Navier-Poisson problem\n",
        "2.   Create a non-trivial geometry with the `gmsh` library\n",
        "3.   Visualize the solution using pyvista and/or Paraview tools\n",
        "4.   Perform some postprocessing\n",
        "\n",
        "\n",
        "**Mathematical formulation:**\n",
        "\n",
        "  ...\n",
        "\n",
        "Finally, recall that the discrete version of this problem follows from applying the Galerkin method: Find $u_h \\in V_{hg} \\subset V_g(\\Omega)$ such that\n",
        "\n",
        "\\begin{equation}\n",
        "a(u_h,v_h) = \\ell(v_h)~~ \\forall v_h \\in V_{h0} \n",
        "\\end{equation}"
      ],
      "metadata": {
        "id": "04Q-hHB9299K"
      }
    },
    {
      "cell_type": "markdown",
      "source": [
        "## Initialization"
      ],
      "metadata": {
        "id": "7TeY3nHjqzod"
      }
    },
    {
      "cell_type": "markdown",
      "source": [
        "The first step is to import all necessary libraries. In particular, we must import \n",
        "the [`FEniCSx`](https://fenicsproject.org/) library, which can be done now in Colab thanks to the efforts of the\n",
        "[`FEM on Colab`](https://fem-on-colab.github.io/).\n",
        "Notice that the first time the library is imported, the system may take a while. Following times are expected to be faster. "
      ],
      "metadata": {
        "id": "KV_eRNQpHfOv"
      }
    },
    {
      "cell_type": "code",
      "execution_count": 1,
      "metadata": {
        "id": "69Xzz1wQx-Nd"
      },
      "outputs": [],
      "source": [
        "try:\n",
        "  import gmsh\n",
        "except ImportError:\n",
        "  !wget \"https://github.com/fem-on-colab/fem-on-colab.github.io/raw/7f220b6/releases/gmsh-install.sh\" -O \"/tmp/gmsh-install.sh\" && bash \"/tmp/gmsh-install.sh\"\n",
        "  import gmsh\n",
        "\n",
        "try:\n",
        "  import dolfinx\n",
        "except ImportError:\n",
        "  !wget \"https://github.com/fem-on-colab/fem-on-colab.github.io/raw/7f220b6/releases/fenicsx-install-real.sh\" -O \"/tmp/fenicsx-install.sh\" && bash \"/tmp/fenicsx-install.sh\"\n",
        "  import dolfinx"
      ]
    },
    {
      "cell_type": "code",
      "source": [
        "from dolfinx import mesh, fem, io, plot\n",
        "from ufl import SpatialCoordinate, TestFunction, TrialFunction, Measure, Identity, div, dx, ds, grad, nabla_grad, inner, sym, as_vector, FacetNormal\n",
        "\n",
        "import numpy as np\n",
        "from mpi4py import MPI\n",
        "from petsc4py.PETSc import ScalarType"
      ],
      "metadata": {
        "id": "ExTIMkkrxi-H"
      },
      "execution_count": 14,
      "outputs": []
    },
    {
      "cell_type": "code",
      "source": [
        "import gmsh\n",
        "gmsh.initialize()\n",
        "\n",
        "proc = MPI.COMM_WORLD.rank\n",
        "if proc == 0:\n",
        "\n",
        "    lc = 0.05\n",
        "\n",
        "    Db   = 0.4\n",
        "    Hb   = 0.4\n",
        "    Hp   = 6*Hb\n",
        "    R    = 3*Hb\n",
        "    TT   = np.sqrt(R*R - 4*Hb*Hb)\n",
        "    \n",
        "    gmsh.model.geo.addPoint(0, 0, 0, lc, 1)\n",
        "    gmsh.model.geo.addPoint(Db, 0, 0, lc, 2)\n",
        "    gmsh.model.geo.addPoint(Db, Hb, 0, 0.5*lc, 3)\n",
        "    gmsh.model.geo.addPoint(TT+Db, 3*Hb, 0, lc, 4)\n",
        "    gmsh.model.geo.addPoint(Db, 5*Hb, 0, lc, 5)\n",
        "    gmsh.model.geo.addPoint(Db, 6*Hb, 0, 0.5*lc, 6)\n",
        "    gmsh.model.geo.addPoint(0, 6*Hb, 0, lc, 7)\n",
        "    gmsh.model.geo.addPoint(0, 3*Hb, 0, 0.1*lc, 8)\n",
        "    gmsh.model.geo.addPoint(TT+Db-R, 3*Hb, 0, 0.1*lc, 9)\n",
        "    \n",
        "    gmsh.model.geo.addLine(1, 2, 1)\n",
        "    gmsh.model.geo.addLine(2, 3, 2)\n",
        "\n",
        "    gmsh.model.geo.addCircleArc(3, 4, 9, 3)\n",
        "    gmsh.model.geo.addCircleArc(9, 4, 5, 4)\n",
        "    \n",
        "    gmsh.model.geo.addLine(5, 6, 5)\n",
        "    gmsh.model.geo.addLine(6, 7, 6)\n",
        "    gmsh.model.geo.addLine(7, 8, 7)\n",
        "    gmsh.model.geo.addLine(8, 1, 8)\n",
        "    \n",
        "    gmsh.model.geo.addCurveLoop([1, 2, 3, 4, 5, 6, 7, 8], 1)\n",
        "    gmsh.model.geo.addPlaneSurface([1], 1)\n",
        "    gmsh.model.geo.synchronize()\n",
        "    # Tag the whole boundary with 101\n",
        "    gmsh.model.addPhysicalGroup(1, [1, 2, 3, 4, 5, 6, 7, 8], 101)\n",
        "    # Tag the top boundary with 100\n",
        "    gmsh.model.addPhysicalGroup(1, [6], 100)\n",
        "    ps = gmsh.model.addPhysicalGroup(2, [1])\n",
        "    gmsh.model.setPhysicalName(2, ps, \"My surface\") \n",
        "    gmsh.model.geo.synchronize()\n",
        "    gmsh.option.setNumber(\"Mesh.Algorithm\", 6)\n",
        "    gmsh.model.mesh.generate(2)\n",
        "    msh, subdomains, boundaries = io.gmshio.model_to_mesh(gmsh.model, comm=MPI.COMM_WORLD, rank=0, gdim=2)\n",
        "    gmsh.finalize()\n",
        "    #return msh, subdomains, boundaries\n",
        "\n",
        "#msh, subdomains, boundaries = GenerateMesh()\n",
        "\n",
        "with io.XDMFFile(MPI.COMM_WORLD, \"body.xdmf\", \"w\") as xdmf:\n",
        "    xdmf.write_mesh(msh)"
      ],
      "metadata": {
        "id": "fDoVkR60ydkP"
      },
      "execution_count": 51,
      "outputs": []
    },
    {
      "cell_type": "code",
      "source": [
        "V = fem.VectorFunctionSpace(msh, (\"CG\", 1))\n",
        "\n",
        "u, v = TrialFunction(V), TestFunction(V)\n",
        "\n",
        "fdim = msh.topology.dim - 1\n",
        "\n",
        "u_bottom = ScalarType((0.0, 0.0))\n",
        "u_top    = ScalarType((0.0, -0.1))\n",
        "u_left   = ScalarType(0.0)\n",
        "\n",
        "# For the left boundary, just restrict u_x\n",
        "facets_left = mesh.locate_entities_boundary(msh, fdim, lambda x: np.isclose(x[0], 0.0))\n",
        "dofsL = fem.locate_dofs_topological(V.sub(0), fdim, facets_left)\n",
        "\n",
        "# For the bottom restrict everything\n",
        "dofsB = fem.locate_dofs_geometrical(V, lambda x: np.isclose(x[1], 0.0))\n",
        "#dofsT = fem.locate_dofs_geometrical(V, lambda x: np.isclose(x[1], Hp))\n",
        "#bcs = [fem.dirichletbc(u_bottom, dofsB, V), fem.dirichletbc(u_top, dofsT, V), fem.dirichletbc(u_left, dofsL, V.sub(0))]\n",
        "bcs = [fem.dirichletbc(u_bottom, dofsB, V), fem.dirichletbc(u_left, dofsL, V.sub(0))]\n",
        "\n",
        "# The rest of the boundary is traction free, except for the top in which we apply a surface force distribution\n",
        "\n",
        "# surface force\n",
        "F = fem.Constant(msh, ScalarType( (0.0, -0.1) ) )\n",
        "\n",
        "# Body force\n",
        "f = fem.Constant(msh, ScalarType( (0.0, 0.0) ) )\n",
        "\n",
        "# Constitutive parameters\n",
        "E, nu = 10.0, 0.3\n",
        "mu    = E/(2.0*(1.0 + nu))\n",
        "lmbda = E*nu/((1.0 + nu)*(1.0 - 2.0*nu))\n",
        "\n",
        "def epsilon(u):\n",
        "    return 0.5*(nabla_grad(u) + nabla_grad(u).T)\n",
        "\n",
        "def sigma(u):\n",
        "    return lmbda * div(u) * Identity(2) + 2*mu*epsilon(u)\n",
        "\n",
        "x = SpatialCoordinate(msh)\n",
        "\n",
        "ds = Measure(\"ds\")(subdomain_data=boundaries)\n",
        "one = fem.Constant(msh, 1.0)\n",
        "length_form = fem.form( one*ds(100) )\n",
        "lengthside = fem.assemble_scalar(length_form)\n",
        "print(lengthside)\n",
        "\n",
        "a = inner(sigma(u), epsilon(v)) * dx\n",
        "L = inner(f, v) * dx + inner(F,v)*ds(100)\n",
        "\n",
        "petsc_opts={\"ksp_type\": \"preonly\", \"pc_type\": \"lu\", \"pc_factor_mat_solver_type\": \"mumps\", \"ksp_monitor\": None}\n",
        "#petsc_opts={\"ksp_type\": \"gmres\", \"ksp_rtol\":1e-10, \"ksp_atol\":1e-10, \"ksp_max_it\": 1000, \"pc_type\": \"hypre\", \"ksp_monitor\": None}\n",
        "problem = fem.petsc.LinearProblem(a, L, bcs=bcs, petsc_options=petsc_opts)\n",
        "uh = problem.solve()\n",
        "uh.name = \"displacement\"\n",
        "\n",
        "# Save the results\n",
        "with io.XDMFFile(MPI.COMM_WORLD, \"displacement.xdmf\", \"w\") as xdmf:\n",
        "    xdmf.write_mesh(msh)\n",
        "    xdmf.write_function(uh)\n"
      ],
      "metadata": {
        "colab": {
          "base_uri": "https://localhost:8080/"
        },
        "id": "fKejVTE43cnd",
        "outputId": "bf5dd926-876e-4f90-d3f1-842d0dadf0c4"
      },
      "execution_count": 56,
      "outputs": [
        {
          "output_type": "stream",
          "name": "stdout",
          "text": [
            "0.4\n",
            "  Residual norms for dolfinx_solve_140238861361408 solve.\n",
            "  0 KSP Residual norm 1.149050574825e-02 \n",
            "  1 KSP Residual norm 5.929279755910e-15 \n"
          ]
        }
      ]
    }
  ]
}