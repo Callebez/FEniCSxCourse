{
  "nbformat": 4,
  "nbformat_minor": 0,
  "metadata": {
    "colab": {
      "provenance": [],
      "include_colab_link": true
    },
    "kernelspec": {
      "name": "python3",
      "display_name": "Python 3"
    },
    "language_info": {
      "name": "python"
    }
  },
  "cells": [
    {
      "cell_type": "markdown",
      "metadata": {
        "id": "view-in-github",
        "colab_type": "text"
      },
      "source": [
        "<a href=\"https://colab.research.google.com/github/IgorBaratta/FEniCSxCourse/blob/ICMC23/Problem3_Elasticity/Elasticity.ipynb\" target=\"_parent\"><img src=\"https://colab.research.google.com/assets/colab-badge.svg\" alt=\"Open In Colab\"/></a>"
      ]
    },
    {
      "cell_type": "markdown",
      "source": [
        "# Solid mechanics: Linear elasticity\n",
        "---"
      ],
      "metadata": {
        "id": "HlwXpyx788Vo"
      }
    },
    {
      "cell_type": "markdown",
      "source": [
        "## Introduction"
      ],
      "metadata": {
        "id": "sUiY4ZupvRWL"
      }
    },
    {
      "cell_type": "markdown",
      "source": [
        "In this tutorial we\n",
        "\n",
        "1.   Present an implementation of the finite element discretization\n",
        "of the Navier-Poisson elastostatic problem\n",
        "2.   Create a non-trivial geometry and impose essential boundary conditions\n",
        "on a vector field\n",
        "3.   Visualize the solution using Paraview\n",
        "4.   Perform some postprocessing of the solution.\n",
        "\n",
        "**Mathematical formulation:**\n",
        "\n",
        "\\begin{equation}\n",
        "\\left \\{\n",
        "\\begin{array}{rcll}\n",
        "-\\nabla \\cdot \\boldsymbol{\\sigma} (\\mathbf{u}) & = & \\mathbf{f} & \\mbox{in}~\\Omega \\\\\n",
        "& & & \\\\\n",
        "\\mathbf{u} & = & \\mathbf{g} & \\mbox{on}~\\Gamma_{\\mathbf{u}} \\\\\n",
        "& & & \\\\\n",
        "\\boldsymbol{\\sigma} \\cdot \\check{\\mathbf{n}} & = & \\boldsymbol{\\mathcal{F}} & \\mbox{on}~\\Gamma_{\\boldsymbol{\\mathcal{F}}}\n",
        "\\end{array}\n",
        "\\right.\n",
        "\\end{equation}\n",
        "where the stress tensor is\n",
        "\n",
        "$$\n",
        "\\boldsymbol{\\sigma} = 2\\mu\\, \\boldsymbol{\\varepsilon}({\\mathbf{u}})+ \\lambda \\left ( \\nabla\\cdot\\mathbf{u} \\right )\\, \\mathbf{I}_{d \\times d}\n",
        "$$\n",
        " \n",
        "where $d$ is the spatial dimension, $\\mathbf{I}_{d \\times d}$ is \n",
        "the identity tensor and the deformation tensor is defined by\n",
        "\n",
        "$$\n",
        "\\boldsymbol{\\varepsilon}({\\mathbf{u}}) = \\frac12 (\\nabla{\\mathbf{u}} + \\nabla^{\\intercal}{\\mathbf{u}})\n",
        "$$\n",
        "\n",
        "Introducing the space of kinematically admissible motions\n",
        "\n",
        "$$\n",
        "V_{\\mathbf{g}} = \\{\\mathbf{v} \\in \\left [ H^1(\\Omega) \\right ]^d,~\\mathbf{v} = \\mathbf{g}~\\mbox{on}~\\Gamma_D\\}\n",
        "$$\n",
        "\n",
        "and applying the principle of virtual work, the variational formulation is obtained: Find $\\mathbf{u} \\in V_{\\mathbf{g}}$ such that\n",
        "\n",
        "\\begin{eqnarray}\n",
        "\\underbrace{\\int_{\\Omega}{\\left [2\\,\\mu \\boldsymbol{\\varepsilon}(\\mathbf{u}) : \\boldsymbol{\\varepsilon}(\\mathbf{v})\n",
        "+ \\lambda\\, (\\nabla \\cdot \\mathbf{u})\\,(\\nabla \\cdot \\mathbf{v}) \\right ]\\,dx}}_{a(\\mathbf{u},\\mathbf{v})} =\n",
        "        \\underbrace{\\int_{\\Omega}{\\mathbf{f}\\cdot \\mathbf{v}}\\,dx +\n",
        "\\int_{\\Gamma_{\\boldsymbol{\\mathcal{F}}}}{\\boldsymbol{\\mathcal{F}} \\cdot \\mathbf{v}}\\,ds}_{\\ell(\\mathbf{v})}\n",
        "\\end{eqnarray}\n",
        "$\\forall \\mathbf{v} \\in V_{\\mathbf{0}}$.\n",
        "\n",
        "Finally, recall that the discrete version of this problem follows from applying the Galerkin method: Find $\\mathbf{u}_h \\in V_{h\\mathbf{g}} \\subset V_{\\mathbf{g}}(\\Omega)$ such that\n",
        "\n",
        "\\begin{equation}\n",
        "a(\\mathbf{u}_h,\\mathbf{v}_h) = \\ell(\\mathbf{v}_h)~~ \\forall \\mathbf{v}_h \\in V_{h\\mathbf{0}} \n",
        "\\end{equation}"
      ],
      "metadata": {
        "id": "04Q-hHB9299K"
      }
    },
    {
      "cell_type": "markdown",
      "source": [
        "## Initialization"
      ],
      "metadata": {
        "id": "7TeY3nHjqzod"
      }
    },
    {
      "cell_type": "markdown",
      "source": [
        "As in previous tutorials, we import all necessary libraries, namely, `gmsh`, `dolfinx` and `ufl`"
      ],
      "metadata": {
        "id": "KV_eRNQpHfOv"
      }
    },
    {
      "cell_type": "code",
      "execution_count": null,
      "metadata": {
        "id": "69Xzz1wQx-Nd"
      },
      "outputs": [],
      "source": [
        "try:\n",
        "    import gmsh\n",
        "except ImportError:\n",
        "    !wget \"https://fem-on-colab.github.io/releases/gmsh-install.sh\" -O \"/tmp/gmsh-install.sh\" && bash \"/tmp/gmsh-install.sh\"\n",
        "    import gmsh\n",
        "    \n",
        "try:\n",
        "    import dolfinx\n",
        "except ImportError:\n",
        "    !wget \"https://fem-on-colab.github.io/releases/fenicsx-install-real.sh\" -O \"/tmp/fenicsx-install.sh\" && bash \"/tmp/fenicsx-install.sh\"\n",
        "    import dolfinx\n",
        "\n",
        "try:\n",
        "    import pyvista\n",
        "except ImportError:\n",
        "    !pip install - q piglet pyvirtualdisplay ipyvtklink pyvista panel\n",
        "    !apt-get - qq install xvfb\n",
        "    import pyvista"
      ]
    },
    {
      "cell_type": "code",
      "source": [
        "from dolfinx import mesh, fem, io, plot\n",
        "from ufl import SpatialCoordinate, TestFunction, TrialFunction, Measure, Identity, div, dx, ds, grad, nabla_grad, inner, sym, tr, sqrt, as_vector, FacetNormal\n",
        "\n",
        "import numpy as np\n",
        "from mpi4py import MPI\n",
        "from petsc4py.PETSc import ScalarType"
      ],
      "metadata": {
        "id": "ExTIMkkrxi-H"
      },
      "execution_count": null,
      "outputs": []
    },
    {
      "cell_type": "markdown",
      "source": [
        "Now, we create a mesh using "
      ],
      "metadata": {
        "id": "DmgHdjHcaPJF"
      }
    },
    {
      "cell_type": "code",
      "source": [
        "def GenerateMesh():\n",
        "  \n",
        "  gmsh.initialize()\n",
        "  proc = MPI.COMM_WORLD.rank\n",
        "  if proc == 0:\n",
        "      lc = 0.05\n",
        "      Db   = 0.4\n",
        "      Hb   = 0.4\n",
        "      Hp   = 6*Hb\n",
        "      R    = 3*Hb\n",
        "      TT   = np.sqrt(R*R - 4*Hb*Hb)\n",
        "      \n",
        "      gmsh.model.geo.addPoint(0, 0, 0, lc, 1)\n",
        "      gmsh.model.geo.addPoint(Db, 0, 0, lc, 2)\n",
        "      gmsh.model.geo.addPoint(Db, Hb, 0, 0.5*lc, 3)\n",
        "      gmsh.model.geo.addPoint(TT+Db, 3*Hb, 0, lc, 4)\n",
        "      gmsh.model.geo.addPoint(Db, 5*Hb, 0, lc, 5)\n",
        "      gmsh.model.geo.addPoint(Db, 6*Hb, 0, 0.5*lc, 6)\n",
        "      gmsh.model.geo.addPoint(0, 6*Hb, 0, lc, 7)\n",
        "      gmsh.model.geo.addPoint(0, 3*Hb, 0, 0.1*lc, 8)\n",
        "      gmsh.model.geo.addPoint(TT+Db-R, 3*Hb, 0, 0.1*lc, 9)\n",
        "      \n",
        "      gmsh.model.geo.addLine(1, 2, 1)\n",
        "      gmsh.model.geo.addLine(2, 3, 2)\n",
        "\n",
        "      gmsh.model.geo.addCircleArc(3, 4, 9, 3)\n",
        "      gmsh.model.geo.addCircleArc(9, 4, 5, 4)\n",
        "      \n",
        "      gmsh.model.geo.addLine(5, 6, 5)\n",
        "      gmsh.model.geo.addLine(6, 7, 6)\n",
        "      gmsh.model.geo.addLine(7, 8, 7)\n",
        "      gmsh.model.geo.addLine(8, 1, 8)\n",
        "      \n",
        "      gmsh.model.geo.addCurveLoop([1, 2, 3, 4, 5, 6, 7, 8], 1)\n",
        "      gmsh.model.geo.addPlaneSurface([1], 1)\n",
        "      gmsh.model.geo.synchronize()\n",
        "      # Tag the whole boundary with 101\n",
        "      gmsh.model.addPhysicalGroup(1, [1, 2, 3, 4, 5, 6, 7, 8], 101)\n",
        "      # Tag the top boundary with 100\n",
        "      gmsh.model.addPhysicalGroup(1, [6], 100)\n",
        "      ps = gmsh.model.addPhysicalGroup(2, [1])\n",
        "      gmsh.model.setPhysicalName(2, ps, \"My surface\") \n",
        "      gmsh.model.geo.synchronize()\n",
        "  \n",
        "  gmsh.option.setNumber(\"Mesh.Algorithm\", 6)\n",
        "  gmsh.model.mesh.generate(2)\n",
        "  msh, subdomains, boundaries = io.gmshio.model_to_mesh(gmsh.model, comm=MPI.COMM_WORLD, rank=0, gdim=2)\n",
        "  gmsh.finalize()\n",
        "  return msh, subdomains, boundaries\n",
        "\n",
        "msh, subdomains, boundaries = GenerateMesh()\n",
        "\n",
        "with io.XDMFFile(MPI.COMM_WORLD, \"body.xdmf\", \"w\") as xdmf:\n",
        "    xdmf.write_mesh(msh)\n",
        "\n",
        "import IPython\n",
        "\n",
        "def plot_mesh(mesh, filename=\"file.html\"):\n",
        "    pyvista.start_xvfb()\n",
        "    grid = pyvista.UnstructuredGrid(*plot.create_vtk_mesh(mesh))\n",
        "    plotter = pyvista.Plotter(notebook=True, window_size=[500,500])\n",
        "    plotter.add_mesh(grid, show_edges=True)\n",
        "    plotter.camera.zoom(4.0)\n",
        "    plotter.view_xy()\n",
        "    plotter.export_html(filename, backend=\"pythreejs\")\n",
        "    plotter.close()\n",
        "\n",
        "\n",
        "plot_mesh(msh, \"mesh.html\")\n",
        "IPython.display.HTML(filename=\"mesh.html\")"
      ],
      "metadata": {
        "id": "fDoVkR60ydkP"
      },
      "execution_count": null,
      "outputs": []
    },
    {
      "cell_type": "markdown",
      "source": [
        "## Finite element solution"
      ],
      "metadata": {
        "id": "GHEnrW5_dXPQ"
      }
    },
    {
      "cell_type": "markdown",
      "source": [
        "We must create now the discrete function space associated to the mesh $\\mathcal{T}_h$. As in previous examples a natural choice is a space of continuous vector functions, whose components are elementwise polynomials of degree $k$\n",
        "\n",
        "$$\n",
        "V(\\mathcal{T}_h) = V_h = \\{\\mathbf{v} \\in [H^1(\\Omega)]^d,~\\mathbf{v}|_E \\in [P_k(E)]^d \\, \\forall E \\in \\mathcal{T}_h\\}\n",
        "$$\n",
        "\n",
        "which is done in `dolfinx` using"
      ],
      "metadata": {
        "id": "_w-zEZ7fdloa"
      }
    },
    {
      "cell_type": "code",
      "source": [
        "degree = 1\n",
        "V = fem.VectorFunctionSpace(msh, (\"CG\", 1))"
      ],
      "metadata": {
        "id": "35oDBR1Oeusx"
      },
      "execution_count": null,
      "outputs": []
    },
    {
      "cell_type": "markdown",
      "source": [
        "As usual, setting the boundary conditions is the step that takes more work. We must identify the degrees of freedom on the boundary and set accordingly. \n",
        "For the problem at hand we will consider the following conditions\n",
        "\n",
        "\\begin{eqnarray}\n",
        "\\mathbf{u} & = & (0,0)^{\\intercal} ~~\\mbox{in}~~\\Gamma_{\\mbox{bottom}} \\\\\n",
        "& & \\\\\n",
        "u_x & = & 0~~\\mbox{in}~~\\Gamma_{\\mbox{left}}\n",
        "\\end{eqnarray}\n",
        "\n",
        "These conditions ensure that **rigid body** motions (rotations and translations) are totally restricted."
      ],
      "metadata": {
        "id": "paubzY5efWjl"
      }
    },
    {
      "cell_type": "code",
      "source": [
        "u_bottom = ScalarType((0.0, 0.0))\n",
        "ux_left   = ScalarType(0.0)\n",
        "\n",
        "# For the left boundary, just restrict u_x\n",
        "sdim = msh.topology.dim\n",
        "fdim = sdim - 1\n",
        "facets_left = mesh.locate_entities_boundary(msh, fdim, lambda x: np.isclose(x[0], 0.0))\n",
        "dofsL = fem.locate_dofs_topological(V.sub(0), fdim, facets_left)\n",
        "\n",
        "# For the bottom restrict everything\n",
        "dofsB = fem.locate_dofs_geometrical(V, lambda x: np.isclose(x[1], 0.0))\n",
        "bcs = [fem.dirichletbc(u_bottom, dofsB, V), fem.dirichletbc(ux_left, dofsL, V.sub(0))]"
      ],
      "metadata": {
        "id": "fKejVTE43cnd"
      },
      "execution_count": null,
      "outputs": []
    },
    {
      "cell_type": "markdown",
      "source": [
        "As for the natural bounday conditions, on the top wall we will apply \n",
        "the following surface force distribution\n",
        "\n",
        "$$\n",
        "\\boldsymbol{\\mathcal{F}} = (0,-0.1)^{\\intercal}\n",
        "$$\n",
        "so as to impose a compressive load. The rest of the boundary is traction free and the body forces are considered to be negligible, \n",
        "\n",
        "$$\n",
        "\\boldsymbol{\\mathcal{F}} = (0,0)^{\\intercal},~~~\\mathbf{f} = (0,0)^{\\intercal}\n",
        "$$\n",
        "\n",
        "so, we can finally define the bilinear and linear forms and write the variational formulation of the elastostatic problem\n",
        "\n",
        "$$\n",
        "a(\\mathbf{u},\\mathbf{v}) = \\int_{\\Omega}{\\left [2\\mu \\,\\boldsymbol{\\varepsilon}(\\mathbf{u}) : \\boldsymbol{\\varepsilon}(\\mathbf{v})\n",
        "+ \\lambda\\, (\\nabla \\cdot \\mathbf{u})\\,(\\nabla \\cdot \\mathbf{v}) \\right ]\\,dx}\n",
        "$$\n",
        "\n",
        "and\n",
        "\n",
        "$$\n",
        "\\ell(\\mathbf{v}) = \\int_{\\Omega}{\\mathbf{f}\\cdot \\mathbf{v}}\\,dx +\n",
        "\\int_{\\Gamma_{\\boldsymbol{\\mathcal{F}}}}{\\boldsymbol{\\mathcal{F}} \\cdot \\mathbf{v}}\\,ds\n",
        "$$"
      ],
      "metadata": {
        "id": "UJgkqWKgf0A2"
      }
    },
    {
      "cell_type": "code",
      "source": [
        "# The rest of the boundary is traction free, except for the top in which we apply a surface force distribution\n",
        "\n",
        "# surface force\n",
        "F = fem.Constant(msh, ScalarType( (0.0, -0.1) ) )\n",
        "\n",
        "# Body force\n",
        "f = fem.Constant(msh, ScalarType( (0.0, 0.0) ) )\n",
        "\n",
        "# Constitutive parameters\n",
        "E, nu = 10.0, 0.3\n",
        "mu    = E/(2.0*(1.0 + nu))\n",
        "lamb  = E*nu/((1.0 + nu)*(1.0 - 2.0*nu))\n",
        "\n",
        "u, v = TrialFunction(V), TestFunction(V)\n",
        "\n",
        "def epsilon(u):\n",
        "    return 0.5*(nabla_grad(u) + nabla_grad(u).T)\n",
        "\n",
        "def sigma(u):\n",
        "    return lamb*div(u)*Identity(sdim) + 2*mu*epsilon(u)\n",
        "\n",
        "x = SpatialCoordinate(msh)\n",
        "\n",
        "ds = Measure(\"ds\")(subdomain_data=boundaries)\n",
        "\n",
        "a = inner(sigma(u), epsilon(v)) * dx\n",
        "L = inner(f, v)*dx + inner(F,v)*ds(100)\n",
        "\n",
        "petsc_opts={\"ksp_type\": \"preonly\", \"pc_type\": \"lu\", \"pc_factor_mat_solver_type\": \"mumps\", \"ksp_monitor\": None}\n",
        "problem = fem.petsc.LinearProblem(a, L, bcs=bcs, petsc_options=petsc_opts)\n",
        "uh = problem.solve()"
      ],
      "metadata": {
        "id": "Q3F5qNVkfynZ"
      },
      "execution_count": null,
      "outputs": []
    },
    {
      "cell_type": "markdown",
      "source": [
        "## Visualization and postprocessing"
      ],
      "metadata": {
        "id": "wT8b_QXub5pO"
      }
    },
    {
      "cell_type": "markdown",
      "source": [
        "Let us write the solution for visualization in `Paraview` as we have done in the previous examples"
      ],
      "metadata": {
        "id": "pZ0T61UH6TNW"
      }
    },
    {
      "cell_type": "code",
      "source": [
        "uh.name = \"displacement\"\n",
        "with io.XDMFFile(MPI.COMM_WORLD, \"displacement.xdmf\", \"w\") as xdmf:\n",
        "    xdmf.write_mesh(msh)\n",
        "    xdmf.write_function(uh)\n",
        "\n",
        "from google.colab import files\n",
        "files.download('displacement.xdmf') \n",
        "files.download('displacement.h5')"
      ],
      "metadata": {
        "id": "saVLTaLwfKoO"
      },
      "execution_count": null,
      "outputs": []
    },
    {
      "cell_type": "markdown",
      "source": [
        "## Homework 3"
      ],
      "metadata": {
        "id": "4FiWe7UsbwGD"
      }
    },
    {
      "cell_type": "markdown",
      "source": [
        "1. **Von Mises stresses**\n",
        "\n",
        "Given the deviatoric stresses \n",
        "$$\n",
        "\\boldsymbol{s} = \\boldsymbol{\\sigma}(\\mathbf{u}_h) - \\frac{\\mbox{tr}(\\boldsymbol{\\sigma}(\\mathbf{u}_h))}{d}\\boldsymbol{I}_{d\\times d}\n",
        "$$\n",
        "\n",
        "Compute the **scalar** quantity known as the Von Mises stresses\n",
        "defined as the second invariant of the deviatoric stresses:\n",
        "\n",
        "$$\n",
        "\\sigma_V = \\sqrt{\\frac32\\boldsymbol{s}:\\boldsymbol{s}}\n",
        "$$\n",
        "\n",
        "where $:$ stands dor the double contraction or scalar product between matrizes.\n",
        "This quantity is used by engineers to detect the critical parts of the structure.\n",
        "\n",
        "Implement in `dolfinx`. For visualization of results, interpolate $\\sigma_V$ onto a space of elementwise constant functions (a `DG` space of order 0) as we have introduced before\n",
        "\n",
        "$$\n",
        "Q_h = \\{v \\in L^2(\\Omega),~v|_E \\in P_0(E) \\, \\forall E \\in \\mathcal{T}_h\\}\n",
        "$$\n",
        "\n",
        "Follow the next guidelines:\n",
        "\n",
        "    s = sigma(uh) - ...\n",
        "    sigmaV = sqrt(...)\n",
        "\n",
        "    Q = fem.FunctionSpace(msh, (\"DG\", 0))\n",
        "    vM_expr = fem.Expression(sigmaV, Q.element.interpolation_points())\n",
        "    vonMises = fem.Function(Q)\n",
        "    vonMises.interpolate(vM_expr)\n",
        "\n",
        "    stresses.name = \"von_Mises\"\n",
        "    with io.XDMFFile(msh.comm, \"vonmises.xdmf\", \"w\") as file:\n",
        "      file.write_mesh(msh)\n",
        "      file.write_function(vonMises)\n",
        "\n",
        "    from google.colab import files\n",
        "    files.download('vonmises.xdmf') \n",
        "    files.download('vonmises.h5')\n",
        "\n",
        "Notice the use of the `interpolate` method to assign to each element the corresponding value of $\\sigma_V$."
      ],
      "metadata": {
        "id": "mP251voMb2Tn"
      }
    },
    {
      "cell_type": "markdown",
      "source": [
        "2. **OPTIONAL: 3D problem**\n",
        "\n",
        "Consider the 3D version of the previous problem which is shown\n",
        "in the figure below. This mesh can be created with the function `GenerateMesh3D()`. \n",
        "\n",
        "Implement the necessary changes to solve\n",
        "the problem with the following boundary conditions\n",
        "\n",
        "\\begin{eqnarray}\n",
        "\\mathbf{u} & = & (0,0,0)^{\\intercal} ~~\\mbox{in}~~\\Gamma_{\\mbox{bottom}} \\nonumber \\\\\n",
        "& & \\nonumber \\\\\n",
        "\\mathbf{u} & = & (0,0,-0.1)^{\\intercal} ~~\\mbox{in}~~\\Gamma_{\\mbox{top}} \\nonumber\n",
        "\\end{eqnarray}\n",
        "\n",
        "whereas the rest of the boundary remains traction free \n",
        "\n",
        "$$\n",
        "\\boldsymbol{\\mathcal{F}} = (0, 0, 0)^{\\intercal}\n",
        "$$"
      ],
      "metadata": {
        "id": "GU-xKNZxBTlS"
      }
    },
    {
      "cell_type": "code",
      "source": [
        "def GenerateMesh3D():\n",
        "  gmsh.initialize()\n",
        "  proc = MPI.COMM_WORLD.rank\n",
        "  if proc == 0:\n",
        "\n",
        "      lc = 0.025\n",
        "      Db = 0.4\n",
        "      Hb =  0.4\n",
        "      global Hp\n",
        "      Hp = 6*Hb\n",
        "      R  = 3*Hb\n",
        "      TT = np.sqrt(R*R - 4*Hb*Hb)\n",
        "      \n",
        "      gmsh.model.geo.addPoint(0, 0, 0, lc, 1)\n",
        "      gmsh.model.geo.addPoint(Db, 0, 0, lc, 2)\n",
        "      gmsh.model.geo.addPoint(Db, Hb, 0, 0.5*lc, 3)\n",
        "      gmsh.model.geo.addPoint(TT+Db, 3*Hb, 0, lc, 4)\n",
        "      gmsh.model.geo.addPoint(Db, 5*Hb, 0, lc, 5)\n",
        "      gmsh.model.geo.addPoint(Db, 6*Hb, 0, 0.5*lc, 6)\n",
        "      gmsh.model.geo.addPoint(0, 6*Hb, 0, lc, 7)\n",
        "      gmsh.model.geo.addPoint(0, 3*Hb, 0, 0.1*lc, 8)\n",
        "      gmsh.model.geo.addPoint(TT+Db-R, 3*Hb, 0, 0.1*lc, 9)\n",
        "      \n",
        "      gmsh.model.geo.addLine(1, 2, 1)\n",
        "      gmsh.model.geo.addLine(2, 3, 2)\n",
        "      gmsh.model.geo.addCircleArc(3, 4, 9, 3)\n",
        "      gmsh.model.geo.addCircleArc(9, 4, 5, 4)\n",
        "      gmsh.model.geo.addLine(5, 6, 5)\n",
        "      gmsh.model.geo.addLine(6, 7, 6)\n",
        "      gmsh.model.geo.addLine(7, 8, 7)\n",
        "      gmsh.model.geo.addLine(8, 1, 8)\n",
        "      \n",
        "      gmsh.model.geo.addCurveLoop([1, 2, 3, 4, 5, 6, 7, 8], 1)\n",
        "      gmsh.model.geo.addPlaneSurface([1], 1)\n",
        "      gmsh.model.geo.synchronize()\n",
        "      gmsh.model.addPhysicalGroup(1, [1, 2, 3, 4, 5, 6, 7, 8], 101)\n",
        "      ps = gmsh.model.addPhysicalGroup(2, [1])\n",
        "      gmsh.model.setPhysicalName(2, ps, \"My surface 1\")\n",
        "\n",
        "      gmsh.model.geo.addPoint(-Db, 0, 0, lc, 10)\n",
        "      gmsh.model.geo.addPoint(-Db, Hb, 0, 0.5*lc, 11)\n",
        "      gmsh.model.geo.addPoint(-(TT+Db), 3*Hb, 0, lc, 12)\n",
        "      gmsh.model.geo.addPoint(-Db, 5*Hb, 0, lc, 13)\n",
        "      gmsh.model.geo.addPoint(-Db, 6*Hb, 0, 0.5*lc, 14)\n",
        "      gmsh.model.geo.addPoint(-(TT+Db-R), 3*Hb, 0, 0.1*lc, 15)\n",
        "      \n",
        "      gmsh.model.geo.addLine(1, 8, 9)\n",
        "      gmsh.model.geo.addLine(8, 7, 10)\n",
        "      gmsh.model.geo.addLine(7, 14, 11)\n",
        "      gmsh.model.geo.addLine(14, 13, 12)\n",
        "      gmsh.model.geo.addCircleArc(13, 12, 15, 13)\n",
        "      gmsh.model.geo.addCircleArc(15, 12, 11, 14)\n",
        "      gmsh.model.geo.addLine(11, 10, 15)\n",
        "      gmsh.model.geo.addLine(10, 1, 16)\n",
        "      \n",
        "      gmsh.model.geo.addCurveLoop([9, 10, 11, 12, 13, 14, 15, 16], 2)\n",
        "      gmsh.model.geo.addPlaneSurface([2], 2)\n",
        "      gmsh.model.geo.synchronize()\n",
        "      gmsh.model.addPhysicalGroup(1, [9, 10, 11, 12, 13, 14, 15, 16], 103)\n",
        "      ps = gmsh.model.addPhysicalGroup(2, [2])\n",
        "\n",
        "      gmsh.model.setPhysicalName(2, ps, \"My surface 2\")\n",
        "      gmsh.model.geo.synchronize()\n",
        "\n",
        "      ov1 = gmsh.model.geo.revolve([(2, 1)], 0, 0, 0, 0, 1, 0, -np.pi / 2)\n",
        "      ov2 = gmsh.model.geo.revolve([(2, 1)], 0, 0, 0, 0, 1, 0,  np.pi / 2)\n",
        "      ov3 = gmsh.model.geo.revolve([(2, 2)], 0, 0, 0, 0, 1, 0, -np.pi / 2)\n",
        "      ov4 = gmsh.model.geo.revolve([(2, 2)], 0, 0, 0, 0, 1, 0,  np.pi / 2)\n",
        "      gmsh.model.geo.synchronize()\n",
        "\n",
        "      gmsh.model.addPhysicalGroup(3, [ov1[1][1]], 105)\n",
        "      gmsh.model.addPhysicalGroup(3, [ov2[1][1]], 106)\n",
        "      gmsh.model.addPhysicalGroup(3, [ov3[1][1]], 107)\n",
        "      gmsh.model.addPhysicalGroup(3, [ov4[1][1]], 108)\n",
        "      gmsh.model.geo.synchronize()\n",
        "      \n",
        "  gmsh.option.setNumber(\"Mesh.Algorithm\", 2)\n",
        "  gmsh.model.mesh.generate(3)\n",
        "  #gmsh.write(\"./3dcorpo.msh\")\n",
        "  #gmsh.write(\"foo.geo_unrolled\")\n",
        "  msh, subdomains, boundaries = io.gmshio.model_to_mesh(gmsh.model, comm=MPI.COMM_WORLD, rank=0, gdim=3)\n",
        "  gmsh.finalize()\n",
        "  return msh, subdomains, boundaries\n",
        "\n",
        "msh, subdomains, boundaries = GenerateMesh3D()\n",
        "\n",
        "with io.XDMFFile(MPI.COMM_WORLD, \"3Dbody.xdmf\", \"w\") as xdmf:\n",
        "    xdmf.write_mesh(msh)\n"
      ],
      "metadata": {
        "id": "Q3k93hsUilE7"
      },
      "execution_count": null,
      "outputs": []
    },
    {
      "cell_type": "code",
      "source": [
        "plot_mesh(msh, \"mesh.html\")\n",
        "IPython.display.HTML(filename=\"mesh.html\")"
      ],
      "metadata": {
        "id": "cuB8nG5u9jxi"
      },
      "execution_count": null,
      "outputs": []
    }
  ]
}